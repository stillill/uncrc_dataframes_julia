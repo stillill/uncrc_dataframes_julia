{
 "cells": [
  {
   "cell_type": "markdown",
   "metadata": {},
   "source": [
    "# V. Split-apply-combine"
   ]
  },
  {
   "cell_type": "markdown",
   "metadata": {},
   "source": [
    "The split-apply-combine strategy refers to the notion of partitioning data into groups, doing computations on these groups, and then combining results. The original dataframe will typically have categorical variables that allow the data to be separated into different groups based on the values of these categorical variables.\n",
    "\n",
    "We'll cover the primary functions for this type of workflow for use with dataframes:\n",
    "\n",
    "`by(df, cols, f)`\n",
    "\n",
    "`aggregate(df, cols, f)`\n",
    "\n",
    "`groupby(df, cols, skipmissing=false)`"
   ]
  },
  {
   "cell_type": "code",
   "execution_count": null,
   "metadata": {},
   "outputs": [],
   "source": [
    "using DataFrames, Distributions, Random, Statistics, CategoricalArrays"
   ]
  },
  {
   "cell_type": "code",
   "execution_count": null,
   "metadata": {},
   "outputs": [],
   "source": [
    "#create a dataframe\n",
    "\n",
    "Random.seed!(1234)\n",
    "\n",
    "N = 20\n",
    "df = DataFrame(ID = 1:N,\n",
    "                Category = wsample([\"Low\", \"Medium\", \"High\"], [1/3, 1/3, 1/3], N),\n",
    "                Weight = rand(120:170, N),\n",
    "                Age = rand(20:80, N),\n",
    "                IndVar = wsample([0, 1], [0.5, 0.5], N),\n",
    "                RandNum = randn(N))\n",
    "\n",
    "categorical!(df, [:Category, :IndVar]);\n",
    "levels!(df.Category, [\"Low\", \"Medium\", \"High\"]);"
   ]
  },
  {
   "cell_type": "code",
   "execution_count": null,
   "metadata": {},
   "outputs": [],
   "source": [
    "df"
   ]
  },
  {
   "cell_type": "markdown",
   "metadata": {},
   "source": [
    "The __by__ function is used to apply the function <i>f</i> to the input dataframe by the indicated columns. The function is a pair where the first element of the pair is the column variable(s) and the second element of the pair is the function to be applied to the column variable(s)."
   ]
  },
  {
   "cell_type": "markdown",
   "metadata": {},
   "source": [
    "Let's calculate the sum of the <i>ID</i> variable by the <i>Category</i> variable. The third argument to **by** specifies the sum function is to be applied to the <i>ID</i> column and the second argument indicates to do this calculation by the different <i>Category</i> values."
   ]
  },
  {
   "cell_type": "code",
   "execution_count": null,
   "metadata": {},
   "outputs": [],
   "source": [
    "by(df, :Category, :ID => length)"
   ]
  },
  {
   "cell_type": "markdown",
   "metadata": {},
   "source": [
    "The default column name is a combination of the name of the column the function was applied to, an underscore, and the name of the function itself. You can specifiy a name for the column if you don't want the default name."
   ]
  },
  {
   "cell_type": "code",
   "execution_count": null,
   "metadata": {},
   "outputs": [],
   "source": [
    "by(df, :Category, IDCountByCat = :ID => length)"
   ]
  },
  {
   "cell_type": "markdown",
   "metadata": {},
   "source": [
    "To calculate additional functions, pass the additional functions as arguments to __by__. To calculate the sum total weight by category we use an anonymous function."
   ]
  },
  {
   "cell_type": "code",
   "execution_count": null,
   "metadata": {},
   "outputs": [],
   "source": [
    "by(df, :Category, :ID => length, :Weight => x -> sum(x))"
   ]
  },
  {
   "cell_type": "markdown",
   "metadata": {},
   "source": [
    "If you want each column to have a custom name, you'll need to pass the multiple functions as a single argument.\n",
    "\n",
    "The third argument to __by__ is again a pair. Here the first element to the pair is a named tuple and the second element is an anonymous function. The <i>x</i> refers to the named tuple. The named tuple has two elements. A named tuple is similar to a tuple but the elements of the tuple have assigned names."
   ]
  },
  {
   "cell_type": "code",
   "execution_count": null,
   "metadata": {},
   "outputs": [],
   "source": [
    "by(df, :Category, (:ID, :Weight) => x -> (IDCountByCat = length(x.ID),\n",
    "                                          TotWeightByCat = sum(x.Weight),\n",
    "                                          AvgWeightByCat1 = mean(x.Weight),\n",
    "                                          AvgWeightByCat2 = sum(x.Weight)/length(x.ID)))"
   ]
  },
  {
   "cell_type": "markdown",
   "metadata": {},
   "source": [
    "You can specify multiple columns by which to do the calculations. Above we did them by just the <i>Category</i> variable but below we do them by <i>Category</i> and <i>IndVar</i> so we'll get six groupings."
   ]
  },
  {
   "cell_type": "code",
   "execution_count": null,
   "metadata": {},
   "outputs": [],
   "source": [
    "by(df, \n",
    "   [:Category, :IndVar], \n",
    "   [:ID, :Weight] => x -> (IDCountByCat = length(x.ID),\n",
    "                           TotWeightByCat = sum(x.Weight),\n",
    "                           AvgWeightByCat = mean(x.Weight)\n",
    "                           ))"
   ]
  },
  {
   "cell_type": "markdown",
   "metadata": {},
   "source": [
    "You can get the output of __by__ sorted by the partition columns by passing **true** to the `sort` keyword argument."
   ]
  },
  {
   "cell_type": "code",
   "execution_count": null,
   "metadata": {},
   "outputs": [],
   "source": [
    "by(df, \n",
    "   [:Category, :IndVar], \n",
    "   [:ID, :Weight] => x -> (IDCountByCat = length(x.ID),\n",
    "                           TotWeightByCat = sum(x.Weight),\n",
    "                           AvgWeightByCat = mean(x.Weight)),\n",
    "   sort = true)"
   ]
  },
  {
   "cell_type": "code",
   "execution_count": null,
   "metadata": {},
   "outputs": [],
   "source": [
    "smalldf = copy(df[:, [2, 3, 4, 5]]);"
   ]
  },
  {
   "cell_type": "markdown",
   "metadata": {},
   "source": [
    "The __aggregate__ function takes similar arguments as the __by__ function. However, it applies the list of functions to all variables other than the column variables used for the partitioning."
   ]
  },
  {
   "cell_type": "code",
   "execution_count": null,
   "metadata": {},
   "outputs": [],
   "source": [
    "agg = aggregate(smalldf, [:Category, :IndVar], [length, mean, median, minimum, maximum], sort=true);"
   ]
  },
  {
   "cell_type": "code",
   "execution_count": null,
   "metadata": {},
   "outputs": [],
   "source": [
    "show(agg, allcols=true)"
   ]
  },
  {
   "cell_type": "markdown",
   "metadata": {},
   "source": [
    "The last split-apply-combine function we'll discuss is __groupby__. This function can be useful if you want to break the dataframe into separate sub-dataframes based on a column variable. This might be useful if you want work with the sub-dataframes individually.  "
   ]
  },
  {
   "cell_type": "markdown",
   "metadata": {},
   "source": [
    "Here we'll break the dataframe into three sub-dataframes based on the <i>Category</i> column variable. So we'll get three sub-dataframes: one for where <i>Category</i> equals \"Low\", another for where <i>Category</i> equals \"Medium\", and then a third for where <i>Category</i> equals \"High.\""
   ]
  },
  {
   "cell_type": "code",
   "execution_count": null,
   "metadata": {},
   "outputs": [],
   "source": [
    "grouped = groupby(df, :Category)"
   ]
  },
  {
   "cell_type": "markdown",
   "metadata": {},
   "source": [
    "You can see the result of __groupby__ is a grouped dataframe."
   ]
  },
  {
   "cell_type": "code",
   "execution_count": null,
   "metadata": {},
   "outputs": [],
   "source": [
    "typeof(grouped)"
   ]
  },
  {
   "cell_type": "markdown",
   "metadata": {},
   "source": [
    "You can use indexing to retrieve the individual subframes. For example to get the subframe for the \"Low\" grouped datframe:"
   ]
  },
  {
   "cell_type": "code",
   "execution_count": null,
   "metadata": {},
   "outputs": [],
   "source": [
    "grouped[1]"
   ]
  },
  {
   "cell_type": "markdown",
   "metadata": {},
   "source": [
    "In this lesson we covered:\n",
    "* by, groupby, and aggregate functions."
   ]
  }
 ],
 "metadata": {
  "@webio": {
   "lastCommId": null,
   "lastKernelId": null
  },
  "kernelspec": {
   "display_name": "Julia 1.1.1",
   "language": "julia",
   "name": "julia-1.1"
  },
  "language_info": {
   "file_extension": ".jl",
   "mimetype": "application/julia",
   "name": "julia",
   "version": "1.1.1"
  }
 },
 "nbformat": 4,
 "nbformat_minor": 2
}
