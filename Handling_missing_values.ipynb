{
 "cells": [
  {
   "cell_type": "markdown",
   "metadata": {},
   "source": [
    "# IV. Handling missing values"
   ]
  },
  {
   "cell_type": "markdown",
   "metadata": {},
   "source": [
    "Often times your data will contain missing values so you'll need to be able to handle these in Julia using dataframes. A key thing to note here is that in Julia missing is it's own type (__Missing__) and is not the same thing as the string \"missing.\" The missing type is used for cases where a variable could have a value but was not observed or recorded. Julia also has a __Nothing__ type which should not be confused with __Missing__ type."
   ]
  },
  {
   "cell_type": "code",
   "execution_count": 1,
   "metadata": {},
   "outputs": [],
   "source": [
    "using DataFrames"
   ]
  },
  {
   "cell_type": "code",
   "execution_count": null,
   "metadata": {},
   "outputs": [],
   "source": [
    "a = \"missing\"\n",
    "typeof(a)"
   ]
  },
  {
   "cell_type": "code",
   "execution_count": null,
   "metadata": {},
   "outputs": [],
   "source": [
    "a = missing\n",
    "typeof(a)"
   ]
  },
  {
   "cell_type": "markdown",
   "metadata": {},
   "source": [
    "As you'd expect most operations involving missing will return missing:"
   ]
  },
  {
   "cell_type": "code",
   "execution_count": null,
   "metadata": {},
   "outputs": [],
   "source": [
    "a+1"
   ]
  },
  {
   "cell_type": "code",
   "execution_count": null,
   "metadata": {},
   "outputs": [],
   "source": [
    "a*2"
   ]
  },
  {
   "cell_type": "code",
   "execution_count": null,
   "metadata": {},
   "outputs": [],
   "source": [
    "sin(a)"
   ]
  },
  {
   "cell_type": "markdown",
   "metadata": {},
   "source": [
    "In addition, using standard comparision operators with missing will return missing."
   ]
  },
  {
   "cell_type": "code",
   "execution_count": null,
   "metadata": {},
   "outputs": [],
   "source": [
    "a > 3"
   ]
  },
  {
   "cell_type": "code",
   "execution_count": null,
   "metadata": {},
   "outputs": [],
   "source": [
    "a < 3"
   ]
  },
  {
   "cell_type": "code",
   "execution_count": null,
   "metadata": {},
   "outputs": [],
   "source": [
    "a == 3"
   ]
  },
  {
   "cell_type": "code",
   "execution_count": null,
   "metadata": {},
   "outputs": [],
   "source": [
    "a == missing"
   ]
  },
  {
   "cell_type": "markdown",
   "metadata": {},
   "source": [
    "You can use the __ismissing__ function to determine if an object has value missing."
   ]
  },
  {
   "cell_type": "code",
   "execution_count": null,
   "metadata": {},
   "outputs": [],
   "source": [
    "ismissing(a)"
   ]
  },
  {
   "cell_type": "markdown",
   "metadata": {},
   "source": [
    "For the purposes of comparison Julia has special functions guaranteed to return a boolean such as __isless__ and __isequal__."
   ]
  },
  {
   "cell_type": "code",
   "execution_count": null,
   "metadata": {},
   "outputs": [],
   "source": [
    "isless(3, missing) #missing is considered greater than any number"
   ]
  },
  {
   "cell_type": "code",
   "execution_count": null,
   "metadata": {},
   "outputs": [],
   "source": [
    "isless(missing, missing)"
   ]
  },
  {
   "cell_type": "code",
   "execution_count": null,
   "metadata": {},
   "outputs": [],
   "source": [
    "isequal(missing, 3)"
   ]
  },
  {
   "cell_type": "code",
   "execution_count": null,
   "metadata": {},
   "outputs": [],
   "source": [
    "isequal(missing, missing)"
   ]
  },
  {
   "cell_type": "markdown",
   "metadata": {},
   "source": [
    "Logical operations with missing are a bit more tricky. The _or_ operator will return true if one of the values in the logical comparison is true but return missing if one of the values is missing."
   ]
  },
  {
   "cell_type": "code",
   "execution_count": null,
   "metadata": {},
   "outputs": [],
   "source": [
    "true | missing"
   ]
  },
  {
   "cell_type": "code",
   "execution_count": null,
   "metadata": {},
   "outputs": [],
   "source": [
    "false | missing"
   ]
  },
  {
   "cell_type": "markdown",
   "metadata": {},
   "source": [
    "The reason `true | missing` returns **true** is because for a true condition to be met only one of the operands needs to be true; so it doesn't matter that the other is missing. \n",
    "\n",
    "However if one of the operands is false you need to know the other operand to know the result; therefore if the other operand is missing you can not determine the overall result and consequently `false | missing` returns missing."
   ]
  },
  {
   "cell_type": "markdown",
   "metadata": {},
   "source": [
    "Using similar reasoning you can guess what the behavior will between when doing the and operation with missing values."
   ]
  },
  {
   "cell_type": "code",
   "execution_count": null,
   "metadata": {},
   "outputs": [],
   "source": [
    "true & missing"
   ]
  },
  {
   "cell_type": "code",
   "execution_count": null,
   "metadata": {},
   "outputs": [],
   "source": [
    "false & missing"
   ]
  },
  {
   "cell_type": "markdown",
   "metadata": {},
   "source": [
    "For simplicity, let's first work with a vector that contains missing values then we'll see how to deal with missing values in dataframes."
   ]
  },
  {
   "cell_type": "code",
   "execution_count": null,
   "metadata": {},
   "outputs": [],
   "source": [
    "v = [32.2, 8.9, missing, 20.1, 50.2, missing]"
   ]
  },
  {
   "cell_type": "markdown",
   "metadata": {},
   "source": [
    "Note the element type of the array is a union of types **Missing** and **Float64**. This means the element type of the array can be either **Missing** or **Float64**."
   ]
  },
  {
   "cell_type": "code",
   "execution_count": null,
   "metadata": {},
   "outputs": [],
   "source": [
    "eltype(v)"
   ]
  },
  {
   "cell_type": "markdown",
   "metadata": {},
   "source": [
    "For an array you can broadcast the __ismissing__ function to get a boolean array that tells you if an observation in the array is missing or not."
   ]
  },
  {
   "cell_type": "code",
   "execution_count": null,
   "metadata": {},
   "outputs": [],
   "source": [
    "ismissing.(v)"
   ]
  },
  {
   "cell_type": "markdown",
   "metadata": {},
   "source": [
    "If you wanted the actual indices of missing values you could can pass **ismissing** to the **findall** function."
   ]
  },
  {
   "cell_type": "code",
   "execution_count": null,
   "metadata": {},
   "outputs": [],
   "source": [
    "findall(ismissing, v)"
   ]
  },
  {
   "cell_type": "markdown",
   "metadata": {},
   "source": [
    "Similar to the scalar case, functions that accept arrays as inputs will typically return missing if the array contains missing values."
   ]
  },
  {
   "cell_type": "code",
   "execution_count": null,
   "metadata": {},
   "outputs": [],
   "source": [
    "maximum(v)"
   ]
  },
  {
   "cell_type": "code",
   "execution_count": null,
   "metadata": {},
   "outputs": [],
   "source": [
    "sum(v)"
   ]
  },
  {
   "cell_type": "markdown",
   "metadata": {},
   "source": [
    "For an array, you can remove missing values and work with the actual values by applying the __skipmissing__ function to the array and passing the result to the __collect__ function."
   ]
  },
  {
   "cell_type": "code",
   "execution_count": null,
   "metadata": {},
   "outputs": [],
   "source": [
    "collect(skipmissing(v))"
   ]
  },
  {
   "cell_type": "markdown",
   "metadata": {},
   "source": [
    "You can pass __skipmissing__ directly into funtions to calculate on the array with the missing values removed.\n"
   ]
  },
  {
   "cell_type": "code",
   "execution_count": null,
   "metadata": {},
   "outputs": [],
   "source": [
    "maximum(skipmissing(v))"
   ]
  },
  {
   "cell_type": "markdown",
   "metadata": {},
   "source": [
    "The **skipmissing** function takes an iterable, such as an array, as input and returns an iterator with the missing values removed; the **collect** function retrieves the actual remaining values."
   ]
  },
  {
   "cell_type": "markdown",
   "metadata": {},
   "source": [
    "If you want to substitute the missing value with some arbitrary value you can do so in a couple of ways: __coalesce__, __replace__, and __recode__."
   ]
  },
  {
   "cell_type": "markdown",
   "metadata": {},
   "source": [
    "The first argument to coalesce is the array itself and the second is the value that should be substited for missing. Here we replace missing with 99.0 in the array."
   ]
  },
  {
   "cell_type": "code",
   "execution_count": null,
   "metadata": {},
   "outputs": [],
   "source": [
    "coalesce.(v, 99.0)"
   ]
  },
  {
   "cell_type": "markdown",
   "metadata": {},
   "source": [
    "Using the **replace** function you would pass the array as the first argument, but provide a pair as the second argument. In the pair the second value is the value that should be substituted for missing."
   ]
  },
  {
   "cell_type": "code",
   "execution_count": null,
   "metadata": {},
   "outputs": [],
   "source": [
    "replace(v, missing => -99.0)"
   ]
  },
  {
   "cell_type": "markdown",
   "metadata": {},
   "source": [
    "You can use **replace** to make arbitrary replacements not just for replacing missing values."
   ]
  },
  {
   "cell_type": "markdown",
   "metadata": {},
   "source": [
    "The __recode__ function works much in the same way as the __replace__ function. The in place versions of **recode** and **replace** exist as well: __recode!__ and __replace!__."
   ]
  },
  {
   "cell_type": "markdown",
   "metadata": {},
   "source": [
    "Suppose you have a dataframe with missing values. There are a handful of useful functions to deal with these. First we need to crate a dataframe and inject some missing values into it."
   ]
  },
  {
   "cell_type": "code",
   "execution_count": 3,
   "metadata": {},
   "outputs": [
    {
     "data": {
      "text/html": [
       "<table class=\"data-frame\"><thead><tr><th></th><th>x1</th><th>x2</th><th>x3</th><th>x4</th></tr><tr><th></th><th>Float64</th><th>String</th><th>Int64</th><th>Int64</th></tr></thead><tbody><p>10 rows × 4 columns</p><tr><th>1</th><td>1.0</td><td>pMgABiG3lx</td><td>1</td><td>1</td></tr><tr><th>2</th><td>2.0</td><td>0khO4iieX6</td><td>0</td><td>2</td></tr><tr><th>3</th><td>3.0</td><td>QDMTelKPUv</td><td>1</td><td>3</td></tr><tr><th>4</th><td>4.0</td><td>po8O4bAAEk</td><td>0</td><td>4</td></tr><tr><th>5</th><td>5.0</td><td>j3OUU9GJ4e</td><td>0</td><td>5</td></tr><tr><th>6</th><td>6.0</td><td>0pHbYYZwY6</td><td>1</td><td>6</td></tr><tr><th>7</th><td>7.0</td><td>NiVlkWzt6j</td><td>0</td><td>7</td></tr><tr><th>8</th><td>8.0</td><td>BH3WfvbKlg</td><td>0</td><td>8</td></tr><tr><th>9</th><td>9.0</td><td>R31PxPsU18</td><td>0</td><td>9</td></tr><tr><th>10</th><td>10.0</td><td>4CP76aTa2k</td><td>0</td><td>10</td></tr></tbody></table>"
      ],
      "text/latex": [
       "\\begin{tabular}{r|cccc}\n",
       "\t& x1 & x2 & x3 & x4\\\\\n",
       "\t\\hline\n",
       "\t& Float64 & String & Int64 & Int64\\\\\n",
       "\t\\hline\n",
       "\t1 & 1.0 & pMgABiG3lx & 1 & 1 \\\\\n",
       "\t2 & 2.0 & 0khO4iieX6 & 0 & 2 \\\\\n",
       "\t3 & 3.0 & QDMTelKPUv & 1 & 3 \\\\\n",
       "\t4 & 4.0 & po8O4bAAEk & 0 & 4 \\\\\n",
       "\t5 & 5.0 & j3OUU9GJ4e & 0 & 5 \\\\\n",
       "\t6 & 6.0 & 0pHbYYZwY6 & 1 & 6 \\\\\n",
       "\t7 & 7.0 & NiVlkWzt6j & 0 & 7 \\\\\n",
       "\t8 & 8.0 & BH3WfvbKlg & 0 & 8 \\\\\n",
       "\t9 & 9.0 & R31PxPsU18 & 0 & 9 \\\\\n",
       "\t10 & 10.0 & 4CP76aTa2k & 0 & 10 \\\\\n",
       "\\end{tabular}\n"
      ],
      "text/plain": [
       "10×4 DataFrame\n",
       "│ Row │ x1      │ x2         │ x3    │ x4    │\n",
       "│     │ \u001b[90mFloat64\u001b[39m │ \u001b[90mString\u001b[39m     │ \u001b[90mInt64\u001b[39m │ \u001b[90mInt64\u001b[39m │\n",
       "├─────┼─────────┼────────────┼───────┼───────┤\n",
       "│ 1   │ 1.0     │ pMgABiG3lx │ 1     │ 1     │\n",
       "│ 2   │ 2.0     │ 0khO4iieX6 │ 0     │ 2     │\n",
       "│ 3   │ 3.0     │ QDMTelKPUv │ 1     │ 3     │\n",
       "│ 4   │ 4.0     │ po8O4bAAEk │ 0     │ 4     │\n",
       "│ 5   │ 5.0     │ j3OUU9GJ4e │ 0     │ 5     │\n",
       "│ 6   │ 6.0     │ 0pHbYYZwY6 │ 1     │ 6     │\n",
       "│ 7   │ 7.0     │ NiVlkWzt6j │ 0     │ 7     │\n",
       "│ 8   │ 8.0     │ BH3WfvbKlg │ 0     │ 8     │\n",
       "│ 9   │ 9.0     │ R31PxPsU18 │ 0     │ 9     │\n",
       "│ 10  │ 10.0    │ 4CP76aTa2k │ 0     │ 10    │"
      ]
     },
     "execution_count": 3,
     "metadata": {},
     "output_type": "execute_result"
    }
   ],
   "source": [
    "using Random\n",
    "\n",
    "# create a dataframe\n",
    "df = DataFrame(x1 = [1.0, 2.0, 3.0, 4.0, 5.0, 6.0, 7.0, 8.0, 9.0, 10.0], \n",
    "              x2 = [randstring(10) for j in 1:10],\n",
    "              x3 = [1, 0, 1, 0, 0, 1, 0, 0, 0, 0],\n",
    "              x4 = [1, 2, 3, 4, 5, 6, 7, 8, 9, 10])"
   ]
  },
  {
   "cell_type": "markdown",
   "metadata": {},
   "source": [
    "Note that we can't arbitrarily set values in the dataframe to missing."
   ]
  },
  {
   "cell_type": "code",
   "execution_count": 4,
   "metadata": {},
   "outputs": [
    {
     "ename": "MethodError",
     "evalue": "MethodError: Cannot `convert` an object of type Missing to an object of type Float64\nClosest candidates are:\n  convert(::Type{T<:Number}, !Matched::T<:Number) where T<:Number at number.jl:6\n  convert(::Type{T<:Number}, !Matched::Number) where T<:Number at number.jl:7\n  convert(::Type{T<:Number}, !Matched::Base.TwicePrecision) where T<:Number at twiceprecision.jl:250\n  ...",
     "output_type": "error",
     "traceback": [
      "MethodError: Cannot `convert` an object of type Missing to an object of type Float64\nClosest candidates are:\n  convert(::Type{T<:Number}, !Matched::T<:Number) where T<:Number at number.jl:6\n  convert(::Type{T<:Number}, !Matched::Number) where T<:Number at number.jl:7\n  convert(::Type{T<:Number}, !Matched::Base.TwicePrecision) where T<:Number at twiceprecision.jl:250\n  ...",
      "",
      "Stacktrace:",
      " [1] setindex!(::Array{Float64,1}, ::Missing, ::Int64) at .\\array.jl:767",
      " [2] top-level scope at In[4]:1"
     ]
    }
   ],
   "source": [
    "df.x1[2] = missing"
   ]
  },
  {
   "cell_type": "markdown",
   "metadata": {},
   "source": [
    "The reason is because _x1_ has element type **Float64** so values that are not of type **Float64** can not be assigned to elements of _x1_."
   ]
  },
  {
   "cell_type": "code",
   "execution_count": 5,
   "metadata": {},
   "outputs": [
    {
     "data": {
      "text/plain": [
       "Float64"
      ]
     },
     "execution_count": 5,
     "metadata": {},
     "output_type": "execute_result"
    }
   ],
   "source": [
    "eltype(df.x1)"
   ]
  },
  {
   "cell_type": "markdown",
   "metadata": {},
   "source": [
    "To allow for missing values we can use the **allowmissing** function."
   ]
  },
  {
   "cell_type": "code",
   "execution_count": 6,
   "metadata": {},
   "outputs": [
    {
     "name": "stderr",
     "output_type": "stream",
     "text": [
      "┌ Warning: `T` is deprecated, use `nonmissingtype` instead.\n",
      "│   caller = compacttype(::Type, ::Int64) at show.jl:39\n",
      "└ @ DataFrames C:\\Users\\deep\\.juliapro\\JuliaPro_v1.1.1.1\\packages\\DataFrames\\Iyo5L\\src\\abstractdataframe\\show.jl:39\n"
     ]
    },
    {
     "data": {
      "text/html": [
       "<table class=\"data-frame\"><thead><tr><th></th><th>x1</th><th>x2</th><th>x3</th><th>x4</th></tr><tr><th></th><th>Float64⍰</th><th>String⍰</th><th>Int64⍰</th><th>Int64⍰</th></tr></thead><tbody><p>10 rows × 4 columns</p><tr><th>1</th><td>1.0</td><td>pMgABiG3lx</td><td>1</td><td>1</td></tr><tr><th>2</th><td>2.0</td><td>0khO4iieX6</td><td>0</td><td>2</td></tr><tr><th>3</th><td>3.0</td><td>QDMTelKPUv</td><td>1</td><td>3</td></tr><tr><th>4</th><td>4.0</td><td>po8O4bAAEk</td><td>0</td><td>4</td></tr><tr><th>5</th><td>5.0</td><td>j3OUU9GJ4e</td><td>0</td><td>5</td></tr><tr><th>6</th><td>6.0</td><td>0pHbYYZwY6</td><td>1</td><td>6</td></tr><tr><th>7</th><td>7.0</td><td>NiVlkWzt6j</td><td>0</td><td>7</td></tr><tr><th>8</th><td>8.0</td><td>BH3WfvbKlg</td><td>0</td><td>8</td></tr><tr><th>9</th><td>9.0</td><td>R31PxPsU18</td><td>0</td><td>9</td></tr><tr><th>10</th><td>10.0</td><td>4CP76aTa2k</td><td>0</td><td>10</td></tr></tbody></table>"
      ],
      "text/latex": [
       "\\begin{tabular}{r|cccc}\n",
       "\t& x1 & x2 & x3 & x4\\\\\n",
       "\t\\hline\n",
       "\t& Float64⍰ & String⍰ & Int64⍰ & Int64⍰\\\\\n",
       "\t\\hline\n",
       "\t1 & 1.0 & pMgABiG3lx & 1 & 1 \\\\\n",
       "\t2 & 2.0 & 0khO4iieX6 & 0 & 2 \\\\\n",
       "\t3 & 3.0 & QDMTelKPUv & 1 & 3 \\\\\n",
       "\t4 & 4.0 & po8O4bAAEk & 0 & 4 \\\\\n",
       "\t5 & 5.0 & j3OUU9GJ4e & 0 & 5 \\\\\n",
       "\t6 & 6.0 & 0pHbYYZwY6 & 1 & 6 \\\\\n",
       "\t7 & 7.0 & NiVlkWzt6j & 0 & 7 \\\\\n",
       "\t8 & 8.0 & BH3WfvbKlg & 0 & 8 \\\\\n",
       "\t9 & 9.0 & R31PxPsU18 & 0 & 9 \\\\\n",
       "\t10 & 10.0 & 4CP76aTa2k & 0 & 10 \\\\\n",
       "\\end{tabular}\n"
      ],
      "text/plain": [
       "10×4 DataFrame\n",
       "│ Row │ x1       │ x2         │ x3     │ x4     │\n",
       "│     │ \u001b[90mFloat64⍰\u001b[39m │ \u001b[90mString⍰\u001b[39m    │ \u001b[90mInt64⍰\u001b[39m │ \u001b[90mInt64⍰\u001b[39m │\n",
       "├─────┼──────────┼────────────┼────────┼────────┤\n",
       "│ 1   │ 1.0      │ pMgABiG3lx │ 1      │ 1      │\n",
       "│ 2   │ 2.0      │ 0khO4iieX6 │ 0      │ 2      │\n",
       "│ 3   │ 3.0      │ QDMTelKPUv │ 1      │ 3      │\n",
       "│ 4   │ 4.0      │ po8O4bAAEk │ 0      │ 4      │\n",
       "│ 5   │ 5.0      │ j3OUU9GJ4e │ 0      │ 5      │\n",
       "│ 6   │ 6.0      │ 0pHbYYZwY6 │ 1      │ 6      │\n",
       "│ 7   │ 7.0      │ NiVlkWzt6j │ 0      │ 7      │\n",
       "│ 8   │ 8.0      │ BH3WfvbKlg │ 0      │ 8      │\n",
       "│ 9   │ 9.0      │ R31PxPsU18 │ 0      │ 9      │\n",
       "│ 10  │ 10.0     │ 4CP76aTa2k │ 0      │ 10     │"
      ]
     },
     "execution_count": 6,
     "metadata": {},
     "output_type": "execute_result"
    },
    {
     "name": "stderr",
     "output_type": "stream",
     "text": [
      "┌ Warning: `T` is deprecated, use `nonmissingtype` instead.\n",
      "│   caller = compacttype(::Union, ::Int64) at show.jl:39\n",
      "└ @ DataFrames C:\\Users\\deep\\.juliapro\\JuliaPro_v1.1.1.1\\packages\\DataFrames\\Iyo5L\\src\\abstractdataframe\\show.jl:39\n"
     ]
    }
   ],
   "source": [
    "allowmissing!(df)"
   ]
  },
  {
   "cell_type": "code",
   "execution_count": 10,
   "metadata": {},
   "outputs": [],
   "source": [
    "df.x1[[2, 4, 6, 8, 10]] .= missing;\n",
    "df.x2[[9, 10]] .= missing;\n",
    "df.x3[[1, 8, 9, 10]] .= missing;\n",
    "df.x4[2] = missing;"
   ]
  },
  {
   "cell_type": "code",
   "execution_count": 11,
   "metadata": {},
   "outputs": [
    {
     "data": {
      "text/html": [
       "<table class=\"data-frame\"><thead><tr><th></th><th>x1</th><th>x2</th><th>x3</th><th>x4</th></tr><tr><th></th><th>Float64⍰</th><th>String⍰</th><th>Int64⍰</th><th>Int64⍰</th></tr></thead><tbody><p>10 rows × 4 columns</p><tr><th>1</th><td>1.0</td><td>pMgABiG3lx</td><td>missing</td><td>1</td></tr><tr><th>2</th><td>missing</td><td>0khO4iieX6</td><td>0</td><td>missing</td></tr><tr><th>3</th><td>3.0</td><td>QDMTelKPUv</td><td>1</td><td>3</td></tr><tr><th>4</th><td>missing</td><td>po8O4bAAEk</td><td>0</td><td>4</td></tr><tr><th>5</th><td>5.0</td><td>j3OUU9GJ4e</td><td>0</td><td>5</td></tr><tr><th>6</th><td>missing</td><td>0pHbYYZwY6</td><td>1</td><td>6</td></tr><tr><th>7</th><td>7.0</td><td>NiVlkWzt6j</td><td>0</td><td>7</td></tr><tr><th>8</th><td>missing</td><td>BH3WfvbKlg</td><td>missing</td><td>8</td></tr><tr><th>9</th><td>9.0</td><td>missing</td><td>missing</td><td>9</td></tr><tr><th>10</th><td>missing</td><td>missing</td><td>missing</td><td>10</td></tr></tbody></table>"
      ],
      "text/latex": [
       "\\begin{tabular}{r|cccc}\n",
       "\t& x1 & x2 & x3 & x4\\\\\n",
       "\t\\hline\n",
       "\t& Float64⍰ & String⍰ & Int64⍰ & Int64⍰\\\\\n",
       "\t\\hline\n",
       "\t1 & 1.0 & pMgABiG3lx &  & 1 \\\\\n",
       "\t2 &  & 0khO4iieX6 & 0 &  \\\\\n",
       "\t3 & 3.0 & QDMTelKPUv & 1 & 3 \\\\\n",
       "\t4 &  & po8O4bAAEk & 0 & 4 \\\\\n",
       "\t5 & 5.0 & j3OUU9GJ4e & 0 & 5 \\\\\n",
       "\t6 &  & 0pHbYYZwY6 & 1 & 6 \\\\\n",
       "\t7 & 7.0 & NiVlkWzt6j & 0 & 7 \\\\\n",
       "\t8 &  & BH3WfvbKlg &  & 8 \\\\\n",
       "\t9 & 9.0 &  &  & 9 \\\\\n",
       "\t10 &  &  &  & 10 \\\\\n",
       "\\end{tabular}\n"
      ],
      "text/plain": [
       "10×4 DataFrame\n",
       "│ Row │ x1       │ x2         │ x3      │ x4      │\n",
       "│     │ \u001b[90mFloat64⍰\u001b[39m │ \u001b[90mString⍰\u001b[39m    │ \u001b[90mInt64⍰\u001b[39m  │ \u001b[90mInt64⍰\u001b[39m  │\n",
       "├─────┼──────────┼────────────┼─────────┼─────────┤\n",
       "│ 1   │ 1.0      │ pMgABiG3lx │ \u001b[90mmissing\u001b[39m │ 1       │\n",
       "│ 2   │ \u001b[90mmissing\u001b[39m  │ 0khO4iieX6 │ 0       │ \u001b[90mmissing\u001b[39m │\n",
       "│ 3   │ 3.0      │ QDMTelKPUv │ 1       │ 3       │\n",
       "│ 4   │ \u001b[90mmissing\u001b[39m  │ po8O4bAAEk │ 0       │ 4       │\n",
       "│ 5   │ 5.0      │ j3OUU9GJ4e │ 0       │ 5       │\n",
       "│ 6   │ \u001b[90mmissing\u001b[39m  │ 0pHbYYZwY6 │ 1       │ 6       │\n",
       "│ 7   │ 7.0      │ NiVlkWzt6j │ 0       │ 7       │\n",
       "│ 8   │ \u001b[90mmissing\u001b[39m  │ BH3WfvbKlg │ \u001b[90mmissing\u001b[39m │ 8       │\n",
       "│ 9   │ 9.0      │ \u001b[90mmissing\u001b[39m    │ \u001b[90mmissing\u001b[39m │ 9       │\n",
       "│ 10  │ \u001b[90mmissing\u001b[39m  │ \u001b[90mmissing\u001b[39m    │ \u001b[90mmissing\u001b[39m │ 10      │"
      ]
     },
     "execution_count": 11,
     "metadata": {},
     "output_type": "execute_result"
    }
   ],
   "source": [
    "df"
   ]
  },
  {
   "cell_type": "code",
   "execution_count": null,
   "metadata": {},
   "outputs": [],
   "source": [
    "#categorical!(df, :x3)"
   ]
  },
  {
   "cell_type": "markdown",
   "metadata": {},
   "source": [
    "If you want to drop rows with any missing values you can use __dropmissing__ or __dropmissing!__. The latter is the in place version."
   ]
  },
  {
   "cell_type": "code",
   "execution_count": 12,
   "metadata": {},
   "outputs": [
    {
     "data": {
      "text/html": [
       "<table class=\"data-frame\"><thead><tr><th></th><th>x1</th><th>x2</th><th>x3</th><th>x4</th></tr><tr><th></th><th>Float64</th><th>String</th><th>Int64</th><th>Int64</th></tr></thead><tbody><p>3 rows × 4 columns</p><tr><th>1</th><td>3.0</td><td>QDMTelKPUv</td><td>1</td><td>3</td></tr><tr><th>2</th><td>5.0</td><td>j3OUU9GJ4e</td><td>0</td><td>5</td></tr><tr><th>3</th><td>7.0</td><td>NiVlkWzt6j</td><td>0</td><td>7</td></tr></tbody></table>"
      ],
      "text/latex": [
       "\\begin{tabular}{r|cccc}\n",
       "\t& x1 & x2 & x3 & x4\\\\\n",
       "\t\\hline\n",
       "\t& Float64 & String & Int64 & Int64\\\\\n",
       "\t\\hline\n",
       "\t1 & 3.0 & QDMTelKPUv & 1 & 3 \\\\\n",
       "\t2 & 5.0 & j3OUU9GJ4e & 0 & 5 \\\\\n",
       "\t3 & 7.0 & NiVlkWzt6j & 0 & 7 \\\\\n",
       "\\end{tabular}\n"
      ],
      "text/plain": [
       "3×4 DataFrame\n",
       "│ Row │ x1      │ x2         │ x3    │ x4    │\n",
       "│     │ \u001b[90mFloat64\u001b[39m │ \u001b[90mString\u001b[39m     │ \u001b[90mInt64\u001b[39m │ \u001b[90mInt64\u001b[39m │\n",
       "├─────┼─────────┼────────────┼───────┼───────┤\n",
       "│ 1   │ 3.0     │ QDMTelKPUv │ 1     │ 3     │\n",
       "│ 2   │ 5.0     │ j3OUU9GJ4e │ 0     │ 5     │\n",
       "│ 3   │ 7.0     │ NiVlkWzt6j │ 0     │ 7     │"
      ]
     },
     "execution_count": 12,
     "metadata": {},
     "output_type": "execute_result"
    }
   ],
   "source": [
    "dropmissing(df)"
   ]
  },
  {
   "cell_type": "markdown",
   "metadata": {},
   "source": [
    "If you wanted to drop rows of data for instances where a specific variable has a missing value you can provide a column name. Here we drop rows of data only if _x3_ or _x4_ has a missing value."
   ]
  },
  {
   "cell_type": "code",
   "execution_count": 13,
   "metadata": {},
   "outputs": [
    {
     "data": {
      "text/html": [
       "<table class=\"data-frame\"><thead><tr><th></th><th>x1</th><th>x2</th><th>x3</th><th>x4</th></tr><tr><th></th><th>Float64⍰</th><th>String⍰</th><th>Int64</th><th>Int64</th></tr></thead><tbody><p>5 rows × 4 columns</p><tr><th>1</th><td>3.0</td><td>QDMTelKPUv</td><td>1</td><td>3</td></tr><tr><th>2</th><td>missing</td><td>po8O4bAAEk</td><td>0</td><td>4</td></tr><tr><th>3</th><td>5.0</td><td>j3OUU9GJ4e</td><td>0</td><td>5</td></tr><tr><th>4</th><td>missing</td><td>0pHbYYZwY6</td><td>1</td><td>6</td></tr><tr><th>5</th><td>7.0</td><td>NiVlkWzt6j</td><td>0</td><td>7</td></tr></tbody></table>"
      ],
      "text/latex": [
       "\\begin{tabular}{r|cccc}\n",
       "\t& x1 & x2 & x3 & x4\\\\\n",
       "\t\\hline\n",
       "\t& Float64⍰ & String⍰ & Int64 & Int64\\\\\n",
       "\t\\hline\n",
       "\t1 & 3.0 & QDMTelKPUv & 1 & 3 \\\\\n",
       "\t2 &  & po8O4bAAEk & 0 & 4 \\\\\n",
       "\t3 & 5.0 & j3OUU9GJ4e & 0 & 5 \\\\\n",
       "\t4 &  & 0pHbYYZwY6 & 1 & 6 \\\\\n",
       "\t5 & 7.0 & NiVlkWzt6j & 0 & 7 \\\\\n",
       "\\end{tabular}\n"
      ],
      "text/plain": [
       "5×4 DataFrame\n",
       "│ Row │ x1       │ x2         │ x3    │ x4    │\n",
       "│     │ \u001b[90mFloat64⍰\u001b[39m │ \u001b[90mString⍰\u001b[39m    │ \u001b[90mInt64\u001b[39m │ \u001b[90mInt64\u001b[39m │\n",
       "├─────┼──────────┼────────────┼───────┼───────┤\n",
       "│ 1   │ 3.0      │ QDMTelKPUv │ 1     │ 3     │\n",
       "│ 2   │ \u001b[90mmissing\u001b[39m  │ po8O4bAAEk │ 0     │ 4     │\n",
       "│ 3   │ 5.0      │ j3OUU9GJ4e │ 0     │ 5     │\n",
       "│ 4   │ \u001b[90mmissing\u001b[39m  │ 0pHbYYZwY6 │ 1     │ 6     │\n",
       "│ 5   │ 7.0      │ NiVlkWzt6j │ 0     │ 7     │"
      ]
     },
     "execution_count": 13,
     "metadata": {},
     "output_type": "execute_result"
    }
   ],
   "source": [
    "dropmissing(df, [:x3, :x4])"
   ]
  },
  {
   "cell_type": "markdown",
   "metadata": {},
   "source": [
    "The __completecases__ function will return a boolean array with value **true** if the row has a complete record and **false** otherwise."
   ]
  },
  {
   "cell_type": "code",
   "execution_count": 14,
   "metadata": {},
   "outputs": [
    {
     "data": {
      "text/plain": [
       "10-element BitArray{1}:\n",
       " false\n",
       " false\n",
       "  true\n",
       " false\n",
       "  true\n",
       " false\n",
       "  true\n",
       " false\n",
       " false\n",
       " false"
      ]
     },
     "execution_count": 14,
     "metadata": {},
     "output_type": "execute_result"
    }
   ],
   "source": [
    "completecases(df)"
   ]
  },
  {
   "cell_type": "code",
   "execution_count": 15,
   "metadata": {},
   "outputs": [
    {
     "data": {
      "text/plain": [
       "3-element Array{Int64,1}:\n",
       " 3\n",
       " 5\n",
       " 7"
      ]
     },
     "execution_count": 15,
     "metadata": {},
     "output_type": "execute_result"
    }
   ],
   "source": [
    "findall(==(true), completecases(df)) #get row numbers with complete records"
   ]
  },
  {
   "cell_type": "markdown",
   "metadata": {},
   "source": [
    "Many of the functions we used above for arrays will work with the columns of a dataframe as you'd expect:"
   ]
  },
  {
   "cell_type": "code",
   "execution_count": 18,
   "metadata": {},
   "outputs": [],
   "source": [
    "replace!(df.x3, missing => 2);"
   ]
  },
  {
   "cell_type": "code",
   "execution_count": 19,
   "metadata": {},
   "outputs": [
    {
     "data": {
      "text/html": [
       "<table class=\"data-frame\"><thead><tr><th></th><th>x1</th><th>x2</th><th>x3</th><th>x4</th></tr><tr><th></th><th>Float64⍰</th><th>String⍰</th><th>Int64⍰</th><th>Int64⍰</th></tr></thead><tbody><p>10 rows × 4 columns</p><tr><th>1</th><td>1.0</td><td>pMgABiG3lx</td><td>2</td><td>1</td></tr><tr><th>2</th><td>missing</td><td>0khO4iieX6</td><td>0</td><td>missing</td></tr><tr><th>3</th><td>3.0</td><td>QDMTelKPUv</td><td>1</td><td>3</td></tr><tr><th>4</th><td>missing</td><td>po8O4bAAEk</td><td>0</td><td>4</td></tr><tr><th>5</th><td>5.0</td><td>j3OUU9GJ4e</td><td>0</td><td>5</td></tr><tr><th>6</th><td>missing</td><td>0pHbYYZwY6</td><td>1</td><td>6</td></tr><tr><th>7</th><td>7.0</td><td>NiVlkWzt6j</td><td>0</td><td>7</td></tr><tr><th>8</th><td>missing</td><td>BH3WfvbKlg</td><td>2</td><td>8</td></tr><tr><th>9</th><td>9.0</td><td>missing</td><td>2</td><td>9</td></tr><tr><th>10</th><td>missing</td><td>missing</td><td>2</td><td>10</td></tr></tbody></table>"
      ],
      "text/latex": [
       "\\begin{tabular}{r|cccc}\n",
       "\t& x1 & x2 & x3 & x4\\\\\n",
       "\t\\hline\n",
       "\t& Float64⍰ & String⍰ & Int64⍰ & Int64⍰\\\\\n",
       "\t\\hline\n",
       "\t1 & 1.0 & pMgABiG3lx & 2 & 1 \\\\\n",
       "\t2 &  & 0khO4iieX6 & 0 &  \\\\\n",
       "\t3 & 3.0 & QDMTelKPUv & 1 & 3 \\\\\n",
       "\t4 &  & po8O4bAAEk & 0 & 4 \\\\\n",
       "\t5 & 5.0 & j3OUU9GJ4e & 0 & 5 \\\\\n",
       "\t6 &  & 0pHbYYZwY6 & 1 & 6 \\\\\n",
       "\t7 & 7.0 & NiVlkWzt6j & 0 & 7 \\\\\n",
       "\t8 &  & BH3WfvbKlg & 2 & 8 \\\\\n",
       "\t9 & 9.0 &  & 2 & 9 \\\\\n",
       "\t10 &  &  & 2 & 10 \\\\\n",
       "\\end{tabular}\n"
      ],
      "text/plain": [
       "10×4 DataFrame\n",
       "│ Row │ x1       │ x2         │ x3     │ x4      │\n",
       "│     │ \u001b[90mFloat64⍰\u001b[39m │ \u001b[90mString⍰\u001b[39m    │ \u001b[90mInt64⍰\u001b[39m │ \u001b[90mInt64⍰\u001b[39m  │\n",
       "├─────┼──────────┼────────────┼────────┼─────────┤\n",
       "│ 1   │ 1.0      │ pMgABiG3lx │ 2      │ 1       │\n",
       "│ 2   │ \u001b[90mmissing\u001b[39m  │ 0khO4iieX6 │ 0      │ \u001b[90mmissing\u001b[39m │\n",
       "│ 3   │ 3.0      │ QDMTelKPUv │ 1      │ 3       │\n",
       "│ 4   │ \u001b[90mmissing\u001b[39m  │ po8O4bAAEk │ 0      │ 4       │\n",
       "│ 5   │ 5.0      │ j3OUU9GJ4e │ 0      │ 5       │\n",
       "│ 6   │ \u001b[90mmissing\u001b[39m  │ 0pHbYYZwY6 │ 1      │ 6       │\n",
       "│ 7   │ 7.0      │ NiVlkWzt6j │ 0      │ 7       │\n",
       "│ 8   │ \u001b[90mmissing\u001b[39m  │ BH3WfvbKlg │ 2      │ 8       │\n",
       "│ 9   │ 9.0      │ \u001b[90mmissing\u001b[39m    │ 2      │ 9       │\n",
       "│ 10  │ \u001b[90mmissing\u001b[39m  │ \u001b[90mmissing\u001b[39m    │ 2      │ 10      │"
      ]
     },
     "execution_count": 19,
     "metadata": {},
     "output_type": "execute_result"
    }
   ],
   "source": [
    "df"
   ]
  },
  {
   "cell_type": "markdown",
   "metadata": {},
   "source": [
    "In this lesson we covered:\n",
    "* The Missing type in Julia.\n",
    "* Missing values with operators.\n",
    "* Arrays containing missing values.\n",
    "* Dataframes with missing values."
   ]
  }
 ],
 "metadata": {
  "@webio": {
   "lastCommId": null,
   "lastKernelId": null
  },
  "kernelspec": {
   "display_name": "Julia 1.1.1",
   "language": "julia",
   "name": "julia-1.1"
  },
  "language_info": {
   "file_extension": ".jl",
   "mimetype": "application/julia",
   "name": "julia",
   "version": "1.1.1"
  }
 },
 "nbformat": 4,
 "nbformat_minor": 2
}
