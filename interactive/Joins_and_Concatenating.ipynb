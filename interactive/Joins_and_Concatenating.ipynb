{
 "cells": [
  {
   "cell_type": "markdown",
   "metadata": {},
   "source": [
    "# III. Joining and Concatenating"
   ]
  },
  {
   "cell_type": "markdown",
   "metadata": {},
   "source": [
    "There may be cases when you have data stored in separate datasets and you want to combine these datasets in a way that will allow you to work with all of the data (not just each dataset separately). It's often the case that the separate datasets have a __column variable in common__ which we refer to as the key. The key is a variable you can use to combine the separate datasets into a single dataset, i.e. it is the variable you will join on. In oher cases you may not need to merge on a key but rather just concatenate columns vertically or horizontally."
   ]
  },
  {
   "cell_type": "markdown",
   "metadata": {},
   "source": [
    "### Joins:\n",
    "\n",
    "There are four commonly used joins we'll be going over using the DataFrames package: **inner**, **left**, **right**, and **outer**.\n",
    "\n",
    "\n",
    "* Inner join: The resultant dataframe will combine rows from both dataframes __ONLY__ for values of the key that exist in both tables. <br/>\n",
    "<br/>\n",
    "* Left join: The resultant dataframe will keep __ONLY__ the rows from the first dataframe whether or not the value of the key exists in the second dataframe. If the key value exists in the second table but not the first then it will not be kept in the resultant dataframe. <br/>\n",
    "<br/>\n",
    "* Right join: The resultant dataframe will keep __ONLY__ the rows from the second dataframe whether or not the value of the key exists in the first dataframe. If the key value exists in the first table but not the second then it will not be kept in the resultant dataframe. <br/>\n",
    "<br/>\n",
    "* Outer join: The resultant datframe will keep __ALL__ rows from both the first and second dataframes. <br/>\n",
    "<br/>\n",
    "* Anti join: The resultant datframe will keep those rows for key values that exist in the first table but __NOT__ the second table. The only columns in the resultant dataframe will be those form the first table.\n",
    "\n",
    "\n",
    "Other joins, that we won't discuss, include semi and cross joins. "
   ]
  },
  {
   "cell_type": "markdown",
   "metadata": {},
   "source": [
    "Now let's create some dataframes so we can see how these joins work in practice."
   ]
  },
  {
   "cell_type": "code",
   "execution_count": null,
   "metadata": {},
   "outputs": [],
   "source": [
    "using DataFrames, Dates"
   ]
  },
  {
   "cell_type": "code",
   "execution_count": null,
   "metadata": {},
   "outputs": [],
   "source": [
    "#create dataframes\n",
    "\n",
    "df1 = DataFrame(A = [0, 1, 0, 1, 1, 1, 1, 0, 1, 0], \n",
    "                B = [100, 300, 200, 400, 200, 300, 200, 800, 1000, 900], \n",
    "                C = [Date(2019, 8, 31), Date(2017, 6, 2), Date(2015, 5, 5), Date(2014, 10, 8), Date(2013, 5, 10),\n",
    "                      Date(2012, 4, 2), Date(2011, 8, 2), Date(2009, 10, 11), Date(2008, 10, 2), Date(2007, 6,6)],\n",
    "                ID = [1234, 89, 3412, 578, 998, 124, 665, 8881, 901, 12] )"
   ]
  },
  {
   "cell_type": "code",
   "execution_count": null,
   "metadata": {},
   "outputs": [],
   "source": [
    "df2 = DataFrame(D = [2, 3, 3, 3, 2, 3, 2, 2, 2, 2, 3], \n",
    "                E = [3.2, 8.9, 10.2, 11.3, 88.1, 52.3, 15.2, 66.7, 98.9, 30.2, 16.0], \n",
    "                F = randn(11),\n",
    "                ID = [1234, 22, 3412, 578, 998, 124, 18, 8881, 901, 12, 44])"
   ]
  },
  {
   "cell_type": "markdown",
   "metadata": {},
   "source": [
    "Notice that the key variable is <i>ID</i>. So we'll be using the <i>ID</i> variable to do our joins."
   ]
  },
  {
   "cell_type": "markdown",
   "metadata": {},
   "source": [
    "To do joins you'll use the __join__ function. The basic syntax is\n",
    "\n",
    "`jointype(table1, table2, on = [key])`"
   ]
  },
  {
   "cell_type": "markdown",
   "metadata": {},
   "source": [
    "where __table1__ is the first table, __table2__ the second table, __[key]__ is the key variable, __[jointype]__ is the type of join."
   ]
  },
  {
   "cell_type": "markdown",
   "metadata": {},
   "source": [
    "#### Inner join."
   ]
  },
  {
   "cell_type": "markdown",
   "metadata": {},
   "source": [
    "Looking at the <i>ID</i> variable you can see that the dataframes have eight <i>ID</i> values in common: 1234, 3412, 578, 998 124, 8881, 901, and 12. Therefore, we'd expect the resultant dataframe of an inner join to have eight rows and seven columns: <i>ID</i> , <i>A</i>, <i>B</i>, <i>C</i>, <i>D</i>, <i>E</i>, and <i>F</i>."
   ]
  },
  {
   "cell_type": "code",
   "execution_count": null,
   "metadata": {},
   "outputs": [],
   "source": [
    "inner_join = innerjoin(df1, df2, on = :ID)"
   ]
  },
  {
   "cell_type": "markdown",
   "metadata": {},
   "source": [
    "If you wanted to rearrange the columns so that the <i>ID</i> column variable is first you can use  __select!__."
   ]
  },
  {
   "cell_type": "code",
   "execution_count": null,
   "metadata": {},
   "outputs": [],
   "source": [
    "select!(inner_join, [4, 1, 2, 3, 5, 6, 7])"
   ]
  },
  {
   "cell_type": "markdown",
   "metadata": {},
   "source": [
    "#### Left join."
   ]
  },
  {
   "cell_type": "markdown",
   "metadata": {},
   "source": [
    "You can see that the first dataframe **df1** has ten <i>ID</i> values. Therefore, we'd expect the resultant dataframe to have 10 rows and seven columns: <i>ID</i> , <i>A</i>, <i>B</i>, <i>C</i>, <i>D</i>, <i>E</i>, and  <i>F</i>.\n",
    "\n",
    "Notice that of the ten <i>ID</i> values in the first table, the two <i>ID</i> values 89 and 665 **do not exist** in the ID column for the second table **df2**. What do you expect to see for the <i>D</i>, <i>E</i>, and <i>F</i> variables for these two values of the key variable that exist in the left table but not the right?"
   ]
  },
  {
   "cell_type": "code",
   "execution_count": null,
   "metadata": {},
   "outputs": [],
   "source": [
    "left_join = leftjoin(df1, df2, on = :ID)"
   ]
  },
  {
   "cell_type": "markdown",
   "metadata": {},
   "source": [
    "#### Right join."
   ]
  },
  {
   "cell_type": "markdown",
   "metadata": {},
   "source": [
    "You can see that the second dataframe has 11 <i>ID</i> values. Therefore, we'd expect the resultant dataframe to have 11 rows and seven columns: <i>ID</i> , <i>A</i>, <i>B</i>, <i>C</i>, <i>D</i>, <i>E</i>, and  <i>F</i>.\n",
    "\n",
    "Notice that of the 11 <i>ID</i> values in the second table, the three <i>ID</i> values 22, 18, and 44 **do not exist** in the <i>ID</i> column for the left table. What do you expect to see for the <i>A</i>, <i>B</i>, and <i>C</i> variables for these two values of the key variable that exist in the right table but not the left?"
   ]
  },
  {
   "cell_type": "code",
   "execution_count": null,
   "metadata": {},
   "outputs": [],
   "source": [
    "right_join = rightjoin(df1, df2, on = :ID)"
   ]
  },
  {
   "cell_type": "markdown",
   "metadata": {},
   "source": [
    "#### Outer join."
   ]
  },
  {
   "cell_type": "markdown",
   "metadata": {},
   "source": [
    "With this type of join we know that all rows of data between the two tables will be kept. How many rows do you expect the resultant dataframe to have?"
   ]
  },
  {
   "cell_type": "markdown",
   "metadata": {},
   "source": [
    "The two tables have eight key values in common, **df1** has two key values that **df2** does not have, and **df2** has three key values that **df1** does not have. As a result, the resultant dataframe will have 13 (8+2+3) total rows and seven columns."
   ]
  },
  {
   "cell_type": "code",
   "execution_count": null,
   "metadata": {},
   "outputs": [],
   "source": [
    "outer_join = outerjoin(df1, df2, on = :ID)"
   ]
  },
  {
   "cell_type": "markdown",
   "metadata": {},
   "source": [
    "#### Anti join."
   ]
  },
  {
   "cell_type": "markdown",
   "metadata": {},
   "source": [
    "With this type of join you will keep rows and columns of data from the first table for those key values that exist __ONLY__ in the first table. So if a key value exists in the first table __AND__ the second table that data will __NOT__ be in the resultant dataframe."
   ]
  },
  {
   "cell_type": "markdown",
   "metadata": {},
   "source": [
    "If we do an anti join where **df1** is the first table and **df2** is the second table how many rows of data will be in the resultant dataframe? We know **df1** only has two key values (89 and 665) that are not in **df2** so in this case the resultant dataframe will have two rows of data."
   ]
  },
  {
   "cell_type": "code",
   "execution_count": null,
   "metadata": {},
   "outputs": [],
   "source": [
    "anti_join_1 = antijoin(df1, df2, on = :ID)"
   ]
  },
  {
   "cell_type": "markdown",
   "metadata": {},
   "source": [
    "We can do an anti join where we use **df2** as the first table and **df1** as the second table. Again, we know **df2** only has three key values not in **df1** so the resultant dataframe will have three rows of data."
   ]
  },
  {
   "cell_type": "code",
   "execution_count": null,
   "metadata": {},
   "outputs": [],
   "source": [
    "anti_join_2 = antijoin(df2, df1, on = :ID)"
   ]
  },
  {
   "cell_type": "markdown",
   "metadata": {},
   "source": [
    "The key variables don't have to have the same name in each dataframe. Let's change the name of the <i>ID</i> variable in **df1** to be <i>ID1</i> and in **df2** to be <i>ID2</i>:"
   ]
  },
  {
   "cell_type": "code",
   "execution_count": null,
   "metadata": {},
   "outputs": [],
   "source": [
    "rename!(df1, :ID => :ID1);\n",
    "rename!(df2, :ID => :ID2);"
   ]
  },
  {
   "cell_type": "markdown",
   "metadata": {},
   "source": [
    "Now, to do an inner join the `on` keyword argument is expressed as a pair where the first element of the pair is the name of the key in the first dataframe and the second element in the pair is the name of the key in the second dataframe."
   ]
  },
  {
   "cell_type": "code",
   "execution_count": null,
   "metadata": {},
   "outputs": [],
   "source": [
    "innerjoin(df1, df2, on = :ID1 => :ID2)"
   ]
  },
  {
   "cell_type": "markdown",
   "metadata": {},
   "source": [
    "#### More on doing joins."
   ]
  },
  {
   "cell_type": "code",
   "execution_count": null,
   "metadata": {},
   "outputs": [],
   "source": [
    "# create dataframes\n",
    "\n",
    "df1 = DataFrame(A = [0, 1, 0, 1, 1, 1, 1, 0, 1, 0], \n",
    "                B = [100, 300, 200, 400, 200, 300, 200, 800, 1000, 900], \n",
    "                C = [Date(2019, 8, 31), Date(2017, 6, 2), Date(2015, 5, 5), Date(2014, 10, 8), Date(2013, 5, 10),\n",
    "                      Date(2012, 4, 2), Date(2011, 8, 2), Date(2009, 10, 11), Date(2008, 10, 2), Date(2007, 6,6)],\n",
    "                ID = [1234, 89, 3412, 578, 998, 124, 665, 8881, 901, 12] );\n",
    "\n",
    "df2 = DataFrame(D = [2, 3, 3, 3, 2, 3, 2, 2, 2, 2, 3], \n",
    "                E = [3.2, 8.9, 10.2, 11.3, 88.1, 52.3, 15.2, 66.7, 98.9, 30.2, 16.0], \n",
    "                F = randn(11),\n",
    "                ID = [1234, 22, 3412, 578, 998, 124, 18, 8881, 901, 12, 44]);"
   ]
  },
  {
   "cell_type": "markdown",
   "metadata": {},
   "source": [
    "I. The **indicator** argument: <br/>\n",
    "<br/>\n",
    "You can pass an **indicator** keyword argument to the **join** function so that the resultant dataframe contains a column variable indicating from which table an observation came from: first, second, or both. Let's use this argument in an outer join."
   ]
  },
  {
   "cell_type": "code",
   "execution_count": null,
   "metadata": {},
   "outputs": [],
   "source": [
    "outer_join = outerjoin(df1, df2, on = :ID, indicator = :source)"
   ]
  },
  {
   "cell_type": "markdown",
   "metadata": {},
   "source": [
    "II. The __makeunique__ argument: <br/>\n",
    "<br/>\n",
    "This argument is useful in cases where each dataset has a column variable with the **same** name. \n",
    "\n",
    "Let's modify **df1** so that it has a column variable with the same name a column in **df2**."
   ]
  },
  {
   "cell_type": "code",
   "execution_count": null,
   "metadata": {},
   "outputs": [],
   "source": [
    "# Modify df1 to have a \"D\" column variable\n",
    "\n",
    "df1.D = rand(100:900,10);"
   ]
  },
  {
   "cell_type": "markdown",
   "metadata": {},
   "source": [
    "What happens when you do a join on **df1** and **df2** now that they share a column variable with the same name?"
   ]
  },
  {
   "cell_type": "code",
   "execution_count": null,
   "metadata": {},
   "outputs": [],
   "source": [
    "inner_join = innerjoin(df1, df2, on = :ID)"
   ]
  },
  {
   "cell_type": "markdown",
   "metadata": {},
   "source": [
    "The error message indicates what to do. You can pass a boolean value of true for the `makeunique` keyword argument."
   ]
  },
  {
   "cell_type": "code",
   "execution_count": null,
   "metadata": {},
   "outputs": [],
   "source": [
    "inner_join = innerjoin(df1, df2, on = :ID, makeunique = true)"
   ]
  },
  {
   "cell_type": "markdown",
   "metadata": {},
   "source": [
    "The resultant dataframe keeps both columns of the <i>D</i> variable but the <i>D</i> column for the second table (in this case **df2**) is renamed to <i>D_1</i>.\n",
    "\n",
    "That is, a suffix of \\_1 was automatically added to the name of the D column variable in the second table. If there had already been a variable named <i>D_1</i> then the suffix \\_2 would've been used instead. The <i>D</i> column for the first table keeps the same name of <i>D</i>."
   ]
  },
  {
   "cell_type": "markdown",
   "metadata": {},
   "source": [
    "III. The __validate__ argument:"
   ]
  },
  {
   "cell_type": "markdown",
   "metadata": {},
   "source": [
    "In our above tables the key values were unique in each table. That is, in each table the <i>ID</i> variable did not contain duplicate values. However, this is not a requirement for the key variable.\n",
    "\n",
    "In **df2** let's add another row of data for <i>ID</i> 1234 and in **df1** let's drop the <i>D</i> column variable and add two more rows of data for <i>ID</i> 1234."
   ]
  },
  {
   "cell_type": "code",
   "execution_count": null,
   "metadata": {},
   "outputs": [],
   "source": [
    "push!(df2, (3, 21.2, randn(1)[1], 1234));"
   ]
  },
  {
   "cell_type": "code",
   "execution_count": null,
   "metadata": {},
   "outputs": [],
   "source": [
    "select!(df1, Not([:D]))\n",
    "push!(df1, (1, 700, Date(2011,7,7), 1234));\n",
    "push!(df1, (1, 500, Date(2011,1,17), 1234));"
   ]
  },
  {
   "cell_type": "code",
   "execution_count": null,
   "metadata": {},
   "outputs": [],
   "source": [
    "df1"
   ]
  },
  {
   "cell_type": "code",
   "execution_count": null,
   "metadata": {},
   "outputs": [],
   "source": [
    "df2"
   ]
  },
  {
   "cell_type": "markdown",
   "metadata": {},
   "source": [
    "These changes result in **df2** having two rows of data with ID 1234 and with **df1** having three rows of data with ID 1234."
   ]
  },
  {
   "cell_type": "markdown",
   "metadata": {},
   "source": [
    "Let's now do a left join. In this the join operation will match all combinations of <i>ID</i> 1234. How many rows will the resultant dataframe have with a value of 1234 for the <i>ID</i> variable? \n",
    "\n",
    "Keep in mind the left table (__df1__) has three row entries for <i>ID</i> 1234 and the right table (__df2__) has two row entries for <i>ID</i> 1234, so in this case the result dataframe will have 6 (3x2) entries for <i>ID</i> 1234. "
   ]
  },
  {
   "cell_type": "code",
   "execution_count": null,
   "metadata": {},
   "outputs": [],
   "source": [
    "left_join_2 = leftjoin(df1, df2, on = :ID)"
   ]
  },
  {
   "cell_type": "markdown",
   "metadata": {},
   "source": [
    "We can see that the table has six entries for _ID_ 1234 by using `filter` to return only rows with an _ID_ of 1234:"
   ]
  },
  {
   "cell_type": "code",
   "execution_count": null,
   "metadata": {},
   "outputs": [],
   "source": [
    "filter(row -> row[:ID] == 1234, left_join_2)"
   ]
  },
  {
   "cell_type": "markdown",
   "metadata": {},
   "source": [
    "You can enforce that the join fail if the keys are not unique in one or both tables using the __validate__ keyword argument. You pass this argument two boolean values indicating whether the tables need to have unique key values. The first boolean argument if set to true indicates the first table can not have duplicate key values; similarly, the second boolean if set to true indicates the second table can not have duplicate values."
   ]
  },
  {
   "cell_type": "code",
   "execution_count": null,
   "metadata": {},
   "outputs": [],
   "source": [
    "df1"
   ]
  },
  {
   "cell_type": "code",
   "execution_count": null,
   "metadata": {},
   "outputs": [],
   "source": [
    "left_join_3 = leftjoin(df1, df2, on = :ID, validate = (true, true))"
   ]
  },
  {
   "cell_type": "markdown",
   "metadata": {},
   "source": [
    "Let's delete the last row, i.e. row 12, from **df2** with <i>ID</i> 1234. This will leave it with just one entry for <i>ID</i> 1234."
   ]
  },
  {
   "cell_type": "code",
   "execution_count": null,
   "metadata": {},
   "outputs": [],
   "source": [
    "delete!(df2, 12)"
   ]
  },
  {
   "cell_type": "markdown",
   "metadata": {},
   "source": [
    "Now if we set `validate = (false, true)` the join will work since we are not requiring the left table to have unique key values, due to passed in value of false,; but we are requiring the right table to have unique key values (which it now does), due to the passed in value of true for the validate argument."
   ]
  },
  {
   "cell_type": "code",
   "execution_count": null,
   "metadata": {},
   "outputs": [],
   "source": [
    "left_join_4 = leftjoin(df1, df2, on = :ID, validate = (false, true))"
   ]
  },
  {
   "cell_type": "markdown",
   "metadata": {},
   "source": [
    "IV. Joining on two variables: <br/>"
   ]
  },
  {
   "cell_type": "code",
   "execution_count": null,
   "metadata": {},
   "outputs": [],
   "source": [
    "# create dataframes\n",
    "\n",
    "df1 = DataFrame(A = [0, 1, 0, 1, 1, 1, 1, 0, 1, 0], \n",
    "                B = [100, 300, 200, 400, 200, 300, 200, 800, 1000, 900], \n",
    "                C = [Date(2019, 8, 31), Date(2017, 6, 2), Date(2015, 5, 5), Date(2014, 10, 8), Date(2013, 5, 10),\n",
    "                      Date(2012, 4, 2), Date(2011, 8, 2), Date(2009, 10, 11), Date(2008, 10, 2), Date(2007, 6,6)],\n",
    "                ID = [1234, 89, 3412, 578, 998, 124, 665, 8881, 901, 12] );\n",
    "\n",
    "df2 = DataFrame(D = [2, 3, 3, 3, 2, 3, 2, 2, 2, 2, 3], \n",
    "                E = [3.2, 8.9, 10.2, 11.3, 88.1, 52.3, 15.2, 66.7, 98.9, 30.2, 16.0], \n",
    "                F = randn(11),\n",
    "                ID = [1234, 22, 3412, 578, 998, 124, 18, 8881, 901, 12, 44]);"
   ]
  },
  {
   "cell_type": "markdown",
   "metadata": {},
   "source": [
    "You can join on more than one variable. Here we'll do an example where we join on two variables. We'll add a column named <i>A</i> to **df2** so that now both dataframes will have <i>ID</i> and <i>A</i> columns."
   ]
  },
  {
   "cell_type": "code",
   "execution_count": null,
   "metadata": {},
   "outputs": [],
   "source": [
    "df2.A = [0, 1, 1, 0, 0, 1, 1, 0, 0, 1, 1];"
   ]
  },
  {
   "cell_type": "code",
   "execution_count": null,
   "metadata": {},
   "outputs": [],
   "source": [
    "df1"
   ]
  },
  {
   "cell_type": "code",
   "execution_count": null,
   "metadata": {},
   "outputs": [],
   "source": [
    "df2"
   ]
  },
  {
   "cell_type": "markdown",
   "metadata": {},
   "source": [
    "Now we can do an inner join on the two variables <i>ID</i> and <i>A</i>. You can just specify these variables in the **on** keyword argument. Now when joining on both <i>ID</i> and <i>A</i> there are only three matching cases."
   ]
  },
  {
   "cell_type": "code",
   "execution_count": null,
   "metadata": {},
   "outputs": [],
   "source": [
    "inner_join = innerjoin(df1, df2, on = [:ID, :A])"
   ]
  },
  {
   "cell_type": "markdown",
   "metadata": {},
   "source": [
    "### Concatenation:"
   ]
  },
  {
   "cell_type": "markdown",
   "metadata": {},
   "source": [
    "Concatenating, or combining, dataframes is relatively straightforward in Julia. The main commands are `hcat` and `vcat` for horizontal and vertical concatenation respectively."
   ]
  },
  {
   "cell_type": "markdown",
   "metadata": {},
   "source": [
    "The **hcat** function assumes the input dataframes have same number of rows. Horizontal concatenation combines two dataframes along the second dimension. What results is a dataframe with the same number of rows as either dataframe but with columns from both dataframes."
   ]
  },
  {
   "cell_type": "code",
   "execution_count": null,
   "metadata": {},
   "outputs": [],
   "source": [
    "# create dataframes\n",
    "\n",
    "df1 = DataFrame(A = [0, 1, 0, 1, 1, 1, 1, 0, 1, 0], \n",
    "                B = [100, 300, 200, 400, 200, 300, 200, 800, 1000, 900], \n",
    "                C = [Date(2019, 8, 31), Date(2017, 6, 2), Date(2015, 5, 5), Date(2014, 10, 8), Date(2013, 5, 10),\n",
    "                      Date(2012, 4, 2), Date(2011, 8, 2), Date(2009, 10, 11), Date(2008, 10, 2), Date(2007, 6,6)],\n",
    "                ID = [1234, 89, 3412, 578, 998, 124, 665, 8881, 901, 12] );\n",
    "\n",
    "df2 = DataFrame(D = [2, 3, 3, 3, 2, 3, 2, 2, 2, 2, 3], \n",
    "                E = [3.2, 8.9, 10.2, 11.3, 88.1, 52.3, 15.2, 66.7, 98.9, 30.2, 16.0], \n",
    "                F = randn(11),\n",
    "                ID = [1234, 22, 3412, 578, 998, 124, 18, 8881, 901, 12, 44]);"
   ]
  },
  {
   "cell_type": "markdown",
   "metadata": {},
   "source": [
    "Let's create a new dataframe called **df2_noid** that is the same as **df2** but without the <i>ID</i> column. This way the **df1** and **df2** dataframes will have uniquely named columns.\n",
    "\n",
    "We'll also delete the last row from **df2** so it has the number of rows as **df1** which is a requirement for `hcat`."
   ]
  },
  {
   "cell_type": "code",
   "execution_count": null,
   "metadata": {},
   "outputs": [],
   "source": [
    "delete!(df2, nrow(df2)); # delete last row from df2"
   ]
  },
  {
   "cell_type": "code",
   "execution_count": null,
   "metadata": {},
   "outputs": [],
   "source": [
    "df2_noid = df2[:, Not(:ID)];"
   ]
  },
  {
   "cell_type": "markdown",
   "metadata": {},
   "source": [
    "Now we can horizontally concatenate the two dataframes."
   ]
  },
  {
   "cell_type": "code",
   "execution_count": null,
   "metadata": {},
   "outputs": [],
   "source": [
    "hcat(df1, df2_noid)"
   ]
  },
  {
   "cell_type": "markdown",
   "metadata": {},
   "source": [
    "Note if you had left the <i>ID</i> column in the right dataframe then you would've needed to use the `makeunique` option with **hcat** which would keep both <i>ID</i> columns in the resulting dataframe but automatically suffix the name of one of the ID columns with a _1."
   ]
  },
  {
   "cell_type": "code",
   "execution_count": null,
   "metadata": {},
   "outputs": [],
   "source": [
    "hcat(df1, df2, makeunique=true)"
   ]
  },
  {
   "cell_type": "markdown",
   "metadata": {},
   "source": [
    "The `vcat` function works much the same as the `hcat` function except it concatenates along the first dimension. Each input dataframe can have a different number of rows but should have the same number of columns with the same column names."
   ]
  },
  {
   "cell_type": "markdown",
   "metadata": {},
   "source": [
    "Let's create a **df1new** dataframe with the same column names as the **df1** datframe. Note the column names do not need to be in the same order for **vcat** to work though the names must match."
   ]
  },
  {
   "cell_type": "code",
   "execution_count": null,
   "metadata": {},
   "outputs": [],
   "source": [
    "df1new = DataFrame(A = [3.2, 8.9, 10.2, 11.3, 88.1, 52.3, 15.2, 66.7, 98.9, 30.2, 16.0],\n",
    "                   B = [2, 3, 3, 3, 2, 3, 2, 2, 2, 2, 3], \n",
    "                   C = randn(11),\n",
    "                   ID = [1234, 22, 3412, 578, 998, 124, 18, 8881, 901, 12, 44])"
   ]
  },
  {
   "cell_type": "code",
   "execution_count": null,
   "metadata": {},
   "outputs": [],
   "source": [
    "df1"
   ]
  },
  {
   "cell_type": "code",
   "execution_count": null,
   "metadata": {},
   "outputs": [],
   "source": [
    "vcat(df1, df1new)"
   ]
  },
  {
   "cell_type": "markdown",
   "metadata": {},
   "source": [
    "The dataframes essentially get stacked with the first input dataframe stacked on top of the second."
   ]
  },
  {
   "cell_type": "markdown",
   "metadata": {},
   "source": [
    "In this lesson we covered:\n",
    "* Basic join operations including inner, left, right, outer, and anti.\n",
    "* Additional join arguments, joing on two variables.\n",
    "* Concatenating dataframes: hcat and vcat."
   ]
  },
  {
   "cell_type": "code",
   "execution_count": null,
   "metadata": {},
   "outputs": [],
   "source": []
  }
 ],
 "metadata": {
  "@webio": {
   "lastCommId": null,
   "lastKernelId": null
  },
  "kernelspec": {
   "display_name": "Julia 1.3.0",
   "language": "julia",
   "name": "julia-1.3"
  },
  "language_info": {
   "file_extension": ".jl",
   "mimetype": "application/julia",
   "name": "julia",
   "version": "1.3.0"
  }
 },
 "nbformat": 4,
 "nbformat_minor": 2
}
