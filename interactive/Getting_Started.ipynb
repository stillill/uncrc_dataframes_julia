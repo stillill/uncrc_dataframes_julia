{
 "cells": [
  {
   "cell_type": "markdown",
   "metadata": {},
   "source": [
    "# Outline"
   ]
  },
  {
   "cell_type": "markdown",
   "metadata": {},
   "source": [
    "The Julia DataFrames package is a handy package for working with and manipulating tabular data in Julia. It's well suited for working with data where the columns are of different types, i.e. heterogeneous data, and when the dataset can fit in memory. It can be used to perform a variety of data manipulation operations such as subsetting rows, selecting columns, performing aggregations by group, joining, etc. We will explore doing all of these things and more."
   ]
  },
  {
   "cell_type": "markdown",
   "metadata": {},
   "source": [
    "What we'll be covering today:\n",
    "\n",
    "#### I. Getting started\n",
    "#### II. Working with dataframes\n",
    "#### III. Joining and concatenating\n",
    "#### IV. Handling missing values\n",
    "#### V. Split-apply-combine\n",
    "#### VI. Using Query.jl"
   ]
  },
  {
   "cell_type": "markdown",
   "metadata": {},
   "source": [
    "# I. Getting started"
   ]
  },
  {
   "cell_type": "code",
   "execution_count": null,
   "metadata": {},
   "outputs": [],
   "source": [
    "#To install\n",
    "#using Pkg\n",
    "#Pkg.add(\"DataFrames\")"
   ]
  },
  {
   "cell_type": "code",
   "execution_count": null,
   "metadata": {},
   "outputs": [],
   "source": [
    "#To load the DataFrames package once installed\n",
    "using DataFrames"
   ]
  },
  {
   "cell_type": "markdown",
   "metadata": {},
   "source": [
    "### Dataframes fundamentals:"
   ]
  },
  {
   "cell_type": "markdown",
   "metadata": {},
   "source": [
    "The basic data structure you will be working with is the **DataFrame**. This type is defined in the DataFrames package. In this section we'll see a few different ways of manually creating dataframes using the DataFrame constructor. You'll rarely use this constructor directly to create your dataframes, except for maybe testing out ideas, but it's good to have an understanding of how to do this.\n",
    "\n",
    "\n",
    "Let's start by creating a DataFrame explicitly using keyword arguments. We'll create a small dataframe **df** with five columns named <i>A</i> , <i>B</i>, <i>C</i>, <i>D</i>, and <i>E</i>."
   ]
  },
  {
   "cell_type": "code",
   "execution_count": null,
   "metadata": {},
   "outputs": [],
   "source": [
    "using Random"
   ]
  },
  {
   "cell_type": "code",
   "execution_count": null,
   "metadata": {},
   "outputs": [],
   "source": [
    "df = DataFrame(B = [0, 1, 1, 0], C = [0, 0, 1, 1], A = [0, 1, 0, 1], D = [randstring(9) for j in 1:4], E = 1:4)"
   ]
  },
  {
   "cell_type": "code",
   "execution_count": null,
   "metadata": {},
   "outputs": [],
   "source": [
    "typeof(df)"
   ]
  },
  {
   "cell_type": "markdown",
   "metadata": {},
   "source": [
    "Note that column names in Julia are actually **Symbols** and not **Strings**. In Julia, symbols are prefixed with \":\" which is how you can tell that an object is a symbol. Also notice that Julia has typed each colulmn."
   ]
  },
  {
   "cell_type": "markdown",
   "metadata": {},
   "source": [
    "For us it's not too important to know what a symbol is exactly in Julia. You just need to be aware that when referring to columns in your dataframes you will need to refer to the column names as symbols (using the symbol notation) and not strings."
   ]
  },
  {
   "cell_type": "markdown",
   "metadata": {},
   "source": [
    "You can initialize an empty dataframe using the `DataFrame()` constructor and then build it up using a dictionary or by arbitrarily adding columns. In this case you pass the dictionary as an argument to the `DataFrame()` constructor."
   ]
  },
  {
   "cell_type": "code",
   "execution_count": null,
   "metadata": {},
   "outputs": [],
   "source": [
    "df = DataFrame(); #initialize an empty dataframe"
   ]
  },
  {
   "cell_type": "code",
   "execution_count": null,
   "metadata": {},
   "outputs": [],
   "source": [
    "d = Dict(\"A\" => [0, 1, 0, 1], \"B\" => [0, 1, 1, 0], \"C\" => [0, 0, 1, 1], \"D\" => [randstring(9) for j in 1:4], \n",
    "    \"E\" => 1:4)"
   ]
  },
  {
   "cell_type": "code",
   "execution_count": null,
   "metadata": {},
   "outputs": [],
   "source": [
    "df = DataFrame(d)"
   ]
  },
  {
   "cell_type": "markdown",
   "metadata": {},
   "source": [
    "The following syntax also works where you pass the dataframe constructor a comma-separated list of **Pairs** where the first element of each pair is a **Symbol** that refers to the column and the second element are the values. Note with this method the order in which the columns were passed was maintained in the resulting dataframe."
   ]
  },
  {
   "cell_type": "code",
   "execution_count": null,
   "metadata": {},
   "outputs": [],
   "source": [
    "df = DataFrame(:B => [0, 1, 1, 0], :A => [0, 1, 0, 1], :C => [0, 0, 1, 1], :D => [randstring(9) for j in 1:4], \n",
    "    :E => 1:4)"
   ]
  },
  {
   "cell_type": "markdown",
   "metadata": {},
   "source": [
    "You can build up an empty dataframe by explicitly adding columns using dot notation to refer to columns."
   ]
  },
  {
   "cell_type": "code",
   "execution_count": null,
   "metadata": {},
   "outputs": [],
   "source": [
    "df = DataFrame();\n",
    "df.B = [0, 1, 1, 0];\n",
    "df.C = [0, 0, 1, 1];\n",
    "df.A = [0, 1, 0, 1];\n",
    "df.D = [randstring(9) for j in 1:4];\n",
    "df.E = 1:4;"
   ]
  },
  {
   "cell_type": "code",
   "execution_count": null,
   "metadata": {},
   "outputs": [],
   "source": [
    "df"
   ]
  },
  {
   "cell_type": "markdown",
   "metadata": {},
   "source": [
    "You can also create a dataframe by passing in the column values and symbols as separate arguments to the `DataFrame()` constructor. The first argument is an array of vectors where each vector is a column of data; the second argument is the array of symbols designating the column names."
   ]
  },
  {
   "cell_type": "code",
   "execution_count": null,
   "metadata": {},
   "outputs": [],
   "source": [
    "df = DataFrame([[0,1,1,0], [0,0,1,1], [0,1,0,1], [randstring(9) for j in 1:4], 1:4], [:B, :C, :A, :D, :E])"
   ]
  },
  {
   "cell_type": "markdown",
   "metadata": {},
   "source": [
    "If you want to convert your dataframe to an array wrap the dataframe in a call to `Matrix`."
   ]
  },
  {
   "cell_type": "code",
   "execution_count": null,
   "metadata": {},
   "outputs": [],
   "source": [
    "m = Matrix(df)"
   ]
  },
  {
   "cell_type": "markdown",
   "metadata": {},
   "source": [
    "And then to convert it back to a dataframe you can wrap the array in a call to `DataFrame()`. Note the arbitrary column names <i>x1</i>, <i>x2</i>, etc."
   ]
  },
  {
   "cell_type": "code",
   "execution_count": null,
   "metadata": {},
   "outputs": [],
   "source": [
    "df = DataFrame(m)"
   ]
  },
  {
   "cell_type": "markdown",
   "metadata": {},
   "source": [
    "Finally, if you need to, you can initialize a non-empty datframe with garbage values. You will need to specify the desired columns types and optionally specify the column names and number of rows."
   ]
  },
  {
   "cell_type": "code",
   "execution_count": null,
   "metadata": {},
   "outputs": [],
   "source": [
    "df_garbage = DataFrame([Int64, Int64, Int64, String, Int64], [:B, :C, :A, :D, :E], 4)"
   ]
  },
  {
   "cell_type": "markdown",
   "metadata": {},
   "source": [
    "Regardless of how you create it, the **DataFrame** type represents a data table as a series of vectors, each corresponding to a column or variable."
   ]
  },
  {
   "cell_type": "markdown",
   "metadata": {},
   "source": [
    "### Selecting columns:"
   ]
  },
  {
   "cell_type": "code",
   "execution_count": null,
   "metadata": {},
   "outputs": [],
   "source": [
    "# create a dataframe\n",
    "\n",
    "df = DataFrame(A = [0, 1, 0, 1], B = [0, 1, 1, 0], C = [0, 0, 1, 1], D = [randstring(9) for j in 1:4], E = 1:4);"
   ]
  },
  {
   "cell_type": "markdown",
   "metadata": {},
   "source": [
    "You can select individual columns in a few different ways:\n",
    "- `df.col`\n",
    "- `df.\"col\"`\n",
    "- `df[!,:col]`\n",
    "- `df[!, col_idx]`\n"
   ]
  },
  {
   "cell_type": "code",
   "execution_count": null,
   "metadata": {},
   "outputs": [],
   "source": [
    "df"
   ]
  },
  {
   "cell_type": "markdown",
   "metadata": {},
   "source": [
    "Below we access columns <i>A</i>, <i>B</i>, and <i>C</i> using the dot notation. Note this does __not__ return a copy of the column data; so if you modify __df.A__ then you will modify the dataframe as well."
   ]
  },
  {
   "cell_type": "code",
   "execution_count": null,
   "metadata": {},
   "outputs": [],
   "source": [
    "df.A"
   ]
  },
  {
   "cell_type": "code",
   "execution_count": null,
   "metadata": {},
   "outputs": [],
   "source": [
    "typeof(df.A)"
   ]
  },
  {
   "cell_type": "code",
   "execution_count": null,
   "metadata": {},
   "outputs": [],
   "source": [
    "typeof(df.D)"
   ]
  },
  {
   "cell_type": "markdown",
   "metadata": {},
   "source": [
    "You can also use string notation again this does __not__ return a copy:"
   ]
  },
  {
   "cell_type": "code",
   "execution_count": null,
   "metadata": {},
   "outputs": [],
   "source": [
    "df.\"A\""
   ]
  },
  {
   "cell_type": "markdown",
   "metadata": {},
   "source": [
    "You can refer to columns using bracket notation but note that for the column you have to use the symbol notation, i.e., :B and not \"B\". The ! used above means to grab all rows.\n",
    "\n",
    "Please note that `df[!, :col]` does **not** make a copy of the column therefore modifying elements in it will change elements in the dataframe itself. If you want to work with a copy use `df[:, :col]`."
   ]
  },
  {
   "cell_type": "code",
   "execution_count": null,
   "metadata": {},
   "outputs": [],
   "source": [
    "df[!, :B][2] = 2# df[!, \"B\"] will not work"
   ]
  },
  {
   "cell_type": "code",
   "execution_count": null,
   "metadata": {},
   "outputs": [],
   "source": [
    "a = df[!, :B]"
   ]
  },
  {
   "cell_type": "code",
   "execution_count": null,
   "metadata": {},
   "outputs": [],
   "source": [
    "df"
   ]
  },
  {
   "cell_type": "markdown",
   "metadata": {},
   "source": [
    "You can also use the column index to refer to a specific column. Here we get the third column. Note that indexing in Julia starts at 1."
   ]
  },
  {
   "cell_type": "code",
   "execution_count": null,
   "metadata": {},
   "outputs": [],
   "source": [
    "df[!, 3] #third way using a column index"
   ]
  },
  {
   "cell_type": "markdown",
   "metadata": {},
   "source": [
    "You can retrieve multiple columns by listing them out by symbol or index. In this case the returned object will be a dataframe."
   ]
  },
  {
   "cell_type": "code",
   "execution_count": null,
   "metadata": {},
   "outputs": [],
   "source": [
    "df[!, [:A, :D]] # get columns A and D"
   ]
  },
  {
   "cell_type": "code",
   "execution_count": null,
   "metadata": {},
   "outputs": [],
   "source": [
    "df[!, 2:5]  #get columns two through five"
   ]
  },
  {
   "cell_type": "markdown",
   "metadata": {},
   "source": [
    "An alternative method to selecting columns in a dataframe is to use the `select` function."
   ]
  },
  {
   "cell_type": "code",
   "execution_count": null,
   "metadata": {},
   "outputs": [],
   "source": [
    "select(df, :A) #select column A"
   ]
  },
  {
   "cell_type": "code",
   "execution_count": null,
   "metadata": {},
   "outputs": [],
   "source": [
    "select(df, [:A, :D]) # select columns A and D"
   ]
  },
  {
   "cell_type": "code",
   "execution_count": null,
   "metadata": {},
   "outputs": [],
   "source": [
    "select(df, 2:5) #select columns 2 through 5"
   ]
  },
  {
   "cell_type": "code",
   "execution_count": null,
   "metadata": {},
   "outputs": [],
   "source": [
    "select(df, Not(:A)) #select all columns except column A"
   ]
  },
  {
   "cell_type": "markdown",
   "metadata": {},
   "source": [
    "The `select` function returns a new dataframe where the columns are copies of the columns from the original dataframe."
   ]
  },
  {
   "cell_type": "markdown",
   "metadata": {},
   "source": [
    "To get the names and types of the columns you can use the `names` and `eltype` functions."
   ]
  },
  {
   "cell_type": "code",
   "execution_count": null,
   "metadata": {},
   "outputs": [],
   "source": [
    "names(df)"
   ]
  },
  {
   "cell_type": "code",
   "execution_count": null,
   "metadata": {},
   "outputs": [],
   "source": [
    "eltype.(eachcol(df))"
   ]
  },
  {
   "cell_type": "code",
   "execution_count": null,
   "metadata": {},
   "outputs": [],
   "source": [
    "?eachcol"
   ]
  },
  {
   "cell_type": "markdown",
   "metadata": {},
   "source": [
    "You can append a row using `push!` and providing the row values in a tuple."
   ]
  },
  {
   "cell_type": "code",
   "execution_count": null,
   "metadata": {},
   "outputs": [],
   "source": [
    "push!(df, (1, 1, 1, randstring(7), 5))"
   ]
  },
  {
   "cell_type": "markdown",
   "metadata": {},
   "source": [
    "### Reading and writing data:"
   ]
  },
  {
   "cell_type": "markdown",
   "metadata": {},
   "source": [
    "Most likely you will not be manually creating dataframes as above but rather loading data from external files.\n",
    "\n",
    "You can read and write data to a variety of file formats."
   ]
  },
  {
   "cell_type": "markdown",
   "metadata": {},
   "source": [
    "If you want to save your dataframe to a CSV file you can use the `CSV.write` function in the **CSV.jl** package:"
   ]
  },
  {
   "cell_type": "code",
   "execution_count": null,
   "metadata": {},
   "outputs": [],
   "source": [
    "using CSV"
   ]
  },
  {
   "cell_type": "markdown",
   "metadata": {},
   "source": [
    "The first argument is the desired name of the CSV file and the second is the name of the dataframe:"
   ]
  },
  {
   "cell_type": "code",
   "execution_count": null,
   "metadata": {},
   "outputs": [],
   "source": [
    "CSV.write(\"mydf.csv\", df);"
   ]
  },
  {
   "cell_type": "markdown",
   "metadata": {},
   "source": [
    "If you want to load the CSV file use `CSV.read`:"
   ]
  },
  {
   "cell_type": "code",
   "execution_count": null,
   "metadata": {},
   "outputs": [],
   "source": [
    "df = CSV.read(\"mydf.csv\")"
   ]
  },
  {
   "cell_type": "code",
   "execution_count": null,
   "metadata": {},
   "outputs": [],
   "source": [
    "typeof(df)"
   ]
  },
  {
   "cell_type": "markdown",
   "metadata": {},
   "source": [
    "Note that the column type is different for a dataframe created from reading in a csv file versus a dataframe created manually."
   ]
  },
  {
   "cell_type": "code",
   "execution_count": null,
   "metadata": {},
   "outputs": [],
   "source": [
    "typeof(df.A)"
   ]
  },
  {
   "cell_type": "markdown",
   "metadata": {},
   "source": [
    "You can specify saving the dataframe using a different delimiter:"
   ]
  },
  {
   "cell_type": "code",
   "execution_count": null,
   "metadata": {},
   "outputs": [],
   "source": [
    "CSV.write(\"mydf.tsv\", df, delim='\\t');"
   ]
  },
  {
   "cell_type": "code",
   "execution_count": null,
   "metadata": {},
   "outputs": [],
   "source": [
    "df = CSV.read(\"mydf.tsv\", delim='\\t');"
   ]
  },
  {
   "cell_type": "code",
   "execution_count": null,
   "metadata": {},
   "outputs": [],
   "source": [
    "df"
   ]
  },
  {
   "cell_type": "markdown",
   "metadata": {},
   "source": [
    "The CSV.jl package has a couple of useful features. Let us look at a few features related to reading in csv data (there are many more than we'll cover here)."
   ]
  },
  {
   "cell_type": "markdown",
   "metadata": {},
   "source": [
    "You can indicate where the header row starts in the file. By default, data will be read in starting on the next row. Let's look at our example file:"
   ]
  },
  {
   "cell_type": "code",
   "execution_count": null,
   "metadata": {},
   "outputs": [],
   "source": [
    ";cat readinexample.csv"
   ]
  },
  {
   "cell_type": "markdown",
   "metadata": {},
   "source": [
    "Here the header row is on the third line so we can specify that in our CSV.read() command using its `header` keyword argument."
   ]
  },
  {
   "cell_type": "code",
   "execution_count": null,
   "metadata": {},
   "outputs": [],
   "source": [
    "CSV.read(\"readinexample.csv\", header=3)"
   ]
  },
  {
   "cell_type": "markdown",
   "metadata": {},
   "source": [
    " Note if your file has no header you can simply set `header=false`."
   ]
  },
  {
   "cell_type": "markdown",
   "metadata": {},
   "source": [
    "You can also read in data starting at a specified row in the file. There are two ways to do this: one way is using the `datarow` keyword argument and anoterway is via the `skipto` keyword argument. The former indicates the row number at which to start reading in data; the latter indicates the number of rows to skip before reading in data."
   ]
  },
  {
   "cell_type": "markdown",
   "metadata": {},
   "source": [
    "Here we indicate the header is on row 3 and the data we want to read starts on row 6."
   ]
  },
  {
   "cell_type": "code",
   "execution_count": null,
   "metadata": {},
   "outputs": [],
   "source": [
    "CSV.read(\"readinexample.csv\", header=3, datarow=6)"
   ]
  },
  {
   "cell_type": "code",
   "execution_count": null,
   "metadata": {},
   "outputs": [],
   "source": [
    "CSV.read(\"readinexample.csv\", header=3, skipto=6)"
   ]
  },
  {
   "cell_type": "markdown",
   "metadata": {},
   "source": [
    "If certain values should be treated as `missing` you can indicate that with the `missingstrings` keyword argument. In our file, let's assume that the values 99 and NA should be treated as missing when the data is read in:"
   ]
  },
  {
   "cell_type": "code",
   "execution_count": null,
   "metadata": {},
   "outputs": [],
   "source": [
    "CSV.read(\"readinexample.csv\", header=3, missingstrings=[\"99\", \"NA\"])"
   ]
  },
  {
   "cell_type": "markdown",
   "metadata": {},
   "source": [
    "The last thing we'll cover is selecting specific columns, or dropping columns, when reading in data. Suppose we only wanted to read in the columns _A_, _B_, and _D_? You can specify this using the column name or column index in the `select` keyword argument."
   ]
  },
  {
   "cell_type": "code",
   "execution_count": null,
   "metadata": {},
   "outputs": [],
   "source": [
    "CSV.read(\"readinexample.csv\", header=3, select=[\"A\", \"B\", \"D\"])"
   ]
  },
  {
   "cell_type": "markdown",
   "metadata": {},
   "source": [
    "And if you wanted to drop columns _C_ and _D_ use `drop`:"
   ]
  },
  {
   "cell_type": "code",
   "execution_count": null,
   "metadata": {},
   "outputs": [],
   "source": [
    "CSV.read(\"readinexample.csv\", header=3, drop=[C\", \"D\"])"
   ]
  },
  {
   "cell_type": "markdown",
   "metadata": {},
   "source": [
    "You can also use the column index number. Here columns _C_ and _D_ are the third and fifth columns respectively in our csv file:"
   ]
  },
  {
   "cell_type": "code",
   "execution_count": null,
   "metadata": {},
   "outputs": [],
   "source": [
    "CSV.read(\"readinexample.csv\", header=3, drop=[3,5])"
   ]
  },
  {
   "cell_type": "markdown",
   "metadata": {},
   "source": [
    "There are other Julia packages for reading other file formats (these are just a select few):\n",
    "* ReadStat.jl: Stata, SAS, and SPSS data files.\n",
    "* Parquet.jl: Parquet files.\n",
    "* JSON.jl, JSON2.jl, JSON3.jl: JSON files.\n"
   ]
  },
  {
   "cell_type": "markdown",
   "metadata": {},
   "source": [
    "In this lesson we covered:\n",
    "* What the Julia DataFrames package can be used for.\n",
    "* What the DataFrame type is.\n",
    "* The basics of Julia datframes.\n",
    "* Simple I/O using dataframes and the CSV.jl package."
   ]
  },
  {
   "cell_type": "code",
   "execution_count": null,
   "metadata": {},
   "outputs": [],
   "source": []
  }
 ],
 "metadata": {
  "@webio": {
   "lastCommId": null,
   "lastKernelId": null
  },
  "kernelspec": {
   "display_name": "Julia 1.3.0",
   "language": "julia",
   "name": "julia-1.3"
  },
  "language_info": {
   "file_extension": ".jl",
   "mimetype": "application/julia",
   "name": "julia",
   "version": "1.3.0"
  }
 },
 "nbformat": 4,
 "nbformat_minor": 4
}
