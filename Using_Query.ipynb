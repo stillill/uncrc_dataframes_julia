{
 "cells": [
  {
   "cell_type": "markdown",
   "metadata": {},
   "source": [
    "# VI. Using Query.jl"
   ]
  },
  {
   "cell_type": "markdown",
   "metadata": {},
   "source": [
    "The Query.jl package in Julia can be used to query data sources using query expressions. Typical operations include things like filtering, projecting, joining, sorting, and grouping. Legitimate data sources include data streams such as CSV files, arrays, dictionaries, databases (SQLite), dataframes, etc. (basically any iterable datasource). The basic syntax has this structure:\n",
    "\n",
    "`myq = @from <range_var> in <source> begin\n",
    "    <query_statements>\n",
    "end`"
   ]
  },
  {
   "cell_type": "markdown",
   "metadata": {},
   "source": [
    "The range variable is what iterates over the data source; and the query statements are the query commands that get executed. The `@from` is a Julia macro provided by the **Query.jl** package."
   ]
  },
  {
   "cell_type": "code",
   "execution_count": null,
   "metadata": {},
   "outputs": [],
   "source": [
    "using DataFrames, Distributions, Random, Statistics, CategoricalArrays, Query"
   ]
  },
  {
   "cell_type": "markdown",
   "metadata": {},
   "source": [
    "Let's use the same dataframe from the split-apply-combine notebook."
   ]
  },
  {
   "cell_type": "code",
   "execution_count": null,
   "metadata": {},
   "outputs": [],
   "source": [
    "#create a dataframe\n",
    "\n",
    "Random.seed!(1234)\n",
    "\n",
    "N = 20\n",
    "dfa = DataFrame(ID = 1:N,\n",
    "                Category = wsample([\"Low\", \"Medium\", \"High\"], [1/3, 1/3, 1/3], N),\n",
    "                Weight = rand(120:170, N),\n",
    "                Age = rand(20:80, N),\n",
    "                IndVar = wsample([0, 1], [0.5, 0.5], N),\n",
    "                RandNum = randn(N))\n",
    "\n",
    "categorical!(dfa, [:Category, :IndVar]);\n",
    "levels!(dfa.Category, [\"Low\", \"Medium\", \"High\"]);"
   ]
  },
  {
   "cell_type": "code",
   "execution_count": null,
   "metadata": {},
   "outputs": [],
   "source": [
    "dfa"
   ]
  },
  {
   "cell_type": "markdown",
   "metadata": {},
   "source": [
    "For a first simple example, let's create a new dataframe based on **dfa** where we filter on `Weight > 130` and only keep the columns <i>ID</i>, <i>Weight</i>, <i>Age</i>, and sort the resulting dataframe in descending order by <i>Age</i>."
   ]
  },
  {
   "cell_type": "code",
   "execution_count": null,
   "metadata": {},
   "outputs": [],
   "source": [
    "ex = @from i in dfa begin\n",
    "     @where i.Weight > 130\n",
    "     @orderby descending(i.Age)\n",
    "     @select {PatientID = i.ID, PatientWeight = i.Weight, PatientAge = i.Age}\n",
    "     @collect DataFrame\n",
    "end"
   ]
  },
  {
   "cell_type": "markdown",
   "metadata": {},
   "source": [
    "In the above code:\n",
    "\n",
    "* `@where` is doing the filtering operation based on the __Weight__ variable.\n",
    "* `@orderby` does the sorting in descending order using the __Age__ varibale.\n",
    "* `@select` is selecting the columns to keep and to optionally name the columns in the resulting object.\n",
    "* `@collect` indicates to return the resulting object __ex__ as a dataframe. If nothing is specified then the resulting object is an array.\n",
    "\n",
    "Note the use of the range variable __i__ to reference the columns in the dataframe."
   ]
  },
  {
   "cell_type": "markdown",
   "metadata": {},
   "source": [
    "Next let's do an example where we group the data into subgroups based on the values of __Category__(\"Low\", \"Medium\", \"High\") and __IndVar__(0, 1). "
   ]
  },
  {
   "cell_type": "code",
   "execution_count": null,
   "metadata": {},
   "outputs": [],
   "source": [
    "ex = @from i in dfa begin\n",
    "     @where i.RandNum > 0 && i.Age > 25\n",
    "     @group i by i.Category, i.IndVar into c\n",
    "     @orderby key(c)\n",
    "     @select {Grouping = key(c), AvgAge=mean(c.Age), MaxWeight = maximum(c.Weight), Count = length(c.Age)}\n",
    "     @collect DataFrame\n",
    "end"
   ]
  },
  {
   "cell_type": "markdown",
   "metadata": {},
   "source": [
    "The `@group` statement groups the data into a new range variable (the new range variable is called __c__ in our case) based on the levels of the column variables; this new range variable is then used to aggregate the data. \n",
    "\n",
    "The __key__ function gives the values used to group the data. The other functions used in `@select` are calculated based on the grouped data via the new range variable __c__."
   ]
  },
  {
   "cell_type": "markdown",
   "metadata": {},
   "source": [
    "If you wanted to restrict the output to cases where some aggregate based value condition was met you could add another `@where` statement after the `@group` statement."
   ]
  },
  {
   "cell_type": "code",
   "execution_count": null,
   "metadata": {},
   "outputs": [],
   "source": [
    "ex = @from i in dfa begin\n",
    "     @where i.RandNum > 0 && i.Age > 25\n",
    "     @group i by i.Category, i.IndVar into c\n",
    "     @where maximum(c.Weight) > 140\n",
    "     @orderby key(c)\n",
    "     @select {Group = key(c), AvgAge=mean(c.Age), MaxWeight = maximum(c.Weight), Count = length(c.Age)}\n",
    "     @collect DataFrame\n",
    "end"
   ]
  },
  {
   "cell_type": "markdown",
   "metadata": {},
   "source": [
    "You can use the Query.jl `@let` macro to introduce new range variables into a query. Here we introduce a new range variable (__ExpRandNum__) as a function of another column variable (__RandNum__)."
   ]
  },
  {
   "cell_type": "code",
   "execution_count": null,
   "metadata": {},
   "outputs": [],
   "source": [
    "ex = @from i in dfa begin\n",
    "     @let ExpRandNum = exp(i.RandNum)\n",
    "     @orderby i.Category\n",
    "     @where ExpRandNum > 0.5\n",
    "     @select {i.ID, i.Category, i.IndVar, i.RandNum, ExpRandNum}\n",
    "     @collect DataFrame\n",
    "end"
   ]
  },
  {
   "cell_type": "markdown",
   "metadata": {},
   "source": [
    "The last thing we'll cover is doing join operations in Query.jl. We'll create another dataframe to join with __dfa__."
   ]
  },
  {
   "cell_type": "code",
   "execution_count": null,
   "metadata": {},
   "outputs": [],
   "source": [
    "N = 15\n",
    "dfb = DataFrame(IDNum = 1:N, \n",
    "                Color = [\"blue\", \"orange\", \"orange\", \"black\", \"black\", \"red\", \"white\", \"purple\", \"yellow\",\n",
    "                         \"green\", \"brown\", \"grey\", \"blue\", \"red\", \"white\"]);"
   ]
  },
  {
   "cell_type": "markdown",
   "metadata": {},
   "source": [
    "We'll do a simple inner join on _ID_ from __dfa__ with _IDNum_ from  __dfb__."
   ]
  },
  {
   "cell_type": "code",
   "execution_count": null,
   "metadata": {},
   "outputs": [],
   "source": [
    "ex = @from i in dfa begin\n",
    "     @join j in dfb on i.ID equals j.IDNum\n",
    "     @select {SubjID = j.IDNum, i.Category, i.IndVar, j.Color}\n",
    "     @collect DataFrame\n",
    "end"
   ]
  },
  {
   "cell_type": "markdown",
   "metadata": {},
   "source": [
    "In this lesson we covered:\n",
    "* Using Query.jl to execute query expressions on dataframes."
   ]
  },
  {
   "cell_type": "code",
   "execution_count": null,
   "metadata": {},
   "outputs": [],
   "source": []
  }
 ],
 "metadata": {
  "@webio": {
   "lastCommId": null,
   "lastKernelId": null
  },
  "kernelspec": {
   "display_name": "Julia 1.1.1",
   "language": "julia",
   "name": "julia-1.1"
  },
  "language_info": {
   "file_extension": ".jl",
   "mimetype": "application/julia",
   "name": "julia",
   "version": "1.1.1"
  }
 },
 "nbformat": 4,
 "nbformat_minor": 2
}
