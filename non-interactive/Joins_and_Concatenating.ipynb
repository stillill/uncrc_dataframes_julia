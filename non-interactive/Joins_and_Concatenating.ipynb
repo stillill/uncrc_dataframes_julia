{
 "cells": [
  {
   "cell_type": "markdown",
   "metadata": {},
   "source": [
    "# III. Joining and Concatenating"
   ]
  },
  {
   "cell_type": "markdown",
   "metadata": {},
   "source": [
    "There may be cases when you have data stored in separate datasets and you want to combine these datasets in a way that will allow you to work with all of the data (not just each dataset separately). It's often the case that the separate datasets have a __column variable in common__ which we refer to as the key. The key is a variable you can use to combine the separate datasets into a single dataset, i.e. it is the variable you will join on. In oher cases you may not need to merge on a key but rather just concatenate columns vertically or horizontally."
   ]
  },
  {
   "cell_type": "markdown",
   "metadata": {},
   "source": [
    "### Joins:\n",
    "\n",
    "There are four commonly used joins we'll be going over using the DataFrames package: **inner**, **left**, **right**, and **outer**.\n",
    "\n",
    "\n",
    "* Inner join: The resultant dataframe will combine rows from both dataframes __ONLY__ for values of the key that exist in both tables. <br/>\n",
    "<br/>\n",
    "* Left join: The resultant dataframe will keep __ONLY__ the rows from the first dataframe whether or not the value of the key exists in the second dataframe. If the key value exists in the second table but not the first then it will not be kept in the resultant dataframe. <br/>\n",
    "<br/>\n",
    "* Right join: The resultant dataframe will keep __ONLY__ the rows from the second dataframe whether or not the value of the key exists in the first dataframe. If the key value exists in the first table but not the second then it will not be kept in the resultant dataframe. <br/>\n",
    "<br/>\n",
    "* Outer join: The resultant datframe will keep __ALL__ rows from both the first and second dataframes. <br/>\n",
    "<br/>\n",
    "* Anti join: The resultant datframe will keep those rows for key values that exist in the first table but __NOT__ the second table. The only columns in the resultant dataframe will be those form the first table.\n",
    "\n",
    "\n",
    "Other joins, that we won't discuss, include semi and cross joins. "
   ]
  },
  {
   "cell_type": "markdown",
   "metadata": {},
   "source": [
    "Now let's create some dataframes so we can see how these joins work in practice."
   ]
  },
  {
   "cell_type": "code",
   "execution_count": 1,
   "metadata": {},
   "outputs": [],
   "source": [
    "using DataFrames, Dates"
   ]
  },
  {
   "cell_type": "code",
   "execution_count": 2,
   "metadata": {},
   "outputs": [
    {
     "data": {
      "text/html": [
       "<table class=\"data-frame\"><thead><tr><th></th><th>A</th><th>B</th><th>C</th><th>ID</th></tr><tr><th></th><th>Int64</th><th>Int64</th><th>Date</th><th>Int64</th></tr></thead><tbody><p>10 rows × 4 columns</p><tr><th>1</th><td>0</td><td>100</td><td>2019-08-31</td><td>1234</td></tr><tr><th>2</th><td>1</td><td>300</td><td>2017-06-02</td><td>89</td></tr><tr><th>3</th><td>0</td><td>200</td><td>2015-05-05</td><td>3412</td></tr><tr><th>4</th><td>1</td><td>400</td><td>2014-10-08</td><td>578</td></tr><tr><th>5</th><td>1</td><td>200</td><td>2013-05-10</td><td>998</td></tr><tr><th>6</th><td>1</td><td>300</td><td>2012-04-02</td><td>124</td></tr><tr><th>7</th><td>1</td><td>200</td><td>2011-08-02</td><td>665</td></tr><tr><th>8</th><td>0</td><td>800</td><td>2009-10-11</td><td>8881</td></tr><tr><th>9</th><td>1</td><td>1000</td><td>2008-10-02</td><td>901</td></tr><tr><th>10</th><td>0</td><td>900</td><td>2007-06-06</td><td>12</td></tr></tbody></table>"
      ],
      "text/latex": [
       "\\begin{tabular}{r|cccc}\n",
       "\t& A & B & C & ID\\\\\n",
       "\t\\hline\n",
       "\t& Int64 & Int64 & Date & Int64\\\\\n",
       "\t\\hline\n",
       "\t1 & 0 & 100 & 2019-08-31 & 1234 \\\\\n",
       "\t2 & 1 & 300 & 2017-06-02 & 89 \\\\\n",
       "\t3 & 0 & 200 & 2015-05-05 & 3412 \\\\\n",
       "\t4 & 1 & 400 & 2014-10-08 & 578 \\\\\n",
       "\t5 & 1 & 200 & 2013-05-10 & 998 \\\\\n",
       "\t6 & 1 & 300 & 2012-04-02 & 124 \\\\\n",
       "\t7 & 1 & 200 & 2011-08-02 & 665 \\\\\n",
       "\t8 & 0 & 800 & 2009-10-11 & 8881 \\\\\n",
       "\t9 & 1 & 1000 & 2008-10-02 & 901 \\\\\n",
       "\t10 & 0 & 900 & 2007-06-06 & 12 \\\\\n",
       "\\end{tabular}\n"
      ],
      "text/plain": [
       "10×4 DataFrame\n",
       "│ Row │ A     │ B     │ C          │ ID    │\n",
       "│     │ \u001b[90mInt64\u001b[39m │ \u001b[90mInt64\u001b[39m │ \u001b[90mDate\u001b[39m       │ \u001b[90mInt64\u001b[39m │\n",
       "├─────┼───────┼───────┼────────────┼───────┤\n",
       "│ 1   │ 0     │ 100   │ 2019-08-31 │ 1234  │\n",
       "│ 2   │ 1     │ 300   │ 2017-06-02 │ 89    │\n",
       "│ 3   │ 0     │ 200   │ 2015-05-05 │ 3412  │\n",
       "│ 4   │ 1     │ 400   │ 2014-10-08 │ 578   │\n",
       "│ 5   │ 1     │ 200   │ 2013-05-10 │ 998   │\n",
       "│ 6   │ 1     │ 300   │ 2012-04-02 │ 124   │\n",
       "│ 7   │ 1     │ 200   │ 2011-08-02 │ 665   │\n",
       "│ 8   │ 0     │ 800   │ 2009-10-11 │ 8881  │\n",
       "│ 9   │ 1     │ 1000  │ 2008-10-02 │ 901   │\n",
       "│ 10  │ 0     │ 900   │ 2007-06-06 │ 12    │"
      ]
     },
     "execution_count": 2,
     "metadata": {},
     "output_type": "execute_result"
    }
   ],
   "source": [
    "#create dataframes\n",
    "\n",
    "df1 = DataFrame(A = [0, 1, 0, 1, 1, 1, 1, 0, 1, 0], \n",
    "                B = [100, 300, 200, 400, 200, 300, 200, 800, 1000, 900], \n",
    "                C = [Date(2019, 8, 31), Date(2017, 6, 2), Date(2015, 5, 5), Date(2014, 10, 8), Date(2013, 5, 10),\n",
    "                      Date(2012, 4, 2), Date(2011, 8, 2), Date(2009, 10, 11), Date(2008, 10, 2), Date(2007, 6,6)],\n",
    "                ID = [1234, 89, 3412, 578, 998, 124, 665, 8881, 901, 12] )"
   ]
  },
  {
   "cell_type": "code",
   "execution_count": 3,
   "metadata": {},
   "outputs": [
    {
     "data": {
      "text/html": [
       "<table class=\"data-frame\"><thead><tr><th></th><th>D</th><th>E</th><th>F</th><th>ID</th></tr><tr><th></th><th>Int64</th><th>Float64</th><th>Float64</th><th>Int64</th></tr></thead><tbody><p>11 rows × 4 columns</p><tr><th>1</th><td>2</td><td>3.2</td><td>-1.21653</td><td>1234</td></tr><tr><th>2</th><td>3</td><td>8.9</td><td>-0.310181</td><td>22</td></tr><tr><th>3</th><td>3</td><td>10.2</td><td>0.393614</td><td>3412</td></tr><tr><th>4</th><td>3</td><td>11.3</td><td>0.0325621</td><td>578</td></tr><tr><th>5</th><td>2</td><td>88.1</td><td>-0.872102</td><td>998</td></tr><tr><th>6</th><td>3</td><td>52.3</td><td>0.577471</td><td>124</td></tr><tr><th>7</th><td>2</td><td>15.2</td><td>0.806145</td><td>18</td></tr><tr><th>8</th><td>2</td><td>66.7</td><td>0.631664</td><td>8881</td></tr><tr><th>9</th><td>2</td><td>98.9</td><td>-0.975538</td><td>901</td></tr><tr><th>10</th><td>2</td><td>30.2</td><td>-0.819793</td><td>12</td></tr><tr><th>11</th><td>3</td><td>16.0</td><td>-0.969091</td><td>44</td></tr></tbody></table>"
      ],
      "text/latex": [
       "\\begin{tabular}{r|cccc}\n",
       "\t& D & E & F & ID\\\\\n",
       "\t\\hline\n",
       "\t& Int64 & Float64 & Float64 & Int64\\\\\n",
       "\t\\hline\n",
       "\t1 & 2 & 3.2 & -1.21653 & 1234 \\\\\n",
       "\t2 & 3 & 8.9 & -0.310181 & 22 \\\\\n",
       "\t3 & 3 & 10.2 & 0.393614 & 3412 \\\\\n",
       "\t4 & 3 & 11.3 & 0.0325621 & 578 \\\\\n",
       "\t5 & 2 & 88.1 & -0.872102 & 998 \\\\\n",
       "\t6 & 3 & 52.3 & 0.577471 & 124 \\\\\n",
       "\t7 & 2 & 15.2 & 0.806145 & 18 \\\\\n",
       "\t8 & 2 & 66.7 & 0.631664 & 8881 \\\\\n",
       "\t9 & 2 & 98.9 & -0.975538 & 901 \\\\\n",
       "\t10 & 2 & 30.2 & -0.819793 & 12 \\\\\n",
       "\t11 & 3 & 16.0 & -0.969091 & 44 \\\\\n",
       "\\end{tabular}\n"
      ],
      "text/plain": [
       "11×4 DataFrame\n",
       "│ Row │ D     │ E       │ F         │ ID    │\n",
       "│     │ \u001b[90mInt64\u001b[39m │ \u001b[90mFloat64\u001b[39m │ \u001b[90mFloat64\u001b[39m   │ \u001b[90mInt64\u001b[39m │\n",
       "├─────┼───────┼─────────┼───────────┼───────┤\n",
       "│ 1   │ 2     │ 3.2     │ -1.21653  │ 1234  │\n",
       "│ 2   │ 3     │ 8.9     │ -0.310181 │ 22    │\n",
       "│ 3   │ 3     │ 10.2    │ 0.393614  │ 3412  │\n",
       "│ 4   │ 3     │ 11.3    │ 0.0325621 │ 578   │\n",
       "│ 5   │ 2     │ 88.1    │ -0.872102 │ 998   │\n",
       "│ 6   │ 3     │ 52.3    │ 0.577471  │ 124   │\n",
       "│ 7   │ 2     │ 15.2    │ 0.806145  │ 18    │\n",
       "│ 8   │ 2     │ 66.7    │ 0.631664  │ 8881  │\n",
       "│ 9   │ 2     │ 98.9    │ -0.975538 │ 901   │\n",
       "│ 10  │ 2     │ 30.2    │ -0.819793 │ 12    │\n",
       "│ 11  │ 3     │ 16.0    │ -0.969091 │ 44    │"
      ]
     },
     "execution_count": 3,
     "metadata": {},
     "output_type": "execute_result"
    }
   ],
   "source": [
    "df2 = DataFrame(D = [2, 3, 3, 3, 2, 3, 2, 2, 2, 2, 3], \n",
    "                E = [3.2, 8.9, 10.2, 11.3, 88.1, 52.3, 15.2, 66.7, 98.9, 30.2, 16.0], \n",
    "                F = randn(11),\n",
    "                ID = [1234, 22, 3412, 578, 998, 124, 18, 8881, 901, 12, 44])"
   ]
  },
  {
   "cell_type": "markdown",
   "metadata": {},
   "source": [
    "Notice that the key variable is <i>ID</i>. So we'll be using the <i>ID</i> variable to do our joins."
   ]
  },
  {
   "cell_type": "markdown",
   "metadata": {},
   "source": [
    "To do joins you'll use the __join__ function. The basic syntax is\n",
    "\n",
    "`join(table1, table2, on = [key], kind = [jointype])`"
   ]
  },
  {
   "cell_type": "markdown",
   "metadata": {},
   "source": [
    "where __table1__ is the first table, __table2__ the second table, __[key]__ is the key variable, __[jointype]__ is the type of join."
   ]
  },
  {
   "cell_type": "markdown",
   "metadata": {},
   "source": [
    "#### Inner join."
   ]
  },
  {
   "cell_type": "markdown",
   "metadata": {},
   "source": [
    "Looking at the <i>ID</i> variable you can see that the dataframes have eight <i>ID</i> values in common: 1234, 3412, 578, 998 124, 8881, 901, and 12. Therefore, we'd expect the resultant dataframe of an inner join to have eight rows and seven columns: <i>ID</i> , <i>A</i>, <i>B</i>, <i>C</i>, <i>D</i>, <i>E</i>, and <i>F</i>."
   ]
  },
  {
   "cell_type": "code",
   "execution_count": 4,
   "metadata": {},
   "outputs": [
    {
     "name": "stderr",
     "output_type": "stream",
     "text": [
      "┌ Warning: inner joining data frames using join is deprecated, use `innerjoin(df1, df2, on=ID, makeunique=false, validate=(false, false))` instead\n",
      "│   caller = ip:0x0\n",
      "└ @ Core :-1\n"
     ]
    },
    {
     "data": {
      "text/html": [
       "<table class=\"data-frame\"><thead><tr><th></th><th>A</th><th>B</th><th>C</th><th>ID</th><th>D</th><th>E</th><th>F</th></tr><tr><th></th><th>Int64</th><th>Int64</th><th>Date</th><th>Int64</th><th>Int64</th><th>Float64</th><th>Float64</th></tr></thead><tbody><p>8 rows × 7 columns</p><tr><th>1</th><td>0</td><td>100</td><td>2019-08-31</td><td>1234</td><td>2</td><td>3.2</td><td>-1.21653</td></tr><tr><th>2</th><td>0</td><td>200</td><td>2015-05-05</td><td>3412</td><td>3</td><td>10.2</td><td>0.393614</td></tr><tr><th>3</th><td>1</td><td>400</td><td>2014-10-08</td><td>578</td><td>3</td><td>11.3</td><td>0.0325621</td></tr><tr><th>4</th><td>1</td><td>200</td><td>2013-05-10</td><td>998</td><td>2</td><td>88.1</td><td>-0.872102</td></tr><tr><th>5</th><td>1</td><td>300</td><td>2012-04-02</td><td>124</td><td>3</td><td>52.3</td><td>0.577471</td></tr><tr><th>6</th><td>0</td><td>800</td><td>2009-10-11</td><td>8881</td><td>2</td><td>66.7</td><td>0.631664</td></tr><tr><th>7</th><td>1</td><td>1000</td><td>2008-10-02</td><td>901</td><td>2</td><td>98.9</td><td>-0.975538</td></tr><tr><th>8</th><td>0</td><td>900</td><td>2007-06-06</td><td>12</td><td>2</td><td>30.2</td><td>-0.819793</td></tr></tbody></table>"
      ],
      "text/latex": [
       "\\begin{tabular}{r|ccccccc}\n",
       "\t& A & B & C & ID & D & E & F\\\\\n",
       "\t\\hline\n",
       "\t& Int64 & Int64 & Date & Int64 & Int64 & Float64 & Float64\\\\\n",
       "\t\\hline\n",
       "\t1 & 0 & 100 & 2019-08-31 & 1234 & 2 & 3.2 & -1.21653 \\\\\n",
       "\t2 & 0 & 200 & 2015-05-05 & 3412 & 3 & 10.2 & 0.393614 \\\\\n",
       "\t3 & 1 & 400 & 2014-10-08 & 578 & 3 & 11.3 & 0.0325621 \\\\\n",
       "\t4 & 1 & 200 & 2013-05-10 & 998 & 2 & 88.1 & -0.872102 \\\\\n",
       "\t5 & 1 & 300 & 2012-04-02 & 124 & 3 & 52.3 & 0.577471 \\\\\n",
       "\t6 & 0 & 800 & 2009-10-11 & 8881 & 2 & 66.7 & 0.631664 \\\\\n",
       "\t7 & 1 & 1000 & 2008-10-02 & 901 & 2 & 98.9 & -0.975538 \\\\\n",
       "\t8 & 0 & 900 & 2007-06-06 & 12 & 2 & 30.2 & -0.819793 \\\\\n",
       "\\end{tabular}\n"
      ],
      "text/plain": [
       "8×7 DataFrame\n",
       "│ Row │ A     │ B     │ C          │ ID    │ D     │ E       │ F         │\n",
       "│     │ \u001b[90mInt64\u001b[39m │ \u001b[90mInt64\u001b[39m │ \u001b[90mDate\u001b[39m       │ \u001b[90mInt64\u001b[39m │ \u001b[90mInt64\u001b[39m │ \u001b[90mFloat64\u001b[39m │ \u001b[90mFloat64\u001b[39m   │\n",
       "├─────┼───────┼───────┼────────────┼───────┼───────┼─────────┼───────────┤\n",
       "│ 1   │ 0     │ 100   │ 2019-08-31 │ 1234  │ 2     │ 3.2     │ -1.21653  │\n",
       "│ 2   │ 0     │ 200   │ 2015-05-05 │ 3412  │ 3     │ 10.2    │ 0.393614  │\n",
       "│ 3   │ 1     │ 400   │ 2014-10-08 │ 578   │ 3     │ 11.3    │ 0.0325621 │\n",
       "│ 4   │ 1     │ 200   │ 2013-05-10 │ 998   │ 2     │ 88.1    │ -0.872102 │\n",
       "│ 5   │ 1     │ 300   │ 2012-04-02 │ 124   │ 3     │ 52.3    │ 0.577471  │\n",
       "│ 6   │ 0     │ 800   │ 2009-10-11 │ 8881  │ 2     │ 66.7    │ 0.631664  │\n",
       "│ 7   │ 1     │ 1000  │ 2008-10-02 │ 901   │ 2     │ 98.9    │ -0.975538 │\n",
       "│ 8   │ 0     │ 900   │ 2007-06-06 │ 12    │ 2     │ 30.2    │ -0.819793 │"
      ]
     },
     "execution_count": 4,
     "metadata": {},
     "output_type": "execute_result"
    }
   ],
   "source": [
    "inner_join = join(df1, df2, on = :ID, kind = :inner)"
   ]
  },
  {
   "cell_type": "markdown",
   "metadata": {},
   "source": [
    "If you wanted to rearrange the columns so that the <i>ID</i> column variable is first you can use  __permutecols!__."
   ]
  },
  {
   "cell_type": "code",
   "execution_count": 5,
   "metadata": {},
   "outputs": [
    {
     "name": "stderr",
     "output_type": "stream",
     "text": [
      "┌ Warning: `permutecols!(df::DataFrame, p::AbstractVector)` is deprecated, use `select!(df, p)` instead.\n",
      "│   caller = top-level scope at In[5]:1\n",
      "└ @ Core In[5]:1\n"
     ]
    },
    {
     "data": {
      "text/html": [
       "<table class=\"data-frame\"><thead><tr><th></th><th>ID</th><th>A</th><th>B</th><th>C</th><th>D</th><th>E</th><th>F</th></tr><tr><th></th><th>Int64</th><th>Int64</th><th>Int64</th><th>Date</th><th>Int64</th><th>Float64</th><th>Float64</th></tr></thead><tbody><p>8 rows × 7 columns</p><tr><th>1</th><td>1234</td><td>0</td><td>100</td><td>2019-08-31</td><td>2</td><td>3.2</td><td>-1.21653</td></tr><tr><th>2</th><td>3412</td><td>0</td><td>200</td><td>2015-05-05</td><td>3</td><td>10.2</td><td>0.393614</td></tr><tr><th>3</th><td>578</td><td>1</td><td>400</td><td>2014-10-08</td><td>3</td><td>11.3</td><td>0.0325621</td></tr><tr><th>4</th><td>998</td><td>1</td><td>200</td><td>2013-05-10</td><td>2</td><td>88.1</td><td>-0.872102</td></tr><tr><th>5</th><td>124</td><td>1</td><td>300</td><td>2012-04-02</td><td>3</td><td>52.3</td><td>0.577471</td></tr><tr><th>6</th><td>8881</td><td>0</td><td>800</td><td>2009-10-11</td><td>2</td><td>66.7</td><td>0.631664</td></tr><tr><th>7</th><td>901</td><td>1</td><td>1000</td><td>2008-10-02</td><td>2</td><td>98.9</td><td>-0.975538</td></tr><tr><th>8</th><td>12</td><td>0</td><td>900</td><td>2007-06-06</td><td>2</td><td>30.2</td><td>-0.819793</td></tr></tbody></table>"
      ],
      "text/latex": [
       "\\begin{tabular}{r|ccccccc}\n",
       "\t& ID & A & B & C & D & E & F\\\\\n",
       "\t\\hline\n",
       "\t& Int64 & Int64 & Int64 & Date & Int64 & Float64 & Float64\\\\\n",
       "\t\\hline\n",
       "\t1 & 1234 & 0 & 100 & 2019-08-31 & 2 & 3.2 & -1.21653 \\\\\n",
       "\t2 & 3412 & 0 & 200 & 2015-05-05 & 3 & 10.2 & 0.393614 \\\\\n",
       "\t3 & 578 & 1 & 400 & 2014-10-08 & 3 & 11.3 & 0.0325621 \\\\\n",
       "\t4 & 998 & 1 & 200 & 2013-05-10 & 2 & 88.1 & -0.872102 \\\\\n",
       "\t5 & 124 & 1 & 300 & 2012-04-02 & 3 & 52.3 & 0.577471 \\\\\n",
       "\t6 & 8881 & 0 & 800 & 2009-10-11 & 2 & 66.7 & 0.631664 \\\\\n",
       "\t7 & 901 & 1 & 1000 & 2008-10-02 & 2 & 98.9 & -0.975538 \\\\\n",
       "\t8 & 12 & 0 & 900 & 2007-06-06 & 2 & 30.2 & -0.819793 \\\\\n",
       "\\end{tabular}\n"
      ],
      "text/plain": [
       "8×7 DataFrame\n",
       "│ Row │ ID    │ A     │ B     │ C          │ D     │ E       │ F         │\n",
       "│     │ \u001b[90mInt64\u001b[39m │ \u001b[90mInt64\u001b[39m │ \u001b[90mInt64\u001b[39m │ \u001b[90mDate\u001b[39m       │ \u001b[90mInt64\u001b[39m │ \u001b[90mFloat64\u001b[39m │ \u001b[90mFloat64\u001b[39m   │\n",
       "├─────┼───────┼───────┼───────┼────────────┼───────┼─────────┼───────────┤\n",
       "│ 1   │ 1234  │ 0     │ 100   │ 2019-08-31 │ 2     │ 3.2     │ -1.21653  │\n",
       "│ 2   │ 3412  │ 0     │ 200   │ 2015-05-05 │ 3     │ 10.2    │ 0.393614  │\n",
       "│ 3   │ 578   │ 1     │ 400   │ 2014-10-08 │ 3     │ 11.3    │ 0.0325621 │\n",
       "│ 4   │ 998   │ 1     │ 200   │ 2013-05-10 │ 2     │ 88.1    │ -0.872102 │\n",
       "│ 5   │ 124   │ 1     │ 300   │ 2012-04-02 │ 3     │ 52.3    │ 0.577471  │\n",
       "│ 6   │ 8881  │ 0     │ 800   │ 2009-10-11 │ 2     │ 66.7    │ 0.631664  │\n",
       "│ 7   │ 901   │ 1     │ 1000  │ 2008-10-02 │ 2     │ 98.9    │ -0.975538 │\n",
       "│ 8   │ 12    │ 0     │ 900   │ 2007-06-06 │ 2     │ 30.2    │ -0.819793 │"
      ]
     },
     "execution_count": 5,
     "metadata": {},
     "output_type": "execute_result"
    }
   ],
   "source": [
    "permutecols!(inner_join, [4, 1, 2, 3, 5, 6, 7])"
   ]
  },
  {
   "cell_type": "markdown",
   "metadata": {},
   "source": [
    "#### Left join."
   ]
  },
  {
   "cell_type": "markdown",
   "metadata": {},
   "source": [
    "You can see that the first dataframe **df1** has ten <i>ID</i> values. Therefore, we'd expect the resultant dataframe to have 10 rows and seven columns: <i>ID</i> , <i>A</i>, <i>B</i>, <i>C</i>, <i>D</i>, <i>E</i>, and  <i>F</i>.\n",
    "\n",
    "Notice that of the ten <i>ID</i> values in the first table, the two <i>ID</i> values 89 and 665 **do not exist** in the ID column for the second table **df2**. What do you expect to see for the <i>D</i>, <i>E</i>, and <i>F</i> variables for these two values of the key variable that exist in the left table but not the right?"
   ]
  },
  {
   "cell_type": "code",
   "execution_count": 6,
   "metadata": {},
   "outputs": [
    {
     "data": {
      "text/html": [
       "<table class=\"data-frame\"><thead><tr><th></th><th>A</th><th>B</th><th>C</th><th>ID</th><th>D</th><th>E</th><th>F</th></tr><tr><th></th><th>Int64</th><th>Int64</th><th>Date</th><th>Int64</th><th>Int64?</th><th>Float64?</th><th>Float64?</th></tr></thead><tbody><p>10 rows × 7 columns</p><tr><th>1</th><td>0</td><td>100</td><td>2019-08-31</td><td>1234</td><td>2</td><td>3.2</td><td>-1.21653</td></tr><tr><th>2</th><td>1</td><td>300</td><td>2017-06-02</td><td>89</td><td><em>missing</em></td><td><em>missing</em></td><td><em>missing</em></td></tr><tr><th>3</th><td>0</td><td>200</td><td>2015-05-05</td><td>3412</td><td>3</td><td>10.2</td><td>0.393614</td></tr><tr><th>4</th><td>1</td><td>400</td><td>2014-10-08</td><td>578</td><td>3</td><td>11.3</td><td>0.0325621</td></tr><tr><th>5</th><td>1</td><td>200</td><td>2013-05-10</td><td>998</td><td>2</td><td>88.1</td><td>-0.872102</td></tr><tr><th>6</th><td>1</td><td>300</td><td>2012-04-02</td><td>124</td><td>3</td><td>52.3</td><td>0.577471</td></tr><tr><th>7</th><td>1</td><td>200</td><td>2011-08-02</td><td>665</td><td><em>missing</em></td><td><em>missing</em></td><td><em>missing</em></td></tr><tr><th>8</th><td>0</td><td>800</td><td>2009-10-11</td><td>8881</td><td>2</td><td>66.7</td><td>0.631664</td></tr><tr><th>9</th><td>1</td><td>1000</td><td>2008-10-02</td><td>901</td><td>2</td><td>98.9</td><td>-0.975538</td></tr><tr><th>10</th><td>0</td><td>900</td><td>2007-06-06</td><td>12</td><td>2</td><td>30.2</td><td>-0.819793</td></tr></tbody></table>"
      ],
      "text/latex": [
       "\\begin{tabular}{r|ccccccc}\n",
       "\t& A & B & C & ID & D & E & F\\\\\n",
       "\t\\hline\n",
       "\t& Int64 & Int64 & Date & Int64 & Int64? & Float64? & Float64?\\\\\n",
       "\t\\hline\n",
       "\t1 & 0 & 100 & 2019-08-31 & 1234 & 2 & 3.2 & -1.21653 \\\\\n",
       "\t2 & 1 & 300 & 2017-06-02 & 89 & \\emph{missing} & \\emph{missing} & \\emph{missing} \\\\\n",
       "\t3 & 0 & 200 & 2015-05-05 & 3412 & 3 & 10.2 & 0.393614 \\\\\n",
       "\t4 & 1 & 400 & 2014-10-08 & 578 & 3 & 11.3 & 0.0325621 \\\\\n",
       "\t5 & 1 & 200 & 2013-05-10 & 998 & 2 & 88.1 & -0.872102 \\\\\n",
       "\t6 & 1 & 300 & 2012-04-02 & 124 & 3 & 52.3 & 0.577471 \\\\\n",
       "\t7 & 1 & 200 & 2011-08-02 & 665 & \\emph{missing} & \\emph{missing} & \\emph{missing} \\\\\n",
       "\t8 & 0 & 800 & 2009-10-11 & 8881 & 2 & 66.7 & 0.631664 \\\\\n",
       "\t9 & 1 & 1000 & 2008-10-02 & 901 & 2 & 98.9 & -0.975538 \\\\\n",
       "\t10 & 0 & 900 & 2007-06-06 & 12 & 2 & 30.2 & -0.819793 \\\\\n",
       "\\end{tabular}\n"
      ],
      "text/plain": [
       "10×7 DataFrame\n",
       "│ Row │ A     │ B     │ C          │ ID    │ D       │ E        │ F         │\n",
       "│     │ \u001b[90mInt64\u001b[39m │ \u001b[90mInt64\u001b[39m │ \u001b[90mDate\u001b[39m       │ \u001b[90mInt64\u001b[39m │ \u001b[90mInt64?\u001b[39m  │ \u001b[90mFloat64?\u001b[39m │ \u001b[90mFloat64?\u001b[39m  │\n",
       "├─────┼───────┼───────┼────────────┼───────┼─────────┼──────────┼───────────┤\n",
       "│ 1   │ 0     │ 100   │ 2019-08-31 │ 1234  │ 2       │ 3.2      │ -1.21653  │\n",
       "│ 2   │ 1     │ 300   │ 2017-06-02 │ 89    │ \u001b[90mmissing\u001b[39m │ \u001b[90mmissing\u001b[39m  │ \u001b[90mmissing\u001b[39m   │\n",
       "│ 3   │ 0     │ 200   │ 2015-05-05 │ 3412  │ 3       │ 10.2     │ 0.393614  │\n",
       "│ 4   │ 1     │ 400   │ 2014-10-08 │ 578   │ 3       │ 11.3     │ 0.0325621 │\n",
       "│ 5   │ 1     │ 200   │ 2013-05-10 │ 998   │ 2       │ 88.1     │ -0.872102 │\n",
       "│ 6   │ 1     │ 300   │ 2012-04-02 │ 124   │ 3       │ 52.3     │ 0.577471  │\n",
       "│ 7   │ 1     │ 200   │ 2011-08-02 │ 665   │ \u001b[90mmissing\u001b[39m │ \u001b[90mmissing\u001b[39m  │ \u001b[90mmissing\u001b[39m   │\n",
       "│ 8   │ 0     │ 800   │ 2009-10-11 │ 8881  │ 2       │ 66.7     │ 0.631664  │\n",
       "│ 9   │ 1     │ 1000  │ 2008-10-02 │ 901   │ 2       │ 98.9     │ -0.975538 │\n",
       "│ 10  │ 0     │ 900   │ 2007-06-06 │ 12    │ 2       │ 30.2     │ -0.819793 │"
      ]
     },
     "execution_count": 6,
     "metadata": {},
     "output_type": "execute_result"
    }
   ],
   "source": [
    "left_join = join(df1, df2, on = :ID, kind = :left)"
   ]
  },
  {
   "cell_type": "markdown",
   "metadata": {},
   "source": [
    "#### Right join."
   ]
  },
  {
   "cell_type": "markdown",
   "metadata": {},
   "source": [
    "You can see that the second dataframe has 11 <i>ID</i> values. Therefore, we'd expect the resultant dataframe to have 11 rows and seven columns: <i>ID</i> , <i>A</i>, <i>B</i>, <i>C</i>, <i>D</i>, <i>E</i>, and  <i>F</i>.\n",
    "\n",
    "Notice that of the 11 <i>ID</i> values in the second table, the three <i>ID</i> values 22, 18, and 44 **do not exist** in the <i>ID</i> column for the left table. What do you expect to see for the <i>A</i>, <i>B</i>, and <i>C</i> variables for these two values of the key variable that exist in the right table but not the left?"
   ]
  },
  {
   "cell_type": "code",
   "execution_count": 7,
   "metadata": {},
   "outputs": [
    {
     "data": {
      "text/html": [
       "<table class=\"data-frame\"><thead><tr><th></th><th>A</th><th>B</th><th>C</th><th>ID</th><th>D</th><th>E</th><th>F</th></tr><tr><th></th><th>Int64?</th><th>Int64?</th><th>Date?</th><th>Int64</th><th>Int64</th><th>Float64</th><th>Float64</th></tr></thead><tbody><p>11 rows × 7 columns</p><tr><th>1</th><td>0</td><td>100</td><td>2019-08-31</td><td>1234</td><td>2</td><td>3.2</td><td>-1.21653</td></tr><tr><th>2</th><td>0</td><td>200</td><td>2015-05-05</td><td>3412</td><td>3</td><td>10.2</td><td>0.393614</td></tr><tr><th>3</th><td>1</td><td>400</td><td>2014-10-08</td><td>578</td><td>3</td><td>11.3</td><td>0.0325621</td></tr><tr><th>4</th><td>1</td><td>200</td><td>2013-05-10</td><td>998</td><td>2</td><td>88.1</td><td>-0.872102</td></tr><tr><th>5</th><td>1</td><td>300</td><td>2012-04-02</td><td>124</td><td>3</td><td>52.3</td><td>0.577471</td></tr><tr><th>6</th><td>0</td><td>800</td><td>2009-10-11</td><td>8881</td><td>2</td><td>66.7</td><td>0.631664</td></tr><tr><th>7</th><td>1</td><td>1000</td><td>2008-10-02</td><td>901</td><td>2</td><td>98.9</td><td>-0.975538</td></tr><tr><th>8</th><td>0</td><td>900</td><td>2007-06-06</td><td>12</td><td>2</td><td>30.2</td><td>-0.819793</td></tr><tr><th>9</th><td><em>missing</em></td><td><em>missing</em></td><td><em>missing</em></td><td>22</td><td>3</td><td>8.9</td><td>-0.310181</td></tr><tr><th>10</th><td><em>missing</em></td><td><em>missing</em></td><td><em>missing</em></td><td>18</td><td>2</td><td>15.2</td><td>0.806145</td></tr><tr><th>11</th><td><em>missing</em></td><td><em>missing</em></td><td><em>missing</em></td><td>44</td><td>3</td><td>16.0</td><td>-0.969091</td></tr></tbody></table>"
      ],
      "text/latex": [
       "\\begin{tabular}{r|ccccccc}\n",
       "\t& A & B & C & ID & D & E & F\\\\\n",
       "\t\\hline\n",
       "\t& Int64? & Int64? & Date? & Int64 & Int64 & Float64 & Float64\\\\\n",
       "\t\\hline\n",
       "\t1 & 0 & 100 & 2019-08-31 & 1234 & 2 & 3.2 & -1.21653 \\\\\n",
       "\t2 & 0 & 200 & 2015-05-05 & 3412 & 3 & 10.2 & 0.393614 \\\\\n",
       "\t3 & 1 & 400 & 2014-10-08 & 578 & 3 & 11.3 & 0.0325621 \\\\\n",
       "\t4 & 1 & 200 & 2013-05-10 & 998 & 2 & 88.1 & -0.872102 \\\\\n",
       "\t5 & 1 & 300 & 2012-04-02 & 124 & 3 & 52.3 & 0.577471 \\\\\n",
       "\t6 & 0 & 800 & 2009-10-11 & 8881 & 2 & 66.7 & 0.631664 \\\\\n",
       "\t7 & 1 & 1000 & 2008-10-02 & 901 & 2 & 98.9 & -0.975538 \\\\\n",
       "\t8 & 0 & 900 & 2007-06-06 & 12 & 2 & 30.2 & -0.819793 \\\\\n",
       "\t9 & \\emph{missing} & \\emph{missing} & \\emph{missing} & 22 & 3 & 8.9 & -0.310181 \\\\\n",
       "\t10 & \\emph{missing} & \\emph{missing} & \\emph{missing} & 18 & 2 & 15.2 & 0.806145 \\\\\n",
       "\t11 & \\emph{missing} & \\emph{missing} & \\emph{missing} & 44 & 3 & 16.0 & -0.969091 \\\\\n",
       "\\end{tabular}\n"
      ],
      "text/plain": [
       "11×7 DataFrame\n",
       "│ Row │ A       │ B       │ C          │ ID    │ D     │ E       │ F         │\n",
       "│     │ \u001b[90mInt64?\u001b[39m  │ \u001b[90mInt64?\u001b[39m  │ \u001b[90mDate?\u001b[39m      │ \u001b[90mInt64\u001b[39m │ \u001b[90mInt64\u001b[39m │ \u001b[90mFloat64\u001b[39m │ \u001b[90mFloat64\u001b[39m   │\n",
       "├─────┼─────────┼─────────┼────────────┼───────┼───────┼─────────┼───────────┤\n",
       "│ 1   │ 0       │ 100     │ 2019-08-31 │ 1234  │ 2     │ 3.2     │ -1.21653  │\n",
       "│ 2   │ 0       │ 200     │ 2015-05-05 │ 3412  │ 3     │ 10.2    │ 0.393614  │\n",
       "│ 3   │ 1       │ 400     │ 2014-10-08 │ 578   │ 3     │ 11.3    │ 0.0325621 │\n",
       "│ 4   │ 1       │ 200     │ 2013-05-10 │ 998   │ 2     │ 88.1    │ -0.872102 │\n",
       "│ 5   │ 1       │ 300     │ 2012-04-02 │ 124   │ 3     │ 52.3    │ 0.577471  │\n",
       "│ 6   │ 0       │ 800     │ 2009-10-11 │ 8881  │ 2     │ 66.7    │ 0.631664  │\n",
       "│ 7   │ 1       │ 1000    │ 2008-10-02 │ 901   │ 2     │ 98.9    │ -0.975538 │\n",
       "│ 8   │ 0       │ 900     │ 2007-06-06 │ 12    │ 2     │ 30.2    │ -0.819793 │\n",
       "│ 9   │ \u001b[90mmissing\u001b[39m │ \u001b[90mmissing\u001b[39m │ \u001b[90mmissing\u001b[39m    │ 22    │ 3     │ 8.9     │ -0.310181 │\n",
       "│ 10  │ \u001b[90mmissing\u001b[39m │ \u001b[90mmissing\u001b[39m │ \u001b[90mmissing\u001b[39m    │ 18    │ 2     │ 15.2    │ 0.806145  │\n",
       "│ 11  │ \u001b[90mmissing\u001b[39m │ \u001b[90mmissing\u001b[39m │ \u001b[90mmissing\u001b[39m    │ 44    │ 3     │ 16.0    │ -0.969091 │"
      ]
     },
     "execution_count": 7,
     "metadata": {},
     "output_type": "execute_result"
    }
   ],
   "source": [
    "right_join = join(df1, df2, on = :ID, kind = :right)"
   ]
  },
  {
   "cell_type": "markdown",
   "metadata": {},
   "source": [
    "#### Outer join."
   ]
  },
  {
   "cell_type": "markdown",
   "metadata": {},
   "source": [
    "With this type of join we know that all rows of data between the two tables will be kept. How many rows do you expect the resultant dataframe to have?"
   ]
  },
  {
   "cell_type": "markdown",
   "metadata": {},
   "source": [
    "The two tables have eight key values in common, **df1** has two key values that **df2** does not have, and **df2** has three key values that **df1** does not have. As a result, the resultant dataframe will have 13 (8+2+3) total rows and seven columns."
   ]
  },
  {
   "cell_type": "code",
   "execution_count": 8,
   "metadata": {},
   "outputs": [
    {
     "data": {
      "text/html": [
       "<table class=\"data-frame\"><thead><tr><th></th><th>A</th><th>B</th><th>C</th><th>ID</th><th>D</th><th>E</th><th>F</th></tr><tr><th></th><th>Int64?</th><th>Int64?</th><th>Date?</th><th>Int64</th><th>Int64?</th><th>Float64?</th><th>Float64?</th></tr></thead><tbody><p>13 rows × 7 columns</p><tr><th>1</th><td>0</td><td>100</td><td>2019-08-31</td><td>1234</td><td>2</td><td>3.2</td><td>-1.21653</td></tr><tr><th>2</th><td>1</td><td>300</td><td>2017-06-02</td><td>89</td><td><em>missing</em></td><td><em>missing</em></td><td><em>missing</em></td></tr><tr><th>3</th><td>0</td><td>200</td><td>2015-05-05</td><td>3412</td><td>3</td><td>10.2</td><td>0.393614</td></tr><tr><th>4</th><td>1</td><td>400</td><td>2014-10-08</td><td>578</td><td>3</td><td>11.3</td><td>0.0325621</td></tr><tr><th>5</th><td>1</td><td>200</td><td>2013-05-10</td><td>998</td><td>2</td><td>88.1</td><td>-0.872102</td></tr><tr><th>6</th><td>1</td><td>300</td><td>2012-04-02</td><td>124</td><td>3</td><td>52.3</td><td>0.577471</td></tr><tr><th>7</th><td>1</td><td>200</td><td>2011-08-02</td><td>665</td><td><em>missing</em></td><td><em>missing</em></td><td><em>missing</em></td></tr><tr><th>8</th><td>0</td><td>800</td><td>2009-10-11</td><td>8881</td><td>2</td><td>66.7</td><td>0.631664</td></tr><tr><th>9</th><td>1</td><td>1000</td><td>2008-10-02</td><td>901</td><td>2</td><td>98.9</td><td>-0.975538</td></tr><tr><th>10</th><td>0</td><td>900</td><td>2007-06-06</td><td>12</td><td>2</td><td>30.2</td><td>-0.819793</td></tr><tr><th>11</th><td><em>missing</em></td><td><em>missing</em></td><td><em>missing</em></td><td>22</td><td>3</td><td>8.9</td><td>-0.310181</td></tr><tr><th>12</th><td><em>missing</em></td><td><em>missing</em></td><td><em>missing</em></td><td>18</td><td>2</td><td>15.2</td><td>0.806145</td></tr><tr><th>13</th><td><em>missing</em></td><td><em>missing</em></td><td><em>missing</em></td><td>44</td><td>3</td><td>16.0</td><td>-0.969091</td></tr></tbody></table>"
      ],
      "text/latex": [
       "\\begin{tabular}{r|ccccccc}\n",
       "\t& A & B & C & ID & D & E & F\\\\\n",
       "\t\\hline\n",
       "\t& Int64? & Int64? & Date? & Int64 & Int64? & Float64? & Float64?\\\\\n",
       "\t\\hline\n",
       "\t1 & 0 & 100 & 2019-08-31 & 1234 & 2 & 3.2 & -1.21653 \\\\\n",
       "\t2 & 1 & 300 & 2017-06-02 & 89 & \\emph{missing} & \\emph{missing} & \\emph{missing} \\\\\n",
       "\t3 & 0 & 200 & 2015-05-05 & 3412 & 3 & 10.2 & 0.393614 \\\\\n",
       "\t4 & 1 & 400 & 2014-10-08 & 578 & 3 & 11.3 & 0.0325621 \\\\\n",
       "\t5 & 1 & 200 & 2013-05-10 & 998 & 2 & 88.1 & -0.872102 \\\\\n",
       "\t6 & 1 & 300 & 2012-04-02 & 124 & 3 & 52.3 & 0.577471 \\\\\n",
       "\t7 & 1 & 200 & 2011-08-02 & 665 & \\emph{missing} & \\emph{missing} & \\emph{missing} \\\\\n",
       "\t8 & 0 & 800 & 2009-10-11 & 8881 & 2 & 66.7 & 0.631664 \\\\\n",
       "\t9 & 1 & 1000 & 2008-10-02 & 901 & 2 & 98.9 & -0.975538 \\\\\n",
       "\t10 & 0 & 900 & 2007-06-06 & 12 & 2 & 30.2 & -0.819793 \\\\\n",
       "\t11 & \\emph{missing} & \\emph{missing} & \\emph{missing} & 22 & 3 & 8.9 & -0.310181 \\\\\n",
       "\t12 & \\emph{missing} & \\emph{missing} & \\emph{missing} & 18 & 2 & 15.2 & 0.806145 \\\\\n",
       "\t13 & \\emph{missing} & \\emph{missing} & \\emph{missing} & 44 & 3 & 16.0 & -0.969091 \\\\\n",
       "\\end{tabular}\n"
      ],
      "text/plain": [
       "13×7 DataFrame. Omitted printing of 1 columns\n",
       "│ Row │ A       │ B       │ C          │ ID    │ D       │ E        │\n",
       "│     │ \u001b[90mInt64?\u001b[39m  │ \u001b[90mInt64?\u001b[39m  │ \u001b[90mDate?\u001b[39m      │ \u001b[90mInt64\u001b[39m │ \u001b[90mInt64?\u001b[39m  │ \u001b[90mFloat64?\u001b[39m │\n",
       "├─────┼─────────┼─────────┼────────────┼───────┼─────────┼──────────┤\n",
       "│ 1   │ 0       │ 100     │ 2019-08-31 │ 1234  │ 2       │ 3.2      │\n",
       "│ 2   │ 1       │ 300     │ 2017-06-02 │ 89    │ \u001b[90mmissing\u001b[39m │ \u001b[90mmissing\u001b[39m  │\n",
       "│ 3   │ 0       │ 200     │ 2015-05-05 │ 3412  │ 3       │ 10.2     │\n",
       "│ 4   │ 1       │ 400     │ 2014-10-08 │ 578   │ 3       │ 11.3     │\n",
       "│ 5   │ 1       │ 200     │ 2013-05-10 │ 998   │ 2       │ 88.1     │\n",
       "│ 6   │ 1       │ 300     │ 2012-04-02 │ 124   │ 3       │ 52.3     │\n",
       "│ 7   │ 1       │ 200     │ 2011-08-02 │ 665   │ \u001b[90mmissing\u001b[39m │ \u001b[90mmissing\u001b[39m  │\n",
       "│ 8   │ 0       │ 800     │ 2009-10-11 │ 8881  │ 2       │ 66.7     │\n",
       "│ 9   │ 1       │ 1000    │ 2008-10-02 │ 901   │ 2       │ 98.9     │\n",
       "│ 10  │ 0       │ 900     │ 2007-06-06 │ 12    │ 2       │ 30.2     │\n",
       "│ 11  │ \u001b[90mmissing\u001b[39m │ \u001b[90mmissing\u001b[39m │ \u001b[90mmissing\u001b[39m    │ 22    │ 3       │ 8.9      │\n",
       "│ 12  │ \u001b[90mmissing\u001b[39m │ \u001b[90mmissing\u001b[39m │ \u001b[90mmissing\u001b[39m    │ 18    │ 2       │ 15.2     │\n",
       "│ 13  │ \u001b[90mmissing\u001b[39m │ \u001b[90mmissing\u001b[39m │ \u001b[90mmissing\u001b[39m    │ 44    │ 3       │ 16.0     │"
      ]
     },
     "execution_count": 8,
     "metadata": {},
     "output_type": "execute_result"
    }
   ],
   "source": [
    "outer_join = join(df1, df2, on = :ID, kind = :outer)"
   ]
  },
  {
   "cell_type": "markdown",
   "metadata": {},
   "source": [
    "#### Anti join."
   ]
  },
  {
   "cell_type": "markdown",
   "metadata": {},
   "source": [
    "With this type of join you will keep rows and columns of data from the first table for those key values that exist __ONLY__ in the first table. So if a key value exists in the first table __AND__ the second table that data will __NOT__ be in the resultant dataframe."
   ]
  },
  {
   "cell_type": "markdown",
   "metadata": {},
   "source": [
    "If we do an anti join where **df1** is the first table and **df2** is the second table how many rows of data will be in the resultant dataframe? We know **df1** only has two key values (89 and 665) that are not in **df2** so in this case the resultant dataframe will have two rows of data."
   ]
  },
  {
   "cell_type": "code",
   "execution_count": 9,
   "metadata": {},
   "outputs": [
    {
     "data": {
      "text/html": [
       "<table class=\"data-frame\"><thead><tr><th></th><th>A</th><th>B</th><th>C</th><th>ID</th></tr><tr><th></th><th>Int64</th><th>Int64</th><th>Date</th><th>Int64</th></tr></thead><tbody><p>2 rows × 4 columns</p><tr><th>1</th><td>1</td><td>300</td><td>2017-06-02</td><td>89</td></tr><tr><th>2</th><td>1</td><td>200</td><td>2011-08-02</td><td>665</td></tr></tbody></table>"
      ],
      "text/latex": [
       "\\begin{tabular}{r|cccc}\n",
       "\t& A & B & C & ID\\\\\n",
       "\t\\hline\n",
       "\t& Int64 & Int64 & Date & Int64\\\\\n",
       "\t\\hline\n",
       "\t1 & 1 & 300 & 2017-06-02 & 89 \\\\\n",
       "\t2 & 1 & 200 & 2011-08-02 & 665 \\\\\n",
       "\\end{tabular}\n"
      ],
      "text/plain": [
       "2×4 DataFrame\n",
       "│ Row │ A     │ B     │ C          │ ID    │\n",
       "│     │ \u001b[90mInt64\u001b[39m │ \u001b[90mInt64\u001b[39m │ \u001b[90mDate\u001b[39m       │ \u001b[90mInt64\u001b[39m │\n",
       "├─────┼───────┼───────┼────────────┼───────┤\n",
       "│ 1   │ 1     │ 300   │ 2017-06-02 │ 89    │\n",
       "│ 2   │ 1     │ 200   │ 2011-08-02 │ 665   │"
      ]
     },
     "execution_count": 9,
     "metadata": {},
     "output_type": "execute_result"
    }
   ],
   "source": [
    "anti_join_1 = join(df1, df2, on = :ID, kind = :anti)"
   ]
  },
  {
   "cell_type": "markdown",
   "metadata": {},
   "source": [
    "We can do an anti join where we use **df2** as the first table and **df1** as the second table. Again, we know **df2** only has three key values not in **df1** so the resultant dataframe will have three rows of data."
   ]
  },
  {
   "cell_type": "code",
   "execution_count": 10,
   "metadata": {},
   "outputs": [
    {
     "data": {
      "text/html": [
       "<table class=\"data-frame\"><thead><tr><th></th><th>D</th><th>E</th><th>F</th><th>ID</th></tr><tr><th></th><th>Int64</th><th>Float64</th><th>Float64</th><th>Int64</th></tr></thead><tbody><p>3 rows × 4 columns</p><tr><th>1</th><td>3</td><td>8.9</td><td>-0.310181</td><td>22</td></tr><tr><th>2</th><td>2</td><td>15.2</td><td>0.806145</td><td>18</td></tr><tr><th>3</th><td>3</td><td>16.0</td><td>-0.969091</td><td>44</td></tr></tbody></table>"
      ],
      "text/latex": [
       "\\begin{tabular}{r|cccc}\n",
       "\t& D & E & F & ID\\\\\n",
       "\t\\hline\n",
       "\t& Int64 & Float64 & Float64 & Int64\\\\\n",
       "\t\\hline\n",
       "\t1 & 3 & 8.9 & -0.310181 & 22 \\\\\n",
       "\t2 & 2 & 15.2 & 0.806145 & 18 \\\\\n",
       "\t3 & 3 & 16.0 & -0.969091 & 44 \\\\\n",
       "\\end{tabular}\n"
      ],
      "text/plain": [
       "3×4 DataFrame\n",
       "│ Row │ D     │ E       │ F         │ ID    │\n",
       "│     │ \u001b[90mInt64\u001b[39m │ \u001b[90mFloat64\u001b[39m │ \u001b[90mFloat64\u001b[39m   │ \u001b[90mInt64\u001b[39m │\n",
       "├─────┼───────┼─────────┼───────────┼───────┤\n",
       "│ 1   │ 3     │ 8.9     │ -0.310181 │ 22    │\n",
       "│ 2   │ 2     │ 15.2    │ 0.806145  │ 18    │\n",
       "│ 3   │ 3     │ 16.0    │ -0.969091 │ 44    │"
      ]
     },
     "execution_count": 10,
     "metadata": {},
     "output_type": "execute_result"
    }
   ],
   "source": [
    "anti_join_2 = join(df2, df1, on = :ID, kind = :anti)"
   ]
  },
  {
   "cell_type": "markdown",
   "metadata": {},
   "source": [
    "The key variables don't have to have the same name in each dataframe. Let's change the name of the <i>ID</i> variable in **df1** to be <i>ID1</i> and in **df2** to be <i>ID2</i>:"
   ]
  },
  {
   "cell_type": "code",
   "execution_count": 11,
   "metadata": {},
   "outputs": [
    {
     "data": {
      "text/html": [
       "<table class=\"data-frame\"><thead><tr><th></th><th>D</th><th>E</th><th>F</th><th>ID2</th></tr><tr><th></th><th>Int64</th><th>Float64</th><th>Float64</th><th>Int64</th></tr></thead><tbody><p>11 rows × 4 columns</p><tr><th>1</th><td>2</td><td>3.2</td><td>-1.21653</td><td>1234</td></tr><tr><th>2</th><td>3</td><td>8.9</td><td>-0.310181</td><td>22</td></tr><tr><th>3</th><td>3</td><td>10.2</td><td>0.393614</td><td>3412</td></tr><tr><th>4</th><td>3</td><td>11.3</td><td>0.0325621</td><td>578</td></tr><tr><th>5</th><td>2</td><td>88.1</td><td>-0.872102</td><td>998</td></tr><tr><th>6</th><td>3</td><td>52.3</td><td>0.577471</td><td>124</td></tr><tr><th>7</th><td>2</td><td>15.2</td><td>0.806145</td><td>18</td></tr><tr><th>8</th><td>2</td><td>66.7</td><td>0.631664</td><td>8881</td></tr><tr><th>9</th><td>2</td><td>98.9</td><td>-0.975538</td><td>901</td></tr><tr><th>10</th><td>2</td><td>30.2</td><td>-0.819793</td><td>12</td></tr><tr><th>11</th><td>3</td><td>16.0</td><td>-0.969091</td><td>44</td></tr></tbody></table>"
      ],
      "text/latex": [
       "\\begin{tabular}{r|cccc}\n",
       "\t& D & E & F & ID2\\\\\n",
       "\t\\hline\n",
       "\t& Int64 & Float64 & Float64 & Int64\\\\\n",
       "\t\\hline\n",
       "\t1 & 2 & 3.2 & -1.21653 & 1234 \\\\\n",
       "\t2 & 3 & 8.9 & -0.310181 & 22 \\\\\n",
       "\t3 & 3 & 10.2 & 0.393614 & 3412 \\\\\n",
       "\t4 & 3 & 11.3 & 0.0325621 & 578 \\\\\n",
       "\t5 & 2 & 88.1 & -0.872102 & 998 \\\\\n",
       "\t6 & 3 & 52.3 & 0.577471 & 124 \\\\\n",
       "\t7 & 2 & 15.2 & 0.806145 & 18 \\\\\n",
       "\t8 & 2 & 66.7 & 0.631664 & 8881 \\\\\n",
       "\t9 & 2 & 98.9 & -0.975538 & 901 \\\\\n",
       "\t10 & 2 & 30.2 & -0.819793 & 12 \\\\\n",
       "\t11 & 3 & 16.0 & -0.969091 & 44 \\\\\n",
       "\\end{tabular}\n"
      ],
      "text/plain": [
       "11×4 DataFrame\n",
       "│ Row │ D     │ E       │ F         │ ID2   │\n",
       "│     │ \u001b[90mInt64\u001b[39m │ \u001b[90mFloat64\u001b[39m │ \u001b[90mFloat64\u001b[39m   │ \u001b[90mInt64\u001b[39m │\n",
       "├─────┼───────┼─────────┼───────────┼───────┤\n",
       "│ 1   │ 2     │ 3.2     │ -1.21653  │ 1234  │\n",
       "│ 2   │ 3     │ 8.9     │ -0.310181 │ 22    │\n",
       "│ 3   │ 3     │ 10.2    │ 0.393614  │ 3412  │\n",
       "│ 4   │ 3     │ 11.3    │ 0.0325621 │ 578   │\n",
       "│ 5   │ 2     │ 88.1    │ -0.872102 │ 998   │\n",
       "│ 6   │ 3     │ 52.3    │ 0.577471  │ 124   │\n",
       "│ 7   │ 2     │ 15.2    │ 0.806145  │ 18    │\n",
       "│ 8   │ 2     │ 66.7    │ 0.631664  │ 8881  │\n",
       "│ 9   │ 2     │ 98.9    │ -0.975538 │ 901   │\n",
       "│ 10  │ 2     │ 30.2    │ -0.819793 │ 12    │\n",
       "│ 11  │ 3     │ 16.0    │ -0.969091 │ 44    │"
      ]
     },
     "execution_count": 11,
     "metadata": {},
     "output_type": "execute_result"
    }
   ],
   "source": [
    "rename!(df1, :ID => :ID1)\n",
    "#df2temp = rename!(df2, :ID => :ID2)\n",
    "rename!(df2, :ID => :ID2)"
   ]
  },
  {
   "cell_type": "markdown",
   "metadata": {},
   "source": [
    "Now, to do an inner join the `on` keyword argument is expressed as a pair where the first element of the pair is the name of the key in the first dataframe and the second element in the pair is the name of the key in the second dataframe."
   ]
  },
  {
   "cell_type": "code",
   "execution_count": 12,
   "metadata": {},
   "outputs": [
    {
     "data": {
      "text/html": [
       "<table class=\"data-frame\"><thead><tr><th></th><th>A</th><th>B</th><th>C</th><th>ID1</th><th>D</th><th>E</th><th>F</th></tr><tr><th></th><th>Int64</th><th>Int64</th><th>Date</th><th>Int64</th><th>Int64</th><th>Float64</th><th>Float64</th></tr></thead><tbody><p>8 rows × 7 columns</p><tr><th>1</th><td>0</td><td>100</td><td>2019-08-31</td><td>1234</td><td>2</td><td>3.2</td><td>-1.21653</td></tr><tr><th>2</th><td>0</td><td>200</td><td>2015-05-05</td><td>3412</td><td>3</td><td>10.2</td><td>0.393614</td></tr><tr><th>3</th><td>1</td><td>400</td><td>2014-10-08</td><td>578</td><td>3</td><td>11.3</td><td>0.0325621</td></tr><tr><th>4</th><td>1</td><td>200</td><td>2013-05-10</td><td>998</td><td>2</td><td>88.1</td><td>-0.872102</td></tr><tr><th>5</th><td>1</td><td>300</td><td>2012-04-02</td><td>124</td><td>3</td><td>52.3</td><td>0.577471</td></tr><tr><th>6</th><td>0</td><td>800</td><td>2009-10-11</td><td>8881</td><td>2</td><td>66.7</td><td>0.631664</td></tr><tr><th>7</th><td>1</td><td>1000</td><td>2008-10-02</td><td>901</td><td>2</td><td>98.9</td><td>-0.975538</td></tr><tr><th>8</th><td>0</td><td>900</td><td>2007-06-06</td><td>12</td><td>2</td><td>30.2</td><td>-0.819793</td></tr></tbody></table>"
      ],
      "text/latex": [
       "\\begin{tabular}{r|ccccccc}\n",
       "\t& A & B & C & ID1 & D & E & F\\\\\n",
       "\t\\hline\n",
       "\t& Int64 & Int64 & Date & Int64 & Int64 & Float64 & Float64\\\\\n",
       "\t\\hline\n",
       "\t1 & 0 & 100 & 2019-08-31 & 1234 & 2 & 3.2 & -1.21653 \\\\\n",
       "\t2 & 0 & 200 & 2015-05-05 & 3412 & 3 & 10.2 & 0.393614 \\\\\n",
       "\t3 & 1 & 400 & 2014-10-08 & 578 & 3 & 11.3 & 0.0325621 \\\\\n",
       "\t4 & 1 & 200 & 2013-05-10 & 998 & 2 & 88.1 & -0.872102 \\\\\n",
       "\t5 & 1 & 300 & 2012-04-02 & 124 & 3 & 52.3 & 0.577471 \\\\\n",
       "\t6 & 0 & 800 & 2009-10-11 & 8881 & 2 & 66.7 & 0.631664 \\\\\n",
       "\t7 & 1 & 1000 & 2008-10-02 & 901 & 2 & 98.9 & -0.975538 \\\\\n",
       "\t8 & 0 & 900 & 2007-06-06 & 12 & 2 & 30.2 & -0.819793 \\\\\n",
       "\\end{tabular}\n"
      ],
      "text/plain": [
       "8×7 DataFrame\n",
       "│ Row │ A     │ B     │ C          │ ID1   │ D     │ E       │ F         │\n",
       "│     │ \u001b[90mInt64\u001b[39m │ \u001b[90mInt64\u001b[39m │ \u001b[90mDate\u001b[39m       │ \u001b[90mInt64\u001b[39m │ \u001b[90mInt64\u001b[39m │ \u001b[90mFloat64\u001b[39m │ \u001b[90mFloat64\u001b[39m   │\n",
       "├─────┼───────┼───────┼────────────┼───────┼───────┼─────────┼───────────┤\n",
       "│ 1   │ 0     │ 100   │ 2019-08-31 │ 1234  │ 2     │ 3.2     │ -1.21653  │\n",
       "│ 2   │ 0     │ 200   │ 2015-05-05 │ 3412  │ 3     │ 10.2    │ 0.393614  │\n",
       "│ 3   │ 1     │ 400   │ 2014-10-08 │ 578   │ 3     │ 11.3    │ 0.0325621 │\n",
       "│ 4   │ 1     │ 200   │ 2013-05-10 │ 998   │ 2     │ 88.1    │ -0.872102 │\n",
       "│ 5   │ 1     │ 300   │ 2012-04-02 │ 124   │ 3     │ 52.3    │ 0.577471  │\n",
       "│ 6   │ 0     │ 800   │ 2009-10-11 │ 8881  │ 2     │ 66.7    │ 0.631664  │\n",
       "│ 7   │ 1     │ 1000  │ 2008-10-02 │ 901   │ 2     │ 98.9    │ -0.975538 │\n",
       "│ 8   │ 0     │ 900   │ 2007-06-06 │ 12    │ 2     │ 30.2    │ -0.819793 │"
      ]
     },
     "execution_count": 12,
     "metadata": {},
     "output_type": "execute_result"
    }
   ],
   "source": [
    "join(df1, df2, on = :ID1 => :ID2, kind = :inner)"
   ]
  },
  {
   "cell_type": "markdown",
   "metadata": {},
   "source": [
    "#### More on doing joins."
   ]
  },
  {
   "cell_type": "code",
   "execution_count": 13,
   "metadata": {},
   "outputs": [],
   "source": [
    "# create dataframes\n",
    "\n",
    "df1 = DataFrame(A = [0, 1, 0, 1, 1, 1, 1, 0, 1, 0], \n",
    "                B = [100, 300, 200, 400, 200, 300, 200, 800, 1000, 900], \n",
    "                C = [Date(2019, 8, 31), Date(2017, 6, 2), Date(2015, 5, 5), Date(2014, 10, 8), Date(2013, 5, 10),\n",
    "                      Date(2012, 4, 2), Date(2011, 8, 2), Date(2009, 10, 11), Date(2008, 10, 2), Date(2007, 6,6)],\n",
    "                ID = [1234, 89, 3412, 578, 998, 124, 665, 8881, 901, 12] );\n",
    "\n",
    "df2 = DataFrame(D = [2, 3, 3, 3, 2, 3, 2, 2, 2, 2, 3], \n",
    "                E = [3.2, 8.9, 10.2, 11.3, 88.1, 52.3, 15.2, 66.7, 98.9, 30.2, 16.0], \n",
    "                F = randn(11),\n",
    "                ID = [1234, 22, 3412, 578, 998, 124, 18, 8881, 901, 12, 44]);"
   ]
  },
  {
   "cell_type": "markdown",
   "metadata": {},
   "source": [
    "I. The **indicator** argument: <br/>\n",
    "<br/>\n",
    "You can pass an **indicator** keyword argument to the **join** function so that the resultant dataframe contains a column variable indicating from which table an observation came from: first, second, or both. Let's use this argument in an outer join."
   ]
  },
  {
   "cell_type": "code",
   "execution_count": 14,
   "metadata": {},
   "outputs": [
    {
     "data": {
      "text/html": [
       "<table class=\"data-frame\"><thead><tr><th></th><th>A</th><th>B</th><th>C</th><th>ID</th><th>D</th><th>E</th><th>F</th><th>source</th></tr><tr><th></th><th>Int64?</th><th>Int64?</th><th>Date?</th><th>Int64</th><th>Int64?</th><th>Float64?</th><th>Float64?</th><th>Cat…</th></tr></thead><tbody><p>13 rows × 8 columns</p><tr><th>1</th><td>0</td><td>100</td><td>2019-08-31</td><td>1234</td><td>2</td><td>3.2</td><td>0.0128778</td><td>both</td></tr><tr><th>2</th><td>1</td><td>300</td><td>2017-06-02</td><td>89</td><td><em>missing</em></td><td><em>missing</em></td><td><em>missing</em></td><td>left_only</td></tr><tr><th>3</th><td>0</td><td>200</td><td>2015-05-05</td><td>3412</td><td>3</td><td>10.2</td><td>-0.527092</td><td>both</td></tr><tr><th>4</th><td>1</td><td>400</td><td>2014-10-08</td><td>578</td><td>3</td><td>11.3</td><td>1.1258</td><td>both</td></tr><tr><th>5</th><td>1</td><td>200</td><td>2013-05-10</td><td>998</td><td>2</td><td>88.1</td><td>-0.663834</td><td>both</td></tr><tr><th>6</th><td>1</td><td>300</td><td>2012-04-02</td><td>124</td><td>3</td><td>52.3</td><td>0.380954</td><td>both</td></tr><tr><th>7</th><td>1</td><td>200</td><td>2011-08-02</td><td>665</td><td><em>missing</em></td><td><em>missing</em></td><td><em>missing</em></td><td>left_only</td></tr><tr><th>8</th><td>0</td><td>800</td><td>2009-10-11</td><td>8881</td><td>2</td><td>66.7</td><td>-0.604882</td><td>both</td></tr><tr><th>9</th><td>1</td><td>1000</td><td>2008-10-02</td><td>901</td><td>2</td><td>98.9</td><td>0.27131</td><td>both</td></tr><tr><th>10</th><td>0</td><td>900</td><td>2007-06-06</td><td>12</td><td>2</td><td>30.2</td><td>0.713718</td><td>both</td></tr><tr><th>11</th><td><em>missing</em></td><td><em>missing</em></td><td><em>missing</em></td><td>22</td><td>3</td><td>8.9</td><td>0.41265</td><td>right_only</td></tr><tr><th>12</th><td><em>missing</em></td><td><em>missing</em></td><td><em>missing</em></td><td>18</td><td>2</td><td>15.2</td><td>-0.419663</td><td>right_only</td></tr><tr><th>13</th><td><em>missing</em></td><td><em>missing</em></td><td><em>missing</em></td><td>44</td><td>3</td><td>16.0</td><td>-1.60143</td><td>right_only</td></tr></tbody></table>"
      ],
      "text/latex": [
       "\\begin{tabular}{r|cccccccc}\n",
       "\t& A & B & C & ID & D & E & F & source\\\\\n",
       "\t\\hline\n",
       "\t& Int64? & Int64? & Date? & Int64 & Int64? & Float64? & Float64? & Cat…\\\\\n",
       "\t\\hline\n",
       "\t1 & 0 & 100 & 2019-08-31 & 1234 & 2 & 3.2 & 0.0128778 & both \\\\\n",
       "\t2 & 1 & 300 & 2017-06-02 & 89 & \\emph{missing} & \\emph{missing} & \\emph{missing} & left\\_only \\\\\n",
       "\t3 & 0 & 200 & 2015-05-05 & 3412 & 3 & 10.2 & -0.527092 & both \\\\\n",
       "\t4 & 1 & 400 & 2014-10-08 & 578 & 3 & 11.3 & 1.1258 & both \\\\\n",
       "\t5 & 1 & 200 & 2013-05-10 & 998 & 2 & 88.1 & -0.663834 & both \\\\\n",
       "\t6 & 1 & 300 & 2012-04-02 & 124 & 3 & 52.3 & 0.380954 & both \\\\\n",
       "\t7 & 1 & 200 & 2011-08-02 & 665 & \\emph{missing} & \\emph{missing} & \\emph{missing} & left\\_only \\\\\n",
       "\t8 & 0 & 800 & 2009-10-11 & 8881 & 2 & 66.7 & -0.604882 & both \\\\\n",
       "\t9 & 1 & 1000 & 2008-10-02 & 901 & 2 & 98.9 & 0.27131 & both \\\\\n",
       "\t10 & 0 & 900 & 2007-06-06 & 12 & 2 & 30.2 & 0.713718 & both \\\\\n",
       "\t11 & \\emph{missing} & \\emph{missing} & \\emph{missing} & 22 & 3 & 8.9 & 0.41265 & right\\_only \\\\\n",
       "\t12 & \\emph{missing} & \\emph{missing} & \\emph{missing} & 18 & 2 & 15.2 & -0.419663 & right\\_only \\\\\n",
       "\t13 & \\emph{missing} & \\emph{missing} & \\emph{missing} & 44 & 3 & 16.0 & -1.60143 & right\\_only \\\\\n",
       "\\end{tabular}\n"
      ],
      "text/plain": [
       "13×8 DataFrame. Omitted printing of 2 columns\n",
       "│ Row │ A       │ B       │ C          │ ID    │ D       │ E        │\n",
       "│     │ \u001b[90mInt64?\u001b[39m  │ \u001b[90mInt64?\u001b[39m  │ \u001b[90mDate?\u001b[39m      │ \u001b[90mInt64\u001b[39m │ \u001b[90mInt64?\u001b[39m  │ \u001b[90mFloat64?\u001b[39m │\n",
       "├─────┼─────────┼─────────┼────────────┼───────┼─────────┼──────────┤\n",
       "│ 1   │ 0       │ 100     │ 2019-08-31 │ 1234  │ 2       │ 3.2      │\n",
       "│ 2   │ 1       │ 300     │ 2017-06-02 │ 89    │ \u001b[90mmissing\u001b[39m │ \u001b[90mmissing\u001b[39m  │\n",
       "│ 3   │ 0       │ 200     │ 2015-05-05 │ 3412  │ 3       │ 10.2     │\n",
       "│ 4   │ 1       │ 400     │ 2014-10-08 │ 578   │ 3       │ 11.3     │\n",
       "│ 5   │ 1       │ 200     │ 2013-05-10 │ 998   │ 2       │ 88.1     │\n",
       "│ 6   │ 1       │ 300     │ 2012-04-02 │ 124   │ 3       │ 52.3     │\n",
       "│ 7   │ 1       │ 200     │ 2011-08-02 │ 665   │ \u001b[90mmissing\u001b[39m │ \u001b[90mmissing\u001b[39m  │\n",
       "│ 8   │ 0       │ 800     │ 2009-10-11 │ 8881  │ 2       │ 66.7     │\n",
       "│ 9   │ 1       │ 1000    │ 2008-10-02 │ 901   │ 2       │ 98.9     │\n",
       "│ 10  │ 0       │ 900     │ 2007-06-06 │ 12    │ 2       │ 30.2     │\n",
       "│ 11  │ \u001b[90mmissing\u001b[39m │ \u001b[90mmissing\u001b[39m │ \u001b[90mmissing\u001b[39m    │ 22    │ 3       │ 8.9      │\n",
       "│ 12  │ \u001b[90mmissing\u001b[39m │ \u001b[90mmissing\u001b[39m │ \u001b[90mmissing\u001b[39m    │ 18    │ 2       │ 15.2     │\n",
       "│ 13  │ \u001b[90mmissing\u001b[39m │ \u001b[90mmissing\u001b[39m │ \u001b[90mmissing\u001b[39m    │ 44    │ 3       │ 16.0     │"
      ]
     },
     "execution_count": 14,
     "metadata": {},
     "output_type": "execute_result"
    }
   ],
   "source": [
    "outer_join = join(df1, df2, on = :ID, kind = :outer, indicator = :source)"
   ]
  },
  {
   "cell_type": "markdown",
   "metadata": {},
   "source": [
    "II. The __makeunique__ argument: <br/>\n",
    "<br/>\n",
    "This argument is useful in cases where each dataset has a column variable with the **same** name. \n",
    "\n",
    "Let's modify **df1** so that it has a column variable with the same name a column in **df2**."
   ]
  },
  {
   "cell_type": "code",
   "execution_count": 15,
   "metadata": {},
   "outputs": [],
   "source": [
    "# Modify df1 to have a \"D\" column variable\n",
    "\n",
    "df1.D = rand(100:900,10);"
   ]
  },
  {
   "cell_type": "markdown",
   "metadata": {},
   "source": [
    "What happens when you do a join on **df1** and **df2** now that they share a column variable with the same name?"
   ]
  },
  {
   "cell_type": "code",
   "execution_count": 16,
   "metadata": {},
   "outputs": [
    {
     "ename": "ArgumentError",
     "evalue": "ArgumentError: Duplicate variable names: :D. Pass makeunique=true to make them unique using a suffix automatically.",
     "output_type": "error",
     "traceback": [
      "ArgumentError: Duplicate variable names: :D. Pass makeunique=true to make them unique using a suffix automatically.",
      "",
      "Stacktrace:",
      " [1] #make_unique!#1(::Bool, ::typeof(DataFrames.make_unique!), ::Array{Symbol,1}, ::Array{Symbol,1}) at /nas/longleaf/apps/julia/1.3.0/share/julia/packages/DataFrames/lfoTw/src/other/utils.jl:35",
      " [2] #make_unique#2 at ./none:0 [inlined]",
      " [3] #make_unique at ./none:0 [inlined]",
      " [4] #Index#3 at /nas/longleaf/apps/julia/1.3.0/share/julia/packages/DataFrames/lfoTw/src/other/index.jl:27 [inlined]",
      " [5] Type at ./none:0 [inlined]",
      " [6] #DataFrame#144(::Bool, ::Bool, ::Type{DataFrame}, ::Array{AbstractArray{T,1} where T,1}, ::Array{Symbol,1}) at /nas/longleaf/apps/julia/1.3.0/share/julia/packages/DataFrames/lfoTw/src/dataframe/dataframe.jl:242",
      " [7] Type at ./none:0 [inlined]",
      " [8] #compose_joined_table#319(::Bool, ::typeof(DataFrames.compose_joined_table), ::DataFrames.DataFrameJoiner{DataFrame,DataFrame}, ::Symbol, ::DataFrames.RowIndexMap, ::DataFrames.RowIndexMap, ::DataFrames.RowIndexMap, ::DataFrames.RowIndexMap) at /nas/longleaf/apps/julia/1.3.0/share/julia/packages/DataFrames/lfoTw/src/abstractdataframe/join.jl:119",
      " [9] #compose_joined_table at ./none:0 [inlined]",
      " [10] #_join#327(::Symbol, ::Symbol, ::Bool, ::Nothing, ::Tuple{Bool,Bool}, ::typeof(DataFrames._join), ::DataFrame, ::DataFrame) at /nas/longleaf/apps/julia/1.3.0/share/julia/packages/DataFrames/lfoTw/src/abstractdataframe/join.jl:344",
      " [11] (::DataFrames.var\"#kw##_join\")(::NamedTuple{(:on, :kind, :makeunique, :indicator, :validate),Tuple{Symbol,Symbol,Bool,Nothing,Tuple{Bool,Bool}}}, ::typeof(DataFrames._join), ::DataFrame, ::DataFrame) at ./none:0",
      " [12] (::DataFrames.var\"#kw##innerjoin\")(::NamedTuple{(:on, :makeunique, :validate),Tuple{Symbol,Bool,Tuple{Bool,Bool}}}, ::typeof(innerjoin), ::DataFrame, ::DataFrame) at /nas/longleaf/apps/julia/1.3.0/share/julia/packages/DataFrames/lfoTw/src/abstractdataframe/join.jl:526",
      " [13] #join#545(::Symbol, ::Symbol, ::Bool, ::Nothing, ::Tuple{Bool,Bool}, ::typeof(join), ::DataFrame, ::DataFrame) at /nas/longleaf/apps/julia/1.3.0/share/julia/packages/DataFrames/lfoTw/src/deprecated.jl:293",
      " [14] (::Base.var\"#kw##join\")(::NamedTuple{(:on, :kind),Tuple{Symbol,Symbol}}, ::typeof(join), ::DataFrame, ::DataFrame) at ./none:0",
      " [15] top-level scope at In[16]:1"
     ]
    }
   ],
   "source": [
    "inner_join = join(df1, df2, on = :ID, kind = :inner)"
   ]
  },
  {
   "cell_type": "markdown",
   "metadata": {},
   "source": [
    "The error message indicates what to do. You can pass a boolean value of true for the `makeunique` keyword argument."
   ]
  },
  {
   "cell_type": "code",
   "execution_count": 17,
   "metadata": {},
   "outputs": [
    {
     "data": {
      "text/html": [
       "<table class=\"data-frame\"><thead><tr><th></th><th>A</th><th>B</th><th>C</th><th>ID</th><th>D</th><th>D_1</th><th>E</th><th>F</th></tr><tr><th></th><th>Int64</th><th>Int64</th><th>Date</th><th>Int64</th><th>Int64</th><th>Int64</th><th>Float64</th><th>Float64</th></tr></thead><tbody><p>8 rows × 8 columns</p><tr><th>1</th><td>0</td><td>100</td><td>2019-08-31</td><td>1234</td><td>292</td><td>2</td><td>3.2</td><td>0.0128778</td></tr><tr><th>2</th><td>0</td><td>200</td><td>2015-05-05</td><td>3412</td><td>561</td><td>3</td><td>10.2</td><td>-0.527092</td></tr><tr><th>3</th><td>1</td><td>400</td><td>2014-10-08</td><td>578</td><td>791</td><td>3</td><td>11.3</td><td>1.1258</td></tr><tr><th>4</th><td>1</td><td>200</td><td>2013-05-10</td><td>998</td><td>165</td><td>2</td><td>88.1</td><td>-0.663834</td></tr><tr><th>5</th><td>1</td><td>300</td><td>2012-04-02</td><td>124</td><td>136</td><td>3</td><td>52.3</td><td>0.380954</td></tr><tr><th>6</th><td>0</td><td>800</td><td>2009-10-11</td><td>8881</td><td>552</td><td>2</td><td>66.7</td><td>-0.604882</td></tr><tr><th>7</th><td>1</td><td>1000</td><td>2008-10-02</td><td>901</td><td>280</td><td>2</td><td>98.9</td><td>0.27131</td></tr><tr><th>8</th><td>0</td><td>900</td><td>2007-06-06</td><td>12</td><td>339</td><td>2</td><td>30.2</td><td>0.713718</td></tr></tbody></table>"
      ],
      "text/latex": [
       "\\begin{tabular}{r|cccccccc}\n",
       "\t& A & B & C & ID & D & D\\_1 & E & F\\\\\n",
       "\t\\hline\n",
       "\t& Int64 & Int64 & Date & Int64 & Int64 & Int64 & Float64 & Float64\\\\\n",
       "\t\\hline\n",
       "\t1 & 0 & 100 & 2019-08-31 & 1234 & 292 & 2 & 3.2 & 0.0128778 \\\\\n",
       "\t2 & 0 & 200 & 2015-05-05 & 3412 & 561 & 3 & 10.2 & -0.527092 \\\\\n",
       "\t3 & 1 & 400 & 2014-10-08 & 578 & 791 & 3 & 11.3 & 1.1258 \\\\\n",
       "\t4 & 1 & 200 & 2013-05-10 & 998 & 165 & 2 & 88.1 & -0.663834 \\\\\n",
       "\t5 & 1 & 300 & 2012-04-02 & 124 & 136 & 3 & 52.3 & 0.380954 \\\\\n",
       "\t6 & 0 & 800 & 2009-10-11 & 8881 & 552 & 2 & 66.7 & -0.604882 \\\\\n",
       "\t7 & 1 & 1000 & 2008-10-02 & 901 & 280 & 2 & 98.9 & 0.27131 \\\\\n",
       "\t8 & 0 & 900 & 2007-06-06 & 12 & 339 & 2 & 30.2 & 0.713718 \\\\\n",
       "\\end{tabular}\n"
      ],
      "text/plain": [
       "8×8 DataFrame. Omitted printing of 1 columns\n",
       "│ Row │ A     │ B     │ C          │ ID    │ D     │ D_1   │ E       │\n",
       "│     │ \u001b[90mInt64\u001b[39m │ \u001b[90mInt64\u001b[39m │ \u001b[90mDate\u001b[39m       │ \u001b[90mInt64\u001b[39m │ \u001b[90mInt64\u001b[39m │ \u001b[90mInt64\u001b[39m │ \u001b[90mFloat64\u001b[39m │\n",
       "├─────┼───────┼───────┼────────────┼───────┼───────┼───────┼─────────┤\n",
       "│ 1   │ 0     │ 100   │ 2019-08-31 │ 1234  │ 292   │ 2     │ 3.2     │\n",
       "│ 2   │ 0     │ 200   │ 2015-05-05 │ 3412  │ 561   │ 3     │ 10.2    │\n",
       "│ 3   │ 1     │ 400   │ 2014-10-08 │ 578   │ 791   │ 3     │ 11.3    │\n",
       "│ 4   │ 1     │ 200   │ 2013-05-10 │ 998   │ 165   │ 2     │ 88.1    │\n",
       "│ 5   │ 1     │ 300   │ 2012-04-02 │ 124   │ 136   │ 3     │ 52.3    │\n",
       "│ 6   │ 0     │ 800   │ 2009-10-11 │ 8881  │ 552   │ 2     │ 66.7    │\n",
       "│ 7   │ 1     │ 1000  │ 2008-10-02 │ 901   │ 280   │ 2     │ 98.9    │\n",
       "│ 8   │ 0     │ 900   │ 2007-06-06 │ 12    │ 339   │ 2     │ 30.2    │"
      ]
     },
     "execution_count": 17,
     "metadata": {},
     "output_type": "execute_result"
    }
   ],
   "source": [
    "inner_join = join(df1, df2, on = :ID, makeunique = true, kind = :inner)"
   ]
  },
  {
   "cell_type": "markdown",
   "metadata": {},
   "source": [
    "The resultant dataframe keeps both columns of the <i>D</i> variable but the <i>D</i> column for the second table (in this case **df2**) is renamed to <i>D_1</i>.\n",
    "\n",
    "That is, a suffix of \\_1 was automatically added to the name of the D column variable in the second table. If there had already been a variable named <i>D_1</i> then the suffix \\_2 would've been used instead. The <i>D</i> column for the first table keeps the same name of <i>D</i>."
   ]
  },
  {
   "cell_type": "markdown",
   "metadata": {},
   "source": [
    "III. The __validate__ argument:"
   ]
  },
  {
   "cell_type": "markdown",
   "metadata": {},
   "source": [
    "In our above tables the key values were unique in each table. That is, in each table the <i>ID</i> variable did not contain duplicate values. However, this is not a requirement for the key variable.\n",
    "\n",
    "In **df2** let's add another row of data for <i>ID</i> 1234 and in **df1** let's drop the <i>D</i> column variable and add two more rows of data for <i>ID</i> 1234."
   ]
  },
  {
   "cell_type": "code",
   "execution_count": 18,
   "metadata": {},
   "outputs": [],
   "source": [
    "push!(df2, (3, 21.2, randn(1)[1], 1234));"
   ]
  },
  {
   "cell_type": "code",
   "execution_count": 19,
   "metadata": {},
   "outputs": [],
   "source": [
    "select!(df1, Not([:D]))\n",
    "push!(df1, (1, 700, Date(2011,7,7), 1234));\n",
    "push!(df1, (1, 500, Date(2011,1,17), 1234));"
   ]
  },
  {
   "cell_type": "code",
   "execution_count": 20,
   "metadata": {},
   "outputs": [
    {
     "data": {
      "text/html": [
       "<table class=\"data-frame\"><thead><tr><th></th><th>A</th><th>B</th><th>C</th><th>ID</th></tr><tr><th></th><th>Int64</th><th>Int64</th><th>Date</th><th>Int64</th></tr></thead><tbody><p>12 rows × 4 columns</p><tr><th>1</th><td>0</td><td>100</td><td>2019-08-31</td><td>1234</td></tr><tr><th>2</th><td>1</td><td>300</td><td>2017-06-02</td><td>89</td></tr><tr><th>3</th><td>0</td><td>200</td><td>2015-05-05</td><td>3412</td></tr><tr><th>4</th><td>1</td><td>400</td><td>2014-10-08</td><td>578</td></tr><tr><th>5</th><td>1</td><td>200</td><td>2013-05-10</td><td>998</td></tr><tr><th>6</th><td>1</td><td>300</td><td>2012-04-02</td><td>124</td></tr><tr><th>7</th><td>1</td><td>200</td><td>2011-08-02</td><td>665</td></tr><tr><th>8</th><td>0</td><td>800</td><td>2009-10-11</td><td>8881</td></tr><tr><th>9</th><td>1</td><td>1000</td><td>2008-10-02</td><td>901</td></tr><tr><th>10</th><td>0</td><td>900</td><td>2007-06-06</td><td>12</td></tr><tr><th>11</th><td>1</td><td>700</td><td>2011-07-07</td><td>1234</td></tr><tr><th>12</th><td>1</td><td>500</td><td>2011-01-17</td><td>1234</td></tr></tbody></table>"
      ],
      "text/latex": [
       "\\begin{tabular}{r|cccc}\n",
       "\t& A & B & C & ID\\\\\n",
       "\t\\hline\n",
       "\t& Int64 & Int64 & Date & Int64\\\\\n",
       "\t\\hline\n",
       "\t1 & 0 & 100 & 2019-08-31 & 1234 \\\\\n",
       "\t2 & 1 & 300 & 2017-06-02 & 89 \\\\\n",
       "\t3 & 0 & 200 & 2015-05-05 & 3412 \\\\\n",
       "\t4 & 1 & 400 & 2014-10-08 & 578 \\\\\n",
       "\t5 & 1 & 200 & 2013-05-10 & 998 \\\\\n",
       "\t6 & 1 & 300 & 2012-04-02 & 124 \\\\\n",
       "\t7 & 1 & 200 & 2011-08-02 & 665 \\\\\n",
       "\t8 & 0 & 800 & 2009-10-11 & 8881 \\\\\n",
       "\t9 & 1 & 1000 & 2008-10-02 & 901 \\\\\n",
       "\t10 & 0 & 900 & 2007-06-06 & 12 \\\\\n",
       "\t11 & 1 & 700 & 2011-07-07 & 1234 \\\\\n",
       "\t12 & 1 & 500 & 2011-01-17 & 1234 \\\\\n",
       "\\end{tabular}\n"
      ],
      "text/plain": [
       "12×4 DataFrame\n",
       "│ Row │ A     │ B     │ C          │ ID    │\n",
       "│     │ \u001b[90mInt64\u001b[39m │ \u001b[90mInt64\u001b[39m │ \u001b[90mDate\u001b[39m       │ \u001b[90mInt64\u001b[39m │\n",
       "├─────┼───────┼───────┼────────────┼───────┤\n",
       "│ 1   │ 0     │ 100   │ 2019-08-31 │ 1234  │\n",
       "│ 2   │ 1     │ 300   │ 2017-06-02 │ 89    │\n",
       "│ 3   │ 0     │ 200   │ 2015-05-05 │ 3412  │\n",
       "│ 4   │ 1     │ 400   │ 2014-10-08 │ 578   │\n",
       "│ 5   │ 1     │ 200   │ 2013-05-10 │ 998   │\n",
       "│ 6   │ 1     │ 300   │ 2012-04-02 │ 124   │\n",
       "│ 7   │ 1     │ 200   │ 2011-08-02 │ 665   │\n",
       "│ 8   │ 0     │ 800   │ 2009-10-11 │ 8881  │\n",
       "│ 9   │ 1     │ 1000  │ 2008-10-02 │ 901   │\n",
       "│ 10  │ 0     │ 900   │ 2007-06-06 │ 12    │\n",
       "│ 11  │ 1     │ 700   │ 2011-07-07 │ 1234  │\n",
       "│ 12  │ 1     │ 500   │ 2011-01-17 │ 1234  │"
      ]
     },
     "execution_count": 20,
     "metadata": {},
     "output_type": "execute_result"
    }
   ],
   "source": [
    "df1"
   ]
  },
  {
   "cell_type": "code",
   "execution_count": 21,
   "metadata": {},
   "outputs": [
    {
     "data": {
      "text/html": [
       "<table class=\"data-frame\"><thead><tr><th></th><th>D</th><th>E</th><th>F</th><th>ID</th></tr><tr><th></th><th>Int64</th><th>Float64</th><th>Float64</th><th>Int64</th></tr></thead><tbody><p>12 rows × 4 columns</p><tr><th>1</th><td>2</td><td>3.2</td><td>0.0128778</td><td>1234</td></tr><tr><th>2</th><td>3</td><td>8.9</td><td>0.41265</td><td>22</td></tr><tr><th>3</th><td>3</td><td>10.2</td><td>-0.527092</td><td>3412</td></tr><tr><th>4</th><td>3</td><td>11.3</td><td>1.1258</td><td>578</td></tr><tr><th>5</th><td>2</td><td>88.1</td><td>-0.663834</td><td>998</td></tr><tr><th>6</th><td>3</td><td>52.3</td><td>0.380954</td><td>124</td></tr><tr><th>7</th><td>2</td><td>15.2</td><td>-0.419663</td><td>18</td></tr><tr><th>8</th><td>2</td><td>66.7</td><td>-0.604882</td><td>8881</td></tr><tr><th>9</th><td>2</td><td>98.9</td><td>0.27131</td><td>901</td></tr><tr><th>10</th><td>2</td><td>30.2</td><td>0.713718</td><td>12</td></tr><tr><th>11</th><td>3</td><td>16.0</td><td>-1.60143</td><td>44</td></tr><tr><th>12</th><td>3</td><td>21.2</td><td>-0.0271656</td><td>1234</td></tr></tbody></table>"
      ],
      "text/latex": [
       "\\begin{tabular}{r|cccc}\n",
       "\t& D & E & F & ID\\\\\n",
       "\t\\hline\n",
       "\t& Int64 & Float64 & Float64 & Int64\\\\\n",
       "\t\\hline\n",
       "\t1 & 2 & 3.2 & 0.0128778 & 1234 \\\\\n",
       "\t2 & 3 & 8.9 & 0.41265 & 22 \\\\\n",
       "\t3 & 3 & 10.2 & -0.527092 & 3412 \\\\\n",
       "\t4 & 3 & 11.3 & 1.1258 & 578 \\\\\n",
       "\t5 & 2 & 88.1 & -0.663834 & 998 \\\\\n",
       "\t6 & 3 & 52.3 & 0.380954 & 124 \\\\\n",
       "\t7 & 2 & 15.2 & -0.419663 & 18 \\\\\n",
       "\t8 & 2 & 66.7 & -0.604882 & 8881 \\\\\n",
       "\t9 & 2 & 98.9 & 0.27131 & 901 \\\\\n",
       "\t10 & 2 & 30.2 & 0.713718 & 12 \\\\\n",
       "\t11 & 3 & 16.0 & -1.60143 & 44 \\\\\n",
       "\t12 & 3 & 21.2 & -0.0271656 & 1234 \\\\\n",
       "\\end{tabular}\n"
      ],
      "text/plain": [
       "12×4 DataFrame\n",
       "│ Row │ D     │ E       │ F          │ ID    │\n",
       "│     │ \u001b[90mInt64\u001b[39m │ \u001b[90mFloat64\u001b[39m │ \u001b[90mFloat64\u001b[39m    │ \u001b[90mInt64\u001b[39m │\n",
       "├─────┼───────┼─────────┼────────────┼───────┤\n",
       "│ 1   │ 2     │ 3.2     │ 0.0128778  │ 1234  │\n",
       "│ 2   │ 3     │ 8.9     │ 0.41265    │ 22    │\n",
       "│ 3   │ 3     │ 10.2    │ -0.527092  │ 3412  │\n",
       "│ 4   │ 3     │ 11.3    │ 1.1258     │ 578   │\n",
       "│ 5   │ 2     │ 88.1    │ -0.663834  │ 998   │\n",
       "│ 6   │ 3     │ 52.3    │ 0.380954   │ 124   │\n",
       "│ 7   │ 2     │ 15.2    │ -0.419663  │ 18    │\n",
       "│ 8   │ 2     │ 66.7    │ -0.604882  │ 8881  │\n",
       "│ 9   │ 2     │ 98.9    │ 0.27131    │ 901   │\n",
       "│ 10  │ 2     │ 30.2    │ 0.713718   │ 12    │\n",
       "│ 11  │ 3     │ 16.0    │ -1.60143   │ 44    │\n",
       "│ 12  │ 3     │ 21.2    │ -0.0271656 │ 1234  │"
      ]
     },
     "execution_count": 21,
     "metadata": {},
     "output_type": "execute_result"
    }
   ],
   "source": [
    "df2"
   ]
  },
  {
   "cell_type": "markdown",
   "metadata": {},
   "source": [
    "These changes result in **df2** having two rows of data with ID 1234 and with **df1** having three rows of data with ID 1234."
   ]
  },
  {
   "cell_type": "markdown",
   "metadata": {},
   "source": [
    "Let's now do a left join. In this the join operation will match all combinations of <i>ID</i> 1234. How many rows will the resultant dataframe have with a value of 1234 for the <i>ID</i> variable? \n",
    "\n",
    "Keep in mind the left table (__df1__) has three row entries for <i>ID</i> 1234 and the right table (__df2__) has two row entries for <i>ID</i> 1234, so in this case the result dataframe will have 6 (3x2) entries for <i>ID</i> 1234. "
   ]
  },
  {
   "cell_type": "code",
   "execution_count": 22,
   "metadata": {},
   "outputs": [
    {
     "data": {
      "text/html": [
       "<table class=\"data-frame\"><thead><tr><th></th><th>A</th><th>B</th><th>C</th><th>ID</th><th>D</th><th>E</th><th>F</th></tr><tr><th></th><th>Int64</th><th>Int64</th><th>Date</th><th>Int64</th><th>Int64?</th><th>Float64?</th><th>Float64?</th></tr></thead><tbody><p>15 rows × 7 columns</p><tr><th>1</th><td>0</td><td>100</td><td>2019-08-31</td><td>1234</td><td>2</td><td>3.2</td><td>0.0128778</td></tr><tr><th>2</th><td>0</td><td>100</td><td>2019-08-31</td><td>1234</td><td>3</td><td>21.2</td><td>-0.0271656</td></tr><tr><th>3</th><td>1</td><td>300</td><td>2017-06-02</td><td>89</td><td><em>missing</em></td><td><em>missing</em></td><td><em>missing</em></td></tr><tr><th>4</th><td>0</td><td>200</td><td>2015-05-05</td><td>3412</td><td>3</td><td>10.2</td><td>-0.527092</td></tr><tr><th>5</th><td>1</td><td>400</td><td>2014-10-08</td><td>578</td><td>3</td><td>11.3</td><td>1.1258</td></tr><tr><th>6</th><td>1</td><td>200</td><td>2013-05-10</td><td>998</td><td>2</td><td>88.1</td><td>-0.663834</td></tr><tr><th>7</th><td>1</td><td>300</td><td>2012-04-02</td><td>124</td><td>3</td><td>52.3</td><td>0.380954</td></tr><tr><th>8</th><td>1</td><td>200</td><td>2011-08-02</td><td>665</td><td><em>missing</em></td><td><em>missing</em></td><td><em>missing</em></td></tr><tr><th>9</th><td>0</td><td>800</td><td>2009-10-11</td><td>8881</td><td>2</td><td>66.7</td><td>-0.604882</td></tr><tr><th>10</th><td>1</td><td>1000</td><td>2008-10-02</td><td>901</td><td>2</td><td>98.9</td><td>0.27131</td></tr><tr><th>11</th><td>0</td><td>900</td><td>2007-06-06</td><td>12</td><td>2</td><td>30.2</td><td>0.713718</td></tr><tr><th>12</th><td>1</td><td>700</td><td>2011-07-07</td><td>1234</td><td>2</td><td>3.2</td><td>0.0128778</td></tr><tr><th>13</th><td>1</td><td>700</td><td>2011-07-07</td><td>1234</td><td>3</td><td>21.2</td><td>-0.0271656</td></tr><tr><th>14</th><td>1</td><td>500</td><td>2011-01-17</td><td>1234</td><td>2</td><td>3.2</td><td>0.0128778</td></tr><tr><th>15</th><td>1</td><td>500</td><td>2011-01-17</td><td>1234</td><td>3</td><td>21.2</td><td>-0.0271656</td></tr></tbody></table>"
      ],
      "text/latex": [
       "\\begin{tabular}{r|ccccccc}\n",
       "\t& A & B & C & ID & D & E & F\\\\\n",
       "\t\\hline\n",
       "\t& Int64 & Int64 & Date & Int64 & Int64? & Float64? & Float64?\\\\\n",
       "\t\\hline\n",
       "\t1 & 0 & 100 & 2019-08-31 & 1234 & 2 & 3.2 & 0.0128778 \\\\\n",
       "\t2 & 0 & 100 & 2019-08-31 & 1234 & 3 & 21.2 & -0.0271656 \\\\\n",
       "\t3 & 1 & 300 & 2017-06-02 & 89 & \\emph{missing} & \\emph{missing} & \\emph{missing} \\\\\n",
       "\t4 & 0 & 200 & 2015-05-05 & 3412 & 3 & 10.2 & -0.527092 \\\\\n",
       "\t5 & 1 & 400 & 2014-10-08 & 578 & 3 & 11.3 & 1.1258 \\\\\n",
       "\t6 & 1 & 200 & 2013-05-10 & 998 & 2 & 88.1 & -0.663834 \\\\\n",
       "\t7 & 1 & 300 & 2012-04-02 & 124 & 3 & 52.3 & 0.380954 \\\\\n",
       "\t8 & 1 & 200 & 2011-08-02 & 665 & \\emph{missing} & \\emph{missing} & \\emph{missing} \\\\\n",
       "\t9 & 0 & 800 & 2009-10-11 & 8881 & 2 & 66.7 & -0.604882 \\\\\n",
       "\t10 & 1 & 1000 & 2008-10-02 & 901 & 2 & 98.9 & 0.27131 \\\\\n",
       "\t11 & 0 & 900 & 2007-06-06 & 12 & 2 & 30.2 & 0.713718 \\\\\n",
       "\t12 & 1 & 700 & 2011-07-07 & 1234 & 2 & 3.2 & 0.0128778 \\\\\n",
       "\t13 & 1 & 700 & 2011-07-07 & 1234 & 3 & 21.2 & -0.0271656 \\\\\n",
       "\t14 & 1 & 500 & 2011-01-17 & 1234 & 2 & 3.2 & 0.0128778 \\\\\n",
       "\t15 & 1 & 500 & 2011-01-17 & 1234 & 3 & 21.2 & -0.0271656 \\\\\n",
       "\\end{tabular}\n"
      ],
      "text/plain": [
       "15×7 DataFrame\n",
       "│ Row │ A     │ B     │ C          │ ID    │ D       │ E        │ F          │\n",
       "│     │ \u001b[90mInt64\u001b[39m │ \u001b[90mInt64\u001b[39m │ \u001b[90mDate\u001b[39m       │ \u001b[90mInt64\u001b[39m │ \u001b[90mInt64?\u001b[39m  │ \u001b[90mFloat64?\u001b[39m │ \u001b[90mFloat64?\u001b[39m   │\n",
       "├─────┼───────┼───────┼────────────┼───────┼─────────┼──────────┼────────────┤\n",
       "│ 1   │ 0     │ 100   │ 2019-08-31 │ 1234  │ 2       │ 3.2      │ 0.0128778  │\n",
       "│ 2   │ 0     │ 100   │ 2019-08-31 │ 1234  │ 3       │ 21.2     │ -0.0271656 │\n",
       "│ 3   │ 1     │ 300   │ 2017-06-02 │ 89    │ \u001b[90mmissing\u001b[39m │ \u001b[90mmissing\u001b[39m  │ \u001b[90mmissing\u001b[39m    │\n",
       "│ 4   │ 0     │ 200   │ 2015-05-05 │ 3412  │ 3       │ 10.2     │ -0.527092  │\n",
       "│ 5   │ 1     │ 400   │ 2014-10-08 │ 578   │ 3       │ 11.3     │ 1.1258     │\n",
       "│ 6   │ 1     │ 200   │ 2013-05-10 │ 998   │ 2       │ 88.1     │ -0.663834  │\n",
       "│ 7   │ 1     │ 300   │ 2012-04-02 │ 124   │ 3       │ 52.3     │ 0.380954   │\n",
       "│ 8   │ 1     │ 200   │ 2011-08-02 │ 665   │ \u001b[90mmissing\u001b[39m │ \u001b[90mmissing\u001b[39m  │ \u001b[90mmissing\u001b[39m    │\n",
       "│ 9   │ 0     │ 800   │ 2009-10-11 │ 8881  │ 2       │ 66.7     │ -0.604882  │\n",
       "│ 10  │ 1     │ 1000  │ 2008-10-02 │ 901   │ 2       │ 98.9     │ 0.27131    │\n",
       "│ 11  │ 0     │ 900   │ 2007-06-06 │ 12    │ 2       │ 30.2     │ 0.713718   │\n",
       "│ 12  │ 1     │ 700   │ 2011-07-07 │ 1234  │ 2       │ 3.2      │ 0.0128778  │\n",
       "│ 13  │ 1     │ 700   │ 2011-07-07 │ 1234  │ 3       │ 21.2     │ -0.0271656 │\n",
       "│ 14  │ 1     │ 500   │ 2011-01-17 │ 1234  │ 2       │ 3.2      │ 0.0128778  │\n",
       "│ 15  │ 1     │ 500   │ 2011-01-17 │ 1234  │ 3       │ 21.2     │ -0.0271656 │"
      ]
     },
     "execution_count": 22,
     "metadata": {},
     "output_type": "execute_result"
    }
   ],
   "source": [
    "left_join_2 = join(df1, df2, on = :ID, kind = :left)"
   ]
  },
  {
   "cell_type": "markdown",
   "metadata": {},
   "source": [
    "We can see that the table has six entries for _ID_ 1234 by using `filter` to return only rows with an _ID_ of 1234:"
   ]
  },
  {
   "cell_type": "code",
   "execution_count": 23,
   "metadata": {},
   "outputs": [
    {
     "data": {
      "text/html": [
       "<table class=\"data-frame\"><thead><tr><th></th><th>A</th><th>B</th><th>C</th><th>ID</th><th>D</th><th>E</th><th>F</th></tr><tr><th></th><th>Int64</th><th>Int64</th><th>Date</th><th>Int64</th><th>Int64?</th><th>Float64?</th><th>Float64?</th></tr></thead><tbody><p>6 rows × 7 columns</p><tr><th>1</th><td>0</td><td>100</td><td>2019-08-31</td><td>1234</td><td>2</td><td>3.2</td><td>0.0128778</td></tr><tr><th>2</th><td>0</td><td>100</td><td>2019-08-31</td><td>1234</td><td>3</td><td>21.2</td><td>-0.0271656</td></tr><tr><th>3</th><td>1</td><td>700</td><td>2011-07-07</td><td>1234</td><td>2</td><td>3.2</td><td>0.0128778</td></tr><tr><th>4</th><td>1</td><td>700</td><td>2011-07-07</td><td>1234</td><td>3</td><td>21.2</td><td>-0.0271656</td></tr><tr><th>5</th><td>1</td><td>500</td><td>2011-01-17</td><td>1234</td><td>2</td><td>3.2</td><td>0.0128778</td></tr><tr><th>6</th><td>1</td><td>500</td><td>2011-01-17</td><td>1234</td><td>3</td><td>21.2</td><td>-0.0271656</td></tr></tbody></table>"
      ],
      "text/latex": [
       "\\begin{tabular}{r|ccccccc}\n",
       "\t& A & B & C & ID & D & E & F\\\\\n",
       "\t\\hline\n",
       "\t& Int64 & Int64 & Date & Int64 & Int64? & Float64? & Float64?\\\\\n",
       "\t\\hline\n",
       "\t1 & 0 & 100 & 2019-08-31 & 1234 & 2 & 3.2 & 0.0128778 \\\\\n",
       "\t2 & 0 & 100 & 2019-08-31 & 1234 & 3 & 21.2 & -0.0271656 \\\\\n",
       "\t3 & 1 & 700 & 2011-07-07 & 1234 & 2 & 3.2 & 0.0128778 \\\\\n",
       "\t4 & 1 & 700 & 2011-07-07 & 1234 & 3 & 21.2 & -0.0271656 \\\\\n",
       "\t5 & 1 & 500 & 2011-01-17 & 1234 & 2 & 3.2 & 0.0128778 \\\\\n",
       "\t6 & 1 & 500 & 2011-01-17 & 1234 & 3 & 21.2 & -0.0271656 \\\\\n",
       "\\end{tabular}\n"
      ],
      "text/plain": [
       "6×7 DataFrame\n",
       "│ Row │ A     │ B     │ C          │ ID    │ D      │ E        │ F          │\n",
       "│     │ \u001b[90mInt64\u001b[39m │ \u001b[90mInt64\u001b[39m │ \u001b[90mDate\u001b[39m       │ \u001b[90mInt64\u001b[39m │ \u001b[90mInt64?\u001b[39m │ \u001b[90mFloat64?\u001b[39m │ \u001b[90mFloat64?\u001b[39m   │\n",
       "├─────┼───────┼───────┼────────────┼───────┼────────┼──────────┼────────────┤\n",
       "│ 1   │ 0     │ 100   │ 2019-08-31 │ 1234  │ 2      │ 3.2      │ 0.0128778  │\n",
       "│ 2   │ 0     │ 100   │ 2019-08-31 │ 1234  │ 3      │ 21.2     │ -0.0271656 │\n",
       "│ 3   │ 1     │ 700   │ 2011-07-07 │ 1234  │ 2      │ 3.2      │ 0.0128778  │\n",
       "│ 4   │ 1     │ 700   │ 2011-07-07 │ 1234  │ 3      │ 21.2     │ -0.0271656 │\n",
       "│ 5   │ 1     │ 500   │ 2011-01-17 │ 1234  │ 2      │ 3.2      │ 0.0128778  │\n",
       "│ 6   │ 1     │ 500   │ 2011-01-17 │ 1234  │ 3      │ 21.2     │ -0.0271656 │"
      ]
     },
     "execution_count": 23,
     "metadata": {},
     "output_type": "execute_result"
    }
   ],
   "source": [
    "filter(row -> row[:ID] == 1234, left_join_2)"
   ]
  },
  {
   "cell_type": "markdown",
   "metadata": {},
   "source": [
    "You can enforce that the join fail if the keys are not unique in one or both tables using the __validate__ keyword argument. You pass this argument two boolean values indicating whether the tables need to have unique key values. The first boolean argument if set to true indicates the first table can not have duplicate key values; similarly, the second boolean if set to true indicates the second table can not have duplicate values."
   ]
  },
  {
   "cell_type": "code",
   "execution_count": 24,
   "metadata": {},
   "outputs": [
    {
     "data": {
      "text/html": [
       "<table class=\"data-frame\"><thead><tr><th></th><th>A</th><th>B</th><th>C</th><th>ID</th></tr><tr><th></th><th>Int64</th><th>Int64</th><th>Date</th><th>Int64</th></tr></thead><tbody><p>12 rows × 4 columns</p><tr><th>1</th><td>0</td><td>100</td><td>2019-08-31</td><td>1234</td></tr><tr><th>2</th><td>1</td><td>300</td><td>2017-06-02</td><td>89</td></tr><tr><th>3</th><td>0</td><td>200</td><td>2015-05-05</td><td>3412</td></tr><tr><th>4</th><td>1</td><td>400</td><td>2014-10-08</td><td>578</td></tr><tr><th>5</th><td>1</td><td>200</td><td>2013-05-10</td><td>998</td></tr><tr><th>6</th><td>1</td><td>300</td><td>2012-04-02</td><td>124</td></tr><tr><th>7</th><td>1</td><td>200</td><td>2011-08-02</td><td>665</td></tr><tr><th>8</th><td>0</td><td>800</td><td>2009-10-11</td><td>8881</td></tr><tr><th>9</th><td>1</td><td>1000</td><td>2008-10-02</td><td>901</td></tr><tr><th>10</th><td>0</td><td>900</td><td>2007-06-06</td><td>12</td></tr><tr><th>11</th><td>1</td><td>700</td><td>2011-07-07</td><td>1234</td></tr><tr><th>12</th><td>1</td><td>500</td><td>2011-01-17</td><td>1234</td></tr></tbody></table>"
      ],
      "text/latex": [
       "\\begin{tabular}{r|cccc}\n",
       "\t& A & B & C & ID\\\\\n",
       "\t\\hline\n",
       "\t& Int64 & Int64 & Date & Int64\\\\\n",
       "\t\\hline\n",
       "\t1 & 0 & 100 & 2019-08-31 & 1234 \\\\\n",
       "\t2 & 1 & 300 & 2017-06-02 & 89 \\\\\n",
       "\t3 & 0 & 200 & 2015-05-05 & 3412 \\\\\n",
       "\t4 & 1 & 400 & 2014-10-08 & 578 \\\\\n",
       "\t5 & 1 & 200 & 2013-05-10 & 998 \\\\\n",
       "\t6 & 1 & 300 & 2012-04-02 & 124 \\\\\n",
       "\t7 & 1 & 200 & 2011-08-02 & 665 \\\\\n",
       "\t8 & 0 & 800 & 2009-10-11 & 8881 \\\\\n",
       "\t9 & 1 & 1000 & 2008-10-02 & 901 \\\\\n",
       "\t10 & 0 & 900 & 2007-06-06 & 12 \\\\\n",
       "\t11 & 1 & 700 & 2011-07-07 & 1234 \\\\\n",
       "\t12 & 1 & 500 & 2011-01-17 & 1234 \\\\\n",
       "\\end{tabular}\n"
      ],
      "text/plain": [
       "12×4 DataFrame\n",
       "│ Row │ A     │ B     │ C          │ ID    │\n",
       "│     │ \u001b[90mInt64\u001b[39m │ \u001b[90mInt64\u001b[39m │ \u001b[90mDate\u001b[39m       │ \u001b[90mInt64\u001b[39m │\n",
       "├─────┼───────┼───────┼────────────┼───────┤\n",
       "│ 1   │ 0     │ 100   │ 2019-08-31 │ 1234  │\n",
       "│ 2   │ 1     │ 300   │ 2017-06-02 │ 89    │\n",
       "│ 3   │ 0     │ 200   │ 2015-05-05 │ 3412  │\n",
       "│ 4   │ 1     │ 400   │ 2014-10-08 │ 578   │\n",
       "│ 5   │ 1     │ 200   │ 2013-05-10 │ 998   │\n",
       "│ 6   │ 1     │ 300   │ 2012-04-02 │ 124   │\n",
       "│ 7   │ 1     │ 200   │ 2011-08-02 │ 665   │\n",
       "│ 8   │ 0     │ 800   │ 2009-10-11 │ 8881  │\n",
       "│ 9   │ 1     │ 1000  │ 2008-10-02 │ 901   │\n",
       "│ 10  │ 0     │ 900   │ 2007-06-06 │ 12    │\n",
       "│ 11  │ 1     │ 700   │ 2011-07-07 │ 1234  │\n",
       "│ 12  │ 1     │ 500   │ 2011-01-17 │ 1234  │"
      ]
     },
     "execution_count": 24,
     "metadata": {},
     "output_type": "execute_result"
    }
   ],
   "source": [
    "df1"
   ]
  },
  {
   "cell_type": "code",
   "execution_count": 25,
   "metadata": {},
   "outputs": [
    {
     "ename": "ArgumentError",
     "evalue": "ArgumentError: Merge key(s) are not unique in both df1 and df2. df1 contains 1 duplicate key: (ID = 1234,). df2 contains 1 duplicate key: (ID = 1234,).",
     "output_type": "error",
     "traceback": [
      "ArgumentError: Merge key(s) are not unique in both df1 and df2. df1 contains 1 duplicate key: (ID = 1234,). df2 contains 1 duplicate key: (ID = 1234,).",
      "",
      "Stacktrace:",
      " [1] #_join#327(::Symbol, ::Symbol, ::Bool, ::Nothing, ::Tuple{Bool,Bool}, ::typeof(DataFrames._join), ::DataFrame, ::DataFrame) at /nas/longleaf/apps/julia/1.3.0/share/julia/packages/DataFrames/lfoTw/src/abstractdataframe/join.jl:331",
      " [2] (::DataFrames.var\"#kw##_join\")(::NamedTuple{(:on, :kind, :makeunique, :indicator, :validate),Tuple{Symbol,Symbol,Bool,Nothing,Tuple{Bool,Bool}}}, ::typeof(DataFrames._join), ::DataFrame, ::DataFrame) at ./none:0",
      " [3] (::DataFrames.var\"#kw##leftjoin\")(::NamedTuple{(:on, :makeunique, :indicator, :validate),Tuple{Symbol,Bool,Nothing,Tuple{Bool,Bool}}}, ::typeof(leftjoin), ::DataFrame, ::DataFrame) at /nas/longleaf/apps/julia/1.3.0/share/julia/packages/DataFrames/lfoTw/src/abstractdataframe/join.jl:636",
      " [4] #join#545(::Symbol, ::Symbol, ::Bool, ::Nothing, ::Tuple{Bool,Bool}, ::typeof(join), ::DataFrame, ::DataFrame) at /nas/longleaf/apps/julia/1.3.0/share/julia/packages/DataFrames/lfoTw/src/deprecated.jl:300",
      " [5] (::Base.var\"#kw##join\")(::NamedTuple{(:on, :validate, :kind),Tuple{Symbol,Tuple{Bool,Bool},Symbol}}, ::typeof(join), ::DataFrame, ::DataFrame) at ./none:0",
      " [6] top-level scope at In[25]:1"
     ]
    }
   ],
   "source": [
    "left_join_3 = join(df1, df2, on = :ID, validate = (true, true), kind = :left)"
   ]
  },
  {
   "cell_type": "markdown",
   "metadata": {},
   "source": [
    "Let's delete the last row, i.e. row 12, from **df2** with <i>ID</i> 1234. This will leave it with just one entry for <i>ID</i> 1234."
   ]
  },
  {
   "cell_type": "code",
   "execution_count": 26,
   "metadata": {},
   "outputs": [
    {
     "name": "stderr",
     "output_type": "stream",
     "text": [
      "┌ Warning: `deleterows!(df::DataFrame, inds)` is deprecated, use `delete!(df, inds)` instead.\n",
      "│   caller = top-level scope at In[26]:1\n",
      "└ @ Core In[26]:1\n"
     ]
    },
    {
     "data": {
      "text/html": [
       "<table class=\"data-frame\"><thead><tr><th></th><th>D</th><th>E</th><th>F</th><th>ID</th></tr><tr><th></th><th>Int64</th><th>Float64</th><th>Float64</th><th>Int64</th></tr></thead><tbody><p>11 rows × 4 columns</p><tr><th>1</th><td>2</td><td>3.2</td><td>0.0128778</td><td>1234</td></tr><tr><th>2</th><td>3</td><td>8.9</td><td>0.41265</td><td>22</td></tr><tr><th>3</th><td>3</td><td>10.2</td><td>-0.527092</td><td>3412</td></tr><tr><th>4</th><td>3</td><td>11.3</td><td>1.1258</td><td>578</td></tr><tr><th>5</th><td>2</td><td>88.1</td><td>-0.663834</td><td>998</td></tr><tr><th>6</th><td>3</td><td>52.3</td><td>0.380954</td><td>124</td></tr><tr><th>7</th><td>2</td><td>15.2</td><td>-0.419663</td><td>18</td></tr><tr><th>8</th><td>2</td><td>66.7</td><td>-0.604882</td><td>8881</td></tr><tr><th>9</th><td>2</td><td>98.9</td><td>0.27131</td><td>901</td></tr><tr><th>10</th><td>2</td><td>30.2</td><td>0.713718</td><td>12</td></tr><tr><th>11</th><td>3</td><td>16.0</td><td>-1.60143</td><td>44</td></tr></tbody></table>"
      ],
      "text/latex": [
       "\\begin{tabular}{r|cccc}\n",
       "\t& D & E & F & ID\\\\\n",
       "\t\\hline\n",
       "\t& Int64 & Float64 & Float64 & Int64\\\\\n",
       "\t\\hline\n",
       "\t1 & 2 & 3.2 & 0.0128778 & 1234 \\\\\n",
       "\t2 & 3 & 8.9 & 0.41265 & 22 \\\\\n",
       "\t3 & 3 & 10.2 & -0.527092 & 3412 \\\\\n",
       "\t4 & 3 & 11.3 & 1.1258 & 578 \\\\\n",
       "\t5 & 2 & 88.1 & -0.663834 & 998 \\\\\n",
       "\t6 & 3 & 52.3 & 0.380954 & 124 \\\\\n",
       "\t7 & 2 & 15.2 & -0.419663 & 18 \\\\\n",
       "\t8 & 2 & 66.7 & -0.604882 & 8881 \\\\\n",
       "\t9 & 2 & 98.9 & 0.27131 & 901 \\\\\n",
       "\t10 & 2 & 30.2 & 0.713718 & 12 \\\\\n",
       "\t11 & 3 & 16.0 & -1.60143 & 44 \\\\\n",
       "\\end{tabular}\n"
      ],
      "text/plain": [
       "11×4 DataFrame\n",
       "│ Row │ D     │ E       │ F         │ ID    │\n",
       "│     │ \u001b[90mInt64\u001b[39m │ \u001b[90mFloat64\u001b[39m │ \u001b[90mFloat64\u001b[39m   │ \u001b[90mInt64\u001b[39m │\n",
       "├─────┼───────┼─────────┼───────────┼───────┤\n",
       "│ 1   │ 2     │ 3.2     │ 0.0128778 │ 1234  │\n",
       "│ 2   │ 3     │ 8.9     │ 0.41265   │ 22    │\n",
       "│ 3   │ 3     │ 10.2    │ -0.527092 │ 3412  │\n",
       "│ 4   │ 3     │ 11.3    │ 1.1258    │ 578   │\n",
       "│ 5   │ 2     │ 88.1    │ -0.663834 │ 998   │\n",
       "│ 6   │ 3     │ 52.3    │ 0.380954  │ 124   │\n",
       "│ 7   │ 2     │ 15.2    │ -0.419663 │ 18    │\n",
       "│ 8   │ 2     │ 66.7    │ -0.604882 │ 8881  │\n",
       "│ 9   │ 2     │ 98.9    │ 0.27131   │ 901   │\n",
       "│ 10  │ 2     │ 30.2    │ 0.713718  │ 12    │\n",
       "│ 11  │ 3     │ 16.0    │ -1.60143  │ 44    │"
      ]
     },
     "execution_count": 26,
     "metadata": {},
     "output_type": "execute_result"
    }
   ],
   "source": [
    "deleterows!(df2, 12)"
   ]
  },
  {
   "cell_type": "markdown",
   "metadata": {},
   "source": [
    "Now if we set `validate = (false, true)` the join will work since we are not requiring the left table to have unique key values, due to passed in value of false,; but we are requiring the right table to have unique key values (which it now does), due to the passed in value of true for the validate argument."
   ]
  },
  {
   "cell_type": "code",
   "execution_count": 27,
   "metadata": {},
   "outputs": [
    {
     "data": {
      "text/html": [
       "<table class=\"data-frame\"><thead><tr><th></th><th>A</th><th>B</th><th>C</th><th>ID</th><th>D</th><th>E</th><th>F</th></tr><tr><th></th><th>Int64</th><th>Int64</th><th>Date</th><th>Int64</th><th>Int64?</th><th>Float64?</th><th>Float64?</th></tr></thead><tbody><p>12 rows × 7 columns</p><tr><th>1</th><td>0</td><td>100</td><td>2019-08-31</td><td>1234</td><td>2</td><td>3.2</td><td>0.0128778</td></tr><tr><th>2</th><td>1</td><td>300</td><td>2017-06-02</td><td>89</td><td><em>missing</em></td><td><em>missing</em></td><td><em>missing</em></td></tr><tr><th>3</th><td>0</td><td>200</td><td>2015-05-05</td><td>3412</td><td>3</td><td>10.2</td><td>-0.527092</td></tr><tr><th>4</th><td>1</td><td>400</td><td>2014-10-08</td><td>578</td><td>3</td><td>11.3</td><td>1.1258</td></tr><tr><th>5</th><td>1</td><td>200</td><td>2013-05-10</td><td>998</td><td>2</td><td>88.1</td><td>-0.663834</td></tr><tr><th>6</th><td>1</td><td>300</td><td>2012-04-02</td><td>124</td><td>3</td><td>52.3</td><td>0.380954</td></tr><tr><th>7</th><td>1</td><td>200</td><td>2011-08-02</td><td>665</td><td><em>missing</em></td><td><em>missing</em></td><td><em>missing</em></td></tr><tr><th>8</th><td>0</td><td>800</td><td>2009-10-11</td><td>8881</td><td>2</td><td>66.7</td><td>-0.604882</td></tr><tr><th>9</th><td>1</td><td>1000</td><td>2008-10-02</td><td>901</td><td>2</td><td>98.9</td><td>0.27131</td></tr><tr><th>10</th><td>0</td><td>900</td><td>2007-06-06</td><td>12</td><td>2</td><td>30.2</td><td>0.713718</td></tr><tr><th>11</th><td>1</td><td>700</td><td>2011-07-07</td><td>1234</td><td>2</td><td>3.2</td><td>0.0128778</td></tr><tr><th>12</th><td>1</td><td>500</td><td>2011-01-17</td><td>1234</td><td>2</td><td>3.2</td><td>0.0128778</td></tr></tbody></table>"
      ],
      "text/latex": [
       "\\begin{tabular}{r|ccccccc}\n",
       "\t& A & B & C & ID & D & E & F\\\\\n",
       "\t\\hline\n",
       "\t& Int64 & Int64 & Date & Int64 & Int64? & Float64? & Float64?\\\\\n",
       "\t\\hline\n",
       "\t1 & 0 & 100 & 2019-08-31 & 1234 & 2 & 3.2 & 0.0128778 \\\\\n",
       "\t2 & 1 & 300 & 2017-06-02 & 89 & \\emph{missing} & \\emph{missing} & \\emph{missing} \\\\\n",
       "\t3 & 0 & 200 & 2015-05-05 & 3412 & 3 & 10.2 & -0.527092 \\\\\n",
       "\t4 & 1 & 400 & 2014-10-08 & 578 & 3 & 11.3 & 1.1258 \\\\\n",
       "\t5 & 1 & 200 & 2013-05-10 & 998 & 2 & 88.1 & -0.663834 \\\\\n",
       "\t6 & 1 & 300 & 2012-04-02 & 124 & 3 & 52.3 & 0.380954 \\\\\n",
       "\t7 & 1 & 200 & 2011-08-02 & 665 & \\emph{missing} & \\emph{missing} & \\emph{missing} \\\\\n",
       "\t8 & 0 & 800 & 2009-10-11 & 8881 & 2 & 66.7 & -0.604882 \\\\\n",
       "\t9 & 1 & 1000 & 2008-10-02 & 901 & 2 & 98.9 & 0.27131 \\\\\n",
       "\t10 & 0 & 900 & 2007-06-06 & 12 & 2 & 30.2 & 0.713718 \\\\\n",
       "\t11 & 1 & 700 & 2011-07-07 & 1234 & 2 & 3.2 & 0.0128778 \\\\\n",
       "\t12 & 1 & 500 & 2011-01-17 & 1234 & 2 & 3.2 & 0.0128778 \\\\\n",
       "\\end{tabular}\n"
      ],
      "text/plain": [
       "12×7 DataFrame\n",
       "│ Row │ A     │ B     │ C          │ ID    │ D       │ E        │ F         │\n",
       "│     │ \u001b[90mInt64\u001b[39m │ \u001b[90mInt64\u001b[39m │ \u001b[90mDate\u001b[39m       │ \u001b[90mInt64\u001b[39m │ \u001b[90mInt64?\u001b[39m  │ \u001b[90mFloat64?\u001b[39m │ \u001b[90mFloat64?\u001b[39m  │\n",
       "├─────┼───────┼───────┼────────────┼───────┼─────────┼──────────┼───────────┤\n",
       "│ 1   │ 0     │ 100   │ 2019-08-31 │ 1234  │ 2       │ 3.2      │ 0.0128778 │\n",
       "│ 2   │ 1     │ 300   │ 2017-06-02 │ 89    │ \u001b[90mmissing\u001b[39m │ \u001b[90mmissing\u001b[39m  │ \u001b[90mmissing\u001b[39m   │\n",
       "│ 3   │ 0     │ 200   │ 2015-05-05 │ 3412  │ 3       │ 10.2     │ -0.527092 │\n",
       "│ 4   │ 1     │ 400   │ 2014-10-08 │ 578   │ 3       │ 11.3     │ 1.1258    │\n",
       "│ 5   │ 1     │ 200   │ 2013-05-10 │ 998   │ 2       │ 88.1     │ -0.663834 │\n",
       "│ 6   │ 1     │ 300   │ 2012-04-02 │ 124   │ 3       │ 52.3     │ 0.380954  │\n",
       "│ 7   │ 1     │ 200   │ 2011-08-02 │ 665   │ \u001b[90mmissing\u001b[39m │ \u001b[90mmissing\u001b[39m  │ \u001b[90mmissing\u001b[39m   │\n",
       "│ 8   │ 0     │ 800   │ 2009-10-11 │ 8881  │ 2       │ 66.7     │ -0.604882 │\n",
       "│ 9   │ 1     │ 1000  │ 2008-10-02 │ 901   │ 2       │ 98.9     │ 0.27131   │\n",
       "│ 10  │ 0     │ 900   │ 2007-06-06 │ 12    │ 2       │ 30.2     │ 0.713718  │\n",
       "│ 11  │ 1     │ 700   │ 2011-07-07 │ 1234  │ 2       │ 3.2      │ 0.0128778 │\n",
       "│ 12  │ 1     │ 500   │ 2011-01-17 │ 1234  │ 2       │ 3.2      │ 0.0128778 │"
      ]
     },
     "execution_count": 27,
     "metadata": {},
     "output_type": "execute_result"
    }
   ],
   "source": [
    "left_join_4 = join(df1, df2, on = :ID, validate = (false, true), kind = :left)"
   ]
  },
  {
   "cell_type": "markdown",
   "metadata": {},
   "source": [
    "IV. Joining on two variables: <br/>"
   ]
  },
  {
   "cell_type": "code",
   "execution_count": 28,
   "metadata": {},
   "outputs": [],
   "source": [
    "# create dataframes\n",
    "\n",
    "df1 = DataFrame(A = [0, 1, 0, 1, 1, 1, 1, 0, 1, 0], \n",
    "                B = [100, 300, 200, 400, 200, 300, 200, 800, 1000, 900], \n",
    "                C = [Date(2019, 8, 31), Date(2017, 6, 2), Date(2015, 5, 5), Date(2014, 10, 8), Date(2013, 5, 10),\n",
    "                      Date(2012, 4, 2), Date(2011, 8, 2), Date(2009, 10, 11), Date(2008, 10, 2), Date(2007, 6,6)],\n",
    "                ID = [1234, 89, 3412, 578, 998, 124, 665, 8881, 901, 12] );\n",
    "\n",
    "df2 = DataFrame(D = [2, 3, 3, 3, 2, 3, 2, 2, 2, 2, 3], \n",
    "                E = [3.2, 8.9, 10.2, 11.3, 88.1, 52.3, 15.2, 66.7, 98.9, 30.2, 16.0], \n",
    "                F = randn(11),\n",
    "                ID = [1234, 22, 3412, 578, 998, 124, 18, 8881, 901, 12, 44]);"
   ]
  },
  {
   "cell_type": "markdown",
   "metadata": {},
   "source": [
    "You can join on more than one variable. Here we'll do an example where we join on two variables. We'll add a column named <i>A</i> to **df2** so that now both dataframes will have <i>ID</i> and <i>A</i> columns."
   ]
  },
  {
   "cell_type": "code",
   "execution_count": 29,
   "metadata": {},
   "outputs": [],
   "source": [
    "df2.A = [0, 1, 1, 0, 0, 1, 1, 0, 0, 1, 1];"
   ]
  },
  {
   "cell_type": "code",
   "execution_count": 30,
   "metadata": {},
   "outputs": [
    {
     "data": {
      "text/html": [
       "<table class=\"data-frame\"><thead><tr><th></th><th>D</th><th>E</th><th>F</th><th>ID</th><th>A</th></tr><tr><th></th><th>Int64</th><th>Float64</th><th>Float64</th><th>Int64</th><th>Int64</th></tr></thead><tbody><p>11 rows × 5 columns</p><tr><th>1</th><td>2</td><td>3.2</td><td>-1.57344</td><td>1234</td><td>0</td></tr><tr><th>2</th><td>3</td><td>8.9</td><td>-0.204683</td><td>22</td><td>1</td></tr><tr><th>3</th><td>3</td><td>10.2</td><td>0.69225</td><td>3412</td><td>1</td></tr><tr><th>4</th><td>3</td><td>11.3</td><td>-0.837547</td><td>578</td><td>0</td></tr><tr><th>5</th><td>2</td><td>88.1</td><td>-0.0024437</td><td>998</td><td>0</td></tr><tr><th>6</th><td>3</td><td>52.3</td><td>-0.433899</td><td>124</td><td>1</td></tr><tr><th>7</th><td>2</td><td>15.2</td><td>0.828746</td><td>18</td><td>1</td></tr><tr><th>8</th><td>2</td><td>66.7</td><td>-1.29748</td><td>8881</td><td>0</td></tr><tr><th>9</th><td>2</td><td>98.9</td><td>-1.54095</td><td>901</td><td>0</td></tr><tr><th>10</th><td>2</td><td>30.2</td><td>0.440707</td><td>12</td><td>1</td></tr><tr><th>11</th><td>3</td><td>16.0</td><td>0.0317182</td><td>44</td><td>1</td></tr></tbody></table>"
      ],
      "text/latex": [
       "\\begin{tabular}{r|ccccc}\n",
       "\t& D & E & F & ID & A\\\\\n",
       "\t\\hline\n",
       "\t& Int64 & Float64 & Float64 & Int64 & Int64\\\\\n",
       "\t\\hline\n",
       "\t1 & 2 & 3.2 & -1.57344 & 1234 & 0 \\\\\n",
       "\t2 & 3 & 8.9 & -0.204683 & 22 & 1 \\\\\n",
       "\t3 & 3 & 10.2 & 0.69225 & 3412 & 1 \\\\\n",
       "\t4 & 3 & 11.3 & -0.837547 & 578 & 0 \\\\\n",
       "\t5 & 2 & 88.1 & -0.0024437 & 998 & 0 \\\\\n",
       "\t6 & 3 & 52.3 & -0.433899 & 124 & 1 \\\\\n",
       "\t7 & 2 & 15.2 & 0.828746 & 18 & 1 \\\\\n",
       "\t8 & 2 & 66.7 & -1.29748 & 8881 & 0 \\\\\n",
       "\t9 & 2 & 98.9 & -1.54095 & 901 & 0 \\\\\n",
       "\t10 & 2 & 30.2 & 0.440707 & 12 & 1 \\\\\n",
       "\t11 & 3 & 16.0 & 0.0317182 & 44 & 1 \\\\\n",
       "\\end{tabular}\n"
      ],
      "text/plain": [
       "11×5 DataFrame\n",
       "│ Row │ D     │ E       │ F          │ ID    │ A     │\n",
       "│     │ \u001b[90mInt64\u001b[39m │ \u001b[90mFloat64\u001b[39m │ \u001b[90mFloat64\u001b[39m    │ \u001b[90mInt64\u001b[39m │ \u001b[90mInt64\u001b[39m │\n",
       "├─────┼───────┼─────────┼────────────┼───────┼───────┤\n",
       "│ 1   │ 2     │ 3.2     │ -1.57344   │ 1234  │ 0     │\n",
       "│ 2   │ 3     │ 8.9     │ -0.204683  │ 22    │ 1     │\n",
       "│ 3   │ 3     │ 10.2    │ 0.69225    │ 3412  │ 1     │\n",
       "│ 4   │ 3     │ 11.3    │ -0.837547  │ 578   │ 0     │\n",
       "│ 5   │ 2     │ 88.1    │ -0.0024437 │ 998   │ 0     │\n",
       "│ 6   │ 3     │ 52.3    │ -0.433899  │ 124   │ 1     │\n",
       "│ 7   │ 2     │ 15.2    │ 0.828746   │ 18    │ 1     │\n",
       "│ 8   │ 2     │ 66.7    │ -1.29748   │ 8881  │ 0     │\n",
       "│ 9   │ 2     │ 98.9    │ -1.54095   │ 901   │ 0     │\n",
       "│ 10  │ 2     │ 30.2    │ 0.440707   │ 12    │ 1     │\n",
       "│ 11  │ 3     │ 16.0    │ 0.0317182  │ 44    │ 1     │"
      ]
     },
     "execution_count": 30,
     "metadata": {},
     "output_type": "execute_result"
    }
   ],
   "source": [
    "df2"
   ]
  },
  {
   "cell_type": "markdown",
   "metadata": {},
   "source": [
    "Now we can do an inner join on the two variables <i>ID</i> and <i>A</i>. You can just specify these variables in the **on** keyword argument. Now when joining on both <i>ID</i> and <i>A</i> there are only three matching cases."
   ]
  },
  {
   "cell_type": "code",
   "execution_count": 31,
   "metadata": {},
   "outputs": [
    {
     "data": {
      "text/html": [
       "<table class=\"data-frame\"><thead><tr><th></th><th>A</th><th>B</th><th>C</th><th>ID</th><th>D</th><th>E</th><th>F</th></tr><tr><th></th><th>Int64</th><th>Int64</th><th>Date</th><th>Int64</th><th>Int64</th><th>Float64</th><th>Float64</th></tr></thead><tbody><p>3 rows × 7 columns</p><tr><th>1</th><td>0</td><td>100</td><td>2019-08-31</td><td>1234</td><td>2</td><td>3.2</td><td>-1.57344</td></tr><tr><th>2</th><td>1</td><td>300</td><td>2012-04-02</td><td>124</td><td>3</td><td>52.3</td><td>-0.433899</td></tr><tr><th>3</th><td>0</td><td>800</td><td>2009-10-11</td><td>8881</td><td>2</td><td>66.7</td><td>-1.29748</td></tr></tbody></table>"
      ],
      "text/latex": [
       "\\begin{tabular}{r|ccccccc}\n",
       "\t& A & B & C & ID & D & E & F\\\\\n",
       "\t\\hline\n",
       "\t& Int64 & Int64 & Date & Int64 & Int64 & Float64 & Float64\\\\\n",
       "\t\\hline\n",
       "\t1 & 0 & 100 & 2019-08-31 & 1234 & 2 & 3.2 & -1.57344 \\\\\n",
       "\t2 & 1 & 300 & 2012-04-02 & 124 & 3 & 52.3 & -0.433899 \\\\\n",
       "\t3 & 0 & 800 & 2009-10-11 & 8881 & 2 & 66.7 & -1.29748 \\\\\n",
       "\\end{tabular}\n"
      ],
      "text/plain": [
       "3×7 DataFrame\n",
       "│ Row │ A     │ B     │ C          │ ID    │ D     │ E       │ F         │\n",
       "│     │ \u001b[90mInt64\u001b[39m │ \u001b[90mInt64\u001b[39m │ \u001b[90mDate\u001b[39m       │ \u001b[90mInt64\u001b[39m │ \u001b[90mInt64\u001b[39m │ \u001b[90mFloat64\u001b[39m │ \u001b[90mFloat64\u001b[39m   │\n",
       "├─────┼───────┼───────┼────────────┼───────┼───────┼─────────┼───────────┤\n",
       "│ 1   │ 0     │ 100   │ 2019-08-31 │ 1234  │ 2     │ 3.2     │ -1.57344  │\n",
       "│ 2   │ 1     │ 300   │ 2012-04-02 │ 124   │ 3     │ 52.3    │ -0.433899 │\n",
       "│ 3   │ 0     │ 800   │ 2009-10-11 │ 8881  │ 2     │ 66.7    │ -1.29748  │"
      ]
     },
     "execution_count": 31,
     "metadata": {},
     "output_type": "execute_result"
    }
   ],
   "source": [
    "inner_join = join(df1, df2, on = [:ID, :A], kind = :inner)"
   ]
  },
  {
   "cell_type": "markdown",
   "metadata": {},
   "source": [
    "### Concatenation:"
   ]
  },
  {
   "cell_type": "markdown",
   "metadata": {},
   "source": [
    "Concatenating, or combining, dataframes is relatively straightforward in Julia. The main commands are `hcat` and `vcat` for horizontal and vertical concatenation respectively."
   ]
  },
  {
   "cell_type": "markdown",
   "metadata": {},
   "source": [
    "The **hcat** function assumes the input dataframes have same number of rows. Horizontal concatenation combines two dataframes along the second dimension. What results is a dataframe with the same number of rows as either dataframe but with columns from both dataframes."
   ]
  },
  {
   "cell_type": "code",
   "execution_count": 32,
   "metadata": {},
   "outputs": [],
   "source": [
    "# create dataframes\n",
    "\n",
    "df1 = DataFrame(A = [0, 1, 0, 1, 1, 1, 1, 0, 1, 0], \n",
    "                B = [100, 300, 200, 400, 200, 300, 200, 800, 1000, 900], \n",
    "                C = [Date(2019, 8, 31), Date(2017, 6, 2), Date(2015, 5, 5), Date(2014, 10, 8), Date(2013, 5, 10),\n",
    "                      Date(2012, 4, 2), Date(2011, 8, 2), Date(2009, 10, 11), Date(2008, 10, 2), Date(2007, 6,6)],\n",
    "                ID = [1234, 89, 3412, 578, 998, 124, 665, 8881, 901, 12] );\n",
    "\n",
    "df2 = DataFrame(D = [2, 3, 3, 3, 2, 3, 2, 2, 2, 2, 3], \n",
    "                E = [3.2, 8.9, 10.2, 11.3, 88.1, 52.3, 15.2, 66.7, 98.9, 30.2, 16.0], \n",
    "                F = randn(11),\n",
    "                ID = [1234, 22, 3412, 578, 998, 124, 18, 8881, 901, 12, 44]);"
   ]
  },
  {
   "cell_type": "markdown",
   "metadata": {},
   "source": [
    "Let's create a new dataframe called **df2_noid** that is the same as **df2** but without the <i>ID</i> column. This way the **df1** and **df2** dataframes will have uniquely named columns.\n",
    "\n",
    "We'll also delete the last row from **df2** so it has the number of rows as **df1** which is a requirement for `hcat`."
   ]
  },
  {
   "cell_type": "code",
   "execution_count": 33,
   "metadata": {},
   "outputs": [
    {
     "name": "stderr",
     "output_type": "stream",
     "text": [
      "┌ Warning: `deleterows!(df::DataFrame, inds)` is deprecated, use `delete!(df, inds)` instead.\n",
      "│   caller = top-level scope at In[33]:1\n",
      "└ @ Core In[33]:1\n"
     ]
    }
   ],
   "source": [
    "deleterows!(df2, nrow(df2)); # delete last row from df2"
   ]
  },
  {
   "cell_type": "code",
   "execution_count": 34,
   "metadata": {},
   "outputs": [],
   "source": [
    "df2_noid = df2[:, Not(:ID)];"
   ]
  },
  {
   "cell_type": "markdown",
   "metadata": {},
   "source": [
    "Now we can horizontally concatenate the two dataframes."
   ]
  },
  {
   "cell_type": "code",
   "execution_count": 35,
   "metadata": {},
   "outputs": [
    {
     "data": {
      "text/html": [
       "<table class=\"data-frame\"><thead><tr><th></th><th>A</th><th>B</th><th>C</th><th>ID</th><th>D</th><th>E</th><th>F</th></tr><tr><th></th><th>Int64</th><th>Int64</th><th>Date</th><th>Int64</th><th>Int64</th><th>Float64</th><th>Float64</th></tr></thead><tbody><p>10 rows × 7 columns</p><tr><th>1</th><td>0</td><td>100</td><td>2019-08-31</td><td>1234</td><td>2</td><td>3.2</td><td>1.66717</td></tr><tr><th>2</th><td>1</td><td>300</td><td>2017-06-02</td><td>89</td><td>3</td><td>8.9</td><td>-0.3383</td></tr><tr><th>3</th><td>0</td><td>200</td><td>2015-05-05</td><td>3412</td><td>3</td><td>10.2</td><td>-0.0274986</td></tr><tr><th>4</th><td>1</td><td>400</td><td>2014-10-08</td><td>578</td><td>3</td><td>11.3</td><td>-0.0368451</td></tr><tr><th>5</th><td>1</td><td>200</td><td>2013-05-10</td><td>998</td><td>2</td><td>88.1</td><td>0.232558</td></tr><tr><th>6</th><td>1</td><td>300</td><td>2012-04-02</td><td>124</td><td>3</td><td>52.3</td><td>-0.500451</td></tr><tr><th>7</th><td>1</td><td>200</td><td>2011-08-02</td><td>665</td><td>2</td><td>15.2</td><td>-0.396486</td></tr><tr><th>8</th><td>0</td><td>800</td><td>2009-10-11</td><td>8881</td><td>2</td><td>66.7</td><td>0.255381</td></tr><tr><th>9</th><td>1</td><td>1000</td><td>2008-10-02</td><td>901</td><td>2</td><td>98.9</td><td>-1.25766</td></tr><tr><th>10</th><td>0</td><td>900</td><td>2007-06-06</td><td>12</td><td>2</td><td>30.2</td><td>0.531815</td></tr></tbody></table>"
      ],
      "text/latex": [
       "\\begin{tabular}{r|ccccccc}\n",
       "\t& A & B & C & ID & D & E & F\\\\\n",
       "\t\\hline\n",
       "\t& Int64 & Int64 & Date & Int64 & Int64 & Float64 & Float64\\\\\n",
       "\t\\hline\n",
       "\t1 & 0 & 100 & 2019-08-31 & 1234 & 2 & 3.2 & 1.66717 \\\\\n",
       "\t2 & 1 & 300 & 2017-06-02 & 89 & 3 & 8.9 & -0.3383 \\\\\n",
       "\t3 & 0 & 200 & 2015-05-05 & 3412 & 3 & 10.2 & -0.0274986 \\\\\n",
       "\t4 & 1 & 400 & 2014-10-08 & 578 & 3 & 11.3 & -0.0368451 \\\\\n",
       "\t5 & 1 & 200 & 2013-05-10 & 998 & 2 & 88.1 & 0.232558 \\\\\n",
       "\t6 & 1 & 300 & 2012-04-02 & 124 & 3 & 52.3 & -0.500451 \\\\\n",
       "\t7 & 1 & 200 & 2011-08-02 & 665 & 2 & 15.2 & -0.396486 \\\\\n",
       "\t8 & 0 & 800 & 2009-10-11 & 8881 & 2 & 66.7 & 0.255381 \\\\\n",
       "\t9 & 1 & 1000 & 2008-10-02 & 901 & 2 & 98.9 & -1.25766 \\\\\n",
       "\t10 & 0 & 900 & 2007-06-06 & 12 & 2 & 30.2 & 0.531815 \\\\\n",
       "\\end{tabular}\n"
      ],
      "text/plain": [
       "10×7 DataFrame\n",
       "│ Row │ A     │ B     │ C          │ ID    │ D     │ E       │ F          │\n",
       "│     │ \u001b[90mInt64\u001b[39m │ \u001b[90mInt64\u001b[39m │ \u001b[90mDate\u001b[39m       │ \u001b[90mInt64\u001b[39m │ \u001b[90mInt64\u001b[39m │ \u001b[90mFloat64\u001b[39m │ \u001b[90mFloat64\u001b[39m    │\n",
       "├─────┼───────┼───────┼────────────┼───────┼───────┼─────────┼────────────┤\n",
       "│ 1   │ 0     │ 100   │ 2019-08-31 │ 1234  │ 2     │ 3.2     │ 1.66717    │\n",
       "│ 2   │ 1     │ 300   │ 2017-06-02 │ 89    │ 3     │ 8.9     │ -0.3383    │\n",
       "│ 3   │ 0     │ 200   │ 2015-05-05 │ 3412  │ 3     │ 10.2    │ -0.0274986 │\n",
       "│ 4   │ 1     │ 400   │ 2014-10-08 │ 578   │ 3     │ 11.3    │ -0.0368451 │\n",
       "│ 5   │ 1     │ 200   │ 2013-05-10 │ 998   │ 2     │ 88.1    │ 0.232558   │\n",
       "│ 6   │ 1     │ 300   │ 2012-04-02 │ 124   │ 3     │ 52.3    │ -0.500451  │\n",
       "│ 7   │ 1     │ 200   │ 2011-08-02 │ 665   │ 2     │ 15.2    │ -0.396486  │\n",
       "│ 8   │ 0     │ 800   │ 2009-10-11 │ 8881  │ 2     │ 66.7    │ 0.255381   │\n",
       "│ 9   │ 1     │ 1000  │ 2008-10-02 │ 901   │ 2     │ 98.9    │ -1.25766   │\n",
       "│ 10  │ 0     │ 900   │ 2007-06-06 │ 12    │ 2     │ 30.2    │ 0.531815   │"
      ]
     },
     "execution_count": 35,
     "metadata": {},
     "output_type": "execute_result"
    }
   ],
   "source": [
    "hcat(df1, df2_noid)"
   ]
  },
  {
   "cell_type": "markdown",
   "metadata": {},
   "source": [
    "Note if you had left the <i>ID</i> column in the right dataframe then you would've needed to use the `makeunique` option with **hcat** which would keep both <i>ID</i> columns in the resulting dataframe but automatically suffix the name of one of the ID columns with a _1."
   ]
  },
  {
   "cell_type": "code",
   "execution_count": 36,
   "metadata": {},
   "outputs": [
    {
     "data": {
      "text/html": [
       "<table class=\"data-frame\"><thead><tr><th></th><th>A</th><th>B</th><th>C</th><th>ID</th><th>D</th><th>E</th><th>F</th><th>ID_1</th></tr><tr><th></th><th>Int64</th><th>Int64</th><th>Date</th><th>Int64</th><th>Int64</th><th>Float64</th><th>Float64</th><th>Int64</th></tr></thead><tbody><p>10 rows × 8 columns</p><tr><th>1</th><td>0</td><td>100</td><td>2019-08-31</td><td>1234</td><td>2</td><td>3.2</td><td>1.66717</td><td>1234</td></tr><tr><th>2</th><td>1</td><td>300</td><td>2017-06-02</td><td>89</td><td>3</td><td>8.9</td><td>-0.3383</td><td>22</td></tr><tr><th>3</th><td>0</td><td>200</td><td>2015-05-05</td><td>3412</td><td>3</td><td>10.2</td><td>-0.0274986</td><td>3412</td></tr><tr><th>4</th><td>1</td><td>400</td><td>2014-10-08</td><td>578</td><td>3</td><td>11.3</td><td>-0.0368451</td><td>578</td></tr><tr><th>5</th><td>1</td><td>200</td><td>2013-05-10</td><td>998</td><td>2</td><td>88.1</td><td>0.232558</td><td>998</td></tr><tr><th>6</th><td>1</td><td>300</td><td>2012-04-02</td><td>124</td><td>3</td><td>52.3</td><td>-0.500451</td><td>124</td></tr><tr><th>7</th><td>1</td><td>200</td><td>2011-08-02</td><td>665</td><td>2</td><td>15.2</td><td>-0.396486</td><td>18</td></tr><tr><th>8</th><td>0</td><td>800</td><td>2009-10-11</td><td>8881</td><td>2</td><td>66.7</td><td>0.255381</td><td>8881</td></tr><tr><th>9</th><td>1</td><td>1000</td><td>2008-10-02</td><td>901</td><td>2</td><td>98.9</td><td>-1.25766</td><td>901</td></tr><tr><th>10</th><td>0</td><td>900</td><td>2007-06-06</td><td>12</td><td>2</td><td>30.2</td><td>0.531815</td><td>12</td></tr></tbody></table>"
      ],
      "text/latex": [
       "\\begin{tabular}{r|cccccccc}\n",
       "\t& A & B & C & ID & D & E & F & ID\\_1\\\\\n",
       "\t\\hline\n",
       "\t& Int64 & Int64 & Date & Int64 & Int64 & Float64 & Float64 & Int64\\\\\n",
       "\t\\hline\n",
       "\t1 & 0 & 100 & 2019-08-31 & 1234 & 2 & 3.2 & 1.66717 & 1234 \\\\\n",
       "\t2 & 1 & 300 & 2017-06-02 & 89 & 3 & 8.9 & -0.3383 & 22 \\\\\n",
       "\t3 & 0 & 200 & 2015-05-05 & 3412 & 3 & 10.2 & -0.0274986 & 3412 \\\\\n",
       "\t4 & 1 & 400 & 2014-10-08 & 578 & 3 & 11.3 & -0.0368451 & 578 \\\\\n",
       "\t5 & 1 & 200 & 2013-05-10 & 998 & 2 & 88.1 & 0.232558 & 998 \\\\\n",
       "\t6 & 1 & 300 & 2012-04-02 & 124 & 3 & 52.3 & -0.500451 & 124 \\\\\n",
       "\t7 & 1 & 200 & 2011-08-02 & 665 & 2 & 15.2 & -0.396486 & 18 \\\\\n",
       "\t8 & 0 & 800 & 2009-10-11 & 8881 & 2 & 66.7 & 0.255381 & 8881 \\\\\n",
       "\t9 & 1 & 1000 & 2008-10-02 & 901 & 2 & 98.9 & -1.25766 & 901 \\\\\n",
       "\t10 & 0 & 900 & 2007-06-06 & 12 & 2 & 30.2 & 0.531815 & 12 \\\\\n",
       "\\end{tabular}\n"
      ],
      "text/plain": [
       "10×8 DataFrame. Omitted printing of 1 columns\n",
       "│ Row │ A     │ B     │ C          │ ID    │ D     │ E       │ F          │\n",
       "│     │ \u001b[90mInt64\u001b[39m │ \u001b[90mInt64\u001b[39m │ \u001b[90mDate\u001b[39m       │ \u001b[90mInt64\u001b[39m │ \u001b[90mInt64\u001b[39m │ \u001b[90mFloat64\u001b[39m │ \u001b[90mFloat64\u001b[39m    │\n",
       "├─────┼───────┼───────┼────────────┼───────┼───────┼─────────┼────────────┤\n",
       "│ 1   │ 0     │ 100   │ 2019-08-31 │ 1234  │ 2     │ 3.2     │ 1.66717    │\n",
       "│ 2   │ 1     │ 300   │ 2017-06-02 │ 89    │ 3     │ 8.9     │ -0.3383    │\n",
       "│ 3   │ 0     │ 200   │ 2015-05-05 │ 3412  │ 3     │ 10.2    │ -0.0274986 │\n",
       "│ 4   │ 1     │ 400   │ 2014-10-08 │ 578   │ 3     │ 11.3    │ -0.0368451 │\n",
       "│ 5   │ 1     │ 200   │ 2013-05-10 │ 998   │ 2     │ 88.1    │ 0.232558   │\n",
       "│ 6   │ 1     │ 300   │ 2012-04-02 │ 124   │ 3     │ 52.3    │ -0.500451  │\n",
       "│ 7   │ 1     │ 200   │ 2011-08-02 │ 665   │ 2     │ 15.2    │ -0.396486  │\n",
       "│ 8   │ 0     │ 800   │ 2009-10-11 │ 8881  │ 2     │ 66.7    │ 0.255381   │\n",
       "│ 9   │ 1     │ 1000  │ 2008-10-02 │ 901   │ 2     │ 98.9    │ -1.25766   │\n",
       "│ 10  │ 0     │ 900   │ 2007-06-06 │ 12    │ 2     │ 30.2    │ 0.531815   │"
      ]
     },
     "execution_count": 36,
     "metadata": {},
     "output_type": "execute_result"
    }
   ],
   "source": [
    "hcat(df1, df2, makeunique=true)"
   ]
  },
  {
   "cell_type": "markdown",
   "metadata": {},
   "source": [
    "The `vcat` function works much the same as the `hcat` function except it concatenates along the first dimension. Each input dataframe can have a different number of rows but should have the same number of columns with the same column names."
   ]
  },
  {
   "cell_type": "markdown",
   "metadata": {},
   "source": [
    "Let's create a **df1new** dataframe with the same column names as the **df1** datframe. Note the column names do not need to be in the same order for **vcat** to work though the names must match."
   ]
  },
  {
   "cell_type": "code",
   "execution_count": 37,
   "metadata": {},
   "outputs": [
    {
     "data": {
      "text/html": [
       "<table class=\"data-frame\"><thead><tr><th></th><th>A</th><th>B</th><th>C</th><th>ID</th></tr><tr><th></th><th>Float64</th><th>Int64</th><th>Float64</th><th>Int64</th></tr></thead><tbody><p>11 rows × 4 columns</p><tr><th>1</th><td>3.2</td><td>2</td><td>0.655238</td><td>1234</td></tr><tr><th>2</th><td>8.9</td><td>3</td><td>2.23704</td><td>22</td></tr><tr><th>3</th><td>10.2</td><td>3</td><td>0.829874</td><td>3412</td></tr><tr><th>4</th><td>11.3</td><td>3</td><td>-0.577773</td><td>578</td></tr><tr><th>5</th><td>88.1</td><td>2</td><td>-0.898256</td><td>998</td></tr><tr><th>6</th><td>52.3</td><td>3</td><td>0.904124</td><td>124</td></tr><tr><th>7</th><td>15.2</td><td>2</td><td>0.0501277</td><td>18</td></tr><tr><th>8</th><td>66.7</td><td>2</td><td>-0.221864</td><td>8881</td></tr><tr><th>9</th><td>98.9</td><td>2</td><td>0.775255</td><td>901</td></tr><tr><th>10</th><td>30.2</td><td>2</td><td>0.562006</td><td>12</td></tr><tr><th>11</th><td>16.0</td><td>3</td><td>1.65962</td><td>44</td></tr></tbody></table>"
      ],
      "text/latex": [
       "\\begin{tabular}{r|cccc}\n",
       "\t& A & B & C & ID\\\\\n",
       "\t\\hline\n",
       "\t& Float64 & Int64 & Float64 & Int64\\\\\n",
       "\t\\hline\n",
       "\t1 & 3.2 & 2 & 0.655238 & 1234 \\\\\n",
       "\t2 & 8.9 & 3 & 2.23704 & 22 \\\\\n",
       "\t3 & 10.2 & 3 & 0.829874 & 3412 \\\\\n",
       "\t4 & 11.3 & 3 & -0.577773 & 578 \\\\\n",
       "\t5 & 88.1 & 2 & -0.898256 & 998 \\\\\n",
       "\t6 & 52.3 & 3 & 0.904124 & 124 \\\\\n",
       "\t7 & 15.2 & 2 & 0.0501277 & 18 \\\\\n",
       "\t8 & 66.7 & 2 & -0.221864 & 8881 \\\\\n",
       "\t9 & 98.9 & 2 & 0.775255 & 901 \\\\\n",
       "\t10 & 30.2 & 2 & 0.562006 & 12 \\\\\n",
       "\t11 & 16.0 & 3 & 1.65962 & 44 \\\\\n",
       "\\end{tabular}\n"
      ],
      "text/plain": [
       "11×4 DataFrame\n",
       "│ Row │ A       │ B     │ C         │ ID    │\n",
       "│     │ \u001b[90mFloat64\u001b[39m │ \u001b[90mInt64\u001b[39m │ \u001b[90mFloat64\u001b[39m   │ \u001b[90mInt64\u001b[39m │\n",
       "├─────┼─────────┼───────┼───────────┼───────┤\n",
       "│ 1   │ 3.2     │ 2     │ 0.655238  │ 1234  │\n",
       "│ 2   │ 8.9     │ 3     │ 2.23704   │ 22    │\n",
       "│ 3   │ 10.2    │ 3     │ 0.829874  │ 3412  │\n",
       "│ 4   │ 11.3    │ 3     │ -0.577773 │ 578   │\n",
       "│ 5   │ 88.1    │ 2     │ -0.898256 │ 998   │\n",
       "│ 6   │ 52.3    │ 3     │ 0.904124  │ 124   │\n",
       "│ 7   │ 15.2    │ 2     │ 0.0501277 │ 18    │\n",
       "│ 8   │ 66.7    │ 2     │ -0.221864 │ 8881  │\n",
       "│ 9   │ 98.9    │ 2     │ 0.775255  │ 901   │\n",
       "│ 10  │ 30.2    │ 2     │ 0.562006  │ 12    │\n",
       "│ 11  │ 16.0    │ 3     │ 1.65962   │ 44    │"
      ]
     },
     "execution_count": 37,
     "metadata": {},
     "output_type": "execute_result"
    }
   ],
   "source": [
    "df1new = DataFrame(A = [3.2, 8.9, 10.2, 11.3, 88.1, 52.3, 15.2, 66.7, 98.9, 30.2, 16.0],\n",
    "                   B = [2, 3, 3, 3, 2, 3, 2, 2, 2, 2, 3], \n",
    "                   C = randn(11),\n",
    "                   ID = [1234, 22, 3412, 578, 998, 124, 18, 8881, 901, 12, 44])"
   ]
  },
  {
   "cell_type": "code",
   "execution_count": 38,
   "metadata": {},
   "outputs": [
    {
     "data": {
      "text/html": [
       "<table class=\"data-frame\"><thead><tr><th></th><th>A</th><th>B</th><th>C</th><th>ID</th></tr><tr><th></th><th>Int64</th><th>Int64</th><th>Date</th><th>Int64</th></tr></thead><tbody><p>10 rows × 4 columns</p><tr><th>1</th><td>0</td><td>100</td><td>2019-08-31</td><td>1234</td></tr><tr><th>2</th><td>1</td><td>300</td><td>2017-06-02</td><td>89</td></tr><tr><th>3</th><td>0</td><td>200</td><td>2015-05-05</td><td>3412</td></tr><tr><th>4</th><td>1</td><td>400</td><td>2014-10-08</td><td>578</td></tr><tr><th>5</th><td>1</td><td>200</td><td>2013-05-10</td><td>998</td></tr><tr><th>6</th><td>1</td><td>300</td><td>2012-04-02</td><td>124</td></tr><tr><th>7</th><td>1</td><td>200</td><td>2011-08-02</td><td>665</td></tr><tr><th>8</th><td>0</td><td>800</td><td>2009-10-11</td><td>8881</td></tr><tr><th>9</th><td>1</td><td>1000</td><td>2008-10-02</td><td>901</td></tr><tr><th>10</th><td>0</td><td>900</td><td>2007-06-06</td><td>12</td></tr></tbody></table>"
      ],
      "text/latex": [
       "\\begin{tabular}{r|cccc}\n",
       "\t& A & B & C & ID\\\\\n",
       "\t\\hline\n",
       "\t& Int64 & Int64 & Date & Int64\\\\\n",
       "\t\\hline\n",
       "\t1 & 0 & 100 & 2019-08-31 & 1234 \\\\\n",
       "\t2 & 1 & 300 & 2017-06-02 & 89 \\\\\n",
       "\t3 & 0 & 200 & 2015-05-05 & 3412 \\\\\n",
       "\t4 & 1 & 400 & 2014-10-08 & 578 \\\\\n",
       "\t5 & 1 & 200 & 2013-05-10 & 998 \\\\\n",
       "\t6 & 1 & 300 & 2012-04-02 & 124 \\\\\n",
       "\t7 & 1 & 200 & 2011-08-02 & 665 \\\\\n",
       "\t8 & 0 & 800 & 2009-10-11 & 8881 \\\\\n",
       "\t9 & 1 & 1000 & 2008-10-02 & 901 \\\\\n",
       "\t10 & 0 & 900 & 2007-06-06 & 12 \\\\\n",
       "\\end{tabular}\n"
      ],
      "text/plain": [
       "10×4 DataFrame\n",
       "│ Row │ A     │ B     │ C          │ ID    │\n",
       "│     │ \u001b[90mInt64\u001b[39m │ \u001b[90mInt64\u001b[39m │ \u001b[90mDate\u001b[39m       │ \u001b[90mInt64\u001b[39m │\n",
       "├─────┼───────┼───────┼────────────┼───────┤\n",
       "│ 1   │ 0     │ 100   │ 2019-08-31 │ 1234  │\n",
       "│ 2   │ 1     │ 300   │ 2017-06-02 │ 89    │\n",
       "│ 3   │ 0     │ 200   │ 2015-05-05 │ 3412  │\n",
       "│ 4   │ 1     │ 400   │ 2014-10-08 │ 578   │\n",
       "│ 5   │ 1     │ 200   │ 2013-05-10 │ 998   │\n",
       "│ 6   │ 1     │ 300   │ 2012-04-02 │ 124   │\n",
       "│ 7   │ 1     │ 200   │ 2011-08-02 │ 665   │\n",
       "│ 8   │ 0     │ 800   │ 2009-10-11 │ 8881  │\n",
       "│ 9   │ 1     │ 1000  │ 2008-10-02 │ 901   │\n",
       "│ 10  │ 0     │ 900   │ 2007-06-06 │ 12    │"
      ]
     },
     "execution_count": 38,
     "metadata": {},
     "output_type": "execute_result"
    }
   ],
   "source": [
    "df1"
   ]
  },
  {
   "cell_type": "code",
   "execution_count": 39,
   "metadata": {},
   "outputs": [
    {
     "data": {
      "text/html": [
       "<table class=\"data-frame\"><thead><tr><th></th><th>A</th><th>B</th><th>C</th><th>ID</th></tr><tr><th></th><th>Float64</th><th>Int64</th><th>Any</th><th>Int64</th></tr></thead><tbody><p>21 rows × 4 columns</p><tr><th>1</th><td>0.0</td><td>100</td><td>2019-08-31</td><td>1234</td></tr><tr><th>2</th><td>1.0</td><td>300</td><td>2017-06-02</td><td>89</td></tr><tr><th>3</th><td>0.0</td><td>200</td><td>2015-05-05</td><td>3412</td></tr><tr><th>4</th><td>1.0</td><td>400</td><td>2014-10-08</td><td>578</td></tr><tr><th>5</th><td>1.0</td><td>200</td><td>2013-05-10</td><td>998</td></tr><tr><th>6</th><td>1.0</td><td>300</td><td>2012-04-02</td><td>124</td></tr><tr><th>7</th><td>1.0</td><td>200</td><td>2011-08-02</td><td>665</td></tr><tr><th>8</th><td>0.0</td><td>800</td><td>2009-10-11</td><td>8881</td></tr><tr><th>9</th><td>1.0</td><td>1000</td><td>2008-10-02</td><td>901</td></tr><tr><th>10</th><td>0.0</td><td>900</td><td>2007-06-06</td><td>12</td></tr><tr><th>11</th><td>3.2</td><td>2</td><td>0.655238</td><td>1234</td></tr><tr><th>12</th><td>8.9</td><td>3</td><td>2.23704</td><td>22</td></tr><tr><th>13</th><td>10.2</td><td>3</td><td>0.829874</td><td>3412</td></tr><tr><th>14</th><td>11.3</td><td>3</td><td>-0.577773</td><td>578</td></tr><tr><th>15</th><td>88.1</td><td>2</td><td>-0.898256</td><td>998</td></tr><tr><th>16</th><td>52.3</td><td>3</td><td>0.904124</td><td>124</td></tr><tr><th>17</th><td>15.2</td><td>2</td><td>0.0501277</td><td>18</td></tr><tr><th>18</th><td>66.7</td><td>2</td><td>-0.221864</td><td>8881</td></tr><tr><th>19</th><td>98.9</td><td>2</td><td>0.775255</td><td>901</td></tr><tr><th>20</th><td>30.2</td><td>2</td><td>0.562006</td><td>12</td></tr><tr><th>21</th><td>16.0</td><td>3</td><td>1.65962</td><td>44</td></tr></tbody></table>"
      ],
      "text/latex": [
       "\\begin{tabular}{r|cccc}\n",
       "\t& A & B & C & ID\\\\\n",
       "\t\\hline\n",
       "\t& Float64 & Int64 & Any & Int64\\\\\n",
       "\t\\hline\n",
       "\t1 & 0.0 & 100 & 2019-08-31 & 1234 \\\\\n",
       "\t2 & 1.0 & 300 & 2017-06-02 & 89 \\\\\n",
       "\t3 & 0.0 & 200 & 2015-05-05 & 3412 \\\\\n",
       "\t4 & 1.0 & 400 & 2014-10-08 & 578 \\\\\n",
       "\t5 & 1.0 & 200 & 2013-05-10 & 998 \\\\\n",
       "\t6 & 1.0 & 300 & 2012-04-02 & 124 \\\\\n",
       "\t7 & 1.0 & 200 & 2011-08-02 & 665 \\\\\n",
       "\t8 & 0.0 & 800 & 2009-10-11 & 8881 \\\\\n",
       "\t9 & 1.0 & 1000 & 2008-10-02 & 901 \\\\\n",
       "\t10 & 0.0 & 900 & 2007-06-06 & 12 \\\\\n",
       "\t11 & 3.2 & 2 & 0.655238 & 1234 \\\\\n",
       "\t12 & 8.9 & 3 & 2.23704 & 22 \\\\\n",
       "\t13 & 10.2 & 3 & 0.829874 & 3412 \\\\\n",
       "\t14 & 11.3 & 3 & -0.577773 & 578 \\\\\n",
       "\t15 & 88.1 & 2 & -0.898256 & 998 \\\\\n",
       "\t16 & 52.3 & 3 & 0.904124 & 124 \\\\\n",
       "\t17 & 15.2 & 2 & 0.0501277 & 18 \\\\\n",
       "\t18 & 66.7 & 2 & -0.221864 & 8881 \\\\\n",
       "\t19 & 98.9 & 2 & 0.775255 & 901 \\\\\n",
       "\t20 & 30.2 & 2 & 0.562006 & 12 \\\\\n",
       "\t21 & 16.0 & 3 & 1.65962 & 44 \\\\\n",
       "\\end{tabular}\n"
      ],
      "text/plain": [
       "21×4 DataFrame\n",
       "│ Row │ A       │ B     │ C          │ ID    │\n",
       "│     │ \u001b[90mFloat64\u001b[39m │ \u001b[90mInt64\u001b[39m │ \u001b[90mAny\u001b[39m        │ \u001b[90mInt64\u001b[39m │\n",
       "├─────┼─────────┼───────┼────────────┼───────┤\n",
       "│ 1   │ 0.0     │ 100   │ 2019-08-31 │ 1234  │\n",
       "│ 2   │ 1.0     │ 300   │ 2017-06-02 │ 89    │\n",
       "│ 3   │ 0.0     │ 200   │ 2015-05-05 │ 3412  │\n",
       "│ 4   │ 1.0     │ 400   │ 2014-10-08 │ 578   │\n",
       "│ 5   │ 1.0     │ 200   │ 2013-05-10 │ 998   │\n",
       "│ 6   │ 1.0     │ 300   │ 2012-04-02 │ 124   │\n",
       "│ 7   │ 1.0     │ 200   │ 2011-08-02 │ 665   │\n",
       "│ 8   │ 0.0     │ 800   │ 2009-10-11 │ 8881  │\n",
       "│ 9   │ 1.0     │ 1000  │ 2008-10-02 │ 901   │\n",
       "│ 10  │ 0.0     │ 900   │ 2007-06-06 │ 12    │\n",
       "│ 11  │ 3.2     │ 2     │ 0.655238   │ 1234  │\n",
       "│ 12  │ 8.9     │ 3     │ 2.23704    │ 22    │\n",
       "│ 13  │ 10.2    │ 3     │ 0.829874   │ 3412  │\n",
       "│ 14  │ 11.3    │ 3     │ -0.577773  │ 578   │\n",
       "│ 15  │ 88.1    │ 2     │ -0.898256  │ 998   │\n",
       "│ 16  │ 52.3    │ 3     │ 0.904124   │ 124   │\n",
       "│ 17  │ 15.2    │ 2     │ 0.0501277  │ 18    │\n",
       "│ 18  │ 66.7    │ 2     │ -0.221864  │ 8881  │\n",
       "│ 19  │ 98.9    │ 2     │ 0.775255   │ 901   │\n",
       "│ 20  │ 30.2    │ 2     │ 0.562006   │ 12    │\n",
       "│ 21  │ 16.0    │ 3     │ 1.65962    │ 44    │"
      ]
     },
     "execution_count": 39,
     "metadata": {},
     "output_type": "execute_result"
    }
   ],
   "source": [
    "vcat(df1, df1new)"
   ]
  },
  {
   "cell_type": "markdown",
   "metadata": {},
   "source": [
    "The dataframes essentially get stacked with the first input dataframe stacked on top of the second."
   ]
  },
  {
   "cell_type": "markdown",
   "metadata": {},
   "source": [
    "In this lesson we covered:\n",
    "* Basic join operations including inner, left, right, outer, and anti.\n",
    "* Additional join arguments, joing on two variables.\n",
    "* Concatenating dataframes: hcat and vcat."
   ]
  },
  {
   "cell_type": "code",
   "execution_count": null,
   "metadata": {},
   "outputs": [],
   "source": []
  }
 ],
 "metadata": {
  "@webio": {
   "lastCommId": null,
   "lastKernelId": null
  },
  "kernelspec": {
   "display_name": "Julia 1.3.0",
   "language": "julia",
   "name": "julia-1.3"
  },
  "language_info": {
   "file_extension": ".jl",
   "mimetype": "application/julia",
   "name": "julia",
   "version": "1.3.0"
  }
 },
 "nbformat": 4,
 "nbformat_minor": 2
}
