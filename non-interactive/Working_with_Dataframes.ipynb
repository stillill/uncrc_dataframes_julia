{
 "cells": [
  {
   "cell_type": "markdown",
   "metadata": {},
   "source": [
    "# II. Working with Dataframes"
   ]
  },
  {
   "cell_type": "markdown",
   "metadata": {},
   "source": [
    "In this notebook, we'll start doing basic operations on dataframes. Specifically we'll look at\n",
    "\n",
    "* Column operations\n",
    "* Row operations\n",
    "* Sorting\n",
    "* Categorical variables"
   ]
  },
  {
   "cell_type": "code",
   "execution_count": 1,
   "metadata": {},
   "outputs": [],
   "source": [
    "using DataFrames, Dates, CSV"
   ]
  },
  {
   "cell_type": "code",
   "execution_count": 2,
   "metadata": {},
   "outputs": [
    {
     "name": "stderr",
     "output_type": "stream",
     "text": [
      "┌ Warning: `CSV.read(input; kw...)` is deprecated in favor of `using DataFrames; CSV.read(input, DataFrame; kw...)\n",
      "│   caller = read(::String) at CSV.jl:40\n",
      "└ @ CSV /nas/longleaf/apps/julia/1.3.0/share/julia/packages/CSV/MKemC/src/CSV.jl:40\n"
     ]
    },
    {
     "data": {
      "text/html": [
       "<table class=\"data-frame\"><thead><tr><th></th><th>v1</th><th>v2</th><th>v3</th><th>v4</th><th>v5</th><th>v6</th></tr><tr><th></th><th>Int64</th><th>Float64</th><th>String</th><th>Date</th><th>Date</th><th>String</th></tr></thead><tbody><p>20 rows × 6 columns</p><tr><th>1</th><td>1</td><td>0.1078</td><td>a</td><td>2019-10-31</td><td>2019-11-03</td><td>IZFi329Kfs</td></tr><tr><th>2</th><td>2</td><td>-0.79658</td><td>a</td><td>2018-11-12</td><td>2018-12-01</td><td>ZC1tXGibbk</td></tr><tr><th>3</th><td>4</td><td>0.6142</td><td>c</td><td>2012-05-14</td><td>2012-06-14</td><td>BddsrFBO8E</td></tr><tr><th>4</th><td>1</td><td>0.39258</td><td>a</td><td>2017-01-01</td><td>2017-08-01</td><td>g7PQAwGDrH</td></tr><tr><th>5</th><td>4</td><td>-0.29707</td><td>a</td><td>2012-06-06</td><td>2012-06-12</td><td>gxeJaCvj92</td></tr><tr><th>6</th><td>4</td><td>0.2167</td><td>c</td><td>2019-04-03</td><td>2019-05-01</td><td>Q23fycpFNT</td></tr><tr><th>7</th><td>6</td><td>0.04906</td><td>b</td><td>2015-07-28</td><td>2015-08-20</td><td>QE63406gEj</td></tr><tr><th>8</th><td>6</td><td>-0.76691</td><td>b</td><td>2014-09-27</td><td>2014-11-27</td><td>GCMwV5msPt</td></tr><tr><th>9</th><td>1</td><td>0.17141</td><td>d</td><td>2013-10-04</td><td>2013-11-14</td><td>92PkSbQonD</td></tr><tr><th>10</th><td>3</td><td>0.35063</td><td>d</td><td>2014-08-12</td><td>2014-09-12</td><td>RUXG3N8RtF</td></tr><tr><th>11</th><td>2</td><td>0.90441</td><td>a</td><td>2018-11-12</td><td>2019-11-12</td><td>LE6qR2Q37p</td></tr><tr><th>12</th><td>3</td><td>0.00197</td><td>b</td><td>2011-08-12</td><td>2011-08-13</td><td>B8oAeJRvEf</td></tr><tr><th>13</th><td>1</td><td>0.81387</td><td>a</td><td>2014-06-24</td><td>2016-06-24</td><td>vFSFbWZBGM</td></tr><tr><th>14</th><td>3</td><td>-0.39826</td><td>a</td><td>2015-02-01</td><td>2015-07-12</td><td>UIVdF2TxWM</td></tr><tr><th>15</th><td>4</td><td>0.52603</td><td>a</td><td>2011-07-10</td><td>2011-08-13</td><td>s0ltSZb4fm</td></tr><tr><th>16</th><td>4</td><td>-0.41483</td><td>c</td><td>2012-03-12</td><td>2012-08-01</td><td>0OoRG1ly8l</td></tr><tr><th>17</th><td>5</td><td>-0.02946</td><td>a</td><td>2013-07-16</td><td>2013-07-17</td><td>uLFMepv4pI</td></tr><tr><th>18</th><td>2</td><td>-0.16647</td><td>c</td><td>2016-03-14</td><td>2016-04-14</td><td>TKdJZ2SddY</td></tr><tr><th>19</th><td>5</td><td>0.86743</td><td>d</td><td>2012-09-10</td><td>2012-09-26</td><td>0ltwHfLBHf</td></tr><tr><th>20</th><td>6</td><td>-0.85316</td><td>d</td><td>2018-04-12</td><td>2018-05-12</td><td>hjkJkeasXG</td></tr></tbody></table>"
      ],
      "text/latex": [
       "\\begin{tabular}{r|cccccc}\n",
       "\t& v1 & v2 & v3 & v4 & v5 & v6\\\\\n",
       "\t\\hline\n",
       "\t& Int64 & Float64 & String & Date & Date & String\\\\\n",
       "\t\\hline\n",
       "\t1 & 1 & 0.1078 & a & 2019-10-31 & 2019-11-03 & IZFi329Kfs \\\\\n",
       "\t2 & 2 & -0.79658 & a & 2018-11-12 & 2018-12-01 & ZC1tXGibbk \\\\\n",
       "\t3 & 4 & 0.6142 & c & 2012-05-14 & 2012-06-14 & BddsrFBO8E \\\\\n",
       "\t4 & 1 & 0.39258 & a & 2017-01-01 & 2017-08-01 & g7PQAwGDrH \\\\\n",
       "\t5 & 4 & -0.29707 & a & 2012-06-06 & 2012-06-12 & gxeJaCvj92 \\\\\n",
       "\t6 & 4 & 0.2167 & c & 2019-04-03 & 2019-05-01 & Q23fycpFNT \\\\\n",
       "\t7 & 6 & 0.04906 & b & 2015-07-28 & 2015-08-20 & QE63406gEj \\\\\n",
       "\t8 & 6 & -0.76691 & b & 2014-09-27 & 2014-11-27 & GCMwV5msPt \\\\\n",
       "\t9 & 1 & 0.17141 & d & 2013-10-04 & 2013-11-14 & 92PkSbQonD \\\\\n",
       "\t10 & 3 & 0.35063 & d & 2014-08-12 & 2014-09-12 & RUXG3N8RtF \\\\\n",
       "\t11 & 2 & 0.90441 & a & 2018-11-12 & 2019-11-12 & LE6qR2Q37p \\\\\n",
       "\t12 & 3 & 0.00197 & b & 2011-08-12 & 2011-08-13 & B8oAeJRvEf \\\\\n",
       "\t13 & 1 & 0.81387 & a & 2014-06-24 & 2016-06-24 & vFSFbWZBGM \\\\\n",
       "\t14 & 3 & -0.39826 & a & 2015-02-01 & 2015-07-12 & UIVdF2TxWM \\\\\n",
       "\t15 & 4 & 0.52603 & a & 2011-07-10 & 2011-08-13 & s0ltSZb4fm \\\\\n",
       "\t16 & 4 & -0.41483 & c & 2012-03-12 & 2012-08-01 & 0OoRG1ly8l \\\\\n",
       "\t17 & 5 & -0.02946 & a & 2013-07-16 & 2013-07-17 & uLFMepv4pI \\\\\n",
       "\t18 & 2 & -0.16647 & c & 2016-03-14 & 2016-04-14 & TKdJZ2SddY \\\\\n",
       "\t19 & 5 & 0.86743 & d & 2012-09-10 & 2012-09-26 & 0ltwHfLBHf \\\\\n",
       "\t20 & 6 & -0.85316 & d & 2018-04-12 & 2018-05-12 & hjkJkeasXG \\\\\n",
       "\\end{tabular}\n"
      ],
      "text/plain": [
       "20×6 DataFrame\n",
       "│ Row │ v1    │ v2       │ v3     │ v4         │ v5         │ v6         │\n",
       "│     │ \u001b[90mInt64\u001b[39m │ \u001b[90mFloat64\u001b[39m  │ \u001b[90mString\u001b[39m │ \u001b[90mDate\u001b[39m       │ \u001b[90mDate\u001b[39m       │ \u001b[90mString\u001b[39m     │\n",
       "├─────┼───────┼──────────┼────────┼────────────┼────────────┼────────────┤\n",
       "│ 1   │ 1     │ 0.1078   │ a      │ 2019-10-31 │ 2019-11-03 │ IZFi329Kfs │\n",
       "│ 2   │ 2     │ -0.79658 │ a      │ 2018-11-12 │ 2018-12-01 │ ZC1tXGibbk │\n",
       "│ 3   │ 4     │ 0.6142   │ c      │ 2012-05-14 │ 2012-06-14 │ BddsrFBO8E │\n",
       "│ 4   │ 1     │ 0.39258  │ a      │ 2017-01-01 │ 2017-08-01 │ g7PQAwGDrH │\n",
       "│ 5   │ 4     │ -0.29707 │ a      │ 2012-06-06 │ 2012-06-12 │ gxeJaCvj92 │\n",
       "│ 6   │ 4     │ 0.2167   │ c      │ 2019-04-03 │ 2019-05-01 │ Q23fycpFNT │\n",
       "│ 7   │ 6     │ 0.04906  │ b      │ 2015-07-28 │ 2015-08-20 │ QE63406gEj │\n",
       "│ 8   │ 6     │ -0.76691 │ b      │ 2014-09-27 │ 2014-11-27 │ GCMwV5msPt │\n",
       "│ 9   │ 1     │ 0.17141  │ d      │ 2013-10-04 │ 2013-11-14 │ 92PkSbQonD │\n",
       "│ 10  │ 3     │ 0.35063  │ d      │ 2014-08-12 │ 2014-09-12 │ RUXG3N8RtF │\n",
       "│ 11  │ 2     │ 0.90441  │ a      │ 2018-11-12 │ 2019-11-12 │ LE6qR2Q37p │\n",
       "│ 12  │ 3     │ 0.00197  │ b      │ 2011-08-12 │ 2011-08-13 │ B8oAeJRvEf │\n",
       "│ 13  │ 1     │ 0.81387  │ a      │ 2014-06-24 │ 2016-06-24 │ vFSFbWZBGM │\n",
       "│ 14  │ 3     │ -0.39826 │ a      │ 2015-02-01 │ 2015-07-12 │ UIVdF2TxWM │\n",
       "│ 15  │ 4     │ 0.52603  │ a      │ 2011-07-10 │ 2011-08-13 │ s0ltSZb4fm │\n",
       "│ 16  │ 4     │ -0.41483 │ c      │ 2012-03-12 │ 2012-08-01 │ 0OoRG1ly8l │\n",
       "│ 17  │ 5     │ -0.02946 │ a      │ 2013-07-16 │ 2013-07-17 │ uLFMepv4pI │\n",
       "│ 18  │ 2     │ -0.16647 │ c      │ 2016-03-14 │ 2016-04-14 │ TKdJZ2SddY │\n",
       "│ 19  │ 5     │ 0.86743  │ d      │ 2012-09-10 │ 2012-09-26 │ 0ltwHfLBHf │\n",
       "│ 20  │ 6     │ -0.85316 │ d      │ 2018-04-12 │ 2018-05-12 │ hjkJkeasXG │"
      ]
     },
     "execution_count": 2,
     "metadata": {},
     "output_type": "execute_result"
    }
   ],
   "source": [
    "# load csv file\n",
    "\n",
    "df = CSV.read(\"fakedata.csv\")"
   ]
  },
  {
   "cell_type": "markdown",
   "metadata": {},
   "source": [
    "The `first` and `last` functions can be used to examine the first  and last few lines of the dataframe."
   ]
  },
  {
   "cell_type": "code",
   "execution_count": 3,
   "metadata": {},
   "outputs": [
    {
     "data": {
      "text/html": [
       "<table class=\"data-frame\"><thead><tr><th></th><th>v1</th><th>v2</th><th>v3</th><th>v4</th><th>v5</th><th>v6</th></tr><tr><th></th><th>Int64</th><th>Float64</th><th>String</th><th>Date</th><th>Date</th><th>String</th></tr></thead><tbody><p>7 rows × 6 columns</p><tr><th>1</th><td>1</td><td>0.1078</td><td>a</td><td>2019-10-31</td><td>2019-11-03</td><td>IZFi329Kfs</td></tr><tr><th>2</th><td>2</td><td>-0.79658</td><td>a</td><td>2018-11-12</td><td>2018-12-01</td><td>ZC1tXGibbk</td></tr><tr><th>3</th><td>4</td><td>0.6142</td><td>c</td><td>2012-05-14</td><td>2012-06-14</td><td>BddsrFBO8E</td></tr><tr><th>4</th><td>1</td><td>0.39258</td><td>a</td><td>2017-01-01</td><td>2017-08-01</td><td>g7PQAwGDrH</td></tr><tr><th>5</th><td>4</td><td>-0.29707</td><td>a</td><td>2012-06-06</td><td>2012-06-12</td><td>gxeJaCvj92</td></tr><tr><th>6</th><td>4</td><td>0.2167</td><td>c</td><td>2019-04-03</td><td>2019-05-01</td><td>Q23fycpFNT</td></tr><tr><th>7</th><td>6</td><td>0.04906</td><td>b</td><td>2015-07-28</td><td>2015-08-20</td><td>QE63406gEj</td></tr></tbody></table>"
      ],
      "text/latex": [
       "\\begin{tabular}{r|cccccc}\n",
       "\t& v1 & v2 & v3 & v4 & v5 & v6\\\\\n",
       "\t\\hline\n",
       "\t& Int64 & Float64 & String & Date & Date & String\\\\\n",
       "\t\\hline\n",
       "\t1 & 1 & 0.1078 & a & 2019-10-31 & 2019-11-03 & IZFi329Kfs \\\\\n",
       "\t2 & 2 & -0.79658 & a & 2018-11-12 & 2018-12-01 & ZC1tXGibbk \\\\\n",
       "\t3 & 4 & 0.6142 & c & 2012-05-14 & 2012-06-14 & BddsrFBO8E \\\\\n",
       "\t4 & 1 & 0.39258 & a & 2017-01-01 & 2017-08-01 & g7PQAwGDrH \\\\\n",
       "\t5 & 4 & -0.29707 & a & 2012-06-06 & 2012-06-12 & gxeJaCvj92 \\\\\n",
       "\t6 & 4 & 0.2167 & c & 2019-04-03 & 2019-05-01 & Q23fycpFNT \\\\\n",
       "\t7 & 6 & 0.04906 & b & 2015-07-28 & 2015-08-20 & QE63406gEj \\\\\n",
       "\\end{tabular}\n"
      ],
      "text/plain": [
       "7×6 DataFrame\n",
       "│ Row │ v1    │ v2       │ v3     │ v4         │ v5         │ v6         │\n",
       "│     │ \u001b[90mInt64\u001b[39m │ \u001b[90mFloat64\u001b[39m  │ \u001b[90mString\u001b[39m │ \u001b[90mDate\u001b[39m       │ \u001b[90mDate\u001b[39m       │ \u001b[90mString\u001b[39m     │\n",
       "├─────┼───────┼──────────┼────────┼────────────┼────────────┼────────────┤\n",
       "│ 1   │ 1     │ 0.1078   │ a      │ 2019-10-31 │ 2019-11-03 │ IZFi329Kfs │\n",
       "│ 2   │ 2     │ -0.79658 │ a      │ 2018-11-12 │ 2018-12-01 │ ZC1tXGibbk │\n",
       "│ 3   │ 4     │ 0.6142   │ c      │ 2012-05-14 │ 2012-06-14 │ BddsrFBO8E │\n",
       "│ 4   │ 1     │ 0.39258  │ a      │ 2017-01-01 │ 2017-08-01 │ g7PQAwGDrH │\n",
       "│ 5   │ 4     │ -0.29707 │ a      │ 2012-06-06 │ 2012-06-12 │ gxeJaCvj92 │\n",
       "│ 6   │ 4     │ 0.2167   │ c      │ 2019-04-03 │ 2019-05-01 │ Q23fycpFNT │\n",
       "│ 7   │ 6     │ 0.04906  │ b      │ 2015-07-28 │ 2015-08-20 │ QE63406gEj │"
      ]
     },
     "execution_count": 3,
     "metadata": {},
     "output_type": "execute_result"
    }
   ],
   "source": [
    "first(df,7)"
   ]
  },
  {
   "cell_type": "code",
   "execution_count": 4,
   "metadata": {},
   "outputs": [
    {
     "data": {
      "text/html": [
       "<table class=\"data-frame\"><thead><tr><th></th><th>v1</th><th>v2</th><th>v3</th><th>v4</th><th>v5</th><th>v6</th></tr><tr><th></th><th>Int64</th><th>Float64</th><th>String</th><th>Date</th><th>Date</th><th>String</th></tr></thead><tbody><p>7 rows × 6 columns</p><tr><th>1</th><td>3</td><td>-0.39826</td><td>a</td><td>2015-02-01</td><td>2015-07-12</td><td>UIVdF2TxWM</td></tr><tr><th>2</th><td>4</td><td>0.52603</td><td>a</td><td>2011-07-10</td><td>2011-08-13</td><td>s0ltSZb4fm</td></tr><tr><th>3</th><td>4</td><td>-0.41483</td><td>c</td><td>2012-03-12</td><td>2012-08-01</td><td>0OoRG1ly8l</td></tr><tr><th>4</th><td>5</td><td>-0.02946</td><td>a</td><td>2013-07-16</td><td>2013-07-17</td><td>uLFMepv4pI</td></tr><tr><th>5</th><td>2</td><td>-0.16647</td><td>c</td><td>2016-03-14</td><td>2016-04-14</td><td>TKdJZ2SddY</td></tr><tr><th>6</th><td>5</td><td>0.86743</td><td>d</td><td>2012-09-10</td><td>2012-09-26</td><td>0ltwHfLBHf</td></tr><tr><th>7</th><td>6</td><td>-0.85316</td><td>d</td><td>2018-04-12</td><td>2018-05-12</td><td>hjkJkeasXG</td></tr></tbody></table>"
      ],
      "text/latex": [
       "\\begin{tabular}{r|cccccc}\n",
       "\t& v1 & v2 & v3 & v4 & v5 & v6\\\\\n",
       "\t\\hline\n",
       "\t& Int64 & Float64 & String & Date & Date & String\\\\\n",
       "\t\\hline\n",
       "\t1 & 3 & -0.39826 & a & 2015-02-01 & 2015-07-12 & UIVdF2TxWM \\\\\n",
       "\t2 & 4 & 0.52603 & a & 2011-07-10 & 2011-08-13 & s0ltSZb4fm \\\\\n",
       "\t3 & 4 & -0.41483 & c & 2012-03-12 & 2012-08-01 & 0OoRG1ly8l \\\\\n",
       "\t4 & 5 & -0.02946 & a & 2013-07-16 & 2013-07-17 & uLFMepv4pI \\\\\n",
       "\t5 & 2 & -0.16647 & c & 2016-03-14 & 2016-04-14 & TKdJZ2SddY \\\\\n",
       "\t6 & 5 & 0.86743 & d & 2012-09-10 & 2012-09-26 & 0ltwHfLBHf \\\\\n",
       "\t7 & 6 & -0.85316 & d & 2018-04-12 & 2018-05-12 & hjkJkeasXG \\\\\n",
       "\\end{tabular}\n"
      ],
      "text/plain": [
       "7×6 DataFrame\n",
       "│ Row │ v1    │ v2       │ v3     │ v4         │ v5         │ v6         │\n",
       "│     │ \u001b[90mInt64\u001b[39m │ \u001b[90mFloat64\u001b[39m  │ \u001b[90mString\u001b[39m │ \u001b[90mDate\u001b[39m       │ \u001b[90mDate\u001b[39m       │ \u001b[90mString\u001b[39m     │\n",
       "├─────┼───────┼──────────┼────────┼────────────┼────────────┼────────────┤\n",
       "│ 1   │ 3     │ -0.39826 │ a      │ 2015-02-01 │ 2015-07-12 │ UIVdF2TxWM │\n",
       "│ 2   │ 4     │ 0.52603  │ a      │ 2011-07-10 │ 2011-08-13 │ s0ltSZb4fm │\n",
       "│ 3   │ 4     │ -0.41483 │ c      │ 2012-03-12 │ 2012-08-01 │ 0OoRG1ly8l │\n",
       "│ 4   │ 5     │ -0.02946 │ a      │ 2013-07-16 │ 2013-07-17 │ uLFMepv4pI │\n",
       "│ 5   │ 2     │ -0.16647 │ c      │ 2016-03-14 │ 2016-04-14 │ TKdJZ2SddY │\n",
       "│ 6   │ 5     │ 0.86743  │ d      │ 2012-09-10 │ 2012-09-26 │ 0ltwHfLBHf │\n",
       "│ 7   │ 6     │ -0.85316 │ d      │ 2018-04-12 │ 2018-05-12 │ hjkJkeasXG │"
      ]
     },
     "execution_count": 4,
     "metadata": {},
     "output_type": "execute_result"
    }
   ],
   "source": [
    "last(df,7)"
   ]
  },
  {
   "cell_type": "markdown",
   "metadata": {},
   "source": [
    "You might want to extract basic information about the dataframe such as the number of rows and columns in the data frame.  To get the dataframe size, you can use the `size` command which tells us there are 20 rows and 5 columns in the dataframe."
   ]
  },
  {
   "cell_type": "code",
   "execution_count": 5,
   "metadata": {},
   "outputs": [
    {
     "data": {
      "text/plain": [
       "(20, 6)"
      ]
     },
     "execution_count": 5,
     "metadata": {},
     "output_type": "execute_result"
    }
   ],
   "source": [
    "nr, nc = size(df)"
   ]
  },
  {
   "cell_type": "markdown",
   "metadata": {},
   "source": [
    "The `describe` function can be used to get summary statistics on the dataframe. The object returned is also a dataframe."
   ]
  },
  {
   "cell_type": "code",
   "execution_count": 6,
   "metadata": {},
   "outputs": [
    {
     "data": {
      "text/html": [
       "<table class=\"data-frame\"><thead><tr><th></th><th>variable</th><th>mean</th><th>min</th><th>median</th><th>max</th><th>nunique</th><th>nmissing</th><th>eltype</th></tr><tr><th></th><th>Symbol</th><th>Union…</th><th>Any</th><th>Union…</th><th>Any</th><th>Union…</th><th>Nothing</th><th>DataType</th></tr></thead><tbody><p>6 rows × 8 columns</p><tr><th>1</th><td>v1</td><td>3.35</td><td>1</td><td>3.5</td><td>6</td><td></td><td></td><td>Int64</td></tr><tr><th>2</th><td>v2</td><td>0.0646675</td><td>-0.85316</td><td>0.07843</td><td>0.90441</td><td></td><td></td><td>Float64</td></tr><tr><th>3</th><td>v3</td><td></td><td>a</td><td></td><td>d</td><td>4</td><td></td><td>String</td></tr><tr><th>4</th><td>v4</td><td></td><td>2011-07-10</td><td></td><td>2019-10-31</td><td>19</td><td></td><td>Date</td></tr><tr><th>5</th><td>v5</td><td></td><td>2011-08-13</td><td></td><td>2019-11-12</td><td>19</td><td></td><td>Date</td></tr><tr><th>6</th><td>v6</td><td></td><td>0OoRG1ly8l</td><td></td><td>vFSFbWZBGM</td><td>20</td><td></td><td>String</td></tr></tbody></table>"
      ],
      "text/latex": [
       "\\begin{tabular}{r|cccccccc}\n",
       "\t& variable & mean & min & median & max & nunique & nmissing & eltype\\\\\n",
       "\t\\hline\n",
       "\t& Symbol & Union… & Any & Union… & Any & Union… & Nothing & DataType\\\\\n",
       "\t\\hline\n",
       "\t1 & v1 & 3.35 & 1 & 3.5 & 6 &  &  & Int64 \\\\\n",
       "\t2 & v2 & 0.0646675 & -0.85316 & 0.07843 & 0.90441 &  &  & Float64 \\\\\n",
       "\t3 & v3 &  & a &  & d & 4 &  & String \\\\\n",
       "\t4 & v4 &  & 2011-07-10 &  & 2019-10-31 & 19 &  & Date \\\\\n",
       "\t5 & v5 &  & 2011-08-13 &  & 2019-11-12 & 19 &  & Date \\\\\n",
       "\t6 & v6 &  & 0OoRG1ly8l &  & vFSFbWZBGM & 20 &  & String \\\\\n",
       "\\end{tabular}\n"
      ],
      "text/plain": [
       "6×8 DataFrame. Omitted printing of 2 columns\n",
       "│ Row │ variable │ mean      │ min        │ median  │ max        │ nunique │\n",
       "│     │ \u001b[90mSymbol\u001b[39m   │ \u001b[90mUnion…\u001b[39m    │ \u001b[90mAny\u001b[39m        │ \u001b[90mUnion…\u001b[39m  │ \u001b[90mAny\u001b[39m        │ \u001b[90mUnion…\u001b[39m  │\n",
       "├─────┼──────────┼───────────┼────────────┼─────────┼────────────┼─────────┤\n",
       "│ 1   │ v1       │ 3.35      │ 1          │ 3.5     │ 6          │         │\n",
       "│ 2   │ v2       │ 0.0646675 │ -0.85316   │ 0.07843 │ 0.90441    │         │\n",
       "│ 3   │ v3       │           │ a          │         │ d          │ 4       │\n",
       "│ 4   │ v4       │           │ 2011-07-10 │         │ 2019-10-31 │ 19      │\n",
       "│ 5   │ v5       │           │ 2011-08-13 │         │ 2019-11-12 │ 19      │\n",
       "│ 6   │ v6       │           │ 0OoRG1ly8l │         │ vFSFbWZBGM │ 20      │"
      ]
     },
     "execution_count": 6,
     "metadata": {},
     "output_type": "execute_result"
    }
   ],
   "source": [
    "describe(df)"
   ]
  },
  {
   "cell_type": "markdown",
   "metadata": {},
   "source": [
    "We can restrict describe only to work on certain variables of interest and return only certain statistics."
   ]
  },
  {
   "cell_type": "code",
   "execution_count": 7,
   "metadata": {},
   "outputs": [
    {
     "data": {
      "text/html": [
       "<table class=\"data-frame\"><thead><tr><th></th><th>variable</th><th>eltype</th><th>min</th><th>max</th><th>median</th></tr><tr><th></th><th>Symbol</th><th>DataType</th><th>Real</th><th>Real</th><th>Float64</th></tr></thead><tbody><p>2 rows × 5 columns</p><tr><th>1</th><td>v1</td><td>Int64</td><td>1</td><td>6</td><td>3.5</td></tr><tr><th>2</th><td>v2</td><td>Float64</td><td>-0.85316</td><td>0.90441</td><td>0.07843</td></tr></tbody></table>"
      ],
      "text/latex": [
       "\\begin{tabular}{r|ccccc}\n",
       "\t& variable & eltype & min & max & median\\\\\n",
       "\t\\hline\n",
       "\t& Symbol & DataType & Real & Real & Float64\\\\\n",
       "\t\\hline\n",
       "\t1 & v1 & Int64 & 1 & 6 & 3.5 \\\\\n",
       "\t2 & v2 & Float64 & -0.85316 & 0.90441 & 0.07843 \\\\\n",
       "\\end{tabular}\n"
      ],
      "text/plain": [
       "2×5 DataFrame\n",
       "│ Row │ variable │ eltype   │ min      │ max     │ median  │\n",
       "│     │ \u001b[90mSymbol\u001b[39m   │ \u001b[90mDataType\u001b[39m │ \u001b[90mReal\u001b[39m     │ \u001b[90mReal\u001b[39m    │ \u001b[90mFloat64\u001b[39m │\n",
       "├─────┼──────────┼──────────┼──────────┼─────────┼─────────┤\n",
       "│ 1   │ v1       │ Int64    │ 1        │ 6       │ 3.5     │\n",
       "│ 2   │ v2       │ Float64  │ -0.85316 │ 0.90441 │ 0.07843 │"
      ]
     },
     "execution_count": 7,
     "metadata": {},
     "output_type": "execute_result"
    }
   ],
   "source": [
    "summstats = describe(df[:,[:v1, :v2]], :eltype, :min, :max, :median)"
   ]
  },
  {
   "cell_type": "markdown",
   "metadata": {},
   "source": [
    "Since <i>summstats</i> is itself a dataframe you can work with it as you would any other dataframe."
   ]
  },
  {
   "cell_type": "markdown",
   "metadata": {},
   "source": [
    "### Column operations:"
   ]
  },
  {
   "cell_type": "markdown",
   "metadata": {},
   "source": [
    "We've seen the `size` function to get the dimensions of the dataframe. There is a `ncols` function if you just want the number of columns:"
   ]
  },
  {
   "cell_type": "code",
   "execution_count": 8,
   "metadata": {},
   "outputs": [
    {
     "data": {
      "text/plain": [
       "6"
      ]
     },
     "execution_count": 8,
     "metadata": {},
     "output_type": "execute_result"
    }
   ],
   "source": [
    "nc = ncol(df)"
   ]
  },
  {
   "cell_type": "markdown",
   "metadata": {},
   "source": [
    "Add a column using the [ ] notation and by providing a name for the column along with values using the assignment operator. Here we'll add a new column named <i>RandomStr</i> to **df** that is just an array of random strings of length 10."
   ]
  },
  {
   "cell_type": "code",
   "execution_count": 9,
   "metadata": {},
   "outputs": [],
   "source": [
    "using Random \n",
    "df[!,:RandStr] = [randstring(10) for j in 1:nr];"
   ]
  },
  {
   "cell_type": "code",
   "execution_count": 10,
   "metadata": {},
   "outputs": [
    {
     "data": {
      "text/html": [
       "<table class=\"data-frame\"><thead><tr><th></th><th>v1</th><th>v2</th><th>v3</th><th>v4</th><th>v5</th><th>v6</th><th>RandStr</th></tr><tr><th></th><th>Int64</th><th>Float64</th><th>String</th><th>Date</th><th>Date</th><th>String</th><th>String</th></tr></thead><tbody><p>20 rows × 7 columns</p><tr><th>1</th><td>1</td><td>0.1078</td><td>a</td><td>2019-10-31</td><td>2019-11-03</td><td>IZFi329Kfs</td><td>Qd7o4K1ppr</td></tr><tr><th>2</th><td>2</td><td>-0.79658</td><td>a</td><td>2018-11-12</td><td>2018-12-01</td><td>ZC1tXGibbk</td><td>zP4ZFgdeom</td></tr><tr><th>3</th><td>4</td><td>0.6142</td><td>c</td><td>2012-05-14</td><td>2012-06-14</td><td>BddsrFBO8E</td><td>ijy3LjvUzV</td></tr><tr><th>4</th><td>1</td><td>0.39258</td><td>a</td><td>2017-01-01</td><td>2017-08-01</td><td>g7PQAwGDrH</td><td>nURrlAWJ64</td></tr><tr><th>5</th><td>4</td><td>-0.29707</td><td>a</td><td>2012-06-06</td><td>2012-06-12</td><td>gxeJaCvj92</td><td>uwg0UEO4b0</td></tr><tr><th>6</th><td>4</td><td>0.2167</td><td>c</td><td>2019-04-03</td><td>2019-05-01</td><td>Q23fycpFNT</td><td>qm2W3LtYvz</td></tr><tr><th>7</th><td>6</td><td>0.04906</td><td>b</td><td>2015-07-28</td><td>2015-08-20</td><td>QE63406gEj</td><td>BcF0hu1v85</td></tr><tr><th>8</th><td>6</td><td>-0.76691</td><td>b</td><td>2014-09-27</td><td>2014-11-27</td><td>GCMwV5msPt</td><td>lgJymJVbme</td></tr><tr><th>9</th><td>1</td><td>0.17141</td><td>d</td><td>2013-10-04</td><td>2013-11-14</td><td>92PkSbQonD</td><td>wN5lihnRag</td></tr><tr><th>10</th><td>3</td><td>0.35063</td><td>d</td><td>2014-08-12</td><td>2014-09-12</td><td>RUXG3N8RtF</td><td>zqEMP2kiGq</td></tr><tr><th>11</th><td>2</td><td>0.90441</td><td>a</td><td>2018-11-12</td><td>2019-11-12</td><td>LE6qR2Q37p</td><td>nxvvZ1URvA</td></tr><tr><th>12</th><td>3</td><td>0.00197</td><td>b</td><td>2011-08-12</td><td>2011-08-13</td><td>B8oAeJRvEf</td><td>wgIgG6oZN7</td></tr><tr><th>13</th><td>1</td><td>0.81387</td><td>a</td><td>2014-06-24</td><td>2016-06-24</td><td>vFSFbWZBGM</td><td>ATV3I94qS5</td></tr><tr><th>14</th><td>3</td><td>-0.39826</td><td>a</td><td>2015-02-01</td><td>2015-07-12</td><td>UIVdF2TxWM</td><td>hpRw2VkJ05</td></tr><tr><th>15</th><td>4</td><td>0.52603</td><td>a</td><td>2011-07-10</td><td>2011-08-13</td><td>s0ltSZb4fm</td><td>mKBwnAnTWY</td></tr><tr><th>16</th><td>4</td><td>-0.41483</td><td>c</td><td>2012-03-12</td><td>2012-08-01</td><td>0OoRG1ly8l</td><td>ra7Y8v2uha</td></tr><tr><th>17</th><td>5</td><td>-0.02946</td><td>a</td><td>2013-07-16</td><td>2013-07-17</td><td>uLFMepv4pI</td><td>nh7XOud6K3</td></tr><tr><th>18</th><td>2</td><td>-0.16647</td><td>c</td><td>2016-03-14</td><td>2016-04-14</td><td>TKdJZ2SddY</td><td>8FJfc2bPZd</td></tr><tr><th>19</th><td>5</td><td>0.86743</td><td>d</td><td>2012-09-10</td><td>2012-09-26</td><td>0ltwHfLBHf</td><td>JCMCstM8wK</td></tr><tr><th>20</th><td>6</td><td>-0.85316</td><td>d</td><td>2018-04-12</td><td>2018-05-12</td><td>hjkJkeasXG</td><td>v3zWaSEMX6</td></tr></tbody></table>"
      ],
      "text/latex": [
       "\\begin{tabular}{r|ccccccc}\n",
       "\t& v1 & v2 & v3 & v4 & v5 & v6 & RandStr\\\\\n",
       "\t\\hline\n",
       "\t& Int64 & Float64 & String & Date & Date & String & String\\\\\n",
       "\t\\hline\n",
       "\t1 & 1 & 0.1078 & a & 2019-10-31 & 2019-11-03 & IZFi329Kfs & Qd7o4K1ppr \\\\\n",
       "\t2 & 2 & -0.79658 & a & 2018-11-12 & 2018-12-01 & ZC1tXGibbk & zP4ZFgdeom \\\\\n",
       "\t3 & 4 & 0.6142 & c & 2012-05-14 & 2012-06-14 & BddsrFBO8E & ijy3LjvUzV \\\\\n",
       "\t4 & 1 & 0.39258 & a & 2017-01-01 & 2017-08-01 & g7PQAwGDrH & nURrlAWJ64 \\\\\n",
       "\t5 & 4 & -0.29707 & a & 2012-06-06 & 2012-06-12 & gxeJaCvj92 & uwg0UEO4b0 \\\\\n",
       "\t6 & 4 & 0.2167 & c & 2019-04-03 & 2019-05-01 & Q23fycpFNT & qm2W3LtYvz \\\\\n",
       "\t7 & 6 & 0.04906 & b & 2015-07-28 & 2015-08-20 & QE63406gEj & BcF0hu1v85 \\\\\n",
       "\t8 & 6 & -0.76691 & b & 2014-09-27 & 2014-11-27 & GCMwV5msPt & lgJymJVbme \\\\\n",
       "\t9 & 1 & 0.17141 & d & 2013-10-04 & 2013-11-14 & 92PkSbQonD & wN5lihnRag \\\\\n",
       "\t10 & 3 & 0.35063 & d & 2014-08-12 & 2014-09-12 & RUXG3N8RtF & zqEMP2kiGq \\\\\n",
       "\t11 & 2 & 0.90441 & a & 2018-11-12 & 2019-11-12 & LE6qR2Q37p & nxvvZ1URvA \\\\\n",
       "\t12 & 3 & 0.00197 & b & 2011-08-12 & 2011-08-13 & B8oAeJRvEf & wgIgG6oZN7 \\\\\n",
       "\t13 & 1 & 0.81387 & a & 2014-06-24 & 2016-06-24 & vFSFbWZBGM & ATV3I94qS5 \\\\\n",
       "\t14 & 3 & -0.39826 & a & 2015-02-01 & 2015-07-12 & UIVdF2TxWM & hpRw2VkJ05 \\\\\n",
       "\t15 & 4 & 0.52603 & a & 2011-07-10 & 2011-08-13 & s0ltSZb4fm & mKBwnAnTWY \\\\\n",
       "\t16 & 4 & -0.41483 & c & 2012-03-12 & 2012-08-01 & 0OoRG1ly8l & ra7Y8v2uha \\\\\n",
       "\t17 & 5 & -0.02946 & a & 2013-07-16 & 2013-07-17 & uLFMepv4pI & nh7XOud6K3 \\\\\n",
       "\t18 & 2 & -0.16647 & c & 2016-03-14 & 2016-04-14 & TKdJZ2SddY & 8FJfc2bPZd \\\\\n",
       "\t19 & 5 & 0.86743 & d & 2012-09-10 & 2012-09-26 & 0ltwHfLBHf & JCMCstM8wK \\\\\n",
       "\t20 & 6 & -0.85316 & d & 2018-04-12 & 2018-05-12 & hjkJkeasXG & v3zWaSEMX6 \\\\\n",
       "\\end{tabular}\n"
      ],
      "text/plain": [
       "20×7 DataFrame. Omitted printing of 1 columns\n",
       "│ Row │ v1    │ v2       │ v3     │ v4         │ v5         │ v6         │\n",
       "│     │ \u001b[90mInt64\u001b[39m │ \u001b[90mFloat64\u001b[39m  │ \u001b[90mString\u001b[39m │ \u001b[90mDate\u001b[39m       │ \u001b[90mDate\u001b[39m       │ \u001b[90mString\u001b[39m     │\n",
       "├─────┼───────┼──────────┼────────┼────────────┼────────────┼────────────┤\n",
       "│ 1   │ 1     │ 0.1078   │ a      │ 2019-10-31 │ 2019-11-03 │ IZFi329Kfs │\n",
       "│ 2   │ 2     │ -0.79658 │ a      │ 2018-11-12 │ 2018-12-01 │ ZC1tXGibbk │\n",
       "│ 3   │ 4     │ 0.6142   │ c      │ 2012-05-14 │ 2012-06-14 │ BddsrFBO8E │\n",
       "│ 4   │ 1     │ 0.39258  │ a      │ 2017-01-01 │ 2017-08-01 │ g7PQAwGDrH │\n",
       "│ 5   │ 4     │ -0.29707 │ a      │ 2012-06-06 │ 2012-06-12 │ gxeJaCvj92 │\n",
       "│ 6   │ 4     │ 0.2167   │ c      │ 2019-04-03 │ 2019-05-01 │ Q23fycpFNT │\n",
       "│ 7   │ 6     │ 0.04906  │ b      │ 2015-07-28 │ 2015-08-20 │ QE63406gEj │\n",
       "│ 8   │ 6     │ -0.76691 │ b      │ 2014-09-27 │ 2014-11-27 │ GCMwV5msPt │\n",
       "│ 9   │ 1     │ 0.17141  │ d      │ 2013-10-04 │ 2013-11-14 │ 92PkSbQonD │\n",
       "│ 10  │ 3     │ 0.35063  │ d      │ 2014-08-12 │ 2014-09-12 │ RUXG3N8RtF │\n",
       "│ 11  │ 2     │ 0.90441  │ a      │ 2018-11-12 │ 2019-11-12 │ LE6qR2Q37p │\n",
       "│ 12  │ 3     │ 0.00197  │ b      │ 2011-08-12 │ 2011-08-13 │ B8oAeJRvEf │\n",
       "│ 13  │ 1     │ 0.81387  │ a      │ 2014-06-24 │ 2016-06-24 │ vFSFbWZBGM │\n",
       "│ 14  │ 3     │ -0.39826 │ a      │ 2015-02-01 │ 2015-07-12 │ UIVdF2TxWM │\n",
       "│ 15  │ 4     │ 0.52603  │ a      │ 2011-07-10 │ 2011-08-13 │ s0ltSZb4fm │\n",
       "│ 16  │ 4     │ -0.41483 │ c      │ 2012-03-12 │ 2012-08-01 │ 0OoRG1ly8l │\n",
       "│ 17  │ 5     │ -0.02946 │ a      │ 2013-07-16 │ 2013-07-17 │ uLFMepv4pI │\n",
       "│ 18  │ 2     │ -0.16647 │ c      │ 2016-03-14 │ 2016-04-14 │ TKdJZ2SddY │\n",
       "│ 19  │ 5     │ 0.86743  │ d      │ 2012-09-10 │ 2012-09-26 │ 0ltwHfLBHf │\n",
       "│ 20  │ 6     │ -0.85316 │ d      │ 2018-04-12 │ 2018-05-12 │ hjkJkeasXG │"
      ]
     },
     "execution_count": 10,
     "metadata": {},
     "output_type": "execute_result"
    }
   ],
   "source": [
    "df"
   ]
  },
  {
   "cell_type": "markdown",
   "metadata": {},
   "source": [
    "You can do operations on existing columns in the dataframe to create new columns. We know that **v4** is a Date type so we can use Julia's <i>Dates</i> package to work with these types."
   ]
  },
  {
   "cell_type": "code",
   "execution_count": 11,
   "metadata": {},
   "outputs": [
    {
     "data": {
      "text/plain": [
       "Date"
      ]
     },
     "execution_count": 11,
     "metadata": {},
     "output_type": "execute_result"
    }
   ],
   "source": [
    "eltype(df.v4)"
   ]
  },
  {
   "cell_type": "markdown",
   "metadata": {},
   "source": [
    "Let's use the `day` function to add a new column that calculates the day of the month for each date value in **v4**."
   ]
  },
  {
   "cell_type": "code",
   "execution_count": 12,
   "metadata": {},
   "outputs": [],
   "source": [
    "df.v4_day =  day.(df.v4);"
   ]
  },
  {
   "cell_type": "code",
   "execution_count": 13,
   "metadata": {},
   "outputs": [
    {
     "data": {
      "text/html": [
       "<table class=\"data-frame\"><thead><tr><th></th><th>v1</th><th>v2</th><th>v3</th><th>v4</th><th>v5</th><th>v6</th><th>RandStr</th><th>v4_day</th></tr><tr><th></th><th>Int64</th><th>Float64</th><th>String</th><th>Date</th><th>Date</th><th>String</th><th>String</th><th>Int64</th></tr></thead><tbody><p>20 rows × 8 columns</p><tr><th>1</th><td>1</td><td>0.1078</td><td>a</td><td>2019-10-31</td><td>2019-11-03</td><td>IZFi329Kfs</td><td>Qd7o4K1ppr</td><td>31</td></tr><tr><th>2</th><td>2</td><td>-0.79658</td><td>a</td><td>2018-11-12</td><td>2018-12-01</td><td>ZC1tXGibbk</td><td>zP4ZFgdeom</td><td>12</td></tr><tr><th>3</th><td>4</td><td>0.6142</td><td>c</td><td>2012-05-14</td><td>2012-06-14</td><td>BddsrFBO8E</td><td>ijy3LjvUzV</td><td>14</td></tr><tr><th>4</th><td>1</td><td>0.39258</td><td>a</td><td>2017-01-01</td><td>2017-08-01</td><td>g7PQAwGDrH</td><td>nURrlAWJ64</td><td>1</td></tr><tr><th>5</th><td>4</td><td>-0.29707</td><td>a</td><td>2012-06-06</td><td>2012-06-12</td><td>gxeJaCvj92</td><td>uwg0UEO4b0</td><td>6</td></tr><tr><th>6</th><td>4</td><td>0.2167</td><td>c</td><td>2019-04-03</td><td>2019-05-01</td><td>Q23fycpFNT</td><td>qm2W3LtYvz</td><td>3</td></tr><tr><th>7</th><td>6</td><td>0.04906</td><td>b</td><td>2015-07-28</td><td>2015-08-20</td><td>QE63406gEj</td><td>BcF0hu1v85</td><td>28</td></tr><tr><th>8</th><td>6</td><td>-0.76691</td><td>b</td><td>2014-09-27</td><td>2014-11-27</td><td>GCMwV5msPt</td><td>lgJymJVbme</td><td>27</td></tr><tr><th>9</th><td>1</td><td>0.17141</td><td>d</td><td>2013-10-04</td><td>2013-11-14</td><td>92PkSbQonD</td><td>wN5lihnRag</td><td>4</td></tr><tr><th>10</th><td>3</td><td>0.35063</td><td>d</td><td>2014-08-12</td><td>2014-09-12</td><td>RUXG3N8RtF</td><td>zqEMP2kiGq</td><td>12</td></tr><tr><th>11</th><td>2</td><td>0.90441</td><td>a</td><td>2018-11-12</td><td>2019-11-12</td><td>LE6qR2Q37p</td><td>nxvvZ1URvA</td><td>12</td></tr><tr><th>12</th><td>3</td><td>0.00197</td><td>b</td><td>2011-08-12</td><td>2011-08-13</td><td>B8oAeJRvEf</td><td>wgIgG6oZN7</td><td>12</td></tr><tr><th>13</th><td>1</td><td>0.81387</td><td>a</td><td>2014-06-24</td><td>2016-06-24</td><td>vFSFbWZBGM</td><td>ATV3I94qS5</td><td>24</td></tr><tr><th>14</th><td>3</td><td>-0.39826</td><td>a</td><td>2015-02-01</td><td>2015-07-12</td><td>UIVdF2TxWM</td><td>hpRw2VkJ05</td><td>1</td></tr><tr><th>15</th><td>4</td><td>0.52603</td><td>a</td><td>2011-07-10</td><td>2011-08-13</td><td>s0ltSZb4fm</td><td>mKBwnAnTWY</td><td>10</td></tr><tr><th>16</th><td>4</td><td>-0.41483</td><td>c</td><td>2012-03-12</td><td>2012-08-01</td><td>0OoRG1ly8l</td><td>ra7Y8v2uha</td><td>12</td></tr><tr><th>17</th><td>5</td><td>-0.02946</td><td>a</td><td>2013-07-16</td><td>2013-07-17</td><td>uLFMepv4pI</td><td>nh7XOud6K3</td><td>16</td></tr><tr><th>18</th><td>2</td><td>-0.16647</td><td>c</td><td>2016-03-14</td><td>2016-04-14</td><td>TKdJZ2SddY</td><td>8FJfc2bPZd</td><td>14</td></tr><tr><th>19</th><td>5</td><td>0.86743</td><td>d</td><td>2012-09-10</td><td>2012-09-26</td><td>0ltwHfLBHf</td><td>JCMCstM8wK</td><td>10</td></tr><tr><th>20</th><td>6</td><td>-0.85316</td><td>d</td><td>2018-04-12</td><td>2018-05-12</td><td>hjkJkeasXG</td><td>v3zWaSEMX6</td><td>12</td></tr></tbody></table>"
      ],
      "text/latex": [
       "\\begin{tabular}{r|cccccccc}\n",
       "\t& v1 & v2 & v3 & v4 & v5 & v6 & RandStr & v4\\_day\\\\\n",
       "\t\\hline\n",
       "\t& Int64 & Float64 & String & Date & Date & String & String & Int64\\\\\n",
       "\t\\hline\n",
       "\t1 & 1 & 0.1078 & a & 2019-10-31 & 2019-11-03 & IZFi329Kfs & Qd7o4K1ppr & 31 \\\\\n",
       "\t2 & 2 & -0.79658 & a & 2018-11-12 & 2018-12-01 & ZC1tXGibbk & zP4ZFgdeom & 12 \\\\\n",
       "\t3 & 4 & 0.6142 & c & 2012-05-14 & 2012-06-14 & BddsrFBO8E & ijy3LjvUzV & 14 \\\\\n",
       "\t4 & 1 & 0.39258 & a & 2017-01-01 & 2017-08-01 & g7PQAwGDrH & nURrlAWJ64 & 1 \\\\\n",
       "\t5 & 4 & -0.29707 & a & 2012-06-06 & 2012-06-12 & gxeJaCvj92 & uwg0UEO4b0 & 6 \\\\\n",
       "\t6 & 4 & 0.2167 & c & 2019-04-03 & 2019-05-01 & Q23fycpFNT & qm2W3LtYvz & 3 \\\\\n",
       "\t7 & 6 & 0.04906 & b & 2015-07-28 & 2015-08-20 & QE63406gEj & BcF0hu1v85 & 28 \\\\\n",
       "\t8 & 6 & -0.76691 & b & 2014-09-27 & 2014-11-27 & GCMwV5msPt & lgJymJVbme & 27 \\\\\n",
       "\t9 & 1 & 0.17141 & d & 2013-10-04 & 2013-11-14 & 92PkSbQonD & wN5lihnRag & 4 \\\\\n",
       "\t10 & 3 & 0.35063 & d & 2014-08-12 & 2014-09-12 & RUXG3N8RtF & zqEMP2kiGq & 12 \\\\\n",
       "\t11 & 2 & 0.90441 & a & 2018-11-12 & 2019-11-12 & LE6qR2Q37p & nxvvZ1URvA & 12 \\\\\n",
       "\t12 & 3 & 0.00197 & b & 2011-08-12 & 2011-08-13 & B8oAeJRvEf & wgIgG6oZN7 & 12 \\\\\n",
       "\t13 & 1 & 0.81387 & a & 2014-06-24 & 2016-06-24 & vFSFbWZBGM & ATV3I94qS5 & 24 \\\\\n",
       "\t14 & 3 & -0.39826 & a & 2015-02-01 & 2015-07-12 & UIVdF2TxWM & hpRw2VkJ05 & 1 \\\\\n",
       "\t15 & 4 & 0.52603 & a & 2011-07-10 & 2011-08-13 & s0ltSZb4fm & mKBwnAnTWY & 10 \\\\\n",
       "\t16 & 4 & -0.41483 & c & 2012-03-12 & 2012-08-01 & 0OoRG1ly8l & ra7Y8v2uha & 12 \\\\\n",
       "\t17 & 5 & -0.02946 & a & 2013-07-16 & 2013-07-17 & uLFMepv4pI & nh7XOud6K3 & 16 \\\\\n",
       "\t18 & 2 & -0.16647 & c & 2016-03-14 & 2016-04-14 & TKdJZ2SddY & 8FJfc2bPZd & 14 \\\\\n",
       "\t19 & 5 & 0.86743 & d & 2012-09-10 & 2012-09-26 & 0ltwHfLBHf & JCMCstM8wK & 10 \\\\\n",
       "\t20 & 6 & -0.85316 & d & 2018-04-12 & 2018-05-12 & hjkJkeasXG & v3zWaSEMX6 & 12 \\\\\n",
       "\\end{tabular}\n"
      ],
      "text/plain": [
       "20×8 DataFrame. Omitted printing of 2 columns\n",
       "│ Row │ v1    │ v2       │ v3     │ v4         │ v5         │ v6         │\n",
       "│     │ \u001b[90mInt64\u001b[39m │ \u001b[90mFloat64\u001b[39m  │ \u001b[90mString\u001b[39m │ \u001b[90mDate\u001b[39m       │ \u001b[90mDate\u001b[39m       │ \u001b[90mString\u001b[39m     │\n",
       "├─────┼───────┼──────────┼────────┼────────────┼────────────┼────────────┤\n",
       "│ 1   │ 1     │ 0.1078   │ a      │ 2019-10-31 │ 2019-11-03 │ IZFi329Kfs │\n",
       "│ 2   │ 2     │ -0.79658 │ a      │ 2018-11-12 │ 2018-12-01 │ ZC1tXGibbk │\n",
       "│ 3   │ 4     │ 0.6142   │ c      │ 2012-05-14 │ 2012-06-14 │ BddsrFBO8E │\n",
       "│ 4   │ 1     │ 0.39258  │ a      │ 2017-01-01 │ 2017-08-01 │ g7PQAwGDrH │\n",
       "│ 5   │ 4     │ -0.29707 │ a      │ 2012-06-06 │ 2012-06-12 │ gxeJaCvj92 │\n",
       "│ 6   │ 4     │ 0.2167   │ c      │ 2019-04-03 │ 2019-05-01 │ Q23fycpFNT │\n",
       "│ 7   │ 6     │ 0.04906  │ b      │ 2015-07-28 │ 2015-08-20 │ QE63406gEj │\n",
       "│ 8   │ 6     │ -0.76691 │ b      │ 2014-09-27 │ 2014-11-27 │ GCMwV5msPt │\n",
       "│ 9   │ 1     │ 0.17141  │ d      │ 2013-10-04 │ 2013-11-14 │ 92PkSbQonD │\n",
       "│ 10  │ 3     │ 0.35063  │ d      │ 2014-08-12 │ 2014-09-12 │ RUXG3N8RtF │\n",
       "│ 11  │ 2     │ 0.90441  │ a      │ 2018-11-12 │ 2019-11-12 │ LE6qR2Q37p │\n",
       "│ 12  │ 3     │ 0.00197  │ b      │ 2011-08-12 │ 2011-08-13 │ B8oAeJRvEf │\n",
       "│ 13  │ 1     │ 0.81387  │ a      │ 2014-06-24 │ 2016-06-24 │ vFSFbWZBGM │\n",
       "│ 14  │ 3     │ -0.39826 │ a      │ 2015-02-01 │ 2015-07-12 │ UIVdF2TxWM │\n",
       "│ 15  │ 4     │ 0.52603  │ a      │ 2011-07-10 │ 2011-08-13 │ s0ltSZb4fm │\n",
       "│ 16  │ 4     │ -0.41483 │ c      │ 2012-03-12 │ 2012-08-01 │ 0OoRG1ly8l │\n",
       "│ 17  │ 5     │ -0.02946 │ a      │ 2013-07-16 │ 2013-07-17 │ uLFMepv4pI │\n",
       "│ 18  │ 2     │ -0.16647 │ c      │ 2016-03-14 │ 2016-04-14 │ TKdJZ2SddY │\n",
       "│ 19  │ 5     │ 0.86743  │ d      │ 2012-09-10 │ 2012-09-26 │ 0ltwHfLBHf │\n",
       "│ 20  │ 6     │ -0.85316 │ d      │ 2018-04-12 │ 2018-05-12 │ hjkJkeasXG │"
      ]
     },
     "execution_count": 13,
     "metadata": {},
     "output_type": "execute_result"
    }
   ],
   "source": [
    "df"
   ]
  },
  {
   "cell_type": "markdown",
   "metadata": {},
   "source": [
    "Another way to add columns to your dataframe is using `insertcols!` or `insertcols`. The first argument to `insertcols!` is the name of the data frame, the second argument is the column index number where you want the new column to be placed, and the last argument specifies the data values of the new column. The non in-place version is `insertcols`."
   ]
  },
  {
   "cell_type": "code",
   "execution_count": 14,
   "metadata": {},
   "outputs": [
    {
     "name": "stderr",
     "output_type": "stream",
     "text": [
      "┌ Warning: inserting colums using a keyword argument is deprecated, use `insertcols!(df, col_ind, :elapsed_days => Day[3 days, 19 days, 31 days, 212 days, 6 days, 28 days, 23 days, 61 days, 41 days, 31 days, 365 days, 1 day, 731 days, 161 days, 34 days, 142 days, 1 day, 31 days, 16 days, 30 days], makeunique=false)` instead. \n",
      "│   caller = ip:0x0\n",
      "└ @ Core :-1\n"
     ]
    },
    {
     "data": {
      "text/html": [
       "<table class=\"data-frame\"><thead><tr><th></th><th>v1</th><th>v2</th><th>v3</th><th>v4</th><th>v5</th><th>elapsed_days</th><th>v6</th><th>RandStr</th></tr><tr><th></th><th>Int64</th><th>Float64</th><th>String</th><th>Date</th><th>Date</th><th>Day</th><th>String</th><th>String</th></tr></thead><tbody><p>20 rows × 9 columns (omitted printing of 1 columns)</p><tr><th>1</th><td>1</td><td>0.1078</td><td>a</td><td>2019-10-31</td><td>2019-11-03</td><td>3 days</td><td>IZFi329Kfs</td><td>Qd7o4K1ppr</td></tr><tr><th>2</th><td>2</td><td>-0.79658</td><td>a</td><td>2018-11-12</td><td>2018-12-01</td><td>19 days</td><td>ZC1tXGibbk</td><td>zP4ZFgdeom</td></tr><tr><th>3</th><td>4</td><td>0.6142</td><td>c</td><td>2012-05-14</td><td>2012-06-14</td><td>31 days</td><td>BddsrFBO8E</td><td>ijy3LjvUzV</td></tr><tr><th>4</th><td>1</td><td>0.39258</td><td>a</td><td>2017-01-01</td><td>2017-08-01</td><td>212 days</td><td>g7PQAwGDrH</td><td>nURrlAWJ64</td></tr><tr><th>5</th><td>4</td><td>-0.29707</td><td>a</td><td>2012-06-06</td><td>2012-06-12</td><td>6 days</td><td>gxeJaCvj92</td><td>uwg0UEO4b0</td></tr><tr><th>6</th><td>4</td><td>0.2167</td><td>c</td><td>2019-04-03</td><td>2019-05-01</td><td>28 days</td><td>Q23fycpFNT</td><td>qm2W3LtYvz</td></tr><tr><th>7</th><td>6</td><td>0.04906</td><td>b</td><td>2015-07-28</td><td>2015-08-20</td><td>23 days</td><td>QE63406gEj</td><td>BcF0hu1v85</td></tr><tr><th>8</th><td>6</td><td>-0.76691</td><td>b</td><td>2014-09-27</td><td>2014-11-27</td><td>61 days</td><td>GCMwV5msPt</td><td>lgJymJVbme</td></tr><tr><th>9</th><td>1</td><td>0.17141</td><td>d</td><td>2013-10-04</td><td>2013-11-14</td><td>41 days</td><td>92PkSbQonD</td><td>wN5lihnRag</td></tr><tr><th>10</th><td>3</td><td>0.35063</td><td>d</td><td>2014-08-12</td><td>2014-09-12</td><td>31 days</td><td>RUXG3N8RtF</td><td>zqEMP2kiGq</td></tr><tr><th>11</th><td>2</td><td>0.90441</td><td>a</td><td>2018-11-12</td><td>2019-11-12</td><td>365 days</td><td>LE6qR2Q37p</td><td>nxvvZ1URvA</td></tr><tr><th>12</th><td>3</td><td>0.00197</td><td>b</td><td>2011-08-12</td><td>2011-08-13</td><td>1 day</td><td>B8oAeJRvEf</td><td>wgIgG6oZN7</td></tr><tr><th>13</th><td>1</td><td>0.81387</td><td>a</td><td>2014-06-24</td><td>2016-06-24</td><td>731 days</td><td>vFSFbWZBGM</td><td>ATV3I94qS5</td></tr><tr><th>14</th><td>3</td><td>-0.39826</td><td>a</td><td>2015-02-01</td><td>2015-07-12</td><td>161 days</td><td>UIVdF2TxWM</td><td>hpRw2VkJ05</td></tr><tr><th>15</th><td>4</td><td>0.52603</td><td>a</td><td>2011-07-10</td><td>2011-08-13</td><td>34 days</td><td>s0ltSZb4fm</td><td>mKBwnAnTWY</td></tr><tr><th>16</th><td>4</td><td>-0.41483</td><td>c</td><td>2012-03-12</td><td>2012-08-01</td><td>142 days</td><td>0OoRG1ly8l</td><td>ra7Y8v2uha</td></tr><tr><th>17</th><td>5</td><td>-0.02946</td><td>a</td><td>2013-07-16</td><td>2013-07-17</td><td>1 day</td><td>uLFMepv4pI</td><td>nh7XOud6K3</td></tr><tr><th>18</th><td>2</td><td>-0.16647</td><td>c</td><td>2016-03-14</td><td>2016-04-14</td><td>31 days</td><td>TKdJZ2SddY</td><td>8FJfc2bPZd</td></tr><tr><th>19</th><td>5</td><td>0.86743</td><td>d</td><td>2012-09-10</td><td>2012-09-26</td><td>16 days</td><td>0ltwHfLBHf</td><td>JCMCstM8wK</td></tr><tr><th>20</th><td>6</td><td>-0.85316</td><td>d</td><td>2018-04-12</td><td>2018-05-12</td><td>30 days</td><td>hjkJkeasXG</td><td>v3zWaSEMX6</td></tr></tbody></table>"
      ],
      "text/latex": [
       "\\begin{tabular}{r|ccccccccc}\n",
       "\t& v1 & v2 & v3 & v4 & v5 & elapsed\\_days & v6 & RandStr & \\\\\n",
       "\t\\hline\n",
       "\t& Int64 & Float64 & String & Date & Date & Day & String & String & \\\\\n",
       "\t\\hline\n",
       "\t1 & 1 & 0.1078 & a & 2019-10-31 & 2019-11-03 & 3 days & IZFi329Kfs & Qd7o4K1ppr & $\\dots$ \\\\\n",
       "\t2 & 2 & -0.79658 & a & 2018-11-12 & 2018-12-01 & 19 days & ZC1tXGibbk & zP4ZFgdeom & $\\dots$ \\\\\n",
       "\t3 & 4 & 0.6142 & c & 2012-05-14 & 2012-06-14 & 31 days & BddsrFBO8E & ijy3LjvUzV & $\\dots$ \\\\\n",
       "\t4 & 1 & 0.39258 & a & 2017-01-01 & 2017-08-01 & 212 days & g7PQAwGDrH & nURrlAWJ64 & $\\dots$ \\\\\n",
       "\t5 & 4 & -0.29707 & a & 2012-06-06 & 2012-06-12 & 6 days & gxeJaCvj92 & uwg0UEO4b0 & $\\dots$ \\\\\n",
       "\t6 & 4 & 0.2167 & c & 2019-04-03 & 2019-05-01 & 28 days & Q23fycpFNT & qm2W3LtYvz & $\\dots$ \\\\\n",
       "\t7 & 6 & 0.04906 & b & 2015-07-28 & 2015-08-20 & 23 days & QE63406gEj & BcF0hu1v85 & $\\dots$ \\\\\n",
       "\t8 & 6 & -0.76691 & b & 2014-09-27 & 2014-11-27 & 61 days & GCMwV5msPt & lgJymJVbme & $\\dots$ \\\\\n",
       "\t9 & 1 & 0.17141 & d & 2013-10-04 & 2013-11-14 & 41 days & 92PkSbQonD & wN5lihnRag & $\\dots$ \\\\\n",
       "\t10 & 3 & 0.35063 & d & 2014-08-12 & 2014-09-12 & 31 days & RUXG3N8RtF & zqEMP2kiGq & $\\dots$ \\\\\n",
       "\t11 & 2 & 0.90441 & a & 2018-11-12 & 2019-11-12 & 365 days & LE6qR2Q37p & nxvvZ1URvA & $\\dots$ \\\\\n",
       "\t12 & 3 & 0.00197 & b & 2011-08-12 & 2011-08-13 & 1 day & B8oAeJRvEf & wgIgG6oZN7 & $\\dots$ \\\\\n",
       "\t13 & 1 & 0.81387 & a & 2014-06-24 & 2016-06-24 & 731 days & vFSFbWZBGM & ATV3I94qS5 & $\\dots$ \\\\\n",
       "\t14 & 3 & -0.39826 & a & 2015-02-01 & 2015-07-12 & 161 days & UIVdF2TxWM & hpRw2VkJ05 & $\\dots$ \\\\\n",
       "\t15 & 4 & 0.52603 & a & 2011-07-10 & 2011-08-13 & 34 days & s0ltSZb4fm & mKBwnAnTWY & $\\dots$ \\\\\n",
       "\t16 & 4 & -0.41483 & c & 2012-03-12 & 2012-08-01 & 142 days & 0OoRG1ly8l & ra7Y8v2uha & $\\dots$ \\\\\n",
       "\t17 & 5 & -0.02946 & a & 2013-07-16 & 2013-07-17 & 1 day & uLFMepv4pI & nh7XOud6K3 & $\\dots$ \\\\\n",
       "\t18 & 2 & -0.16647 & c & 2016-03-14 & 2016-04-14 & 31 days & TKdJZ2SddY & 8FJfc2bPZd & $\\dots$ \\\\\n",
       "\t19 & 5 & 0.86743 & d & 2012-09-10 & 2012-09-26 & 16 days & 0ltwHfLBHf & JCMCstM8wK & $\\dots$ \\\\\n",
       "\t20 & 6 & -0.85316 & d & 2018-04-12 & 2018-05-12 & 30 days & hjkJkeasXG & v3zWaSEMX6 & $\\dots$ \\\\\n",
       "\\end{tabular}\n"
      ],
      "text/plain": [
       "20×9 DataFrame. Omitted printing of 3 columns\n",
       "│ Row │ v1    │ v2       │ v3     │ v4         │ v5         │ elapsed_days │\n",
       "│     │ \u001b[90mInt64\u001b[39m │ \u001b[90mFloat64\u001b[39m  │ \u001b[90mString\u001b[39m │ \u001b[90mDate\u001b[39m       │ \u001b[90mDate\u001b[39m       │ \u001b[90mDay\u001b[39m          │\n",
       "├─────┼───────┼──────────┼────────┼────────────┼────────────┼──────────────┤\n",
       "│ 1   │ 1     │ 0.1078   │ a      │ 2019-10-31 │ 2019-11-03 │ 3 days       │\n",
       "│ 2   │ 2     │ -0.79658 │ a      │ 2018-11-12 │ 2018-12-01 │ 19 days      │\n",
       "│ 3   │ 4     │ 0.6142   │ c      │ 2012-05-14 │ 2012-06-14 │ 31 days      │\n",
       "│ 4   │ 1     │ 0.39258  │ a      │ 2017-01-01 │ 2017-08-01 │ 212 days     │\n",
       "│ 5   │ 4     │ -0.29707 │ a      │ 2012-06-06 │ 2012-06-12 │ 6 days       │\n",
       "│ 6   │ 4     │ 0.2167   │ c      │ 2019-04-03 │ 2019-05-01 │ 28 days      │\n",
       "│ 7   │ 6     │ 0.04906  │ b      │ 2015-07-28 │ 2015-08-20 │ 23 days      │\n",
       "│ 8   │ 6     │ -0.76691 │ b      │ 2014-09-27 │ 2014-11-27 │ 61 days      │\n",
       "│ 9   │ 1     │ 0.17141  │ d      │ 2013-10-04 │ 2013-11-14 │ 41 days      │\n",
       "│ 10  │ 3     │ 0.35063  │ d      │ 2014-08-12 │ 2014-09-12 │ 31 days      │\n",
       "│ 11  │ 2     │ 0.90441  │ a      │ 2018-11-12 │ 2019-11-12 │ 365 days     │\n",
       "│ 12  │ 3     │ 0.00197  │ b      │ 2011-08-12 │ 2011-08-13 │ 1 day        │\n",
       "│ 13  │ 1     │ 0.81387  │ a      │ 2014-06-24 │ 2016-06-24 │ 731 days     │\n",
       "│ 14  │ 3     │ -0.39826 │ a      │ 2015-02-01 │ 2015-07-12 │ 161 days     │\n",
       "│ 15  │ 4     │ 0.52603  │ a      │ 2011-07-10 │ 2011-08-13 │ 34 days      │\n",
       "│ 16  │ 4     │ -0.41483 │ c      │ 2012-03-12 │ 2012-08-01 │ 142 days     │\n",
       "│ 17  │ 5     │ -0.02946 │ a      │ 2013-07-16 │ 2013-07-17 │ 1 day        │\n",
       "│ 18  │ 2     │ -0.16647 │ c      │ 2016-03-14 │ 2016-04-14 │ 31 days      │\n",
       "│ 19  │ 5     │ 0.86743  │ d      │ 2012-09-10 │ 2012-09-26 │ 16 days      │\n",
       "│ 20  │ 6     │ -0.85316 │ d      │ 2018-04-12 │ 2018-05-12 │ 30 days      │"
      ]
     },
     "execution_count": 14,
     "metadata": {},
     "output_type": "execute_result"
    }
   ],
   "source": [
    "insertcols!(df, 6, elapsed_days = df.v5 - df.v4)"
   ]
  },
  {
   "cell_type": "markdown",
   "metadata": {},
   "source": [
    "__By default Jupyter Notebook will limit the number of rows and columns when displaying a data frame to roughly fit the screen size.__"
   ]
  },
  {
   "cell_type": "code",
   "execution_count": 15,
   "metadata": {},
   "outputs": [
    {
     "name": "stdout",
     "output_type": "stream",
     "text": [
      "20×9 DataFrame\n",
      "│ Row │ v1    │ v2       │ v3     │ v4         │ v5         │ elapsed_days │\n",
      "│     │ \u001b[90mInt64\u001b[39m │ \u001b[90mFloat64\u001b[39m  │ \u001b[90mString\u001b[39m │ \u001b[90mDate\u001b[39m       │ \u001b[90mDate\u001b[39m       │ \u001b[90mDay\u001b[39m          │\n",
      "├─────┼───────┼──────────┼────────┼────────────┼────────────┼──────────────┤\n",
      "│ 1   │ 1     │ 0.1078   │ a      │ 2019-10-31 │ 2019-11-03 │ 3 days       │\n",
      "│ 2   │ 2     │ -0.79658 │ a      │ 2018-11-12 │ 2018-12-01 │ 19 days      │\n",
      "│ 3   │ 4     │ 0.6142   │ c      │ 2012-05-14 │ 2012-06-14 │ 31 days      │\n",
      "│ 4   │ 1     │ 0.39258  │ a      │ 2017-01-01 │ 2017-08-01 │ 212 days     │\n",
      "│ 5   │ 4     │ -0.29707 │ a      │ 2012-06-06 │ 2012-06-12 │ 6 days       │\n",
      "│ 6   │ 4     │ 0.2167   │ c      │ 2019-04-03 │ 2019-05-01 │ 28 days      │\n",
      "│ 7   │ 6     │ 0.04906  │ b      │ 2015-07-28 │ 2015-08-20 │ 23 days      │\n",
      "│ 8   │ 6     │ -0.76691 │ b      │ 2014-09-27 │ 2014-11-27 │ 61 days      │\n",
      "│ 9   │ 1     │ 0.17141  │ d      │ 2013-10-04 │ 2013-11-14 │ 41 days      │\n",
      "│ 10  │ 3     │ 0.35063  │ d      │ 2014-08-12 │ 2014-09-12 │ 31 days      │\n",
      "│ 11  │ 2     │ 0.90441  │ a      │ 2018-11-12 │ 2019-11-12 │ 365 days     │\n",
      "│ 12  │ 3     │ 0.00197  │ b      │ 2011-08-12 │ 2011-08-13 │ 1 day        │\n",
      "│ 13  │ 1     │ 0.81387  │ a      │ 2014-06-24 │ 2016-06-24 │ 731 days     │\n",
      "│ 14  │ 3     │ -0.39826 │ a      │ 2015-02-01 │ 2015-07-12 │ 161 days     │\n",
      "│ 15  │ 4     │ 0.52603  │ a      │ 2011-07-10 │ 2011-08-13 │ 34 days      │\n",
      "│ 16  │ 4     │ -0.41483 │ c      │ 2012-03-12 │ 2012-08-01 │ 142 days     │\n",
      "│ 17  │ 5     │ -0.02946 │ a      │ 2013-07-16 │ 2013-07-17 │ 1 day        │\n",
      "│ 18  │ 2     │ -0.16647 │ c      │ 2016-03-14 │ 2016-04-14 │ 31 days      │\n",
      "│ 19  │ 5     │ 0.86743  │ d      │ 2012-09-10 │ 2012-09-26 │ 16 days      │\n",
      "│ 20  │ 6     │ -0.85316 │ d      │ 2018-04-12 │ 2018-05-12 │ 30 days      │\n",
      "\n",
      "│ Row │ v6         │ RandStr    │ v4_day │\n",
      "│     │ \u001b[90mString\u001b[39m     │ \u001b[90mString\u001b[39m     │ \u001b[90mInt64\u001b[39m  │\n",
      "├─────┼────────────┼────────────┼────────┤\n",
      "│ 1   │ IZFi329Kfs │ Qd7o4K1ppr │ 31     │\n",
      "│ 2   │ ZC1tXGibbk │ zP4ZFgdeom │ 12     │\n",
      "│ 3   │ BddsrFBO8E │ ijy3LjvUzV │ 14     │\n",
      "│ 4   │ g7PQAwGDrH │ nURrlAWJ64 │ 1      │\n",
      "│ 5   │ gxeJaCvj92 │ uwg0UEO4b0 │ 6      │\n",
      "│ 6   │ Q23fycpFNT │ qm2W3LtYvz │ 3      │\n",
      "│ 7   │ QE63406gEj │ BcF0hu1v85 │ 28     │\n",
      "│ 8   │ GCMwV5msPt │ lgJymJVbme │ 27     │\n",
      "│ 9   │ 92PkSbQonD │ wN5lihnRag │ 4      │\n",
      "│ 10  │ RUXG3N8RtF │ zqEMP2kiGq │ 12     │\n",
      "│ 11  │ LE6qR2Q37p │ nxvvZ1URvA │ 12     │\n",
      "│ 12  │ B8oAeJRvEf │ wgIgG6oZN7 │ 12     │\n",
      "│ 13  │ vFSFbWZBGM │ ATV3I94qS5 │ 24     │\n",
      "│ 14  │ UIVdF2TxWM │ hpRw2VkJ05 │ 1      │\n",
      "│ 15  │ s0ltSZb4fm │ mKBwnAnTWY │ 10     │\n",
      "│ 16  │ 0OoRG1ly8l │ ra7Y8v2uha │ 12     │\n",
      "│ 17  │ uLFMepv4pI │ nh7XOud6K3 │ 16     │\n",
      "│ 18  │ TKdJZ2SddY │ 8FJfc2bPZd │ 14     │\n",
      "│ 19  │ 0ltwHfLBHf │ JCMCstM8wK │ 10     │\n",
      "│ 20  │ hjkJkeasXG │ v3zWaSEMX6 │ 12     │"
     ]
    }
   ],
   "source": [
    "show(df, allcols=true)"
   ]
  },
  {
   "cell_type": "markdown",
   "metadata": {},
   "source": [
    "You can accomplish the same thing using `transform!` or `tansform` for the in-place and non in-place (respectively) operations. \n",
    "\n",
    "The first argument is the name of the dataframe; the second argument is a pair of pairs. In the second argument the first part indicates the columns of the dataframe to operate on. The second part uses `ByRow` to iterate over the rows applying the passed in anonymous function to each row iteration; the columns specified in the first part are used as the inputs to the anonymous function. The result will be placed in a new variable called __elapsed_days_trans__ as indicated in the last part of the second argument."
   ]
  },
  {
   "cell_type": "code",
   "execution_count": 16,
   "metadata": {},
   "outputs": [
    {
     "data": {
      "text/html": [
       "<table class=\"data-frame\"><thead><tr><th></th><th>v1</th><th>v2</th><th>v3</th><th>v4</th><th>v5</th><th>elapsed_days</th><th>v6</th><th>RandStr</th></tr><tr><th></th><th>Int64</th><th>Float64</th><th>String</th><th>Date</th><th>Date</th><th>Day</th><th>String</th><th>String</th></tr></thead><tbody><p>20 rows × 10 columns (omitted printing of 2 columns)</p><tr><th>1</th><td>1</td><td>0.1078</td><td>a</td><td>2019-10-31</td><td>2019-11-03</td><td>3 days</td><td>IZFi329Kfs</td><td>Qd7o4K1ppr</td></tr><tr><th>2</th><td>2</td><td>-0.79658</td><td>a</td><td>2018-11-12</td><td>2018-12-01</td><td>19 days</td><td>ZC1tXGibbk</td><td>zP4ZFgdeom</td></tr><tr><th>3</th><td>4</td><td>0.6142</td><td>c</td><td>2012-05-14</td><td>2012-06-14</td><td>31 days</td><td>BddsrFBO8E</td><td>ijy3LjvUzV</td></tr><tr><th>4</th><td>1</td><td>0.39258</td><td>a</td><td>2017-01-01</td><td>2017-08-01</td><td>212 days</td><td>g7PQAwGDrH</td><td>nURrlAWJ64</td></tr><tr><th>5</th><td>4</td><td>-0.29707</td><td>a</td><td>2012-06-06</td><td>2012-06-12</td><td>6 days</td><td>gxeJaCvj92</td><td>uwg0UEO4b0</td></tr><tr><th>6</th><td>4</td><td>0.2167</td><td>c</td><td>2019-04-03</td><td>2019-05-01</td><td>28 days</td><td>Q23fycpFNT</td><td>qm2W3LtYvz</td></tr><tr><th>7</th><td>6</td><td>0.04906</td><td>b</td><td>2015-07-28</td><td>2015-08-20</td><td>23 days</td><td>QE63406gEj</td><td>BcF0hu1v85</td></tr><tr><th>8</th><td>6</td><td>-0.76691</td><td>b</td><td>2014-09-27</td><td>2014-11-27</td><td>61 days</td><td>GCMwV5msPt</td><td>lgJymJVbme</td></tr><tr><th>9</th><td>1</td><td>0.17141</td><td>d</td><td>2013-10-04</td><td>2013-11-14</td><td>41 days</td><td>92PkSbQonD</td><td>wN5lihnRag</td></tr><tr><th>10</th><td>3</td><td>0.35063</td><td>d</td><td>2014-08-12</td><td>2014-09-12</td><td>31 days</td><td>RUXG3N8RtF</td><td>zqEMP2kiGq</td></tr><tr><th>11</th><td>2</td><td>0.90441</td><td>a</td><td>2018-11-12</td><td>2019-11-12</td><td>365 days</td><td>LE6qR2Q37p</td><td>nxvvZ1URvA</td></tr><tr><th>12</th><td>3</td><td>0.00197</td><td>b</td><td>2011-08-12</td><td>2011-08-13</td><td>1 day</td><td>B8oAeJRvEf</td><td>wgIgG6oZN7</td></tr><tr><th>13</th><td>1</td><td>0.81387</td><td>a</td><td>2014-06-24</td><td>2016-06-24</td><td>731 days</td><td>vFSFbWZBGM</td><td>ATV3I94qS5</td></tr><tr><th>14</th><td>3</td><td>-0.39826</td><td>a</td><td>2015-02-01</td><td>2015-07-12</td><td>161 days</td><td>UIVdF2TxWM</td><td>hpRw2VkJ05</td></tr><tr><th>15</th><td>4</td><td>0.52603</td><td>a</td><td>2011-07-10</td><td>2011-08-13</td><td>34 days</td><td>s0ltSZb4fm</td><td>mKBwnAnTWY</td></tr><tr><th>16</th><td>4</td><td>-0.41483</td><td>c</td><td>2012-03-12</td><td>2012-08-01</td><td>142 days</td><td>0OoRG1ly8l</td><td>ra7Y8v2uha</td></tr><tr><th>17</th><td>5</td><td>-0.02946</td><td>a</td><td>2013-07-16</td><td>2013-07-17</td><td>1 day</td><td>uLFMepv4pI</td><td>nh7XOud6K3</td></tr><tr><th>18</th><td>2</td><td>-0.16647</td><td>c</td><td>2016-03-14</td><td>2016-04-14</td><td>31 days</td><td>TKdJZ2SddY</td><td>8FJfc2bPZd</td></tr><tr><th>19</th><td>5</td><td>0.86743</td><td>d</td><td>2012-09-10</td><td>2012-09-26</td><td>16 days</td><td>0ltwHfLBHf</td><td>JCMCstM8wK</td></tr><tr><th>20</th><td>6</td><td>-0.85316</td><td>d</td><td>2018-04-12</td><td>2018-05-12</td><td>30 days</td><td>hjkJkeasXG</td><td>v3zWaSEMX6</td></tr></tbody></table>"
      ],
      "text/latex": [
       "\\begin{tabular}{r|ccccccccc}\n",
       "\t& v1 & v2 & v3 & v4 & v5 & elapsed\\_days & v6 & RandStr & \\\\\n",
       "\t\\hline\n",
       "\t& Int64 & Float64 & String & Date & Date & Day & String & String & \\\\\n",
       "\t\\hline\n",
       "\t1 & 1 & 0.1078 & a & 2019-10-31 & 2019-11-03 & 3 days & IZFi329Kfs & Qd7o4K1ppr & $\\dots$ \\\\\n",
       "\t2 & 2 & -0.79658 & a & 2018-11-12 & 2018-12-01 & 19 days & ZC1tXGibbk & zP4ZFgdeom & $\\dots$ \\\\\n",
       "\t3 & 4 & 0.6142 & c & 2012-05-14 & 2012-06-14 & 31 days & BddsrFBO8E & ijy3LjvUzV & $\\dots$ \\\\\n",
       "\t4 & 1 & 0.39258 & a & 2017-01-01 & 2017-08-01 & 212 days & g7PQAwGDrH & nURrlAWJ64 & $\\dots$ \\\\\n",
       "\t5 & 4 & -0.29707 & a & 2012-06-06 & 2012-06-12 & 6 days & gxeJaCvj92 & uwg0UEO4b0 & $\\dots$ \\\\\n",
       "\t6 & 4 & 0.2167 & c & 2019-04-03 & 2019-05-01 & 28 days & Q23fycpFNT & qm2W3LtYvz & $\\dots$ \\\\\n",
       "\t7 & 6 & 0.04906 & b & 2015-07-28 & 2015-08-20 & 23 days & QE63406gEj & BcF0hu1v85 & $\\dots$ \\\\\n",
       "\t8 & 6 & -0.76691 & b & 2014-09-27 & 2014-11-27 & 61 days & GCMwV5msPt & lgJymJVbme & $\\dots$ \\\\\n",
       "\t9 & 1 & 0.17141 & d & 2013-10-04 & 2013-11-14 & 41 days & 92PkSbQonD & wN5lihnRag & $\\dots$ \\\\\n",
       "\t10 & 3 & 0.35063 & d & 2014-08-12 & 2014-09-12 & 31 days & RUXG3N8RtF & zqEMP2kiGq & $\\dots$ \\\\\n",
       "\t11 & 2 & 0.90441 & a & 2018-11-12 & 2019-11-12 & 365 days & LE6qR2Q37p & nxvvZ1URvA & $\\dots$ \\\\\n",
       "\t12 & 3 & 0.00197 & b & 2011-08-12 & 2011-08-13 & 1 day & B8oAeJRvEf & wgIgG6oZN7 & $\\dots$ \\\\\n",
       "\t13 & 1 & 0.81387 & a & 2014-06-24 & 2016-06-24 & 731 days & vFSFbWZBGM & ATV3I94qS5 & $\\dots$ \\\\\n",
       "\t14 & 3 & -0.39826 & a & 2015-02-01 & 2015-07-12 & 161 days & UIVdF2TxWM & hpRw2VkJ05 & $\\dots$ \\\\\n",
       "\t15 & 4 & 0.52603 & a & 2011-07-10 & 2011-08-13 & 34 days & s0ltSZb4fm & mKBwnAnTWY & $\\dots$ \\\\\n",
       "\t16 & 4 & -0.41483 & c & 2012-03-12 & 2012-08-01 & 142 days & 0OoRG1ly8l & ra7Y8v2uha & $\\dots$ \\\\\n",
       "\t17 & 5 & -0.02946 & a & 2013-07-16 & 2013-07-17 & 1 day & uLFMepv4pI & nh7XOud6K3 & $\\dots$ \\\\\n",
       "\t18 & 2 & -0.16647 & c & 2016-03-14 & 2016-04-14 & 31 days & TKdJZ2SddY & 8FJfc2bPZd & $\\dots$ \\\\\n",
       "\t19 & 5 & 0.86743 & d & 2012-09-10 & 2012-09-26 & 16 days & 0ltwHfLBHf & JCMCstM8wK & $\\dots$ \\\\\n",
       "\t20 & 6 & -0.85316 & d & 2018-04-12 & 2018-05-12 & 30 days & hjkJkeasXG & v3zWaSEMX6 & $\\dots$ \\\\\n",
       "\\end{tabular}\n"
      ],
      "text/plain": [
       "20×10 DataFrame. Omitted printing of 4 columns\n",
       "│ Row │ v1    │ v2       │ v3     │ v4         │ v5         │ elapsed_days │\n",
       "│     │ \u001b[90mInt64\u001b[39m │ \u001b[90mFloat64\u001b[39m  │ \u001b[90mString\u001b[39m │ \u001b[90mDate\u001b[39m       │ \u001b[90mDate\u001b[39m       │ \u001b[90mDay\u001b[39m          │\n",
       "├─────┼───────┼──────────┼────────┼────────────┼────────────┼──────────────┤\n",
       "│ 1   │ 1     │ 0.1078   │ a      │ 2019-10-31 │ 2019-11-03 │ 3 days       │\n",
       "│ 2   │ 2     │ -0.79658 │ a      │ 2018-11-12 │ 2018-12-01 │ 19 days      │\n",
       "│ 3   │ 4     │ 0.6142   │ c      │ 2012-05-14 │ 2012-06-14 │ 31 days      │\n",
       "│ 4   │ 1     │ 0.39258  │ a      │ 2017-01-01 │ 2017-08-01 │ 212 days     │\n",
       "│ 5   │ 4     │ -0.29707 │ a      │ 2012-06-06 │ 2012-06-12 │ 6 days       │\n",
       "│ 6   │ 4     │ 0.2167   │ c      │ 2019-04-03 │ 2019-05-01 │ 28 days      │\n",
       "│ 7   │ 6     │ 0.04906  │ b      │ 2015-07-28 │ 2015-08-20 │ 23 days      │\n",
       "│ 8   │ 6     │ -0.76691 │ b      │ 2014-09-27 │ 2014-11-27 │ 61 days      │\n",
       "│ 9   │ 1     │ 0.17141  │ d      │ 2013-10-04 │ 2013-11-14 │ 41 days      │\n",
       "│ 10  │ 3     │ 0.35063  │ d      │ 2014-08-12 │ 2014-09-12 │ 31 days      │\n",
       "│ 11  │ 2     │ 0.90441  │ a      │ 2018-11-12 │ 2019-11-12 │ 365 days     │\n",
       "│ 12  │ 3     │ 0.00197  │ b      │ 2011-08-12 │ 2011-08-13 │ 1 day        │\n",
       "│ 13  │ 1     │ 0.81387  │ a      │ 2014-06-24 │ 2016-06-24 │ 731 days     │\n",
       "│ 14  │ 3     │ -0.39826 │ a      │ 2015-02-01 │ 2015-07-12 │ 161 days     │\n",
       "│ 15  │ 4     │ 0.52603  │ a      │ 2011-07-10 │ 2011-08-13 │ 34 days      │\n",
       "│ 16  │ 4     │ -0.41483 │ c      │ 2012-03-12 │ 2012-08-01 │ 142 days     │\n",
       "│ 17  │ 5     │ -0.02946 │ a      │ 2013-07-16 │ 2013-07-17 │ 1 day        │\n",
       "│ 18  │ 2     │ -0.16647 │ c      │ 2016-03-14 │ 2016-04-14 │ 31 days      │\n",
       "│ 19  │ 5     │ 0.86743  │ d      │ 2012-09-10 │ 2012-09-26 │ 16 days      │\n",
       "│ 20  │ 6     │ -0.85316 │ d      │ 2018-04-12 │ 2018-05-12 │ 30 days      │"
      ]
     },
     "execution_count": 16,
     "metadata": {},
     "output_type": "execute_result"
    }
   ],
   "source": [
    "transform!(df, [:v5, :v4] => ByRow( (a,b) -> a - b ) => :elapsed_days_trans)\n",
    "# transform(df, [:v5, :v4] => ByRow( - ) => :elapsed_days_trans)"
   ]
  },
  {
   "cell_type": "code",
   "execution_count": 17,
   "metadata": {},
   "outputs": [
    {
     "name": "stdout",
     "output_type": "stream",
     "text": [
      "20×10 DataFrame\n",
      "│ Row │ v1    │ v2       │ v3     │ v4         │ v5         │ elapsed_days │\n",
      "│     │ \u001b[90mInt64\u001b[39m │ \u001b[90mFloat64\u001b[39m  │ \u001b[90mString\u001b[39m │ \u001b[90mDate\u001b[39m       │ \u001b[90mDate\u001b[39m       │ \u001b[90mDay\u001b[39m          │\n",
      "├─────┼───────┼──────────┼────────┼────────────┼────────────┼──────────────┤\n",
      "│ 1   │ 1     │ 0.1078   │ a      │ 2019-10-31 │ 2019-11-03 │ 3 days       │\n",
      "│ 2   │ 2     │ -0.79658 │ a      │ 2018-11-12 │ 2018-12-01 │ 19 days      │\n",
      "│ 3   │ 4     │ 0.6142   │ c      │ 2012-05-14 │ 2012-06-14 │ 31 days      │\n",
      "│ 4   │ 1     │ 0.39258  │ a      │ 2017-01-01 │ 2017-08-01 │ 212 days     │\n",
      "│ 5   │ 4     │ -0.29707 │ a      │ 2012-06-06 │ 2012-06-12 │ 6 days       │\n",
      "│ 6   │ 4     │ 0.2167   │ c      │ 2019-04-03 │ 2019-05-01 │ 28 days      │\n",
      "│ 7   │ 6     │ 0.04906  │ b      │ 2015-07-28 │ 2015-08-20 │ 23 days      │\n",
      "│ 8   │ 6     │ -0.76691 │ b      │ 2014-09-27 │ 2014-11-27 │ 61 days      │\n",
      "│ 9   │ 1     │ 0.17141  │ d      │ 2013-10-04 │ 2013-11-14 │ 41 days      │\n",
      "│ 10  │ 3     │ 0.35063  │ d      │ 2014-08-12 │ 2014-09-12 │ 31 days      │\n",
      "│ 11  │ 2     │ 0.90441  │ a      │ 2018-11-12 │ 2019-11-12 │ 365 days     │\n",
      "│ 12  │ 3     │ 0.00197  │ b      │ 2011-08-12 │ 2011-08-13 │ 1 day        │\n",
      "│ 13  │ 1     │ 0.81387  │ a      │ 2014-06-24 │ 2016-06-24 │ 731 days     │\n",
      "│ 14  │ 3     │ -0.39826 │ a      │ 2015-02-01 │ 2015-07-12 │ 161 days     │\n",
      "│ 15  │ 4     │ 0.52603  │ a      │ 2011-07-10 │ 2011-08-13 │ 34 days      │\n",
      "│ 16  │ 4     │ -0.41483 │ c      │ 2012-03-12 │ 2012-08-01 │ 142 days     │\n",
      "│ 17  │ 5     │ -0.02946 │ a      │ 2013-07-16 │ 2013-07-17 │ 1 day        │\n",
      "│ 18  │ 2     │ -0.16647 │ c      │ 2016-03-14 │ 2016-04-14 │ 31 days      │\n",
      "│ 19  │ 5     │ 0.86743  │ d      │ 2012-09-10 │ 2012-09-26 │ 16 days      │\n",
      "│ 20  │ 6     │ -0.85316 │ d      │ 2018-04-12 │ 2018-05-12 │ 30 days      │\n",
      "\n",
      "│ Row │ v6         │ RandStr    │ v4_day │ elapsed_days_trans │\n",
      "│     │ \u001b[90mString\u001b[39m     │ \u001b[90mString\u001b[39m     │ \u001b[90mInt64\u001b[39m  │ \u001b[90mDay\u001b[39m                │\n",
      "├─────┼────────────┼────────────┼────────┼────────────────────┤\n",
      "│ 1   │ IZFi329Kfs │ Qd7o4K1ppr │ 31     │ 3 days             │\n",
      "│ 2   │ ZC1tXGibbk │ zP4ZFgdeom │ 12     │ 19 days            │\n",
      "│ 3   │ BddsrFBO8E │ ijy3LjvUzV │ 14     │ 31 days            │\n",
      "│ 4   │ g7PQAwGDrH │ nURrlAWJ64 │ 1      │ 212 days           │\n",
      "│ 5   │ gxeJaCvj92 │ uwg0UEO4b0 │ 6      │ 6 days             │\n",
      "│ 6   │ Q23fycpFNT │ qm2W3LtYvz │ 3      │ 28 days            │\n",
      "│ 7   │ QE63406gEj │ BcF0hu1v85 │ 28     │ 23 days            │\n",
      "│ 8   │ GCMwV5msPt │ lgJymJVbme │ 27     │ 61 days            │\n",
      "│ 9   │ 92PkSbQonD │ wN5lihnRag │ 4      │ 41 days            │\n",
      "│ 10  │ RUXG3N8RtF │ zqEMP2kiGq │ 12     │ 31 days            │\n",
      "│ 11  │ LE6qR2Q37p │ nxvvZ1URvA │ 12     │ 365 days           │\n",
      "│ 12  │ B8oAeJRvEf │ wgIgG6oZN7 │ 12     │ 1 day              │\n",
      "│ 13  │ vFSFbWZBGM │ ATV3I94qS5 │ 24     │ 731 days           │\n",
      "│ 14  │ UIVdF2TxWM │ hpRw2VkJ05 │ 1      │ 161 days           │\n",
      "│ 15  │ s0ltSZb4fm │ mKBwnAnTWY │ 10     │ 34 days            │\n",
      "│ 16  │ 0OoRG1ly8l │ ra7Y8v2uha │ 12     │ 142 days           │\n",
      "│ 17  │ uLFMepv4pI │ nh7XOud6K3 │ 16     │ 1 day              │\n",
      "│ 18  │ TKdJZ2SddY │ 8FJfc2bPZd │ 14     │ 31 days            │\n",
      "│ 19  │ 0ltwHfLBHf │ JCMCstM8wK │ 10     │ 16 days            │\n",
      "│ 20  │ hjkJkeasXG │ v3zWaSEMX6 │ 12     │ 30 days            │"
     ]
    }
   ],
   "source": [
    "show(df, allcols=true)"
   ]
  },
  {
   "cell_type": "markdown",
   "metadata": {},
   "source": [
    "Note the type of <i>df.elapsed_days</i>. It's an array with element of type **Day** (not **Int64**). **Day** is a built-in type that is part of the <i>Dates</i> package."
   ]
  },
  {
   "cell_type": "code",
   "execution_count": 18,
   "metadata": {},
   "outputs": [
    {
     "data": {
      "text/plain": [
       "Array{Day,1}"
      ]
     },
     "execution_count": 18,
     "metadata": {},
     "output_type": "execute_result"
    }
   ],
   "source": [
    "typeof(df.elapsed_days)"
   ]
  },
  {
   "cell_type": "markdown",
   "metadata": {},
   "source": [
    "You can also create a new column by mapping an arbitrary function to another column. Here let's use Julia's `map` function to create new column called <i>elapsed_hours</i> equal to <i>elapsed_days</i> converted into hours."
   ]
  },
  {
   "cell_type": "code",
   "execution_count": 19,
   "metadata": {},
   "outputs": [],
   "source": [
    "df[!, :elapsed_hours] = map(t -> Dates.Hour(t), df[:, :elapsed_days]); \n",
    "\n",
    "# You could also do df[!, :elapsed_hours] =  Dates.Hour.(df.elapsed_days);\n",
    "# You could also do df[!, :elapsed_hours] = map(t -> Dates.Hour(t), df.elapsed_days);"
   ]
  },
  {
   "cell_type": "code",
   "execution_count": 20,
   "metadata": {},
   "outputs": [
    {
     "name": "stdout",
     "output_type": "stream",
     "text": [
      "20×11 DataFrame\n",
      "│ Row │ v1    │ v2       │ v3     │ v4         │ v5         │ elapsed_days │\n",
      "│     │ \u001b[90mInt64\u001b[39m │ \u001b[90mFloat64\u001b[39m  │ \u001b[90mString\u001b[39m │ \u001b[90mDate\u001b[39m       │ \u001b[90mDate\u001b[39m       │ \u001b[90mDay\u001b[39m          │\n",
      "├─────┼───────┼──────────┼────────┼────────────┼────────────┼──────────────┤\n",
      "│ 1   │ 1     │ 0.1078   │ a      │ 2019-10-31 │ 2019-11-03 │ 3 days       │\n",
      "│ 2   │ 2     │ -0.79658 │ a      │ 2018-11-12 │ 2018-12-01 │ 19 days      │\n",
      "│ 3   │ 4     │ 0.6142   │ c      │ 2012-05-14 │ 2012-06-14 │ 31 days      │\n",
      "│ 4   │ 1     │ 0.39258  │ a      │ 2017-01-01 │ 2017-08-01 │ 212 days     │\n",
      "│ 5   │ 4     │ -0.29707 │ a      │ 2012-06-06 │ 2012-06-12 │ 6 days       │\n",
      "│ 6   │ 4     │ 0.2167   │ c      │ 2019-04-03 │ 2019-05-01 │ 28 days      │\n",
      "│ 7   │ 6     │ 0.04906  │ b      │ 2015-07-28 │ 2015-08-20 │ 23 days      │\n",
      "│ 8   │ 6     │ -0.76691 │ b      │ 2014-09-27 │ 2014-11-27 │ 61 days      │\n",
      "│ 9   │ 1     │ 0.17141  │ d      │ 2013-10-04 │ 2013-11-14 │ 41 days      │\n",
      "│ 10  │ 3     │ 0.35063  │ d      │ 2014-08-12 │ 2014-09-12 │ 31 days      │\n",
      "│ 11  │ 2     │ 0.90441  │ a      │ 2018-11-12 │ 2019-11-12 │ 365 days     │\n",
      "│ 12  │ 3     │ 0.00197  │ b      │ 2011-08-12 │ 2011-08-13 │ 1 day        │\n",
      "│ 13  │ 1     │ 0.81387  │ a      │ 2014-06-24 │ 2016-06-24 │ 731 days     │\n",
      "│ 14  │ 3     │ -0.39826 │ a      │ 2015-02-01 │ 2015-07-12 │ 161 days     │\n",
      "│ 15  │ 4     │ 0.52603  │ a      │ 2011-07-10 │ 2011-08-13 │ 34 days      │\n",
      "│ 16  │ 4     │ -0.41483 │ c      │ 2012-03-12 │ 2012-08-01 │ 142 days     │\n",
      "│ 17  │ 5     │ -0.02946 │ a      │ 2013-07-16 │ 2013-07-17 │ 1 day        │\n",
      "│ 18  │ 2     │ -0.16647 │ c      │ 2016-03-14 │ 2016-04-14 │ 31 days      │\n",
      "│ 19  │ 5     │ 0.86743  │ d      │ 2012-09-10 │ 2012-09-26 │ 16 days      │\n",
      "│ 20  │ 6     │ -0.85316 │ d      │ 2018-04-12 │ 2018-05-12 │ 30 days      │\n",
      "\n",
      "│ Row │ v6         │ RandStr    │ v4_day │ elapsed_days_trans │ elapsed_hours │\n",
      "│     │ \u001b[90mString\u001b[39m     │ \u001b[90mString\u001b[39m     │ \u001b[90mInt64\u001b[39m  │ \u001b[90mDay\u001b[39m                │ \u001b[90mHour\u001b[39m          │\n",
      "├─────┼────────────┼────────────┼────────┼────────────────────┼───────────────┤\n",
      "│ 1   │ IZFi329Kfs │ Qd7o4K1ppr │ 31     │ 3 days             │ 72 hours      │\n",
      "│ 2   │ ZC1tXGibbk │ zP4ZFgdeom │ 12     │ 19 days            │ 456 hours     │\n",
      "│ 3   │ BddsrFBO8E │ ijy3LjvUzV │ 14     │ 31 days            │ 744 hours     │\n",
      "│ 4   │ g7PQAwGDrH │ nURrlAWJ64 │ 1      │ 212 days           │ 5088 hours    │\n",
      "│ 5   │ gxeJaCvj92 │ uwg0UEO4b0 │ 6      │ 6 days             │ 144 hours     │\n",
      "│ 6   │ Q23fycpFNT │ qm2W3LtYvz │ 3      │ 28 days            │ 672 hours     │\n",
      "│ 7   │ QE63406gEj │ BcF0hu1v85 │ 28     │ 23 days            │ 552 hours     │\n",
      "│ 8   │ GCMwV5msPt │ lgJymJVbme │ 27     │ 61 days            │ 1464 hours    │\n",
      "│ 9   │ 92PkSbQonD │ wN5lihnRag │ 4      │ 41 days            │ 984 hours     │\n",
      "│ 10  │ RUXG3N8RtF │ zqEMP2kiGq │ 12     │ 31 days            │ 744 hours     │\n",
      "│ 11  │ LE6qR2Q37p │ nxvvZ1URvA │ 12     │ 365 days           │ 8760 hours    │\n",
      "│ 12  │ B8oAeJRvEf │ wgIgG6oZN7 │ 12     │ 1 day              │ 24 hours      │\n",
      "│ 13  │ vFSFbWZBGM │ ATV3I94qS5 │ 24     │ 731 days           │ 17544 hours   │\n",
      "│ 14  │ UIVdF2TxWM │ hpRw2VkJ05 │ 1      │ 161 days           │ 3864 hours    │\n",
      "│ 15  │ s0ltSZb4fm │ mKBwnAnTWY │ 10     │ 34 days            │ 816 hours     │\n",
      "│ 16  │ 0OoRG1ly8l │ ra7Y8v2uha │ 12     │ 142 days           │ 3408 hours    │\n",
      "│ 17  │ uLFMepv4pI │ nh7XOud6K3 │ 16     │ 1 day              │ 24 hours      │\n",
      "│ 18  │ TKdJZ2SddY │ 8FJfc2bPZd │ 14     │ 31 days            │ 744 hours     │\n",
      "│ 19  │ 0ltwHfLBHf │ JCMCstM8wK │ 10     │ 16 days            │ 384 hours     │\n",
      "│ 20  │ hjkJkeasXG │ v3zWaSEMX6 │ 12     │ 30 days            │ 720 hours     │"
     ]
    }
   ],
   "source": [
    "show(df, allcols=true)"
   ]
  },
  {
   "cell_type": "markdown",
   "metadata": {},
   "source": [
    "As you likely noticed, not all columns were displayed. You can use the __show__ command to see all column variables for a few rows."
   ]
  },
  {
   "cell_type": "markdown",
   "metadata": {},
   "source": [
    "If you want to drop a column you can use the `select!` function along with the `Not` keyword argument. This is an in-place operation and therefore will modify the dataset. Use `select` if you want to do the non in-place version of this operation.\n",
    "\n",
    "We'll drop the <i>elapsed_hours</i> and <i>v5</i> columns from **df**."
   ]
  },
  {
   "cell_type": "code",
   "execution_count": 21,
   "metadata": {},
   "outputs": [],
   "source": [
    "select!(df, Not([:elapsed_hours, :v5, :elapsed_days_trans]));"
   ]
  },
  {
   "cell_type": "code",
   "execution_count": 22,
   "metadata": {},
   "outputs": [
    {
     "data": {
      "text/plain": [
       "8-element Array{String,1}:\n",
       " \"v1\"          \n",
       " \"v2\"          \n",
       " \"v3\"          \n",
       " \"v4\"          \n",
       " \"elapsed_days\"\n",
       " \"v6\"          \n",
       " \"RandStr\"     \n",
       " \"v4_day\"      "
      ]
     },
     "execution_count": 22,
     "metadata": {},
     "output_type": "execute_result"
    }
   ],
   "source": [
    "names(df)"
   ]
  },
  {
   "cell_type": "markdown",
   "metadata": {},
   "source": [
    "The `select!` command can also be used to keep a specific subset of columns:"
   ]
  },
  {
   "cell_type": "code",
   "execution_count": 23,
   "metadata": {},
   "outputs": [
    {
     "data": {
      "text/html": [
       "<table class=\"data-frame\"><thead><tr><th></th><th>v1</th><th>v2</th><th>v3</th><th>v4</th><th>elapsed_days</th><th>RandStr</th><th>v4_day</th></tr><tr><th></th><th>Int64</th><th>Float64</th><th>String</th><th>Date</th><th>Day</th><th>String</th><th>Int64</th></tr></thead><tbody><p>20 rows × 7 columns</p><tr><th>1</th><td>1</td><td>0.1078</td><td>a</td><td>2019-10-31</td><td>3 days</td><td>Qd7o4K1ppr</td><td>31</td></tr><tr><th>2</th><td>2</td><td>-0.79658</td><td>a</td><td>2018-11-12</td><td>19 days</td><td>zP4ZFgdeom</td><td>12</td></tr><tr><th>3</th><td>4</td><td>0.6142</td><td>c</td><td>2012-05-14</td><td>31 days</td><td>ijy3LjvUzV</td><td>14</td></tr><tr><th>4</th><td>1</td><td>0.39258</td><td>a</td><td>2017-01-01</td><td>212 days</td><td>nURrlAWJ64</td><td>1</td></tr><tr><th>5</th><td>4</td><td>-0.29707</td><td>a</td><td>2012-06-06</td><td>6 days</td><td>uwg0UEO4b0</td><td>6</td></tr><tr><th>6</th><td>4</td><td>0.2167</td><td>c</td><td>2019-04-03</td><td>28 days</td><td>qm2W3LtYvz</td><td>3</td></tr><tr><th>7</th><td>6</td><td>0.04906</td><td>b</td><td>2015-07-28</td><td>23 days</td><td>BcF0hu1v85</td><td>28</td></tr><tr><th>8</th><td>6</td><td>-0.76691</td><td>b</td><td>2014-09-27</td><td>61 days</td><td>lgJymJVbme</td><td>27</td></tr><tr><th>9</th><td>1</td><td>0.17141</td><td>d</td><td>2013-10-04</td><td>41 days</td><td>wN5lihnRag</td><td>4</td></tr><tr><th>10</th><td>3</td><td>0.35063</td><td>d</td><td>2014-08-12</td><td>31 days</td><td>zqEMP2kiGq</td><td>12</td></tr><tr><th>11</th><td>2</td><td>0.90441</td><td>a</td><td>2018-11-12</td><td>365 days</td><td>nxvvZ1URvA</td><td>12</td></tr><tr><th>12</th><td>3</td><td>0.00197</td><td>b</td><td>2011-08-12</td><td>1 day</td><td>wgIgG6oZN7</td><td>12</td></tr><tr><th>13</th><td>1</td><td>0.81387</td><td>a</td><td>2014-06-24</td><td>731 days</td><td>ATV3I94qS5</td><td>24</td></tr><tr><th>14</th><td>3</td><td>-0.39826</td><td>a</td><td>2015-02-01</td><td>161 days</td><td>hpRw2VkJ05</td><td>1</td></tr><tr><th>15</th><td>4</td><td>0.52603</td><td>a</td><td>2011-07-10</td><td>34 days</td><td>mKBwnAnTWY</td><td>10</td></tr><tr><th>16</th><td>4</td><td>-0.41483</td><td>c</td><td>2012-03-12</td><td>142 days</td><td>ra7Y8v2uha</td><td>12</td></tr><tr><th>17</th><td>5</td><td>-0.02946</td><td>a</td><td>2013-07-16</td><td>1 day</td><td>nh7XOud6K3</td><td>16</td></tr><tr><th>18</th><td>2</td><td>-0.16647</td><td>c</td><td>2016-03-14</td><td>31 days</td><td>8FJfc2bPZd</td><td>14</td></tr><tr><th>19</th><td>5</td><td>0.86743</td><td>d</td><td>2012-09-10</td><td>16 days</td><td>JCMCstM8wK</td><td>10</td></tr><tr><th>20</th><td>6</td><td>-0.85316</td><td>d</td><td>2018-04-12</td><td>30 days</td><td>v3zWaSEMX6</td><td>12</td></tr></tbody></table>"
      ],
      "text/latex": [
       "\\begin{tabular}{r|ccccccc}\n",
       "\t& v1 & v2 & v3 & v4 & elapsed\\_days & RandStr & v4\\_day\\\\\n",
       "\t\\hline\n",
       "\t& Int64 & Float64 & String & Date & Day & String & Int64\\\\\n",
       "\t\\hline\n",
       "\t1 & 1 & 0.1078 & a & 2019-10-31 & 3 days & Qd7o4K1ppr & 31 \\\\\n",
       "\t2 & 2 & -0.79658 & a & 2018-11-12 & 19 days & zP4ZFgdeom & 12 \\\\\n",
       "\t3 & 4 & 0.6142 & c & 2012-05-14 & 31 days & ijy3LjvUzV & 14 \\\\\n",
       "\t4 & 1 & 0.39258 & a & 2017-01-01 & 212 days & nURrlAWJ64 & 1 \\\\\n",
       "\t5 & 4 & -0.29707 & a & 2012-06-06 & 6 days & uwg0UEO4b0 & 6 \\\\\n",
       "\t6 & 4 & 0.2167 & c & 2019-04-03 & 28 days & qm2W3LtYvz & 3 \\\\\n",
       "\t7 & 6 & 0.04906 & b & 2015-07-28 & 23 days & BcF0hu1v85 & 28 \\\\\n",
       "\t8 & 6 & -0.76691 & b & 2014-09-27 & 61 days & lgJymJVbme & 27 \\\\\n",
       "\t9 & 1 & 0.17141 & d & 2013-10-04 & 41 days & wN5lihnRag & 4 \\\\\n",
       "\t10 & 3 & 0.35063 & d & 2014-08-12 & 31 days & zqEMP2kiGq & 12 \\\\\n",
       "\t11 & 2 & 0.90441 & a & 2018-11-12 & 365 days & nxvvZ1URvA & 12 \\\\\n",
       "\t12 & 3 & 0.00197 & b & 2011-08-12 & 1 day & wgIgG6oZN7 & 12 \\\\\n",
       "\t13 & 1 & 0.81387 & a & 2014-06-24 & 731 days & ATV3I94qS5 & 24 \\\\\n",
       "\t14 & 3 & -0.39826 & a & 2015-02-01 & 161 days & hpRw2VkJ05 & 1 \\\\\n",
       "\t15 & 4 & 0.52603 & a & 2011-07-10 & 34 days & mKBwnAnTWY & 10 \\\\\n",
       "\t16 & 4 & -0.41483 & c & 2012-03-12 & 142 days & ra7Y8v2uha & 12 \\\\\n",
       "\t17 & 5 & -0.02946 & a & 2013-07-16 & 1 day & nh7XOud6K3 & 16 \\\\\n",
       "\t18 & 2 & -0.16647 & c & 2016-03-14 & 31 days & 8FJfc2bPZd & 14 \\\\\n",
       "\t19 & 5 & 0.86743 & d & 2012-09-10 & 16 days & JCMCstM8wK & 10 \\\\\n",
       "\t20 & 6 & -0.85316 & d & 2018-04-12 & 30 days & v3zWaSEMX6 & 12 \\\\\n",
       "\\end{tabular}\n"
      ],
      "text/plain": [
       "20×7 DataFrame. Omitted printing of 1 columns\n",
       "│ Row │ v1    │ v2       │ v3     │ v4         │ elapsed_days │ RandStr    │\n",
       "│     │ \u001b[90mInt64\u001b[39m │ \u001b[90mFloat64\u001b[39m  │ \u001b[90mString\u001b[39m │ \u001b[90mDate\u001b[39m       │ \u001b[90mDay\u001b[39m          │ \u001b[90mString\u001b[39m     │\n",
       "├─────┼───────┼──────────┼────────┼────────────┼──────────────┼────────────┤\n",
       "│ 1   │ 1     │ 0.1078   │ a      │ 2019-10-31 │ 3 days       │ Qd7o4K1ppr │\n",
       "│ 2   │ 2     │ -0.79658 │ a      │ 2018-11-12 │ 19 days      │ zP4ZFgdeom │\n",
       "│ 3   │ 4     │ 0.6142   │ c      │ 2012-05-14 │ 31 days      │ ijy3LjvUzV │\n",
       "│ 4   │ 1     │ 0.39258  │ a      │ 2017-01-01 │ 212 days     │ nURrlAWJ64 │\n",
       "│ 5   │ 4     │ -0.29707 │ a      │ 2012-06-06 │ 6 days       │ uwg0UEO4b0 │\n",
       "│ 6   │ 4     │ 0.2167   │ c      │ 2019-04-03 │ 28 days      │ qm2W3LtYvz │\n",
       "│ 7   │ 6     │ 0.04906  │ b      │ 2015-07-28 │ 23 days      │ BcF0hu1v85 │\n",
       "│ 8   │ 6     │ -0.76691 │ b      │ 2014-09-27 │ 61 days      │ lgJymJVbme │\n",
       "│ 9   │ 1     │ 0.17141  │ d      │ 2013-10-04 │ 41 days      │ wN5lihnRag │\n",
       "│ 10  │ 3     │ 0.35063  │ d      │ 2014-08-12 │ 31 days      │ zqEMP2kiGq │\n",
       "│ 11  │ 2     │ 0.90441  │ a      │ 2018-11-12 │ 365 days     │ nxvvZ1URvA │\n",
       "│ 12  │ 3     │ 0.00197  │ b      │ 2011-08-12 │ 1 day        │ wgIgG6oZN7 │\n",
       "│ 13  │ 1     │ 0.81387  │ a      │ 2014-06-24 │ 731 days     │ ATV3I94qS5 │\n",
       "│ 14  │ 3     │ -0.39826 │ a      │ 2015-02-01 │ 161 days     │ hpRw2VkJ05 │\n",
       "│ 15  │ 4     │ 0.52603  │ a      │ 2011-07-10 │ 34 days      │ mKBwnAnTWY │\n",
       "│ 16  │ 4     │ -0.41483 │ c      │ 2012-03-12 │ 142 days     │ ra7Y8v2uha │\n",
       "│ 17  │ 5     │ -0.02946 │ a      │ 2013-07-16 │ 1 day        │ nh7XOud6K3 │\n",
       "│ 18  │ 2     │ -0.16647 │ c      │ 2016-03-14 │ 31 days      │ 8FJfc2bPZd │\n",
       "│ 19  │ 5     │ 0.86743  │ d      │ 2012-09-10 │ 16 days      │ JCMCstM8wK │\n",
       "│ 20  │ 6     │ -0.85316 │ d      │ 2018-04-12 │ 30 days      │ v3zWaSEMX6 │"
      ]
     },
     "execution_count": 23,
     "metadata": {},
     "output_type": "execute_result"
    }
   ],
   "source": [
    "select!(df, [:v1, :v2, :v3, :v4, :elapsed_days, :RandStr, :v4_day])"
   ]
  },
  {
   "cell_type": "markdown",
   "metadata": {},
   "source": [
    "To change the name of a column variable you can use the `rename!` function. We'll change the column name of <i>elapsed_days</i> to be <i>elap_days</i> and <i>v3</i> to be <i>Category</i>. The `rename` function is the non in-place version of this operation."
   ]
  },
  {
   "cell_type": "code",
   "execution_count": 24,
   "metadata": {},
   "outputs": [],
   "source": [
    "rename!(df, :elapsed_days => :elap_days, :v3 => :Category,);"
   ]
  },
  {
   "cell_type": "code",
   "execution_count": 25,
   "metadata": {},
   "outputs": [
    {
     "data": {
      "text/plain": [
       "7-element Array{String,1}:\n",
       " \"v1\"       \n",
       " \"v2\"       \n",
       " \"Category\" \n",
       " \"v4\"       \n",
       " \"elap_days\"\n",
       " \"RandStr\"  \n",
       " \"v4_day\"   "
      ]
     },
     "execution_count": 25,
     "metadata": {},
     "output_type": "execute_result"
    }
   ],
   "source": [
    "names(df)"
   ]
  },
  {
   "cell_type": "markdown",
   "metadata": {},
   "source": [
    "`select!` and `select` can be used to reorder the columns in the dataframe. Suppose we want _Category_ to appear first, followed by _elap_days_ and then the rest of the order to stay as is?"
   ]
  },
  {
   "cell_type": "code",
   "execution_count": 26,
   "metadata": {},
   "outputs": [
    {
     "data": {
      "text/html": [
       "<table class=\"data-frame\"><thead><tr><th></th><th>Category</th><th>elap_days</th><th>v1</th><th>v2</th><th>v4</th><th>RandStr</th><th>v4_day</th></tr><tr><th></th><th>String</th><th>Day</th><th>Int64</th><th>Float64</th><th>Date</th><th>String</th><th>Int64</th></tr></thead><tbody><p>20 rows × 7 columns</p><tr><th>1</th><td>a</td><td>3 days</td><td>1</td><td>0.1078</td><td>2019-10-31</td><td>Qd7o4K1ppr</td><td>31</td></tr><tr><th>2</th><td>a</td><td>19 days</td><td>2</td><td>-0.79658</td><td>2018-11-12</td><td>zP4ZFgdeom</td><td>12</td></tr><tr><th>3</th><td>c</td><td>31 days</td><td>4</td><td>0.6142</td><td>2012-05-14</td><td>ijy3LjvUzV</td><td>14</td></tr><tr><th>4</th><td>a</td><td>212 days</td><td>1</td><td>0.39258</td><td>2017-01-01</td><td>nURrlAWJ64</td><td>1</td></tr><tr><th>5</th><td>a</td><td>6 days</td><td>4</td><td>-0.29707</td><td>2012-06-06</td><td>uwg0UEO4b0</td><td>6</td></tr><tr><th>6</th><td>c</td><td>28 days</td><td>4</td><td>0.2167</td><td>2019-04-03</td><td>qm2W3LtYvz</td><td>3</td></tr><tr><th>7</th><td>b</td><td>23 days</td><td>6</td><td>0.04906</td><td>2015-07-28</td><td>BcF0hu1v85</td><td>28</td></tr><tr><th>8</th><td>b</td><td>61 days</td><td>6</td><td>-0.76691</td><td>2014-09-27</td><td>lgJymJVbme</td><td>27</td></tr><tr><th>9</th><td>d</td><td>41 days</td><td>1</td><td>0.17141</td><td>2013-10-04</td><td>wN5lihnRag</td><td>4</td></tr><tr><th>10</th><td>d</td><td>31 days</td><td>3</td><td>0.35063</td><td>2014-08-12</td><td>zqEMP2kiGq</td><td>12</td></tr><tr><th>11</th><td>a</td><td>365 days</td><td>2</td><td>0.90441</td><td>2018-11-12</td><td>nxvvZ1URvA</td><td>12</td></tr><tr><th>12</th><td>b</td><td>1 day</td><td>3</td><td>0.00197</td><td>2011-08-12</td><td>wgIgG6oZN7</td><td>12</td></tr><tr><th>13</th><td>a</td><td>731 days</td><td>1</td><td>0.81387</td><td>2014-06-24</td><td>ATV3I94qS5</td><td>24</td></tr><tr><th>14</th><td>a</td><td>161 days</td><td>3</td><td>-0.39826</td><td>2015-02-01</td><td>hpRw2VkJ05</td><td>1</td></tr><tr><th>15</th><td>a</td><td>34 days</td><td>4</td><td>0.52603</td><td>2011-07-10</td><td>mKBwnAnTWY</td><td>10</td></tr><tr><th>16</th><td>c</td><td>142 days</td><td>4</td><td>-0.41483</td><td>2012-03-12</td><td>ra7Y8v2uha</td><td>12</td></tr><tr><th>17</th><td>a</td><td>1 day</td><td>5</td><td>-0.02946</td><td>2013-07-16</td><td>nh7XOud6K3</td><td>16</td></tr><tr><th>18</th><td>c</td><td>31 days</td><td>2</td><td>-0.16647</td><td>2016-03-14</td><td>8FJfc2bPZd</td><td>14</td></tr><tr><th>19</th><td>d</td><td>16 days</td><td>5</td><td>0.86743</td><td>2012-09-10</td><td>JCMCstM8wK</td><td>10</td></tr><tr><th>20</th><td>d</td><td>30 days</td><td>6</td><td>-0.85316</td><td>2018-04-12</td><td>v3zWaSEMX6</td><td>12</td></tr></tbody></table>"
      ],
      "text/latex": [
       "\\begin{tabular}{r|ccccccc}\n",
       "\t& Category & elap\\_days & v1 & v2 & v4 & RandStr & v4\\_day\\\\\n",
       "\t\\hline\n",
       "\t& String & Day & Int64 & Float64 & Date & String & Int64\\\\\n",
       "\t\\hline\n",
       "\t1 & a & 3 days & 1 & 0.1078 & 2019-10-31 & Qd7o4K1ppr & 31 \\\\\n",
       "\t2 & a & 19 days & 2 & -0.79658 & 2018-11-12 & zP4ZFgdeom & 12 \\\\\n",
       "\t3 & c & 31 days & 4 & 0.6142 & 2012-05-14 & ijy3LjvUzV & 14 \\\\\n",
       "\t4 & a & 212 days & 1 & 0.39258 & 2017-01-01 & nURrlAWJ64 & 1 \\\\\n",
       "\t5 & a & 6 days & 4 & -0.29707 & 2012-06-06 & uwg0UEO4b0 & 6 \\\\\n",
       "\t6 & c & 28 days & 4 & 0.2167 & 2019-04-03 & qm2W3LtYvz & 3 \\\\\n",
       "\t7 & b & 23 days & 6 & 0.04906 & 2015-07-28 & BcF0hu1v85 & 28 \\\\\n",
       "\t8 & b & 61 days & 6 & -0.76691 & 2014-09-27 & lgJymJVbme & 27 \\\\\n",
       "\t9 & d & 41 days & 1 & 0.17141 & 2013-10-04 & wN5lihnRag & 4 \\\\\n",
       "\t10 & d & 31 days & 3 & 0.35063 & 2014-08-12 & zqEMP2kiGq & 12 \\\\\n",
       "\t11 & a & 365 days & 2 & 0.90441 & 2018-11-12 & nxvvZ1URvA & 12 \\\\\n",
       "\t12 & b & 1 day & 3 & 0.00197 & 2011-08-12 & wgIgG6oZN7 & 12 \\\\\n",
       "\t13 & a & 731 days & 1 & 0.81387 & 2014-06-24 & ATV3I94qS5 & 24 \\\\\n",
       "\t14 & a & 161 days & 3 & -0.39826 & 2015-02-01 & hpRw2VkJ05 & 1 \\\\\n",
       "\t15 & a & 34 days & 4 & 0.52603 & 2011-07-10 & mKBwnAnTWY & 10 \\\\\n",
       "\t16 & c & 142 days & 4 & -0.41483 & 2012-03-12 & ra7Y8v2uha & 12 \\\\\n",
       "\t17 & a & 1 day & 5 & -0.02946 & 2013-07-16 & nh7XOud6K3 & 16 \\\\\n",
       "\t18 & c & 31 days & 2 & -0.16647 & 2016-03-14 & 8FJfc2bPZd & 14 \\\\\n",
       "\t19 & d & 16 days & 5 & 0.86743 & 2012-09-10 & JCMCstM8wK & 10 \\\\\n",
       "\t20 & d & 30 days & 6 & -0.85316 & 2018-04-12 & v3zWaSEMX6 & 12 \\\\\n",
       "\\end{tabular}\n"
      ],
      "text/plain": [
       "20×7 DataFrame. Omitted printing of 1 columns\n",
       "│ Row │ Category │ elap_days │ v1    │ v2       │ v4         │ RandStr    │\n",
       "│     │ \u001b[90mString\u001b[39m   │ \u001b[90mDay\u001b[39m       │ \u001b[90mInt64\u001b[39m │ \u001b[90mFloat64\u001b[39m  │ \u001b[90mDate\u001b[39m       │ \u001b[90mString\u001b[39m     │\n",
       "├─────┼──────────┼───────────┼───────┼──────────┼────────────┼────────────┤\n",
       "│ 1   │ a        │ 3 days    │ 1     │ 0.1078   │ 2019-10-31 │ Qd7o4K1ppr │\n",
       "│ 2   │ a        │ 19 days   │ 2     │ -0.79658 │ 2018-11-12 │ zP4ZFgdeom │\n",
       "│ 3   │ c        │ 31 days   │ 4     │ 0.6142   │ 2012-05-14 │ ijy3LjvUzV │\n",
       "│ 4   │ a        │ 212 days  │ 1     │ 0.39258  │ 2017-01-01 │ nURrlAWJ64 │\n",
       "│ 5   │ a        │ 6 days    │ 4     │ -0.29707 │ 2012-06-06 │ uwg0UEO4b0 │\n",
       "│ 6   │ c        │ 28 days   │ 4     │ 0.2167   │ 2019-04-03 │ qm2W3LtYvz │\n",
       "│ 7   │ b        │ 23 days   │ 6     │ 0.04906  │ 2015-07-28 │ BcF0hu1v85 │\n",
       "│ 8   │ b        │ 61 days   │ 6     │ -0.76691 │ 2014-09-27 │ lgJymJVbme │\n",
       "│ 9   │ d        │ 41 days   │ 1     │ 0.17141  │ 2013-10-04 │ wN5lihnRag │\n",
       "│ 10  │ d        │ 31 days   │ 3     │ 0.35063  │ 2014-08-12 │ zqEMP2kiGq │\n",
       "│ 11  │ a        │ 365 days  │ 2     │ 0.90441  │ 2018-11-12 │ nxvvZ1URvA │\n",
       "│ 12  │ b        │ 1 day     │ 3     │ 0.00197  │ 2011-08-12 │ wgIgG6oZN7 │\n",
       "│ 13  │ a        │ 731 days  │ 1     │ 0.81387  │ 2014-06-24 │ ATV3I94qS5 │\n",
       "│ 14  │ a        │ 161 days  │ 3     │ -0.39826 │ 2015-02-01 │ hpRw2VkJ05 │\n",
       "│ 15  │ a        │ 34 days   │ 4     │ 0.52603  │ 2011-07-10 │ mKBwnAnTWY │\n",
       "│ 16  │ c        │ 142 days  │ 4     │ -0.41483 │ 2012-03-12 │ ra7Y8v2uha │\n",
       "│ 17  │ a        │ 1 day     │ 5     │ -0.02946 │ 2013-07-16 │ nh7XOud6K3 │\n",
       "│ 18  │ c        │ 31 days   │ 2     │ -0.16647 │ 2016-03-14 │ 8FJfc2bPZd │\n",
       "│ 19  │ d        │ 16 days   │ 5     │ 0.86743  │ 2012-09-10 │ JCMCstM8wK │\n",
       "│ 20  │ d        │ 30 days   │ 6     │ -0.85316 │ 2018-04-12 │ v3zWaSEMX6 │"
      ]
     },
     "execution_count": 26,
     "metadata": {},
     "output_type": "execute_result"
    }
   ],
   "source": [
    "select(df, [:Category, :elap_days], :)"
   ]
  },
  {
   "cell_type": "markdown",
   "metadata": {},
   "source": [
    "The last function we will look at in regard to working with columns is `eachcol`. This is a function that allows you to iterate over the columns of your dataframe: \n",
    "\n",
    "`eachcol(df, bool)`"
   ]
  },
  {
   "cell_type": "markdown",
   "metadata": {},
   "source": [
    "The first argument to `eachcol` is the name of the dataframe whose columns you want to iterate over and the second is a boolean. If you specify true for the boolean argument then for each column you get a __Pair__ whose first element is the column name (symbol) and second element is the corresponding column values."
   ]
  },
  {
   "cell_type": "markdown",
   "metadata": {},
   "source": [
    "We can `eachcol` is to pick out columns (based on their type) and perform an operation on that column. Here we calculate basic summary statistics **only** for columns in the **df** dataframe that are subtypes of <i>Real</i>."
   ]
  },
  {
   "cell_type": "code",
   "execution_count": 27,
   "metadata": {},
   "outputs": [
    {
     "name": "stdout",
     "output_type": "stream",
     "text": [
      "Variable v1\n",
      "  Mean: "
     ]
    },
    {
     "name": "stderr",
     "output_type": "stream",
     "text": [
      "┌ Warning: `eachcol(df::AbstractDataFrame, names::Bool)` is deprecated, use `if names\n",
      "│     collect(pairs(eachcol(df)))\n",
      "│ else\n",
      "│     eachcol(df)\n",
      "│ end` instead.\n",
      "│   caller = top-level scope at In[27]:2\n",
      "└ @ Core ./In[27]:2\n"
     ]
    },
    {
     "name": "stdout",
     "output_type": "stream",
     "text": [
      "3.35\n",
      "  Max: 6.0\n",
      "  Min: 1.0\n",
      "  Range: 5.0\n",
      "Variable v2\n",
      "  Mean: 0.065\n",
      "  Max: 0.9\n",
      "  Min: -0.9\n",
      "  Range: 1.8\n",
      "Variable v4_day\n",
      "  Mean: 13.05\n",
      "  Max: 31.0\n",
      "  Min: 1.0\n",
      "  Range: 30.0\n"
     ]
    }
   ],
   "source": [
    "using Statistics\n",
    "\n",
    "for col in eachcol(df, true)\n",
    "    if (eltype(col[2]) <: Real) \n",
    "        println(\"Variable \", col[1], \"\\n  \", \"Mean: \", round(mean(col[2]), digits=3), \n",
    "            \"\\n  Max: \", round(maximum(col[2]), digits=1),\n",
    "            \"\\n  Min: \", round(minimum(col[2]), digits=1),\n",
    "            \"\\n  Range: \", round(maximum(col[2]) - minimum(col[2]), digits=1)\n",
    "        )\n",
    "    end\n",
    "end"
   ]
  },
  {
   "cell_type": "markdown",
   "metadata": {},
   "source": [
    "### Row operations:"
   ]
  },
  {
   "cell_type": "code",
   "execution_count": 28,
   "metadata": {},
   "outputs": [
    {
     "data": {
      "text/html": [
       "<table class=\"data-frame\"><thead><tr><th></th><th>v1</th><th>v2</th><th>v3</th><th>v4</th><th>v5</th><th>v6</th></tr><tr><th></th><th>Int64</th><th>Float64</th><th>String</th><th>Date</th><th>Date</th><th>String</th></tr></thead><tbody><p>20 rows × 6 columns</p><tr><th>1</th><td>1</td><td>0.1078</td><td>a</td><td>2019-10-31</td><td>2019-11-03</td><td>IZFi329Kfs</td></tr><tr><th>2</th><td>2</td><td>-0.79658</td><td>a</td><td>2018-11-12</td><td>2018-12-01</td><td>ZC1tXGibbk</td></tr><tr><th>3</th><td>4</td><td>0.6142</td><td>c</td><td>2012-05-14</td><td>2012-06-14</td><td>BddsrFBO8E</td></tr><tr><th>4</th><td>1</td><td>0.39258</td><td>a</td><td>2017-01-01</td><td>2017-08-01</td><td>g7PQAwGDrH</td></tr><tr><th>5</th><td>4</td><td>-0.29707</td><td>a</td><td>2012-06-06</td><td>2012-06-12</td><td>gxeJaCvj92</td></tr><tr><th>6</th><td>4</td><td>0.2167</td><td>c</td><td>2019-04-03</td><td>2019-05-01</td><td>Q23fycpFNT</td></tr><tr><th>7</th><td>6</td><td>0.04906</td><td>b</td><td>2015-07-28</td><td>2015-08-20</td><td>QE63406gEj</td></tr><tr><th>8</th><td>6</td><td>-0.76691</td><td>b</td><td>2014-09-27</td><td>2014-11-27</td><td>GCMwV5msPt</td></tr><tr><th>9</th><td>1</td><td>0.17141</td><td>d</td><td>2013-10-04</td><td>2013-11-14</td><td>92PkSbQonD</td></tr><tr><th>10</th><td>3</td><td>0.35063</td><td>d</td><td>2014-08-12</td><td>2014-09-12</td><td>RUXG3N8RtF</td></tr><tr><th>11</th><td>2</td><td>0.90441</td><td>a</td><td>2018-11-12</td><td>2019-11-12</td><td>LE6qR2Q37p</td></tr><tr><th>12</th><td>3</td><td>0.00197</td><td>b</td><td>2011-08-12</td><td>2011-08-13</td><td>B8oAeJRvEf</td></tr><tr><th>13</th><td>1</td><td>0.81387</td><td>a</td><td>2014-06-24</td><td>2016-06-24</td><td>vFSFbWZBGM</td></tr><tr><th>14</th><td>3</td><td>-0.39826</td><td>a</td><td>2015-02-01</td><td>2015-07-12</td><td>UIVdF2TxWM</td></tr><tr><th>15</th><td>4</td><td>0.52603</td><td>a</td><td>2011-07-10</td><td>2011-08-13</td><td>s0ltSZb4fm</td></tr><tr><th>16</th><td>4</td><td>-0.41483</td><td>c</td><td>2012-03-12</td><td>2012-08-01</td><td>0OoRG1ly8l</td></tr><tr><th>17</th><td>5</td><td>-0.02946</td><td>a</td><td>2013-07-16</td><td>2013-07-17</td><td>uLFMepv4pI</td></tr><tr><th>18</th><td>2</td><td>-0.16647</td><td>c</td><td>2016-03-14</td><td>2016-04-14</td><td>TKdJZ2SddY</td></tr><tr><th>19</th><td>5</td><td>0.86743</td><td>d</td><td>2012-09-10</td><td>2012-09-26</td><td>0ltwHfLBHf</td></tr><tr><th>20</th><td>6</td><td>-0.85316</td><td>d</td><td>2018-04-12</td><td>2018-05-12</td><td>hjkJkeasXG</td></tr></tbody></table>"
      ],
      "text/latex": [
       "\\begin{tabular}{r|cccccc}\n",
       "\t& v1 & v2 & v3 & v4 & v5 & v6\\\\\n",
       "\t\\hline\n",
       "\t& Int64 & Float64 & String & Date & Date & String\\\\\n",
       "\t\\hline\n",
       "\t1 & 1 & 0.1078 & a & 2019-10-31 & 2019-11-03 & IZFi329Kfs \\\\\n",
       "\t2 & 2 & -0.79658 & a & 2018-11-12 & 2018-12-01 & ZC1tXGibbk \\\\\n",
       "\t3 & 4 & 0.6142 & c & 2012-05-14 & 2012-06-14 & BddsrFBO8E \\\\\n",
       "\t4 & 1 & 0.39258 & a & 2017-01-01 & 2017-08-01 & g7PQAwGDrH \\\\\n",
       "\t5 & 4 & -0.29707 & a & 2012-06-06 & 2012-06-12 & gxeJaCvj92 \\\\\n",
       "\t6 & 4 & 0.2167 & c & 2019-04-03 & 2019-05-01 & Q23fycpFNT \\\\\n",
       "\t7 & 6 & 0.04906 & b & 2015-07-28 & 2015-08-20 & QE63406gEj \\\\\n",
       "\t8 & 6 & -0.76691 & b & 2014-09-27 & 2014-11-27 & GCMwV5msPt \\\\\n",
       "\t9 & 1 & 0.17141 & d & 2013-10-04 & 2013-11-14 & 92PkSbQonD \\\\\n",
       "\t10 & 3 & 0.35063 & d & 2014-08-12 & 2014-09-12 & RUXG3N8RtF \\\\\n",
       "\t11 & 2 & 0.90441 & a & 2018-11-12 & 2019-11-12 & LE6qR2Q37p \\\\\n",
       "\t12 & 3 & 0.00197 & b & 2011-08-12 & 2011-08-13 & B8oAeJRvEf \\\\\n",
       "\t13 & 1 & 0.81387 & a & 2014-06-24 & 2016-06-24 & vFSFbWZBGM \\\\\n",
       "\t14 & 3 & -0.39826 & a & 2015-02-01 & 2015-07-12 & UIVdF2TxWM \\\\\n",
       "\t15 & 4 & 0.52603 & a & 2011-07-10 & 2011-08-13 & s0ltSZb4fm \\\\\n",
       "\t16 & 4 & -0.41483 & c & 2012-03-12 & 2012-08-01 & 0OoRG1ly8l \\\\\n",
       "\t17 & 5 & -0.02946 & a & 2013-07-16 & 2013-07-17 & uLFMepv4pI \\\\\n",
       "\t18 & 2 & -0.16647 & c & 2016-03-14 & 2016-04-14 & TKdJZ2SddY \\\\\n",
       "\t19 & 5 & 0.86743 & d & 2012-09-10 & 2012-09-26 & 0ltwHfLBHf \\\\\n",
       "\t20 & 6 & -0.85316 & d & 2018-04-12 & 2018-05-12 & hjkJkeasXG \\\\\n",
       "\\end{tabular}\n"
      ],
      "text/plain": [
       "20×6 DataFrame\n",
       "│ Row │ v1    │ v2       │ v3     │ v4         │ v5         │ v6         │\n",
       "│     │ \u001b[90mInt64\u001b[39m │ \u001b[90mFloat64\u001b[39m  │ \u001b[90mString\u001b[39m │ \u001b[90mDate\u001b[39m       │ \u001b[90mDate\u001b[39m       │ \u001b[90mString\u001b[39m     │\n",
       "├─────┼───────┼──────────┼────────┼────────────┼────────────┼────────────┤\n",
       "│ 1   │ 1     │ 0.1078   │ a      │ 2019-10-31 │ 2019-11-03 │ IZFi329Kfs │\n",
       "│ 2   │ 2     │ -0.79658 │ a      │ 2018-11-12 │ 2018-12-01 │ ZC1tXGibbk │\n",
       "│ 3   │ 4     │ 0.6142   │ c      │ 2012-05-14 │ 2012-06-14 │ BddsrFBO8E │\n",
       "│ 4   │ 1     │ 0.39258  │ a      │ 2017-01-01 │ 2017-08-01 │ g7PQAwGDrH │\n",
       "│ 5   │ 4     │ -0.29707 │ a      │ 2012-06-06 │ 2012-06-12 │ gxeJaCvj92 │\n",
       "│ 6   │ 4     │ 0.2167   │ c      │ 2019-04-03 │ 2019-05-01 │ Q23fycpFNT │\n",
       "│ 7   │ 6     │ 0.04906  │ b      │ 2015-07-28 │ 2015-08-20 │ QE63406gEj │\n",
       "│ 8   │ 6     │ -0.76691 │ b      │ 2014-09-27 │ 2014-11-27 │ GCMwV5msPt │\n",
       "│ 9   │ 1     │ 0.17141  │ d      │ 2013-10-04 │ 2013-11-14 │ 92PkSbQonD │\n",
       "│ 10  │ 3     │ 0.35063  │ d      │ 2014-08-12 │ 2014-09-12 │ RUXG3N8RtF │\n",
       "│ 11  │ 2     │ 0.90441  │ a      │ 2018-11-12 │ 2019-11-12 │ LE6qR2Q37p │\n",
       "│ 12  │ 3     │ 0.00197  │ b      │ 2011-08-12 │ 2011-08-13 │ B8oAeJRvEf │\n",
       "│ 13  │ 1     │ 0.81387  │ a      │ 2014-06-24 │ 2016-06-24 │ vFSFbWZBGM │\n",
       "│ 14  │ 3     │ -0.39826 │ a      │ 2015-02-01 │ 2015-07-12 │ UIVdF2TxWM │\n",
       "│ 15  │ 4     │ 0.52603  │ a      │ 2011-07-10 │ 2011-08-13 │ s0ltSZb4fm │\n",
       "│ 16  │ 4     │ -0.41483 │ c      │ 2012-03-12 │ 2012-08-01 │ 0OoRG1ly8l │\n",
       "│ 17  │ 5     │ -0.02946 │ a      │ 2013-07-16 │ 2013-07-17 │ uLFMepv4pI │\n",
       "│ 18  │ 2     │ -0.16647 │ c      │ 2016-03-14 │ 2016-04-14 │ TKdJZ2SddY │\n",
       "│ 19  │ 5     │ 0.86743  │ d      │ 2012-09-10 │ 2012-09-26 │ 0ltwHfLBHf │\n",
       "│ 20  │ 6     │ -0.85316 │ d      │ 2018-04-12 │ 2018-05-12 │ hjkJkeasXG │"
      ]
     },
     "execution_count": 28,
     "metadata": {},
     "output_type": "execute_result"
    }
   ],
   "source": [
    "df = CSV.read(\"fakedata.csv\")"
   ]
  },
  {
   "cell_type": "markdown",
   "metadata": {},
   "source": [
    "If you want the number of rows in your dataframe there is a `nrows` function for that:"
   ]
  },
  {
   "cell_type": "code",
   "execution_count": 29,
   "metadata": {},
   "outputs": [
    {
     "data": {
      "text/plain": [
       "20"
      ]
     },
     "execution_count": 29,
     "metadata": {},
     "output_type": "execute_result"
    }
   ],
   "source": [
    "nr = nrow(df)"
   ]
  },
  {
   "cell_type": "markdown",
   "metadata": {},
   "source": [
    "When indexing into a dataframe the first index indicates the rows and the second the columns. **Indexing a dataframe works as you expect**. The colon indicates all elements or items along the dimension.\n",
    "\n",
    "For example, if we wanted to \"subset\" all rows and all columns:"
   ]
  },
  {
   "cell_type": "code",
   "execution_count": 30,
   "metadata": {},
   "outputs": [
    {
     "data": {
      "text/html": [
       "<table class=\"data-frame\"><thead><tr><th></th><th>v1</th><th>v2</th><th>v3</th><th>v4</th><th>v5</th><th>v6</th></tr><tr><th></th><th>Int64</th><th>Float64</th><th>String</th><th>Date</th><th>Date</th><th>String</th></tr></thead><tbody><p>20 rows × 6 columns</p><tr><th>1</th><td>1</td><td>0.1078</td><td>a</td><td>2019-10-31</td><td>2019-11-03</td><td>IZFi329Kfs</td></tr><tr><th>2</th><td>2</td><td>-0.79658</td><td>a</td><td>2018-11-12</td><td>2018-12-01</td><td>ZC1tXGibbk</td></tr><tr><th>3</th><td>4</td><td>0.6142</td><td>c</td><td>2012-05-14</td><td>2012-06-14</td><td>BddsrFBO8E</td></tr><tr><th>4</th><td>1</td><td>0.39258</td><td>a</td><td>2017-01-01</td><td>2017-08-01</td><td>g7PQAwGDrH</td></tr><tr><th>5</th><td>4</td><td>-0.29707</td><td>a</td><td>2012-06-06</td><td>2012-06-12</td><td>gxeJaCvj92</td></tr><tr><th>6</th><td>4</td><td>0.2167</td><td>c</td><td>2019-04-03</td><td>2019-05-01</td><td>Q23fycpFNT</td></tr><tr><th>7</th><td>6</td><td>0.04906</td><td>b</td><td>2015-07-28</td><td>2015-08-20</td><td>QE63406gEj</td></tr><tr><th>8</th><td>6</td><td>-0.76691</td><td>b</td><td>2014-09-27</td><td>2014-11-27</td><td>GCMwV5msPt</td></tr><tr><th>9</th><td>1</td><td>0.17141</td><td>d</td><td>2013-10-04</td><td>2013-11-14</td><td>92PkSbQonD</td></tr><tr><th>10</th><td>3</td><td>0.35063</td><td>d</td><td>2014-08-12</td><td>2014-09-12</td><td>RUXG3N8RtF</td></tr><tr><th>11</th><td>2</td><td>0.90441</td><td>a</td><td>2018-11-12</td><td>2019-11-12</td><td>LE6qR2Q37p</td></tr><tr><th>12</th><td>3</td><td>0.00197</td><td>b</td><td>2011-08-12</td><td>2011-08-13</td><td>B8oAeJRvEf</td></tr><tr><th>13</th><td>1</td><td>0.81387</td><td>a</td><td>2014-06-24</td><td>2016-06-24</td><td>vFSFbWZBGM</td></tr><tr><th>14</th><td>3</td><td>-0.39826</td><td>a</td><td>2015-02-01</td><td>2015-07-12</td><td>UIVdF2TxWM</td></tr><tr><th>15</th><td>4</td><td>0.52603</td><td>a</td><td>2011-07-10</td><td>2011-08-13</td><td>s0ltSZb4fm</td></tr><tr><th>16</th><td>4</td><td>-0.41483</td><td>c</td><td>2012-03-12</td><td>2012-08-01</td><td>0OoRG1ly8l</td></tr><tr><th>17</th><td>5</td><td>-0.02946</td><td>a</td><td>2013-07-16</td><td>2013-07-17</td><td>uLFMepv4pI</td></tr><tr><th>18</th><td>2</td><td>-0.16647</td><td>c</td><td>2016-03-14</td><td>2016-04-14</td><td>TKdJZ2SddY</td></tr><tr><th>19</th><td>5</td><td>0.86743</td><td>d</td><td>2012-09-10</td><td>2012-09-26</td><td>0ltwHfLBHf</td></tr><tr><th>20</th><td>6</td><td>-0.85316</td><td>d</td><td>2018-04-12</td><td>2018-05-12</td><td>hjkJkeasXG</td></tr></tbody></table>"
      ],
      "text/latex": [
       "\\begin{tabular}{r|cccccc}\n",
       "\t& v1 & v2 & v3 & v4 & v5 & v6\\\\\n",
       "\t\\hline\n",
       "\t& Int64 & Float64 & String & Date & Date & String\\\\\n",
       "\t\\hline\n",
       "\t1 & 1 & 0.1078 & a & 2019-10-31 & 2019-11-03 & IZFi329Kfs \\\\\n",
       "\t2 & 2 & -0.79658 & a & 2018-11-12 & 2018-12-01 & ZC1tXGibbk \\\\\n",
       "\t3 & 4 & 0.6142 & c & 2012-05-14 & 2012-06-14 & BddsrFBO8E \\\\\n",
       "\t4 & 1 & 0.39258 & a & 2017-01-01 & 2017-08-01 & g7PQAwGDrH \\\\\n",
       "\t5 & 4 & -0.29707 & a & 2012-06-06 & 2012-06-12 & gxeJaCvj92 \\\\\n",
       "\t6 & 4 & 0.2167 & c & 2019-04-03 & 2019-05-01 & Q23fycpFNT \\\\\n",
       "\t7 & 6 & 0.04906 & b & 2015-07-28 & 2015-08-20 & QE63406gEj \\\\\n",
       "\t8 & 6 & -0.76691 & b & 2014-09-27 & 2014-11-27 & GCMwV5msPt \\\\\n",
       "\t9 & 1 & 0.17141 & d & 2013-10-04 & 2013-11-14 & 92PkSbQonD \\\\\n",
       "\t10 & 3 & 0.35063 & d & 2014-08-12 & 2014-09-12 & RUXG3N8RtF \\\\\n",
       "\t11 & 2 & 0.90441 & a & 2018-11-12 & 2019-11-12 & LE6qR2Q37p \\\\\n",
       "\t12 & 3 & 0.00197 & b & 2011-08-12 & 2011-08-13 & B8oAeJRvEf \\\\\n",
       "\t13 & 1 & 0.81387 & a & 2014-06-24 & 2016-06-24 & vFSFbWZBGM \\\\\n",
       "\t14 & 3 & -0.39826 & a & 2015-02-01 & 2015-07-12 & UIVdF2TxWM \\\\\n",
       "\t15 & 4 & 0.52603 & a & 2011-07-10 & 2011-08-13 & s0ltSZb4fm \\\\\n",
       "\t16 & 4 & -0.41483 & c & 2012-03-12 & 2012-08-01 & 0OoRG1ly8l \\\\\n",
       "\t17 & 5 & -0.02946 & a & 2013-07-16 & 2013-07-17 & uLFMepv4pI \\\\\n",
       "\t18 & 2 & -0.16647 & c & 2016-03-14 & 2016-04-14 & TKdJZ2SddY \\\\\n",
       "\t19 & 5 & 0.86743 & d & 2012-09-10 & 2012-09-26 & 0ltwHfLBHf \\\\\n",
       "\t20 & 6 & -0.85316 & d & 2018-04-12 & 2018-05-12 & hjkJkeasXG \\\\\n",
       "\\end{tabular}\n"
      ],
      "text/plain": [
       "20×6 DataFrame\n",
       "│ Row │ v1    │ v2       │ v3     │ v4         │ v5         │ v6         │\n",
       "│     │ \u001b[90mInt64\u001b[39m │ \u001b[90mFloat64\u001b[39m  │ \u001b[90mString\u001b[39m │ \u001b[90mDate\u001b[39m       │ \u001b[90mDate\u001b[39m       │ \u001b[90mString\u001b[39m     │\n",
       "├─────┼───────┼──────────┼────────┼────────────┼────────────┼────────────┤\n",
       "│ 1   │ 1     │ 0.1078   │ a      │ 2019-10-31 │ 2019-11-03 │ IZFi329Kfs │\n",
       "│ 2   │ 2     │ -0.79658 │ a      │ 2018-11-12 │ 2018-12-01 │ ZC1tXGibbk │\n",
       "│ 3   │ 4     │ 0.6142   │ c      │ 2012-05-14 │ 2012-06-14 │ BddsrFBO8E │\n",
       "│ 4   │ 1     │ 0.39258  │ a      │ 2017-01-01 │ 2017-08-01 │ g7PQAwGDrH │\n",
       "│ 5   │ 4     │ -0.29707 │ a      │ 2012-06-06 │ 2012-06-12 │ gxeJaCvj92 │\n",
       "│ 6   │ 4     │ 0.2167   │ c      │ 2019-04-03 │ 2019-05-01 │ Q23fycpFNT │\n",
       "│ 7   │ 6     │ 0.04906  │ b      │ 2015-07-28 │ 2015-08-20 │ QE63406gEj │\n",
       "│ 8   │ 6     │ -0.76691 │ b      │ 2014-09-27 │ 2014-11-27 │ GCMwV5msPt │\n",
       "│ 9   │ 1     │ 0.17141  │ d      │ 2013-10-04 │ 2013-11-14 │ 92PkSbQonD │\n",
       "│ 10  │ 3     │ 0.35063  │ d      │ 2014-08-12 │ 2014-09-12 │ RUXG3N8RtF │\n",
       "│ 11  │ 2     │ 0.90441  │ a      │ 2018-11-12 │ 2019-11-12 │ LE6qR2Q37p │\n",
       "│ 12  │ 3     │ 0.00197  │ b      │ 2011-08-12 │ 2011-08-13 │ B8oAeJRvEf │\n",
       "│ 13  │ 1     │ 0.81387  │ a      │ 2014-06-24 │ 2016-06-24 │ vFSFbWZBGM │\n",
       "│ 14  │ 3     │ -0.39826 │ a      │ 2015-02-01 │ 2015-07-12 │ UIVdF2TxWM │\n",
       "│ 15  │ 4     │ 0.52603  │ a      │ 2011-07-10 │ 2011-08-13 │ s0ltSZb4fm │\n",
       "│ 16  │ 4     │ -0.41483 │ c      │ 2012-03-12 │ 2012-08-01 │ 0OoRG1ly8l │\n",
       "│ 17  │ 5     │ -0.02946 │ a      │ 2013-07-16 │ 2013-07-17 │ uLFMepv4pI │\n",
       "│ 18  │ 2     │ -0.16647 │ c      │ 2016-03-14 │ 2016-04-14 │ TKdJZ2SddY │\n",
       "│ 19  │ 5     │ 0.86743  │ d      │ 2012-09-10 │ 2012-09-26 │ 0ltwHfLBHf │\n",
       "│ 20  │ 6     │ -0.85316 │ d      │ 2018-04-12 │ 2018-05-12 │ hjkJkeasXG │"
      ]
     },
     "execution_count": 30,
     "metadata": {},
     "output_type": "execute_result"
    }
   ],
   "source": [
    "df[:, :]"
   ]
  },
  {
   "cell_type": "markdown",
   "metadata": {},
   "source": [
    "If we only wanted rows with a certain index we would specify that in the first argument. Here we get rows 5 through 9."
   ]
  },
  {
   "cell_type": "code",
   "execution_count": 31,
   "metadata": {},
   "outputs": [
    {
     "data": {
      "text/html": [
       "<table class=\"data-frame\"><thead><tr><th></th><th>v1</th><th>v2</th><th>v3</th><th>v4</th><th>v5</th><th>v6</th></tr><tr><th></th><th>Int64</th><th>Float64</th><th>String</th><th>Date</th><th>Date</th><th>String</th></tr></thead><tbody><p>5 rows × 6 columns</p><tr><th>1</th><td>4</td><td>-0.29707</td><td>a</td><td>2012-06-06</td><td>2012-06-12</td><td>gxeJaCvj92</td></tr><tr><th>2</th><td>4</td><td>0.2167</td><td>c</td><td>2019-04-03</td><td>2019-05-01</td><td>Q23fycpFNT</td></tr><tr><th>3</th><td>6</td><td>0.04906</td><td>b</td><td>2015-07-28</td><td>2015-08-20</td><td>QE63406gEj</td></tr><tr><th>4</th><td>6</td><td>-0.76691</td><td>b</td><td>2014-09-27</td><td>2014-11-27</td><td>GCMwV5msPt</td></tr><tr><th>5</th><td>1</td><td>0.17141</td><td>d</td><td>2013-10-04</td><td>2013-11-14</td><td>92PkSbQonD</td></tr></tbody></table>"
      ],
      "text/latex": [
       "\\begin{tabular}{r|cccccc}\n",
       "\t& v1 & v2 & v3 & v4 & v5 & v6\\\\\n",
       "\t\\hline\n",
       "\t& Int64 & Float64 & String & Date & Date & String\\\\\n",
       "\t\\hline\n",
       "\t1 & 4 & -0.29707 & a & 2012-06-06 & 2012-06-12 & gxeJaCvj92 \\\\\n",
       "\t2 & 4 & 0.2167 & c & 2019-04-03 & 2019-05-01 & Q23fycpFNT \\\\\n",
       "\t3 & 6 & 0.04906 & b & 2015-07-28 & 2015-08-20 & QE63406gEj \\\\\n",
       "\t4 & 6 & -0.76691 & b & 2014-09-27 & 2014-11-27 & GCMwV5msPt \\\\\n",
       "\t5 & 1 & 0.17141 & d & 2013-10-04 & 2013-11-14 & 92PkSbQonD \\\\\n",
       "\\end{tabular}\n"
      ],
      "text/plain": [
       "5×6 DataFrame\n",
       "│ Row │ v1    │ v2       │ v3     │ v4         │ v5         │ v6         │\n",
       "│     │ \u001b[90mInt64\u001b[39m │ \u001b[90mFloat64\u001b[39m  │ \u001b[90mString\u001b[39m │ \u001b[90mDate\u001b[39m       │ \u001b[90mDate\u001b[39m       │ \u001b[90mString\u001b[39m     │\n",
       "├─────┼───────┼──────────┼────────┼────────────┼────────────┼────────────┤\n",
       "│ 1   │ 4     │ -0.29707 │ a      │ 2012-06-06 │ 2012-06-12 │ gxeJaCvj92 │\n",
       "│ 2   │ 4     │ 0.2167   │ c      │ 2019-04-03 │ 2019-05-01 │ Q23fycpFNT │\n",
       "│ 3   │ 6     │ 0.04906  │ b      │ 2015-07-28 │ 2015-08-20 │ QE63406gEj │\n",
       "│ 4   │ 6     │ -0.76691 │ b      │ 2014-09-27 │ 2014-11-27 │ GCMwV5msPt │\n",
       "│ 5   │ 1     │ 0.17141  │ d      │ 2013-10-04 │ 2013-11-14 │ 92PkSbQonD │"
      ]
     },
     "execution_count": 31,
     "metadata": {},
     "output_type": "execute_result"
    }
   ],
   "source": [
    "df[5:9, :]"
   ]
  },
  {
   "cell_type": "markdown",
   "metadata": {},
   "source": [
    "You can make a copy of the dataframe via the `copy` command:"
   ]
  },
  {
   "cell_type": "code",
   "execution_count": 32,
   "metadata": {},
   "outputs": [
    {
     "data": {
      "text/html": [
       "<table class=\"data-frame\"><thead><tr><th></th><th>v1</th><th>v2</th><th>v3</th><th>v4</th><th>v5</th><th>v6</th></tr><tr><th></th><th>Int64</th><th>Float64</th><th>String</th><th>Date</th><th>Date</th><th>String</th></tr></thead><tbody><p>20 rows × 6 columns</p><tr><th>1</th><td>1</td><td>0.1078</td><td>a</td><td>2019-10-31</td><td>2019-11-03</td><td>IZFi329Kfs</td></tr><tr><th>2</th><td>2</td><td>-0.79658</td><td>a</td><td>2018-11-12</td><td>2018-12-01</td><td>ZC1tXGibbk</td></tr><tr><th>3</th><td>4</td><td>0.6142</td><td>c</td><td>2012-05-14</td><td>2012-06-14</td><td>BddsrFBO8E</td></tr><tr><th>4</th><td>1</td><td>0.39258</td><td>a</td><td>2017-01-01</td><td>2017-08-01</td><td>g7PQAwGDrH</td></tr><tr><th>5</th><td>4</td><td>-0.29707</td><td>a</td><td>2012-06-06</td><td>2012-06-12</td><td>gxeJaCvj92</td></tr><tr><th>6</th><td>4</td><td>0.2167</td><td>c</td><td>2019-04-03</td><td>2019-05-01</td><td>Q23fycpFNT</td></tr><tr><th>7</th><td>6</td><td>0.04906</td><td>b</td><td>2015-07-28</td><td>2015-08-20</td><td>QE63406gEj</td></tr><tr><th>8</th><td>6</td><td>-0.76691</td><td>b</td><td>2014-09-27</td><td>2014-11-27</td><td>GCMwV5msPt</td></tr><tr><th>9</th><td>1</td><td>0.17141</td><td>d</td><td>2013-10-04</td><td>2013-11-14</td><td>92PkSbQonD</td></tr><tr><th>10</th><td>3</td><td>0.35063</td><td>d</td><td>2014-08-12</td><td>2014-09-12</td><td>RUXG3N8RtF</td></tr><tr><th>11</th><td>2</td><td>0.90441</td><td>a</td><td>2018-11-12</td><td>2019-11-12</td><td>LE6qR2Q37p</td></tr><tr><th>12</th><td>3</td><td>0.00197</td><td>b</td><td>2011-08-12</td><td>2011-08-13</td><td>B8oAeJRvEf</td></tr><tr><th>13</th><td>1</td><td>0.81387</td><td>a</td><td>2014-06-24</td><td>2016-06-24</td><td>vFSFbWZBGM</td></tr><tr><th>14</th><td>3</td><td>-0.39826</td><td>a</td><td>2015-02-01</td><td>2015-07-12</td><td>UIVdF2TxWM</td></tr><tr><th>15</th><td>4</td><td>0.52603</td><td>a</td><td>2011-07-10</td><td>2011-08-13</td><td>s0ltSZb4fm</td></tr><tr><th>16</th><td>4</td><td>-0.41483</td><td>c</td><td>2012-03-12</td><td>2012-08-01</td><td>0OoRG1ly8l</td></tr><tr><th>17</th><td>5</td><td>-0.02946</td><td>a</td><td>2013-07-16</td><td>2013-07-17</td><td>uLFMepv4pI</td></tr><tr><th>18</th><td>2</td><td>-0.16647</td><td>c</td><td>2016-03-14</td><td>2016-04-14</td><td>TKdJZ2SddY</td></tr><tr><th>19</th><td>5</td><td>0.86743</td><td>d</td><td>2012-09-10</td><td>2012-09-26</td><td>0ltwHfLBHf</td></tr><tr><th>20</th><td>6</td><td>-0.85316</td><td>d</td><td>2018-04-12</td><td>2018-05-12</td><td>hjkJkeasXG</td></tr></tbody></table>"
      ],
      "text/latex": [
       "\\begin{tabular}{r|cccccc}\n",
       "\t& v1 & v2 & v3 & v4 & v5 & v6\\\\\n",
       "\t\\hline\n",
       "\t& Int64 & Float64 & String & Date & Date & String\\\\\n",
       "\t\\hline\n",
       "\t1 & 1 & 0.1078 & a & 2019-10-31 & 2019-11-03 & IZFi329Kfs \\\\\n",
       "\t2 & 2 & -0.79658 & a & 2018-11-12 & 2018-12-01 & ZC1tXGibbk \\\\\n",
       "\t3 & 4 & 0.6142 & c & 2012-05-14 & 2012-06-14 & BddsrFBO8E \\\\\n",
       "\t4 & 1 & 0.39258 & a & 2017-01-01 & 2017-08-01 & g7PQAwGDrH \\\\\n",
       "\t5 & 4 & -0.29707 & a & 2012-06-06 & 2012-06-12 & gxeJaCvj92 \\\\\n",
       "\t6 & 4 & 0.2167 & c & 2019-04-03 & 2019-05-01 & Q23fycpFNT \\\\\n",
       "\t7 & 6 & 0.04906 & b & 2015-07-28 & 2015-08-20 & QE63406gEj \\\\\n",
       "\t8 & 6 & -0.76691 & b & 2014-09-27 & 2014-11-27 & GCMwV5msPt \\\\\n",
       "\t9 & 1 & 0.17141 & d & 2013-10-04 & 2013-11-14 & 92PkSbQonD \\\\\n",
       "\t10 & 3 & 0.35063 & d & 2014-08-12 & 2014-09-12 & RUXG3N8RtF \\\\\n",
       "\t11 & 2 & 0.90441 & a & 2018-11-12 & 2019-11-12 & LE6qR2Q37p \\\\\n",
       "\t12 & 3 & 0.00197 & b & 2011-08-12 & 2011-08-13 & B8oAeJRvEf \\\\\n",
       "\t13 & 1 & 0.81387 & a & 2014-06-24 & 2016-06-24 & vFSFbWZBGM \\\\\n",
       "\t14 & 3 & -0.39826 & a & 2015-02-01 & 2015-07-12 & UIVdF2TxWM \\\\\n",
       "\t15 & 4 & 0.52603 & a & 2011-07-10 & 2011-08-13 & s0ltSZb4fm \\\\\n",
       "\t16 & 4 & -0.41483 & c & 2012-03-12 & 2012-08-01 & 0OoRG1ly8l \\\\\n",
       "\t17 & 5 & -0.02946 & a & 2013-07-16 & 2013-07-17 & uLFMepv4pI \\\\\n",
       "\t18 & 2 & -0.16647 & c & 2016-03-14 & 2016-04-14 & TKdJZ2SddY \\\\\n",
       "\t19 & 5 & 0.86743 & d & 2012-09-10 & 2012-09-26 & 0ltwHfLBHf \\\\\n",
       "\t20 & 6 & -0.85316 & d & 2018-04-12 & 2018-05-12 & hjkJkeasXG \\\\\n",
       "\\end{tabular}\n"
      ],
      "text/plain": [
       "20×6 DataFrame\n",
       "│ Row │ v1    │ v2       │ v3     │ v4         │ v5         │ v6         │\n",
       "│     │ \u001b[90mInt64\u001b[39m │ \u001b[90mFloat64\u001b[39m  │ \u001b[90mString\u001b[39m │ \u001b[90mDate\u001b[39m       │ \u001b[90mDate\u001b[39m       │ \u001b[90mString\u001b[39m     │\n",
       "├─────┼───────┼──────────┼────────┼────────────┼────────────┼────────────┤\n",
       "│ 1   │ 1     │ 0.1078   │ a      │ 2019-10-31 │ 2019-11-03 │ IZFi329Kfs │\n",
       "│ 2   │ 2     │ -0.79658 │ a      │ 2018-11-12 │ 2018-12-01 │ ZC1tXGibbk │\n",
       "│ 3   │ 4     │ 0.6142   │ c      │ 2012-05-14 │ 2012-06-14 │ BddsrFBO8E │\n",
       "│ 4   │ 1     │ 0.39258  │ a      │ 2017-01-01 │ 2017-08-01 │ g7PQAwGDrH │\n",
       "│ 5   │ 4     │ -0.29707 │ a      │ 2012-06-06 │ 2012-06-12 │ gxeJaCvj92 │\n",
       "│ 6   │ 4     │ 0.2167   │ c      │ 2019-04-03 │ 2019-05-01 │ Q23fycpFNT │\n",
       "│ 7   │ 6     │ 0.04906  │ b      │ 2015-07-28 │ 2015-08-20 │ QE63406gEj │\n",
       "│ 8   │ 6     │ -0.76691 │ b      │ 2014-09-27 │ 2014-11-27 │ GCMwV5msPt │\n",
       "│ 9   │ 1     │ 0.17141  │ d      │ 2013-10-04 │ 2013-11-14 │ 92PkSbQonD │\n",
       "│ 10  │ 3     │ 0.35063  │ d      │ 2014-08-12 │ 2014-09-12 │ RUXG3N8RtF │\n",
       "│ 11  │ 2     │ 0.90441  │ a      │ 2018-11-12 │ 2019-11-12 │ LE6qR2Q37p │\n",
       "│ 12  │ 3     │ 0.00197  │ b      │ 2011-08-12 │ 2011-08-13 │ B8oAeJRvEf │\n",
       "│ 13  │ 1     │ 0.81387  │ a      │ 2014-06-24 │ 2016-06-24 │ vFSFbWZBGM │\n",
       "│ 14  │ 3     │ -0.39826 │ a      │ 2015-02-01 │ 2015-07-12 │ UIVdF2TxWM │\n",
       "│ 15  │ 4     │ 0.52603  │ a      │ 2011-07-10 │ 2011-08-13 │ s0ltSZb4fm │\n",
       "│ 16  │ 4     │ -0.41483 │ c      │ 2012-03-12 │ 2012-08-01 │ 0OoRG1ly8l │\n",
       "│ 17  │ 5     │ -0.02946 │ a      │ 2013-07-16 │ 2013-07-17 │ uLFMepv4pI │\n",
       "│ 18  │ 2     │ -0.16647 │ c      │ 2016-03-14 │ 2016-04-14 │ TKdJZ2SddY │\n",
       "│ 19  │ 5     │ 0.86743  │ d      │ 2012-09-10 │ 2012-09-26 │ 0ltwHfLBHf │\n",
       "│ 20  │ 6     │ -0.85316 │ d      │ 2018-04-12 │ 2018-05-12 │ hjkJkeasXG │"
      ]
     },
     "execution_count": 32,
     "metadata": {},
     "output_type": "execute_result"
    }
   ],
   "source": [
    "dfc = copy(df)"
   ]
  },
  {
   "cell_type": "markdown",
   "metadata": {},
   "source": [
    "You can change the value of an entry by specifying the index position and the new value. Here we change the value for the _v1_ variable in row 2 to 4."
   ]
  },
  {
   "cell_type": "code",
   "execution_count": 33,
   "metadata": {},
   "outputs": [
    {
     "data": {
      "text/plain": [
       "4"
      ]
     },
     "execution_count": 33,
     "metadata": {},
     "output_type": "execute_result"
    }
   ],
   "source": [
    "dfc[2, :v1] = 4"
   ]
  },
  {
   "cell_type": "markdown",
   "metadata": {},
   "source": [
    "Note when modifying values the new values need to be of a valid type. For example _v1_ is of type __Int64__ so the assigned value needs to be an __Int64__ or something that can be converted into an __Int64__. Trying to set the value to, for example, a __String__ won't work:"
   ]
  },
  {
   "cell_type": "code",
   "execution_count": 34,
   "metadata": {},
   "outputs": [
    {
     "ename": "MethodError",
     "evalue": "MethodError: Cannot `convert` an object of type String to an object of type Int64\nClosest candidates are:\n  convert(::Type{T}, !Matched::T) where T<:Number at number.jl:6\n  convert(::Type{T}, !Matched::Number) where T<:Number at number.jl:7\n  convert(::Type{T}, !Matched::Ptr) where T<:Integer at pointer.jl:23\n  ...",
     "output_type": "error",
     "traceback": [
      "MethodError: Cannot `convert` an object of type String to an object of type Int64\nClosest candidates are:\n  convert(::Type{T}, !Matched::T) where T<:Number at number.jl:6\n  convert(::Type{T}, !Matched::Number) where T<:Number at number.jl:7\n  convert(::Type{T}, !Matched::Ptr) where T<:Integer at pointer.jl:23\n  ...",
      "",
      "Stacktrace:",
      " [1] setindex!(::Array{Int64,1}, ::String, ::Int64) at ./array.jl:782",
      " [2] insert_single_entry!(::DataFrame, ::String, ::Int64, ::Symbol) at /nas/longleaf/apps/julia/1.3.0/share/julia/packages/DataFrames/lfoTw/src/dataframe/dataframe.jl:523",
      " [3] setindex!(::DataFrame, ::String, ::Int64, ::Symbol) at /nas/longleaf/apps/julia/1.3.0/share/julia/packages/DataFrames/lfoTw/src/dataframe/dataframe.jl:557",
      " [4] top-level scope at In[34]:1"
     ]
    }
   ],
   "source": [
    "df[2, :v1] = \"four\""
   ]
  },
  {
   "cell_type": "markdown",
   "metadata": {},
   "source": [
    "You can update slices as well as long as the types and dimensions match."
   ]
  },
  {
   "cell_type": "code",
   "execution_count": 35,
   "metadata": {},
   "outputs": [
    {
     "data": {
      "text/html": [
       "<table class=\"data-frame\"><thead><tr><th></th><th>v1</th><th>v2</th><th>v3</th><th>v4</th><th>v5</th><th>v6</th></tr><tr><th></th><th>Int64</th><th>Float64</th><th>String</th><th>Date</th><th>Date</th><th>String</th></tr></thead><tbody><p>10 rows × 6 columns</p><tr><th>1</th><td>1</td><td>0.1078</td><td>a</td><td>2019-10-31</td><td>2019-11-03</td><td>IZFi329Kfs</td></tr><tr><th>2</th><td>4</td><td>-0.79658</td><td>a</td><td>2018-11-12</td><td>2018-12-01</td><td>ZC1tXGibbk</td></tr><tr><th>3</th><td>4</td><td>0.6142</td><td>c</td><td>2012-05-14</td><td>2012-06-14</td><td>BddsrFBO8E</td></tr><tr><th>4</th><td>1</td><td>0.39258</td><td>a</td><td>2017-01-01</td><td>2017-08-01</td><td>g7PQAwGDrH</td></tr><tr><th>5</th><td>4</td><td>-0.29707</td><td>a</td><td>2012-06-06</td><td>2012-06-12</td><td>gxeJaCvj92</td></tr><tr><th>6</th><td>4</td><td>0.2167</td><td>c</td><td>2019-04-03</td><td>2019-05-01</td><td>Q23fycpFNT</td></tr><tr><th>7</th><td>6</td><td>0.04906</td><td>b</td><td>2015-07-28</td><td>2015-08-20</td><td>QE63406gEj</td></tr><tr><th>8</th><td>6</td><td>-0.76691</td><td>b</td><td>2014-09-27</td><td>2014-11-27</td><td>GCMwV5msPt</td></tr><tr><th>9</th><td>1</td><td>0.17141</td><td>d</td><td>2013-10-04</td><td>2013-11-14</td><td>92PkSbQonD</td></tr><tr><th>10</th><td>3</td><td>0.35063</td><td>d</td><td>2014-08-12</td><td>2014-09-12</td><td>RUXG3N8RtF</td></tr></tbody></table>"
      ],
      "text/latex": [
       "\\begin{tabular}{r|cccccc}\n",
       "\t& v1 & v2 & v3 & v4 & v5 & v6\\\\\n",
       "\t\\hline\n",
       "\t& Int64 & Float64 & String & Date & Date & String\\\\\n",
       "\t\\hline\n",
       "\t1 & 1 & 0.1078 & a & 2019-10-31 & 2019-11-03 & IZFi329Kfs \\\\\n",
       "\t2 & 4 & -0.79658 & a & 2018-11-12 & 2018-12-01 & ZC1tXGibbk \\\\\n",
       "\t3 & 4 & 0.6142 & c & 2012-05-14 & 2012-06-14 & BddsrFBO8E \\\\\n",
       "\t4 & 1 & 0.39258 & a & 2017-01-01 & 2017-08-01 & g7PQAwGDrH \\\\\n",
       "\t5 & 4 & -0.29707 & a & 2012-06-06 & 2012-06-12 & gxeJaCvj92 \\\\\n",
       "\t6 & 4 & 0.2167 & c & 2019-04-03 & 2019-05-01 & Q23fycpFNT \\\\\n",
       "\t7 & 6 & 0.04906 & b & 2015-07-28 & 2015-08-20 & QE63406gEj \\\\\n",
       "\t8 & 6 & -0.76691 & b & 2014-09-27 & 2014-11-27 & GCMwV5msPt \\\\\n",
       "\t9 & 1 & 0.17141 & d & 2013-10-04 & 2013-11-14 & 92PkSbQonD \\\\\n",
       "\t10 & 3 & 0.35063 & d & 2014-08-12 & 2014-09-12 & RUXG3N8RtF \\\\\n",
       "\\end{tabular}\n"
      ],
      "text/plain": [
       "10×6 DataFrame\n",
       "│ Row │ v1    │ v2       │ v3     │ v4         │ v5         │ v6         │\n",
       "│     │ \u001b[90mInt64\u001b[39m │ \u001b[90mFloat64\u001b[39m  │ \u001b[90mString\u001b[39m │ \u001b[90mDate\u001b[39m       │ \u001b[90mDate\u001b[39m       │ \u001b[90mString\u001b[39m     │\n",
       "├─────┼───────┼──────────┼────────┼────────────┼────────────┼────────────┤\n",
       "│ 1   │ 1     │ 0.1078   │ a      │ 2019-10-31 │ 2019-11-03 │ IZFi329Kfs │\n",
       "│ 2   │ 4     │ -0.79658 │ a      │ 2018-11-12 │ 2018-12-01 │ ZC1tXGibbk │\n",
       "│ 3   │ 4     │ 0.6142   │ c      │ 2012-05-14 │ 2012-06-14 │ BddsrFBO8E │\n",
       "│ 4   │ 1     │ 0.39258  │ a      │ 2017-01-01 │ 2017-08-01 │ g7PQAwGDrH │\n",
       "│ 5   │ 4     │ -0.29707 │ a      │ 2012-06-06 │ 2012-06-12 │ gxeJaCvj92 │\n",
       "│ 6   │ 4     │ 0.2167   │ c      │ 2019-04-03 │ 2019-05-01 │ Q23fycpFNT │\n",
       "│ 7   │ 6     │ 0.04906  │ b      │ 2015-07-28 │ 2015-08-20 │ QE63406gEj │\n",
       "│ 8   │ 6     │ -0.76691 │ b      │ 2014-09-27 │ 2014-11-27 │ GCMwV5msPt │\n",
       "│ 9   │ 1     │ 0.17141  │ d      │ 2013-10-04 │ 2013-11-14 │ 92PkSbQonD │\n",
       "│ 10  │ 3     │ 0.35063  │ d      │ 2014-08-12 │ 2014-09-12 │ RUXG3N8RtF │"
      ]
     },
     "execution_count": 35,
     "metadata": {},
     "output_type": "execute_result"
    }
   ],
   "source": [
    "first(dfc, 10)"
   ]
  },
  {
   "cell_type": "markdown",
   "metadata": {},
   "source": [
    "This will update the first five rows of the _v1_ and _v2_ columns:"
   ]
  },
  {
   "cell_type": "code",
   "execution_count": 36,
   "metadata": {},
   "outputs": [],
   "source": [
    "dfc[1:5, [:v1, :v2]] = [[1, 2, 3, 6, 5] randn(5,1)];"
   ]
  },
  {
   "cell_type": "code",
   "execution_count": 37,
   "metadata": {},
   "outputs": [
    {
     "data": {
      "text/html": [
       "<table class=\"data-frame\"><thead><tr><th></th><th>v1</th><th>v2</th><th>v3</th><th>v4</th><th>v5</th><th>v6</th></tr><tr><th></th><th>Int64</th><th>Float64</th><th>String</th><th>Date</th><th>Date</th><th>String</th></tr></thead><tbody><p>20 rows × 6 columns</p><tr><th>1</th><td>1</td><td>0.680515</td><td>a</td><td>2019-10-31</td><td>2019-11-03</td><td>IZFi329Kfs</td></tr><tr><th>2</th><td>2</td><td>-0.980425</td><td>a</td><td>2018-11-12</td><td>2018-12-01</td><td>ZC1tXGibbk</td></tr><tr><th>3</th><td>3</td><td>0.343577</td><td>c</td><td>2012-05-14</td><td>2012-06-14</td><td>BddsrFBO8E</td></tr><tr><th>4</th><td>6</td><td>0.642345</td><td>a</td><td>2017-01-01</td><td>2017-08-01</td><td>g7PQAwGDrH</td></tr><tr><th>5</th><td>5</td><td>1.31946</td><td>a</td><td>2012-06-06</td><td>2012-06-12</td><td>gxeJaCvj92</td></tr><tr><th>6</th><td>4</td><td>0.2167</td><td>c</td><td>2019-04-03</td><td>2019-05-01</td><td>Q23fycpFNT</td></tr><tr><th>7</th><td>6</td><td>0.04906</td><td>b</td><td>2015-07-28</td><td>2015-08-20</td><td>QE63406gEj</td></tr><tr><th>8</th><td>6</td><td>-0.76691</td><td>b</td><td>2014-09-27</td><td>2014-11-27</td><td>GCMwV5msPt</td></tr><tr><th>9</th><td>1</td><td>0.17141</td><td>d</td><td>2013-10-04</td><td>2013-11-14</td><td>92PkSbQonD</td></tr><tr><th>10</th><td>3</td><td>0.35063</td><td>d</td><td>2014-08-12</td><td>2014-09-12</td><td>RUXG3N8RtF</td></tr><tr><th>11</th><td>2</td><td>0.90441</td><td>a</td><td>2018-11-12</td><td>2019-11-12</td><td>LE6qR2Q37p</td></tr><tr><th>12</th><td>3</td><td>0.00197</td><td>b</td><td>2011-08-12</td><td>2011-08-13</td><td>B8oAeJRvEf</td></tr><tr><th>13</th><td>1</td><td>0.81387</td><td>a</td><td>2014-06-24</td><td>2016-06-24</td><td>vFSFbWZBGM</td></tr><tr><th>14</th><td>3</td><td>-0.39826</td><td>a</td><td>2015-02-01</td><td>2015-07-12</td><td>UIVdF2TxWM</td></tr><tr><th>15</th><td>4</td><td>0.52603</td><td>a</td><td>2011-07-10</td><td>2011-08-13</td><td>s0ltSZb4fm</td></tr><tr><th>16</th><td>4</td><td>-0.41483</td><td>c</td><td>2012-03-12</td><td>2012-08-01</td><td>0OoRG1ly8l</td></tr><tr><th>17</th><td>5</td><td>-0.02946</td><td>a</td><td>2013-07-16</td><td>2013-07-17</td><td>uLFMepv4pI</td></tr><tr><th>18</th><td>2</td><td>-0.16647</td><td>c</td><td>2016-03-14</td><td>2016-04-14</td><td>TKdJZ2SddY</td></tr><tr><th>19</th><td>5</td><td>0.86743</td><td>d</td><td>2012-09-10</td><td>2012-09-26</td><td>0ltwHfLBHf</td></tr><tr><th>20</th><td>6</td><td>-0.85316</td><td>d</td><td>2018-04-12</td><td>2018-05-12</td><td>hjkJkeasXG</td></tr></tbody></table>"
      ],
      "text/latex": [
       "\\begin{tabular}{r|cccccc}\n",
       "\t& v1 & v2 & v3 & v4 & v5 & v6\\\\\n",
       "\t\\hline\n",
       "\t& Int64 & Float64 & String & Date & Date & String\\\\\n",
       "\t\\hline\n",
       "\t1 & 1 & 0.680515 & a & 2019-10-31 & 2019-11-03 & IZFi329Kfs \\\\\n",
       "\t2 & 2 & -0.980425 & a & 2018-11-12 & 2018-12-01 & ZC1tXGibbk \\\\\n",
       "\t3 & 3 & 0.343577 & c & 2012-05-14 & 2012-06-14 & BddsrFBO8E \\\\\n",
       "\t4 & 6 & 0.642345 & a & 2017-01-01 & 2017-08-01 & g7PQAwGDrH \\\\\n",
       "\t5 & 5 & 1.31946 & a & 2012-06-06 & 2012-06-12 & gxeJaCvj92 \\\\\n",
       "\t6 & 4 & 0.2167 & c & 2019-04-03 & 2019-05-01 & Q23fycpFNT \\\\\n",
       "\t7 & 6 & 0.04906 & b & 2015-07-28 & 2015-08-20 & QE63406gEj \\\\\n",
       "\t8 & 6 & -0.76691 & b & 2014-09-27 & 2014-11-27 & GCMwV5msPt \\\\\n",
       "\t9 & 1 & 0.17141 & d & 2013-10-04 & 2013-11-14 & 92PkSbQonD \\\\\n",
       "\t10 & 3 & 0.35063 & d & 2014-08-12 & 2014-09-12 & RUXG3N8RtF \\\\\n",
       "\t11 & 2 & 0.90441 & a & 2018-11-12 & 2019-11-12 & LE6qR2Q37p \\\\\n",
       "\t12 & 3 & 0.00197 & b & 2011-08-12 & 2011-08-13 & B8oAeJRvEf \\\\\n",
       "\t13 & 1 & 0.81387 & a & 2014-06-24 & 2016-06-24 & vFSFbWZBGM \\\\\n",
       "\t14 & 3 & -0.39826 & a & 2015-02-01 & 2015-07-12 & UIVdF2TxWM \\\\\n",
       "\t15 & 4 & 0.52603 & a & 2011-07-10 & 2011-08-13 & s0ltSZb4fm \\\\\n",
       "\t16 & 4 & -0.41483 & c & 2012-03-12 & 2012-08-01 & 0OoRG1ly8l \\\\\n",
       "\t17 & 5 & -0.02946 & a & 2013-07-16 & 2013-07-17 & uLFMepv4pI \\\\\n",
       "\t18 & 2 & -0.16647 & c & 2016-03-14 & 2016-04-14 & TKdJZ2SddY \\\\\n",
       "\t19 & 5 & 0.86743 & d & 2012-09-10 & 2012-09-26 & 0ltwHfLBHf \\\\\n",
       "\t20 & 6 & -0.85316 & d & 2018-04-12 & 2018-05-12 & hjkJkeasXG \\\\\n",
       "\\end{tabular}\n"
      ],
      "text/plain": [
       "20×6 DataFrame\n",
       "│ Row │ v1    │ v2        │ v3     │ v4         │ v5         │ v6         │\n",
       "│     │ \u001b[90mInt64\u001b[39m │ \u001b[90mFloat64\u001b[39m   │ \u001b[90mString\u001b[39m │ \u001b[90mDate\u001b[39m       │ \u001b[90mDate\u001b[39m       │ \u001b[90mString\u001b[39m     │\n",
       "├─────┼───────┼───────────┼────────┼────────────┼────────────┼────────────┤\n",
       "│ 1   │ 1     │ 0.680515  │ a      │ 2019-10-31 │ 2019-11-03 │ IZFi329Kfs │\n",
       "│ 2   │ 2     │ -0.980425 │ a      │ 2018-11-12 │ 2018-12-01 │ ZC1tXGibbk │\n",
       "│ 3   │ 3     │ 0.343577  │ c      │ 2012-05-14 │ 2012-06-14 │ BddsrFBO8E │\n",
       "│ 4   │ 6     │ 0.642345  │ a      │ 2017-01-01 │ 2017-08-01 │ g7PQAwGDrH │\n",
       "│ 5   │ 5     │ 1.31946   │ a      │ 2012-06-06 │ 2012-06-12 │ gxeJaCvj92 │\n",
       "│ 6   │ 4     │ 0.2167    │ c      │ 2019-04-03 │ 2019-05-01 │ Q23fycpFNT │\n",
       "│ 7   │ 6     │ 0.04906   │ b      │ 2015-07-28 │ 2015-08-20 │ QE63406gEj │\n",
       "│ 8   │ 6     │ -0.76691  │ b      │ 2014-09-27 │ 2014-11-27 │ GCMwV5msPt │\n",
       "│ 9   │ 1     │ 0.17141   │ d      │ 2013-10-04 │ 2013-11-14 │ 92PkSbQonD │\n",
       "│ 10  │ 3     │ 0.35063   │ d      │ 2014-08-12 │ 2014-09-12 │ RUXG3N8RtF │\n",
       "│ 11  │ 2     │ 0.90441   │ a      │ 2018-11-12 │ 2019-11-12 │ LE6qR2Q37p │\n",
       "│ 12  │ 3     │ 0.00197   │ b      │ 2011-08-12 │ 2011-08-13 │ B8oAeJRvEf │\n",
       "│ 13  │ 1     │ 0.81387   │ a      │ 2014-06-24 │ 2016-06-24 │ vFSFbWZBGM │\n",
       "│ 14  │ 3     │ -0.39826  │ a      │ 2015-02-01 │ 2015-07-12 │ UIVdF2TxWM │\n",
       "│ 15  │ 4     │ 0.52603   │ a      │ 2011-07-10 │ 2011-08-13 │ s0ltSZb4fm │\n",
       "│ 16  │ 4     │ -0.41483  │ c      │ 2012-03-12 │ 2012-08-01 │ 0OoRG1ly8l │\n",
       "│ 17  │ 5     │ -0.02946  │ a      │ 2013-07-16 │ 2013-07-17 │ uLFMepv4pI │\n",
       "│ 18  │ 2     │ -0.16647  │ c      │ 2016-03-14 │ 2016-04-14 │ TKdJZ2SddY │\n",
       "│ 19  │ 5     │ 0.86743   │ d      │ 2012-09-10 │ 2012-09-26 │ 0ltwHfLBHf │\n",
       "│ 20  │ 6     │ -0.85316  │ d      │ 2018-04-12 │ 2018-05-12 │ hjkJkeasXG │"
      ]
     },
     "execution_count": 37,
     "metadata": {},
     "output_type": "execute_result"
    }
   ],
   "source": [
    "dfc"
   ]
  },
  {
   "cell_type": "markdown",
   "metadata": {},
   "source": [
    "Suppose we wanted to subset based on the value of a column variable? For example, if we wanted all rows of data where <i>v3</i> has the value \"a\":"
   ]
  },
  {
   "cell_type": "code",
   "execution_count": 38,
   "metadata": {},
   "outputs": [
    {
     "data": {
      "text/html": [
       "<table class=\"data-frame\"><thead><tr><th></th><th>v1</th><th>v2</th><th>v3</th><th>v4</th><th>v5</th><th>v6</th></tr><tr><th></th><th>Int64</th><th>Float64</th><th>String</th><th>Date</th><th>Date</th><th>String</th></tr></thead><tbody><p>9 rows × 6 columns</p><tr><th>1</th><td>1</td><td>0.680515</td><td>a</td><td>2019-10-31</td><td>2019-11-03</td><td>IZFi329Kfs</td></tr><tr><th>2</th><td>2</td><td>-0.980425</td><td>a</td><td>2018-11-12</td><td>2018-12-01</td><td>ZC1tXGibbk</td></tr><tr><th>3</th><td>6</td><td>0.642345</td><td>a</td><td>2017-01-01</td><td>2017-08-01</td><td>g7PQAwGDrH</td></tr><tr><th>4</th><td>5</td><td>1.31946</td><td>a</td><td>2012-06-06</td><td>2012-06-12</td><td>gxeJaCvj92</td></tr><tr><th>5</th><td>2</td><td>0.90441</td><td>a</td><td>2018-11-12</td><td>2019-11-12</td><td>LE6qR2Q37p</td></tr><tr><th>6</th><td>1</td><td>0.81387</td><td>a</td><td>2014-06-24</td><td>2016-06-24</td><td>vFSFbWZBGM</td></tr><tr><th>7</th><td>3</td><td>-0.39826</td><td>a</td><td>2015-02-01</td><td>2015-07-12</td><td>UIVdF2TxWM</td></tr><tr><th>8</th><td>4</td><td>0.52603</td><td>a</td><td>2011-07-10</td><td>2011-08-13</td><td>s0ltSZb4fm</td></tr><tr><th>9</th><td>5</td><td>-0.02946</td><td>a</td><td>2013-07-16</td><td>2013-07-17</td><td>uLFMepv4pI</td></tr></tbody></table>"
      ],
      "text/latex": [
       "\\begin{tabular}{r|cccccc}\n",
       "\t& v1 & v2 & v3 & v4 & v5 & v6\\\\\n",
       "\t\\hline\n",
       "\t& Int64 & Float64 & String & Date & Date & String\\\\\n",
       "\t\\hline\n",
       "\t1 & 1 & 0.680515 & a & 2019-10-31 & 2019-11-03 & IZFi329Kfs \\\\\n",
       "\t2 & 2 & -0.980425 & a & 2018-11-12 & 2018-12-01 & ZC1tXGibbk \\\\\n",
       "\t3 & 6 & 0.642345 & a & 2017-01-01 & 2017-08-01 & g7PQAwGDrH \\\\\n",
       "\t4 & 5 & 1.31946 & a & 2012-06-06 & 2012-06-12 & gxeJaCvj92 \\\\\n",
       "\t5 & 2 & 0.90441 & a & 2018-11-12 & 2019-11-12 & LE6qR2Q37p \\\\\n",
       "\t6 & 1 & 0.81387 & a & 2014-06-24 & 2016-06-24 & vFSFbWZBGM \\\\\n",
       "\t7 & 3 & -0.39826 & a & 2015-02-01 & 2015-07-12 & UIVdF2TxWM \\\\\n",
       "\t8 & 4 & 0.52603 & a & 2011-07-10 & 2011-08-13 & s0ltSZb4fm \\\\\n",
       "\t9 & 5 & -0.02946 & a & 2013-07-16 & 2013-07-17 & uLFMepv4pI \\\\\n",
       "\\end{tabular}\n"
      ],
      "text/plain": [
       "9×6 DataFrame\n",
       "│ Row │ v1    │ v2        │ v3     │ v4         │ v5         │ v6         │\n",
       "│     │ \u001b[90mInt64\u001b[39m │ \u001b[90mFloat64\u001b[39m   │ \u001b[90mString\u001b[39m │ \u001b[90mDate\u001b[39m       │ \u001b[90mDate\u001b[39m       │ \u001b[90mString\u001b[39m     │\n",
       "├─────┼───────┼───────────┼────────┼────────────┼────────────┼────────────┤\n",
       "│ 1   │ 1     │ 0.680515  │ a      │ 2019-10-31 │ 2019-11-03 │ IZFi329Kfs │\n",
       "│ 2   │ 2     │ -0.980425 │ a      │ 2018-11-12 │ 2018-12-01 │ ZC1tXGibbk │\n",
       "│ 3   │ 6     │ 0.642345  │ a      │ 2017-01-01 │ 2017-08-01 │ g7PQAwGDrH │\n",
       "│ 4   │ 5     │ 1.31946   │ a      │ 2012-06-06 │ 2012-06-12 │ gxeJaCvj92 │\n",
       "│ 5   │ 2     │ 0.90441   │ a      │ 2018-11-12 │ 2019-11-12 │ LE6qR2Q37p │\n",
       "│ 6   │ 1     │ 0.81387   │ a      │ 2014-06-24 │ 2016-06-24 │ vFSFbWZBGM │\n",
       "│ 7   │ 3     │ -0.39826  │ a      │ 2015-02-01 │ 2015-07-12 │ UIVdF2TxWM │\n",
       "│ 8   │ 4     │ 0.52603   │ a      │ 2011-07-10 │ 2011-08-13 │ s0ltSZb4fm │\n",
       "│ 9   │ 5     │ -0.02946  │ a      │ 2013-07-16 │ 2013-07-17 │ uLFMepv4pI │"
      ]
     },
     "execution_count": 38,
     "metadata": {},
     "output_type": "execute_result"
    }
   ],
   "source": [
    "dfc[dfc.v3 .== \"a\", :]"
   ]
  },
  {
   "cell_type": "markdown",
   "metadata": {},
   "source": [
    "You can use Julia's regular expression support to match on values of arbitrary character expressions. For example we can get only the rows of data where the _v6_ variable contains the expression \"XG\". One way to do this is to use the `match` function to find the rows of _v6_ that contain \"XG\". "
   ]
  },
  {
   "cell_type": "code",
   "execution_count": 39,
   "metadata": {},
   "outputs": [
    {
     "data": {
      "text/plain": [
       "20-element Array{Union{Nothing, RegexMatch},1}:\n",
       " nothing         \n",
       " RegexMatch(\"XG\")\n",
       " nothing         \n",
       " nothing         \n",
       " nothing         \n",
       " nothing         \n",
       " nothing         \n",
       " nothing         \n",
       " nothing         \n",
       " RegexMatch(\"XG\")\n",
       " nothing         \n",
       " nothing         \n",
       " nothing         \n",
       " nothing         \n",
       " nothing         \n",
       " nothing         \n",
       " nothing         \n",
       " nothing         \n",
       " nothing         \n",
       " RegexMatch(\"XG\")"
      ]
     },
     "execution_count": 39,
     "metadata": {},
     "output_type": "execute_result"
    }
   ],
   "source": [
    "mymatch = match.(r\"XG\", dfc.v6)"
   ]
  },
  {
   "cell_type": "markdown",
   "metadata": {},
   "source": [
    "We can see that __mymatch__ is a one dimensional Array and the entries in __mymatch__ corresponding to non-matches of the regular expression \"XG\" have a value of `nothing`. We can use this to select the rows of the dataframe that correspond to the rows of __mymatch__ that _do not_ equal `nothing` (i.e. match the expression \"XG\")."
   ]
  },
  {
   "cell_type": "code",
   "execution_count": 40,
   "metadata": {},
   "outputs": [
    {
     "data": {
      "text/html": [
       "<table class=\"data-frame\"><thead><tr><th></th><th>v1</th><th>v2</th><th>v3</th><th>v4</th><th>v5</th><th>v6</th></tr><tr><th></th><th>Int64</th><th>Float64</th><th>String</th><th>Date</th><th>Date</th><th>String</th></tr></thead><tbody><p>3 rows × 6 columns</p><tr><th>1</th><td>2</td><td>-0.980425</td><td>a</td><td>2018-11-12</td><td>2018-12-01</td><td>ZC1tXGibbk</td></tr><tr><th>2</th><td>3</td><td>0.35063</td><td>d</td><td>2014-08-12</td><td>2014-09-12</td><td>RUXG3N8RtF</td></tr><tr><th>3</th><td>6</td><td>-0.85316</td><td>d</td><td>2018-04-12</td><td>2018-05-12</td><td>hjkJkeasXG</td></tr></tbody></table>"
      ],
      "text/latex": [
       "\\begin{tabular}{r|cccccc}\n",
       "\t& v1 & v2 & v3 & v4 & v5 & v6\\\\\n",
       "\t\\hline\n",
       "\t& Int64 & Float64 & String & Date & Date & String\\\\\n",
       "\t\\hline\n",
       "\t1 & 2 & -0.980425 & a & 2018-11-12 & 2018-12-01 & ZC1tXGibbk \\\\\n",
       "\t2 & 3 & 0.35063 & d & 2014-08-12 & 2014-09-12 & RUXG3N8RtF \\\\\n",
       "\t3 & 6 & -0.85316 & d & 2018-04-12 & 2018-05-12 & hjkJkeasXG \\\\\n",
       "\\end{tabular}\n"
      ],
      "text/plain": [
       "3×6 DataFrame\n",
       "│ Row │ v1    │ v2        │ v3     │ v4         │ v5         │ v6         │\n",
       "│     │ \u001b[90mInt64\u001b[39m │ \u001b[90mFloat64\u001b[39m   │ \u001b[90mString\u001b[39m │ \u001b[90mDate\u001b[39m       │ \u001b[90mDate\u001b[39m       │ \u001b[90mString\u001b[39m     │\n",
       "├─────┼───────┼───────────┼────────┼────────────┼────────────┼────────────┤\n",
       "│ 1   │ 2     │ -0.980425 │ a      │ 2018-11-12 │ 2018-12-01 │ ZC1tXGibbk │\n",
       "│ 2   │ 3     │ 0.35063   │ d      │ 2014-08-12 │ 2014-09-12 │ RUXG3N8RtF │\n",
       "│ 3   │ 6     │ -0.85316  │ d      │ 2018-04-12 │ 2018-05-12 │ hjkJkeasXG │"
      ]
     },
     "execution_count": 40,
     "metadata": {},
     "output_type": "execute_result"
    }
   ],
   "source": [
    "dfc[mymatch .!== nothing,:]"
   ]
  },
  {
   "cell_type": "code",
   "execution_count": 41,
   "metadata": {},
   "outputs": [
    {
     "data": {
      "text/html": [
       "<table class=\"data-frame\"><thead><tr><th></th><th>v1</th><th>v2</th><th>v3</th><th>v4</th><th>v5</th><th>v6</th></tr><tr><th></th><th>Int64</th><th>Float64</th><th>String</th><th>Date</th><th>Date</th><th>String</th></tr></thead><tbody><p>20 rows × 6 columns</p><tr><th>1</th><td>1</td><td>0.680515</td><td>a</td><td>2019-10-31</td><td>2019-11-03</td><td>IZFi329Kfs</td></tr><tr><th>2</th><td>2</td><td>-0.980425</td><td>a</td><td>2018-11-12</td><td>2018-12-01</td><td>ZC1tXGibbk</td></tr><tr><th>3</th><td>3</td><td>0.343577</td><td>c</td><td>2012-05-14</td><td>2012-06-14</td><td>BddsrFBO8E</td></tr><tr><th>4</th><td>6</td><td>0.642345</td><td>a</td><td>2017-01-01</td><td>2017-08-01</td><td>g7PQAwGDrH</td></tr><tr><th>5</th><td>5</td><td>1.31946</td><td>a</td><td>2012-06-06</td><td>2012-06-12</td><td>gxeJaCvj92</td></tr><tr><th>6</th><td>4</td><td>0.2167</td><td>c</td><td>2019-04-03</td><td>2019-05-01</td><td>Q23fycpFNT</td></tr><tr><th>7</th><td>6</td><td>0.04906</td><td>b</td><td>2015-07-28</td><td>2015-08-20</td><td>QE63406gEj</td></tr><tr><th>8</th><td>6</td><td>-0.76691</td><td>b</td><td>2014-09-27</td><td>2014-11-27</td><td>GCMwV5msPt</td></tr><tr><th>9</th><td>1</td><td>0.17141</td><td>d</td><td>2013-10-04</td><td>2013-11-14</td><td>92PkSbQonD</td></tr><tr><th>10</th><td>3</td><td>0.35063</td><td>d</td><td>2014-08-12</td><td>2014-09-12</td><td>RUXG3N8RtF</td></tr><tr><th>11</th><td>2</td><td>0.90441</td><td>a</td><td>2018-11-12</td><td>2019-11-12</td><td>LE6qR2Q37p</td></tr><tr><th>12</th><td>3</td><td>0.00197</td><td>b</td><td>2011-08-12</td><td>2011-08-13</td><td>B8oAeJRvEf</td></tr><tr><th>13</th><td>1</td><td>0.81387</td><td>a</td><td>2014-06-24</td><td>2016-06-24</td><td>vFSFbWZBGM</td></tr><tr><th>14</th><td>3</td><td>-0.39826</td><td>a</td><td>2015-02-01</td><td>2015-07-12</td><td>UIVdF2TxWM</td></tr><tr><th>15</th><td>4</td><td>0.52603</td><td>a</td><td>2011-07-10</td><td>2011-08-13</td><td>s0ltSZb4fm</td></tr><tr><th>16</th><td>4</td><td>-0.41483</td><td>c</td><td>2012-03-12</td><td>2012-08-01</td><td>0OoRG1ly8l</td></tr><tr><th>17</th><td>5</td><td>-0.02946</td><td>a</td><td>2013-07-16</td><td>2013-07-17</td><td>uLFMepv4pI</td></tr><tr><th>18</th><td>2</td><td>-0.16647</td><td>c</td><td>2016-03-14</td><td>2016-04-14</td><td>TKdJZ2SddY</td></tr><tr><th>19</th><td>5</td><td>0.86743</td><td>d</td><td>2012-09-10</td><td>2012-09-26</td><td>0ltwHfLBHf</td></tr><tr><th>20</th><td>6</td><td>-0.85316</td><td>d</td><td>2018-04-12</td><td>2018-05-12</td><td>hjkJkeasXG</td></tr></tbody></table>"
      ],
      "text/latex": [
       "\\begin{tabular}{r|cccccc}\n",
       "\t& v1 & v2 & v3 & v4 & v5 & v6\\\\\n",
       "\t\\hline\n",
       "\t& Int64 & Float64 & String & Date & Date & String\\\\\n",
       "\t\\hline\n",
       "\t1 & 1 & 0.680515 & a & 2019-10-31 & 2019-11-03 & IZFi329Kfs \\\\\n",
       "\t2 & 2 & -0.980425 & a & 2018-11-12 & 2018-12-01 & ZC1tXGibbk \\\\\n",
       "\t3 & 3 & 0.343577 & c & 2012-05-14 & 2012-06-14 & BddsrFBO8E \\\\\n",
       "\t4 & 6 & 0.642345 & a & 2017-01-01 & 2017-08-01 & g7PQAwGDrH \\\\\n",
       "\t5 & 5 & 1.31946 & a & 2012-06-06 & 2012-06-12 & gxeJaCvj92 \\\\\n",
       "\t6 & 4 & 0.2167 & c & 2019-04-03 & 2019-05-01 & Q23fycpFNT \\\\\n",
       "\t7 & 6 & 0.04906 & b & 2015-07-28 & 2015-08-20 & QE63406gEj \\\\\n",
       "\t8 & 6 & -0.76691 & b & 2014-09-27 & 2014-11-27 & GCMwV5msPt \\\\\n",
       "\t9 & 1 & 0.17141 & d & 2013-10-04 & 2013-11-14 & 92PkSbQonD \\\\\n",
       "\t10 & 3 & 0.35063 & d & 2014-08-12 & 2014-09-12 & RUXG3N8RtF \\\\\n",
       "\t11 & 2 & 0.90441 & a & 2018-11-12 & 2019-11-12 & LE6qR2Q37p \\\\\n",
       "\t12 & 3 & 0.00197 & b & 2011-08-12 & 2011-08-13 & B8oAeJRvEf \\\\\n",
       "\t13 & 1 & 0.81387 & a & 2014-06-24 & 2016-06-24 & vFSFbWZBGM \\\\\n",
       "\t14 & 3 & -0.39826 & a & 2015-02-01 & 2015-07-12 & UIVdF2TxWM \\\\\n",
       "\t15 & 4 & 0.52603 & a & 2011-07-10 & 2011-08-13 & s0ltSZb4fm \\\\\n",
       "\t16 & 4 & -0.41483 & c & 2012-03-12 & 2012-08-01 & 0OoRG1ly8l \\\\\n",
       "\t17 & 5 & -0.02946 & a & 2013-07-16 & 2013-07-17 & uLFMepv4pI \\\\\n",
       "\t18 & 2 & -0.16647 & c & 2016-03-14 & 2016-04-14 & TKdJZ2SddY \\\\\n",
       "\t19 & 5 & 0.86743 & d & 2012-09-10 & 2012-09-26 & 0ltwHfLBHf \\\\\n",
       "\t20 & 6 & -0.85316 & d & 2018-04-12 & 2018-05-12 & hjkJkeasXG \\\\\n",
       "\\end{tabular}\n"
      ],
      "text/plain": [
       "20×6 DataFrame\n",
       "│ Row │ v1    │ v2        │ v3     │ v4         │ v5         │ v6         │\n",
       "│     │ \u001b[90mInt64\u001b[39m │ \u001b[90mFloat64\u001b[39m   │ \u001b[90mString\u001b[39m │ \u001b[90mDate\u001b[39m       │ \u001b[90mDate\u001b[39m       │ \u001b[90mString\u001b[39m     │\n",
       "├─────┼───────┼───────────┼────────┼────────────┼────────────┼────────────┤\n",
       "│ 1   │ 1     │ 0.680515  │ a      │ 2019-10-31 │ 2019-11-03 │ IZFi329Kfs │\n",
       "│ 2   │ 2     │ -0.980425 │ a      │ 2018-11-12 │ 2018-12-01 │ ZC1tXGibbk │\n",
       "│ 3   │ 3     │ 0.343577  │ c      │ 2012-05-14 │ 2012-06-14 │ BddsrFBO8E │\n",
       "│ 4   │ 6     │ 0.642345  │ a      │ 2017-01-01 │ 2017-08-01 │ g7PQAwGDrH │\n",
       "│ 5   │ 5     │ 1.31946   │ a      │ 2012-06-06 │ 2012-06-12 │ gxeJaCvj92 │\n",
       "│ 6   │ 4     │ 0.2167    │ c      │ 2019-04-03 │ 2019-05-01 │ Q23fycpFNT │\n",
       "│ 7   │ 6     │ 0.04906   │ b      │ 2015-07-28 │ 2015-08-20 │ QE63406gEj │\n",
       "│ 8   │ 6     │ -0.76691  │ b      │ 2014-09-27 │ 2014-11-27 │ GCMwV5msPt │\n",
       "│ 9   │ 1     │ 0.17141   │ d      │ 2013-10-04 │ 2013-11-14 │ 92PkSbQonD │\n",
       "│ 10  │ 3     │ 0.35063   │ d      │ 2014-08-12 │ 2014-09-12 │ RUXG3N8RtF │\n",
       "│ 11  │ 2     │ 0.90441   │ a      │ 2018-11-12 │ 2019-11-12 │ LE6qR2Q37p │\n",
       "│ 12  │ 3     │ 0.00197   │ b      │ 2011-08-12 │ 2011-08-13 │ B8oAeJRvEf │\n",
       "│ 13  │ 1     │ 0.81387   │ a      │ 2014-06-24 │ 2016-06-24 │ vFSFbWZBGM │\n",
       "│ 14  │ 3     │ -0.39826  │ a      │ 2015-02-01 │ 2015-07-12 │ UIVdF2TxWM │\n",
       "│ 15  │ 4     │ 0.52603   │ a      │ 2011-07-10 │ 2011-08-13 │ s0ltSZb4fm │\n",
       "│ 16  │ 4     │ -0.41483  │ c      │ 2012-03-12 │ 2012-08-01 │ 0OoRG1ly8l │\n",
       "│ 17  │ 5     │ -0.02946  │ a      │ 2013-07-16 │ 2013-07-17 │ uLFMepv4pI │\n",
       "│ 18  │ 2     │ -0.16647  │ c      │ 2016-03-14 │ 2016-04-14 │ TKdJZ2SddY │\n",
       "│ 19  │ 5     │ 0.86743   │ d      │ 2012-09-10 │ 2012-09-26 │ 0ltwHfLBHf │\n",
       "│ 20  │ 6     │ -0.85316  │ d      │ 2018-04-12 │ 2018-05-12 │ hjkJkeasXG │"
      ]
     },
     "execution_count": 41,
     "metadata": {},
     "output_type": "execute_result"
    }
   ],
   "source": [
    "dfc"
   ]
  },
  {
   "cell_type": "markdown",
   "metadata": {},
   "source": [
    "Here is an example of selecting rows based on a date value. Here we select rows where the value of the date for the _v4_ variable is after 7/27/2015."
   ]
  },
  {
   "cell_type": "code",
   "execution_count": 42,
   "metadata": {},
   "outputs": [
    {
     "data": {
      "text/html": [
       "<table class=\"data-frame\"><thead><tr><th></th><th>v1</th><th>v2</th><th>v3</th><th>v4</th><th>v5</th><th>v6</th></tr><tr><th></th><th>Int64</th><th>Float64</th><th>String</th><th>Date</th><th>Date</th><th>String</th></tr></thead><tbody><p>8 rows × 6 columns</p><tr><th>1</th><td>1</td><td>0.680515</td><td>a</td><td>2019-10-31</td><td>2019-11-03</td><td>IZFi329Kfs</td></tr><tr><th>2</th><td>2</td><td>-0.980425</td><td>a</td><td>2018-11-12</td><td>2018-12-01</td><td>ZC1tXGibbk</td></tr><tr><th>3</th><td>6</td><td>0.642345</td><td>a</td><td>2017-01-01</td><td>2017-08-01</td><td>g7PQAwGDrH</td></tr><tr><th>4</th><td>4</td><td>0.2167</td><td>c</td><td>2019-04-03</td><td>2019-05-01</td><td>Q23fycpFNT</td></tr><tr><th>5</th><td>6</td><td>0.04906</td><td>b</td><td>2015-07-28</td><td>2015-08-20</td><td>QE63406gEj</td></tr><tr><th>6</th><td>2</td><td>0.90441</td><td>a</td><td>2018-11-12</td><td>2019-11-12</td><td>LE6qR2Q37p</td></tr><tr><th>7</th><td>2</td><td>-0.16647</td><td>c</td><td>2016-03-14</td><td>2016-04-14</td><td>TKdJZ2SddY</td></tr><tr><th>8</th><td>6</td><td>-0.85316</td><td>d</td><td>2018-04-12</td><td>2018-05-12</td><td>hjkJkeasXG</td></tr></tbody></table>"
      ],
      "text/latex": [
       "\\begin{tabular}{r|cccccc}\n",
       "\t& v1 & v2 & v3 & v4 & v5 & v6\\\\\n",
       "\t\\hline\n",
       "\t& Int64 & Float64 & String & Date & Date & String\\\\\n",
       "\t\\hline\n",
       "\t1 & 1 & 0.680515 & a & 2019-10-31 & 2019-11-03 & IZFi329Kfs \\\\\n",
       "\t2 & 2 & -0.980425 & a & 2018-11-12 & 2018-12-01 & ZC1tXGibbk \\\\\n",
       "\t3 & 6 & 0.642345 & a & 2017-01-01 & 2017-08-01 & g7PQAwGDrH \\\\\n",
       "\t4 & 4 & 0.2167 & c & 2019-04-03 & 2019-05-01 & Q23fycpFNT \\\\\n",
       "\t5 & 6 & 0.04906 & b & 2015-07-28 & 2015-08-20 & QE63406gEj \\\\\n",
       "\t6 & 2 & 0.90441 & a & 2018-11-12 & 2019-11-12 & LE6qR2Q37p \\\\\n",
       "\t7 & 2 & -0.16647 & c & 2016-03-14 & 2016-04-14 & TKdJZ2SddY \\\\\n",
       "\t8 & 6 & -0.85316 & d & 2018-04-12 & 2018-05-12 & hjkJkeasXG \\\\\n",
       "\\end{tabular}\n"
      ],
      "text/plain": [
       "8×6 DataFrame\n",
       "│ Row │ v1    │ v2        │ v3     │ v4         │ v5         │ v6         │\n",
       "│     │ \u001b[90mInt64\u001b[39m │ \u001b[90mFloat64\u001b[39m   │ \u001b[90mString\u001b[39m │ \u001b[90mDate\u001b[39m       │ \u001b[90mDate\u001b[39m       │ \u001b[90mString\u001b[39m     │\n",
       "├─────┼───────┼───────────┼────────┼────────────┼────────────┼────────────┤\n",
       "│ 1   │ 1     │ 0.680515  │ a      │ 2019-10-31 │ 2019-11-03 │ IZFi329Kfs │\n",
       "│ 2   │ 2     │ -0.980425 │ a      │ 2018-11-12 │ 2018-12-01 │ ZC1tXGibbk │\n",
       "│ 3   │ 6     │ 0.642345  │ a      │ 2017-01-01 │ 2017-08-01 │ g7PQAwGDrH │\n",
       "│ 4   │ 4     │ 0.2167    │ c      │ 2019-04-03 │ 2019-05-01 │ Q23fycpFNT │\n",
       "│ 5   │ 6     │ 0.04906   │ b      │ 2015-07-28 │ 2015-08-20 │ QE63406gEj │\n",
       "│ 6   │ 2     │ 0.90441   │ a      │ 2018-11-12 │ 2019-11-12 │ LE6qR2Q37p │\n",
       "│ 7   │ 2     │ -0.16647  │ c      │ 2016-03-14 │ 2016-04-14 │ TKdJZ2SddY │\n",
       "│ 8   │ 6     │ -0.85316  │ d      │ 2018-04-12 │ 2018-05-12 │ hjkJkeasXG │"
      ]
     },
     "execution_count": 42,
     "metadata": {},
     "output_type": "execute_result"
    }
   ],
   "source": [
    "dfc[dfc.v4 .> Date(2015,7,27), :]"
   ]
  },
  {
   "cell_type": "markdown",
   "metadata": {},
   "source": [
    "You can select rows based on multiple variables. For example if we wanted the rows of data where <i>v3</i> has value \"a\" and <i>v2</i> is greater than 0 and just the columns <i>v1</i>, <i>v2</i>, and <i>v3</i>?"
   ]
  },
  {
   "cell_type": "code",
   "execution_count": 43,
   "metadata": {},
   "outputs": [
    {
     "data": {
      "text/html": [
       "<table class=\"data-frame\"><thead><tr><th></th><th>v1</th><th>v2</th><th>v3</th></tr><tr><th></th><th>Int64</th><th>Float64</th><th>String</th></tr></thead><tbody><p>6 rows × 3 columns</p><tr><th>1</th><td>1</td><td>0.680515</td><td>a</td></tr><tr><th>2</th><td>6</td><td>0.642345</td><td>a</td></tr><tr><th>3</th><td>5</td><td>1.31946</td><td>a</td></tr><tr><th>4</th><td>2</td><td>0.90441</td><td>a</td></tr><tr><th>5</th><td>1</td><td>0.81387</td><td>a</td></tr><tr><th>6</th><td>4</td><td>0.52603</td><td>a</td></tr></tbody></table>"
      ],
      "text/latex": [
       "\\begin{tabular}{r|ccc}\n",
       "\t& v1 & v2 & v3\\\\\n",
       "\t\\hline\n",
       "\t& Int64 & Float64 & String\\\\\n",
       "\t\\hline\n",
       "\t1 & 1 & 0.680515 & a \\\\\n",
       "\t2 & 6 & 0.642345 & a \\\\\n",
       "\t3 & 5 & 1.31946 & a \\\\\n",
       "\t4 & 2 & 0.90441 & a \\\\\n",
       "\t5 & 1 & 0.81387 & a \\\\\n",
       "\t6 & 4 & 0.52603 & a \\\\\n",
       "\\end{tabular}\n"
      ],
      "text/plain": [
       "6×3 DataFrame\n",
       "│ Row │ v1    │ v2       │ v3     │\n",
       "│     │ \u001b[90mInt64\u001b[39m │ \u001b[90mFloat64\u001b[39m  │ \u001b[90mString\u001b[39m │\n",
       "├─────┼───────┼──────────┼────────┤\n",
       "│ 1   │ 1     │ 0.680515 │ a      │\n",
       "│ 2   │ 6     │ 0.642345 │ a      │\n",
       "│ 3   │ 5     │ 1.31946  │ a      │\n",
       "│ 4   │ 2     │ 0.90441  │ a      │\n",
       "│ 5   │ 1     │ 0.81387  │ a      │\n",
       "│ 6   │ 4     │ 0.52603  │ a      │"
      ]
     },
     "execution_count": 43,
     "metadata": {},
     "output_type": "execute_result"
    }
   ],
   "source": [
    "dfc[(dfc.v3 .== \"a\") .& (dfc.v2 .> 0), [:v1, :v2, :v3]]"
   ]
  },
  {
   "cell_type": "markdown",
   "metadata": {},
   "source": [
    "You can also use Julia's built-in `filter` function to subset data. You can use either `filter` or `filter!`. The former will return a copy of the dataframe with rows that satisfy the filter; the latter will actually modify the dataframe in place __keeping__ only rows that satisfy the filter."
   ]
  },
  {
   "cell_type": "markdown",
   "metadata": {},
   "source": [
    "The first argument will be the filter itself almost always expressed as an anonymous function and the second argument will just be the name of the dataframe the filter should be applied to."
   ]
  },
  {
   "cell_type": "markdown",
   "metadata": {},
   "source": [
    "Here we filter on rows where the vale of <i>v1</i> is greather than 1."
   ]
  },
  {
   "cell_type": "code",
   "execution_count": 44,
   "metadata": {},
   "outputs": [
    {
     "data": {
      "text/html": [
       "<table class=\"data-frame\"><thead><tr><th></th><th>v1</th><th>v2</th><th>v3</th><th>v4</th><th>v5</th><th>v6</th></tr><tr><th></th><th>Int64</th><th>Float64</th><th>String</th><th>Date</th><th>Date</th><th>String</th></tr></thead><tbody><p>17 rows × 6 columns</p><tr><th>1</th><td>2</td><td>-0.980425</td><td>a</td><td>2018-11-12</td><td>2018-12-01</td><td>ZC1tXGibbk</td></tr><tr><th>2</th><td>3</td><td>0.343577</td><td>c</td><td>2012-05-14</td><td>2012-06-14</td><td>BddsrFBO8E</td></tr><tr><th>3</th><td>6</td><td>0.642345</td><td>a</td><td>2017-01-01</td><td>2017-08-01</td><td>g7PQAwGDrH</td></tr><tr><th>4</th><td>5</td><td>1.31946</td><td>a</td><td>2012-06-06</td><td>2012-06-12</td><td>gxeJaCvj92</td></tr><tr><th>5</th><td>4</td><td>0.2167</td><td>c</td><td>2019-04-03</td><td>2019-05-01</td><td>Q23fycpFNT</td></tr><tr><th>6</th><td>6</td><td>0.04906</td><td>b</td><td>2015-07-28</td><td>2015-08-20</td><td>QE63406gEj</td></tr><tr><th>7</th><td>6</td><td>-0.76691</td><td>b</td><td>2014-09-27</td><td>2014-11-27</td><td>GCMwV5msPt</td></tr><tr><th>8</th><td>3</td><td>0.35063</td><td>d</td><td>2014-08-12</td><td>2014-09-12</td><td>RUXG3N8RtF</td></tr><tr><th>9</th><td>2</td><td>0.90441</td><td>a</td><td>2018-11-12</td><td>2019-11-12</td><td>LE6qR2Q37p</td></tr><tr><th>10</th><td>3</td><td>0.00197</td><td>b</td><td>2011-08-12</td><td>2011-08-13</td><td>B8oAeJRvEf</td></tr><tr><th>11</th><td>3</td><td>-0.39826</td><td>a</td><td>2015-02-01</td><td>2015-07-12</td><td>UIVdF2TxWM</td></tr><tr><th>12</th><td>4</td><td>0.52603</td><td>a</td><td>2011-07-10</td><td>2011-08-13</td><td>s0ltSZb4fm</td></tr><tr><th>13</th><td>4</td><td>-0.41483</td><td>c</td><td>2012-03-12</td><td>2012-08-01</td><td>0OoRG1ly8l</td></tr><tr><th>14</th><td>5</td><td>-0.02946</td><td>a</td><td>2013-07-16</td><td>2013-07-17</td><td>uLFMepv4pI</td></tr><tr><th>15</th><td>2</td><td>-0.16647</td><td>c</td><td>2016-03-14</td><td>2016-04-14</td><td>TKdJZ2SddY</td></tr><tr><th>16</th><td>5</td><td>0.86743</td><td>d</td><td>2012-09-10</td><td>2012-09-26</td><td>0ltwHfLBHf</td></tr><tr><th>17</th><td>6</td><td>-0.85316</td><td>d</td><td>2018-04-12</td><td>2018-05-12</td><td>hjkJkeasXG</td></tr></tbody></table>"
      ],
      "text/latex": [
       "\\begin{tabular}{r|cccccc}\n",
       "\t& v1 & v2 & v3 & v4 & v5 & v6\\\\\n",
       "\t\\hline\n",
       "\t& Int64 & Float64 & String & Date & Date & String\\\\\n",
       "\t\\hline\n",
       "\t1 & 2 & -0.980425 & a & 2018-11-12 & 2018-12-01 & ZC1tXGibbk \\\\\n",
       "\t2 & 3 & 0.343577 & c & 2012-05-14 & 2012-06-14 & BddsrFBO8E \\\\\n",
       "\t3 & 6 & 0.642345 & a & 2017-01-01 & 2017-08-01 & g7PQAwGDrH \\\\\n",
       "\t4 & 5 & 1.31946 & a & 2012-06-06 & 2012-06-12 & gxeJaCvj92 \\\\\n",
       "\t5 & 4 & 0.2167 & c & 2019-04-03 & 2019-05-01 & Q23fycpFNT \\\\\n",
       "\t6 & 6 & 0.04906 & b & 2015-07-28 & 2015-08-20 & QE63406gEj \\\\\n",
       "\t7 & 6 & -0.76691 & b & 2014-09-27 & 2014-11-27 & GCMwV5msPt \\\\\n",
       "\t8 & 3 & 0.35063 & d & 2014-08-12 & 2014-09-12 & RUXG3N8RtF \\\\\n",
       "\t9 & 2 & 0.90441 & a & 2018-11-12 & 2019-11-12 & LE6qR2Q37p \\\\\n",
       "\t10 & 3 & 0.00197 & b & 2011-08-12 & 2011-08-13 & B8oAeJRvEf \\\\\n",
       "\t11 & 3 & -0.39826 & a & 2015-02-01 & 2015-07-12 & UIVdF2TxWM \\\\\n",
       "\t12 & 4 & 0.52603 & a & 2011-07-10 & 2011-08-13 & s0ltSZb4fm \\\\\n",
       "\t13 & 4 & -0.41483 & c & 2012-03-12 & 2012-08-01 & 0OoRG1ly8l \\\\\n",
       "\t14 & 5 & -0.02946 & a & 2013-07-16 & 2013-07-17 & uLFMepv4pI \\\\\n",
       "\t15 & 2 & -0.16647 & c & 2016-03-14 & 2016-04-14 & TKdJZ2SddY \\\\\n",
       "\t16 & 5 & 0.86743 & d & 2012-09-10 & 2012-09-26 & 0ltwHfLBHf \\\\\n",
       "\t17 & 6 & -0.85316 & d & 2018-04-12 & 2018-05-12 & hjkJkeasXG \\\\\n",
       "\\end{tabular}\n"
      ],
      "text/plain": [
       "17×6 DataFrame\n",
       "│ Row │ v1    │ v2        │ v3     │ v4         │ v5         │ v6         │\n",
       "│     │ \u001b[90mInt64\u001b[39m │ \u001b[90mFloat64\u001b[39m   │ \u001b[90mString\u001b[39m │ \u001b[90mDate\u001b[39m       │ \u001b[90mDate\u001b[39m       │ \u001b[90mString\u001b[39m     │\n",
       "├─────┼───────┼───────────┼────────┼────────────┼────────────┼────────────┤\n",
       "│ 1   │ 2     │ -0.980425 │ a      │ 2018-11-12 │ 2018-12-01 │ ZC1tXGibbk │\n",
       "│ 2   │ 3     │ 0.343577  │ c      │ 2012-05-14 │ 2012-06-14 │ BddsrFBO8E │\n",
       "│ 3   │ 6     │ 0.642345  │ a      │ 2017-01-01 │ 2017-08-01 │ g7PQAwGDrH │\n",
       "│ 4   │ 5     │ 1.31946   │ a      │ 2012-06-06 │ 2012-06-12 │ gxeJaCvj92 │\n",
       "│ 5   │ 4     │ 0.2167    │ c      │ 2019-04-03 │ 2019-05-01 │ Q23fycpFNT │\n",
       "│ 6   │ 6     │ 0.04906   │ b      │ 2015-07-28 │ 2015-08-20 │ QE63406gEj │\n",
       "│ 7   │ 6     │ -0.76691  │ b      │ 2014-09-27 │ 2014-11-27 │ GCMwV5msPt │\n",
       "│ 8   │ 3     │ 0.35063   │ d      │ 2014-08-12 │ 2014-09-12 │ RUXG3N8RtF │\n",
       "│ 9   │ 2     │ 0.90441   │ a      │ 2018-11-12 │ 2019-11-12 │ LE6qR2Q37p │\n",
       "│ 10  │ 3     │ 0.00197   │ b      │ 2011-08-12 │ 2011-08-13 │ B8oAeJRvEf │\n",
       "│ 11  │ 3     │ -0.39826  │ a      │ 2015-02-01 │ 2015-07-12 │ UIVdF2TxWM │\n",
       "│ 12  │ 4     │ 0.52603   │ a      │ 2011-07-10 │ 2011-08-13 │ s0ltSZb4fm │\n",
       "│ 13  │ 4     │ -0.41483  │ c      │ 2012-03-12 │ 2012-08-01 │ 0OoRG1ly8l │\n",
       "│ 14  │ 5     │ -0.02946  │ a      │ 2013-07-16 │ 2013-07-17 │ uLFMepv4pI │\n",
       "│ 15  │ 2     │ -0.16647  │ c      │ 2016-03-14 │ 2016-04-14 │ TKdJZ2SddY │\n",
       "│ 16  │ 5     │ 0.86743   │ d      │ 2012-09-10 │ 2012-09-26 │ 0ltwHfLBHf │\n",
       "│ 17  │ 6     │ -0.85316  │ d      │ 2018-04-12 │ 2018-05-12 │ hjkJkeasXG │"
      ]
     },
     "execution_count": 44,
     "metadata": {},
     "output_type": "execute_result"
    }
   ],
   "source": [
    "filter(row -> row[:v1] > 1, dfc)"
   ]
  },
  {
   "cell_type": "markdown",
   "metadata": {},
   "source": [
    "If you need to delete rows you can use the `deleterows!` function and provide the row ids to delete."
   ]
  },
  {
   "cell_type": "code",
   "execution_count": 45,
   "metadata": {},
   "outputs": [
    {
     "name": "stderr",
     "output_type": "stream",
     "text": [
      "┌ Warning: `deleterows!(df::DataFrame, inds)` is deprecated, use `delete!(df, inds)` instead.\n",
      "│   caller = top-level scope at In[45]:1\n",
      "└ @ Core In[45]:1\n"
     ]
    },
    {
     "data": {
      "text/html": [
       "<table class=\"data-frame\"><thead><tr><th></th><th>v1</th><th>v2</th><th>v3</th><th>v4</th><th>v5</th><th>v6</th></tr><tr><th></th><th>Int64</th><th>Float64</th><th>String</th><th>Date</th><th>Date</th><th>String</th></tr></thead><tbody><p>18 rows × 6 columns</p><tr><th>1</th><td>1</td><td>0.680515</td><td>a</td><td>2019-10-31</td><td>2019-11-03</td><td>IZFi329Kfs</td></tr><tr><th>2</th><td>2</td><td>-0.980425</td><td>a</td><td>2018-11-12</td><td>2018-12-01</td><td>ZC1tXGibbk</td></tr><tr><th>3</th><td>6</td><td>0.642345</td><td>a</td><td>2017-01-01</td><td>2017-08-01</td><td>g7PQAwGDrH</td></tr><tr><th>4</th><td>5</td><td>1.31946</td><td>a</td><td>2012-06-06</td><td>2012-06-12</td><td>gxeJaCvj92</td></tr><tr><th>5</th><td>4</td><td>0.2167</td><td>c</td><td>2019-04-03</td><td>2019-05-01</td><td>Q23fycpFNT</td></tr><tr><th>6</th><td>6</td><td>0.04906</td><td>b</td><td>2015-07-28</td><td>2015-08-20</td><td>QE63406gEj</td></tr><tr><th>7</th><td>6</td><td>-0.76691</td><td>b</td><td>2014-09-27</td><td>2014-11-27</td><td>GCMwV5msPt</td></tr><tr><th>8</th><td>1</td><td>0.17141</td><td>d</td><td>2013-10-04</td><td>2013-11-14</td><td>92PkSbQonD</td></tr><tr><th>9</th><td>3</td><td>0.35063</td><td>d</td><td>2014-08-12</td><td>2014-09-12</td><td>RUXG3N8RtF</td></tr><tr><th>10</th><td>2</td><td>0.90441</td><td>a</td><td>2018-11-12</td><td>2019-11-12</td><td>LE6qR2Q37p</td></tr><tr><th>11</th><td>3</td><td>0.00197</td><td>b</td><td>2011-08-12</td><td>2011-08-13</td><td>B8oAeJRvEf</td></tr><tr><th>12</th><td>1</td><td>0.81387</td><td>a</td><td>2014-06-24</td><td>2016-06-24</td><td>vFSFbWZBGM</td></tr><tr><th>13</th><td>3</td><td>-0.39826</td><td>a</td><td>2015-02-01</td><td>2015-07-12</td><td>UIVdF2TxWM</td></tr><tr><th>14</th><td>4</td><td>-0.41483</td><td>c</td><td>2012-03-12</td><td>2012-08-01</td><td>0OoRG1ly8l</td></tr><tr><th>15</th><td>5</td><td>-0.02946</td><td>a</td><td>2013-07-16</td><td>2013-07-17</td><td>uLFMepv4pI</td></tr><tr><th>16</th><td>2</td><td>-0.16647</td><td>c</td><td>2016-03-14</td><td>2016-04-14</td><td>TKdJZ2SddY</td></tr><tr><th>17</th><td>5</td><td>0.86743</td><td>d</td><td>2012-09-10</td><td>2012-09-26</td><td>0ltwHfLBHf</td></tr><tr><th>18</th><td>6</td><td>-0.85316</td><td>d</td><td>2018-04-12</td><td>2018-05-12</td><td>hjkJkeasXG</td></tr></tbody></table>"
      ],
      "text/latex": [
       "\\begin{tabular}{r|cccccc}\n",
       "\t& v1 & v2 & v3 & v4 & v5 & v6\\\\\n",
       "\t\\hline\n",
       "\t& Int64 & Float64 & String & Date & Date & String\\\\\n",
       "\t\\hline\n",
       "\t1 & 1 & 0.680515 & a & 2019-10-31 & 2019-11-03 & IZFi329Kfs \\\\\n",
       "\t2 & 2 & -0.980425 & a & 2018-11-12 & 2018-12-01 & ZC1tXGibbk \\\\\n",
       "\t3 & 6 & 0.642345 & a & 2017-01-01 & 2017-08-01 & g7PQAwGDrH \\\\\n",
       "\t4 & 5 & 1.31946 & a & 2012-06-06 & 2012-06-12 & gxeJaCvj92 \\\\\n",
       "\t5 & 4 & 0.2167 & c & 2019-04-03 & 2019-05-01 & Q23fycpFNT \\\\\n",
       "\t6 & 6 & 0.04906 & b & 2015-07-28 & 2015-08-20 & QE63406gEj \\\\\n",
       "\t7 & 6 & -0.76691 & b & 2014-09-27 & 2014-11-27 & GCMwV5msPt \\\\\n",
       "\t8 & 1 & 0.17141 & d & 2013-10-04 & 2013-11-14 & 92PkSbQonD \\\\\n",
       "\t9 & 3 & 0.35063 & d & 2014-08-12 & 2014-09-12 & RUXG3N8RtF \\\\\n",
       "\t10 & 2 & 0.90441 & a & 2018-11-12 & 2019-11-12 & LE6qR2Q37p \\\\\n",
       "\t11 & 3 & 0.00197 & b & 2011-08-12 & 2011-08-13 & B8oAeJRvEf \\\\\n",
       "\t12 & 1 & 0.81387 & a & 2014-06-24 & 2016-06-24 & vFSFbWZBGM \\\\\n",
       "\t13 & 3 & -0.39826 & a & 2015-02-01 & 2015-07-12 & UIVdF2TxWM \\\\\n",
       "\t14 & 4 & -0.41483 & c & 2012-03-12 & 2012-08-01 & 0OoRG1ly8l \\\\\n",
       "\t15 & 5 & -0.02946 & a & 2013-07-16 & 2013-07-17 & uLFMepv4pI \\\\\n",
       "\t16 & 2 & -0.16647 & c & 2016-03-14 & 2016-04-14 & TKdJZ2SddY \\\\\n",
       "\t17 & 5 & 0.86743 & d & 2012-09-10 & 2012-09-26 & 0ltwHfLBHf \\\\\n",
       "\t18 & 6 & -0.85316 & d & 2018-04-12 & 2018-05-12 & hjkJkeasXG \\\\\n",
       "\\end{tabular}\n"
      ],
      "text/plain": [
       "18×6 DataFrame\n",
       "│ Row │ v1    │ v2        │ v3     │ v4         │ v5         │ v6         │\n",
       "│     │ \u001b[90mInt64\u001b[39m │ \u001b[90mFloat64\u001b[39m   │ \u001b[90mString\u001b[39m │ \u001b[90mDate\u001b[39m       │ \u001b[90mDate\u001b[39m       │ \u001b[90mString\u001b[39m     │\n",
       "├─────┼───────┼───────────┼────────┼────────────┼────────────┼────────────┤\n",
       "│ 1   │ 1     │ 0.680515  │ a      │ 2019-10-31 │ 2019-11-03 │ IZFi329Kfs │\n",
       "│ 2   │ 2     │ -0.980425 │ a      │ 2018-11-12 │ 2018-12-01 │ ZC1tXGibbk │\n",
       "│ 3   │ 6     │ 0.642345  │ a      │ 2017-01-01 │ 2017-08-01 │ g7PQAwGDrH │\n",
       "│ 4   │ 5     │ 1.31946   │ a      │ 2012-06-06 │ 2012-06-12 │ gxeJaCvj92 │\n",
       "│ 5   │ 4     │ 0.2167    │ c      │ 2019-04-03 │ 2019-05-01 │ Q23fycpFNT │\n",
       "│ 6   │ 6     │ 0.04906   │ b      │ 2015-07-28 │ 2015-08-20 │ QE63406gEj │\n",
       "│ 7   │ 6     │ -0.76691  │ b      │ 2014-09-27 │ 2014-11-27 │ GCMwV5msPt │\n",
       "│ 8   │ 1     │ 0.17141   │ d      │ 2013-10-04 │ 2013-11-14 │ 92PkSbQonD │\n",
       "│ 9   │ 3     │ 0.35063   │ d      │ 2014-08-12 │ 2014-09-12 │ RUXG3N8RtF │\n",
       "│ 10  │ 2     │ 0.90441   │ a      │ 2018-11-12 │ 2019-11-12 │ LE6qR2Q37p │\n",
       "│ 11  │ 3     │ 0.00197   │ b      │ 2011-08-12 │ 2011-08-13 │ B8oAeJRvEf │\n",
       "│ 12  │ 1     │ 0.81387   │ a      │ 2014-06-24 │ 2016-06-24 │ vFSFbWZBGM │\n",
       "│ 13  │ 3     │ -0.39826  │ a      │ 2015-02-01 │ 2015-07-12 │ UIVdF2TxWM │\n",
       "│ 14  │ 4     │ -0.41483  │ c      │ 2012-03-12 │ 2012-08-01 │ 0OoRG1ly8l │\n",
       "│ 15  │ 5     │ -0.02946  │ a      │ 2013-07-16 │ 2013-07-17 │ uLFMepv4pI │\n",
       "│ 16  │ 2     │ -0.16647  │ c      │ 2016-03-14 │ 2016-04-14 │ TKdJZ2SddY │\n",
       "│ 17  │ 5     │ 0.86743   │ d      │ 2012-09-10 │ 2012-09-26 │ 0ltwHfLBHf │\n",
       "│ 18  │ 6     │ -0.85316  │ d      │ 2018-04-12 │ 2018-05-12 │ hjkJkeasXG │"
      ]
     },
     "execution_count": 45,
     "metadata": {},
     "output_type": "execute_result"
    }
   ],
   "source": [
    "deleterows!(dfc, [3, 15])"
   ]
  },
  {
   "cell_type": "markdown",
   "metadata": {},
   "source": [
    "A more useful thing might be to get rid of duplicate rows. The first occurrence of the duplicate row is kept in the dataframe while all others are regarded as duplicates and removed.\n",
    "\n",
    "To this end you can use either the `unique` or `unique!` functions. The former returns a copy of the dataframe with deleted duplicate rows while the latter is an in-place operation.\n",
    "\n",
    "`unique(df, cols)` <br/>\n",
    "`unique!(df, cols)`"
   ]
  },
  {
   "cell_type": "markdown",
   "metadata": {},
   "source": [
    "The **cols** argument is optional. If you specify the **cols** argument the comparison will be made using only the specified columns. If you don't specify the **cols** argument then the comparison will be made using all columns which means only rows with identical values across all columns will be matches."
   ]
  },
  {
   "cell_type": "markdown",
   "metadata": {},
   "source": [
    "We can see in our dataframe above that when only considering columns <i>v1</i> and <i>v3</i> there are duplicate rows. For example there are many rows with <i>v1</i> equal to 1 and <i>v3</i> equal to \"a\" or with <i>v1</i> equal to 2 and <i>v3</i> equal to a."
   ]
  },
  {
   "cell_type": "markdown",
   "metadata": {},
   "source": [
    "To get rid of duplicate rows on columns <i>v1</i> and <i>v3</i>:"
   ]
  },
  {
   "cell_type": "code",
   "execution_count": 46,
   "metadata": {},
   "outputs": [
    {
     "data": {
      "text/html": [
       "<table class=\"data-frame\"><thead><tr><th></th><th>v1</th><th>v2</th><th>v3</th><th>v4</th><th>v5</th><th>v6</th></tr><tr><th></th><th>Int64</th><th>Float64</th><th>String</th><th>Date</th><th>Date</th><th>String</th></tr></thead><tbody><p>13 rows × 6 columns</p><tr><th>1</th><td>1</td><td>0.680515</td><td>a</td><td>2019-10-31</td><td>2019-11-03</td><td>IZFi329Kfs</td></tr><tr><th>2</th><td>2</td><td>-0.980425</td><td>a</td><td>2018-11-12</td><td>2018-12-01</td><td>ZC1tXGibbk</td></tr><tr><th>3</th><td>6</td><td>0.642345</td><td>a</td><td>2017-01-01</td><td>2017-08-01</td><td>g7PQAwGDrH</td></tr><tr><th>4</th><td>5</td><td>1.31946</td><td>a</td><td>2012-06-06</td><td>2012-06-12</td><td>gxeJaCvj92</td></tr><tr><th>5</th><td>4</td><td>0.2167</td><td>c</td><td>2019-04-03</td><td>2019-05-01</td><td>Q23fycpFNT</td></tr><tr><th>6</th><td>6</td><td>0.04906</td><td>b</td><td>2015-07-28</td><td>2015-08-20</td><td>QE63406gEj</td></tr><tr><th>7</th><td>1</td><td>0.17141</td><td>d</td><td>2013-10-04</td><td>2013-11-14</td><td>92PkSbQonD</td></tr><tr><th>8</th><td>3</td><td>0.35063</td><td>d</td><td>2014-08-12</td><td>2014-09-12</td><td>RUXG3N8RtF</td></tr><tr><th>9</th><td>3</td><td>0.00197</td><td>b</td><td>2011-08-12</td><td>2011-08-13</td><td>B8oAeJRvEf</td></tr><tr><th>10</th><td>3</td><td>-0.39826</td><td>a</td><td>2015-02-01</td><td>2015-07-12</td><td>UIVdF2TxWM</td></tr><tr><th>11</th><td>2</td><td>-0.16647</td><td>c</td><td>2016-03-14</td><td>2016-04-14</td><td>TKdJZ2SddY</td></tr><tr><th>12</th><td>5</td><td>0.86743</td><td>d</td><td>2012-09-10</td><td>2012-09-26</td><td>0ltwHfLBHf</td></tr><tr><th>13</th><td>6</td><td>-0.85316</td><td>d</td><td>2018-04-12</td><td>2018-05-12</td><td>hjkJkeasXG</td></tr></tbody></table>"
      ],
      "text/latex": [
       "\\begin{tabular}{r|cccccc}\n",
       "\t& v1 & v2 & v3 & v4 & v5 & v6\\\\\n",
       "\t\\hline\n",
       "\t& Int64 & Float64 & String & Date & Date & String\\\\\n",
       "\t\\hline\n",
       "\t1 & 1 & 0.680515 & a & 2019-10-31 & 2019-11-03 & IZFi329Kfs \\\\\n",
       "\t2 & 2 & -0.980425 & a & 2018-11-12 & 2018-12-01 & ZC1tXGibbk \\\\\n",
       "\t3 & 6 & 0.642345 & a & 2017-01-01 & 2017-08-01 & g7PQAwGDrH \\\\\n",
       "\t4 & 5 & 1.31946 & a & 2012-06-06 & 2012-06-12 & gxeJaCvj92 \\\\\n",
       "\t5 & 4 & 0.2167 & c & 2019-04-03 & 2019-05-01 & Q23fycpFNT \\\\\n",
       "\t6 & 6 & 0.04906 & b & 2015-07-28 & 2015-08-20 & QE63406gEj \\\\\n",
       "\t7 & 1 & 0.17141 & d & 2013-10-04 & 2013-11-14 & 92PkSbQonD \\\\\n",
       "\t8 & 3 & 0.35063 & d & 2014-08-12 & 2014-09-12 & RUXG3N8RtF \\\\\n",
       "\t9 & 3 & 0.00197 & b & 2011-08-12 & 2011-08-13 & B8oAeJRvEf \\\\\n",
       "\t10 & 3 & -0.39826 & a & 2015-02-01 & 2015-07-12 & UIVdF2TxWM \\\\\n",
       "\t11 & 2 & -0.16647 & c & 2016-03-14 & 2016-04-14 & TKdJZ2SddY \\\\\n",
       "\t12 & 5 & 0.86743 & d & 2012-09-10 & 2012-09-26 & 0ltwHfLBHf \\\\\n",
       "\t13 & 6 & -0.85316 & d & 2018-04-12 & 2018-05-12 & hjkJkeasXG \\\\\n",
       "\\end{tabular}\n"
      ],
      "text/plain": [
       "13×6 DataFrame\n",
       "│ Row │ v1    │ v2        │ v3     │ v4         │ v5         │ v6         │\n",
       "│     │ \u001b[90mInt64\u001b[39m │ \u001b[90mFloat64\u001b[39m   │ \u001b[90mString\u001b[39m │ \u001b[90mDate\u001b[39m       │ \u001b[90mDate\u001b[39m       │ \u001b[90mString\u001b[39m     │\n",
       "├─────┼───────┼───────────┼────────┼────────────┼────────────┼────────────┤\n",
       "│ 1   │ 1     │ 0.680515  │ a      │ 2019-10-31 │ 2019-11-03 │ IZFi329Kfs │\n",
       "│ 2   │ 2     │ -0.980425 │ a      │ 2018-11-12 │ 2018-12-01 │ ZC1tXGibbk │\n",
       "│ 3   │ 6     │ 0.642345  │ a      │ 2017-01-01 │ 2017-08-01 │ g7PQAwGDrH │\n",
       "│ 4   │ 5     │ 1.31946   │ a      │ 2012-06-06 │ 2012-06-12 │ gxeJaCvj92 │\n",
       "│ 5   │ 4     │ 0.2167    │ c      │ 2019-04-03 │ 2019-05-01 │ Q23fycpFNT │\n",
       "│ 6   │ 6     │ 0.04906   │ b      │ 2015-07-28 │ 2015-08-20 │ QE63406gEj │\n",
       "│ 7   │ 1     │ 0.17141   │ d      │ 2013-10-04 │ 2013-11-14 │ 92PkSbQonD │\n",
       "│ 8   │ 3     │ 0.35063   │ d      │ 2014-08-12 │ 2014-09-12 │ RUXG3N8RtF │\n",
       "│ 9   │ 3     │ 0.00197   │ b      │ 2011-08-12 │ 2011-08-13 │ B8oAeJRvEf │\n",
       "│ 10  │ 3     │ -0.39826  │ a      │ 2015-02-01 │ 2015-07-12 │ UIVdF2TxWM │\n",
       "│ 11  │ 2     │ -0.16647  │ c      │ 2016-03-14 │ 2016-04-14 │ TKdJZ2SddY │\n",
       "│ 12  │ 5     │ 0.86743   │ d      │ 2012-09-10 │ 2012-09-26 │ 0ltwHfLBHf │\n",
       "│ 13  │ 6     │ -0.85316  │ d      │ 2018-04-12 │ 2018-05-12 │ hjkJkeasXG │"
      ]
     },
     "execution_count": 46,
     "metadata": {},
     "output_type": "execute_result"
    }
   ],
   "source": [
    "unique(dfc, [:v1, :v3])"
   ]
  },
  {
   "cell_type": "markdown",
   "metadata": {},
   "source": [
    "The `nonunique` function will tell you if a given row is a duplicate of any row **before** it."
   ]
  },
  {
   "cell_type": "code",
   "execution_count": 47,
   "metadata": {},
   "outputs": [
    {
     "data": {
      "text/html": [
       "<table class=\"data-frame\"><thead><tr><th></th><th>v1</th><th>v2</th><th>v3</th><th>v4</th><th>v5</th><th>v6</th></tr><tr><th></th><th>Int64</th><th>Float64</th><th>String</th><th>Date</th><th>Date</th><th>String</th></tr></thead><tbody><p>18 rows × 6 columns</p><tr><th>1</th><td>1</td><td>0.680515</td><td>a</td><td>2019-10-31</td><td>2019-11-03</td><td>IZFi329Kfs</td></tr><tr><th>2</th><td>2</td><td>-0.980425</td><td>a</td><td>2018-11-12</td><td>2018-12-01</td><td>ZC1tXGibbk</td></tr><tr><th>3</th><td>6</td><td>0.642345</td><td>a</td><td>2017-01-01</td><td>2017-08-01</td><td>g7PQAwGDrH</td></tr><tr><th>4</th><td>5</td><td>1.31946</td><td>a</td><td>2012-06-06</td><td>2012-06-12</td><td>gxeJaCvj92</td></tr><tr><th>5</th><td>4</td><td>0.2167</td><td>c</td><td>2019-04-03</td><td>2019-05-01</td><td>Q23fycpFNT</td></tr><tr><th>6</th><td>6</td><td>0.04906</td><td>b</td><td>2015-07-28</td><td>2015-08-20</td><td>QE63406gEj</td></tr><tr><th>7</th><td>6</td><td>-0.76691</td><td>b</td><td>2014-09-27</td><td>2014-11-27</td><td>GCMwV5msPt</td></tr><tr><th>8</th><td>1</td><td>0.17141</td><td>d</td><td>2013-10-04</td><td>2013-11-14</td><td>92PkSbQonD</td></tr><tr><th>9</th><td>3</td><td>0.35063</td><td>d</td><td>2014-08-12</td><td>2014-09-12</td><td>RUXG3N8RtF</td></tr><tr><th>10</th><td>2</td><td>0.90441</td><td>a</td><td>2018-11-12</td><td>2019-11-12</td><td>LE6qR2Q37p</td></tr><tr><th>11</th><td>3</td><td>0.00197</td><td>b</td><td>2011-08-12</td><td>2011-08-13</td><td>B8oAeJRvEf</td></tr><tr><th>12</th><td>1</td><td>0.81387</td><td>a</td><td>2014-06-24</td><td>2016-06-24</td><td>vFSFbWZBGM</td></tr><tr><th>13</th><td>3</td><td>-0.39826</td><td>a</td><td>2015-02-01</td><td>2015-07-12</td><td>UIVdF2TxWM</td></tr><tr><th>14</th><td>4</td><td>-0.41483</td><td>c</td><td>2012-03-12</td><td>2012-08-01</td><td>0OoRG1ly8l</td></tr><tr><th>15</th><td>5</td><td>-0.02946</td><td>a</td><td>2013-07-16</td><td>2013-07-17</td><td>uLFMepv4pI</td></tr><tr><th>16</th><td>2</td><td>-0.16647</td><td>c</td><td>2016-03-14</td><td>2016-04-14</td><td>TKdJZ2SddY</td></tr><tr><th>17</th><td>5</td><td>0.86743</td><td>d</td><td>2012-09-10</td><td>2012-09-26</td><td>0ltwHfLBHf</td></tr><tr><th>18</th><td>6</td><td>-0.85316</td><td>d</td><td>2018-04-12</td><td>2018-05-12</td><td>hjkJkeasXG</td></tr></tbody></table>"
      ],
      "text/latex": [
       "\\begin{tabular}{r|cccccc}\n",
       "\t& v1 & v2 & v3 & v4 & v5 & v6\\\\\n",
       "\t\\hline\n",
       "\t& Int64 & Float64 & String & Date & Date & String\\\\\n",
       "\t\\hline\n",
       "\t1 & 1 & 0.680515 & a & 2019-10-31 & 2019-11-03 & IZFi329Kfs \\\\\n",
       "\t2 & 2 & -0.980425 & a & 2018-11-12 & 2018-12-01 & ZC1tXGibbk \\\\\n",
       "\t3 & 6 & 0.642345 & a & 2017-01-01 & 2017-08-01 & g7PQAwGDrH \\\\\n",
       "\t4 & 5 & 1.31946 & a & 2012-06-06 & 2012-06-12 & gxeJaCvj92 \\\\\n",
       "\t5 & 4 & 0.2167 & c & 2019-04-03 & 2019-05-01 & Q23fycpFNT \\\\\n",
       "\t6 & 6 & 0.04906 & b & 2015-07-28 & 2015-08-20 & QE63406gEj \\\\\n",
       "\t7 & 6 & -0.76691 & b & 2014-09-27 & 2014-11-27 & GCMwV5msPt \\\\\n",
       "\t8 & 1 & 0.17141 & d & 2013-10-04 & 2013-11-14 & 92PkSbQonD \\\\\n",
       "\t9 & 3 & 0.35063 & d & 2014-08-12 & 2014-09-12 & RUXG3N8RtF \\\\\n",
       "\t10 & 2 & 0.90441 & a & 2018-11-12 & 2019-11-12 & LE6qR2Q37p \\\\\n",
       "\t11 & 3 & 0.00197 & b & 2011-08-12 & 2011-08-13 & B8oAeJRvEf \\\\\n",
       "\t12 & 1 & 0.81387 & a & 2014-06-24 & 2016-06-24 & vFSFbWZBGM \\\\\n",
       "\t13 & 3 & -0.39826 & a & 2015-02-01 & 2015-07-12 & UIVdF2TxWM \\\\\n",
       "\t14 & 4 & -0.41483 & c & 2012-03-12 & 2012-08-01 & 0OoRG1ly8l \\\\\n",
       "\t15 & 5 & -0.02946 & a & 2013-07-16 & 2013-07-17 & uLFMepv4pI \\\\\n",
       "\t16 & 2 & -0.16647 & c & 2016-03-14 & 2016-04-14 & TKdJZ2SddY \\\\\n",
       "\t17 & 5 & 0.86743 & d & 2012-09-10 & 2012-09-26 & 0ltwHfLBHf \\\\\n",
       "\t18 & 6 & -0.85316 & d & 2018-04-12 & 2018-05-12 & hjkJkeasXG \\\\\n",
       "\\end{tabular}\n"
      ],
      "text/plain": [
       "18×6 DataFrame\n",
       "│ Row │ v1    │ v2        │ v3     │ v4         │ v5         │ v6         │\n",
       "│     │ \u001b[90mInt64\u001b[39m │ \u001b[90mFloat64\u001b[39m   │ \u001b[90mString\u001b[39m │ \u001b[90mDate\u001b[39m       │ \u001b[90mDate\u001b[39m       │ \u001b[90mString\u001b[39m     │\n",
       "├─────┼───────┼───────────┼────────┼────────────┼────────────┼────────────┤\n",
       "│ 1   │ 1     │ 0.680515  │ a      │ 2019-10-31 │ 2019-11-03 │ IZFi329Kfs │\n",
       "│ 2   │ 2     │ -0.980425 │ a      │ 2018-11-12 │ 2018-12-01 │ ZC1tXGibbk │\n",
       "│ 3   │ 6     │ 0.642345  │ a      │ 2017-01-01 │ 2017-08-01 │ g7PQAwGDrH │\n",
       "│ 4   │ 5     │ 1.31946   │ a      │ 2012-06-06 │ 2012-06-12 │ gxeJaCvj92 │\n",
       "│ 5   │ 4     │ 0.2167    │ c      │ 2019-04-03 │ 2019-05-01 │ Q23fycpFNT │\n",
       "│ 6   │ 6     │ 0.04906   │ b      │ 2015-07-28 │ 2015-08-20 │ QE63406gEj │\n",
       "│ 7   │ 6     │ -0.76691  │ b      │ 2014-09-27 │ 2014-11-27 │ GCMwV5msPt │\n",
       "│ 8   │ 1     │ 0.17141   │ d      │ 2013-10-04 │ 2013-11-14 │ 92PkSbQonD │\n",
       "│ 9   │ 3     │ 0.35063   │ d      │ 2014-08-12 │ 2014-09-12 │ RUXG3N8RtF │\n",
       "│ 10  │ 2     │ 0.90441   │ a      │ 2018-11-12 │ 2019-11-12 │ LE6qR2Q37p │\n",
       "│ 11  │ 3     │ 0.00197   │ b      │ 2011-08-12 │ 2011-08-13 │ B8oAeJRvEf │\n",
       "│ 12  │ 1     │ 0.81387   │ a      │ 2014-06-24 │ 2016-06-24 │ vFSFbWZBGM │\n",
       "│ 13  │ 3     │ -0.39826  │ a      │ 2015-02-01 │ 2015-07-12 │ UIVdF2TxWM │\n",
       "│ 14  │ 4     │ -0.41483  │ c      │ 2012-03-12 │ 2012-08-01 │ 0OoRG1ly8l │\n",
       "│ 15  │ 5     │ -0.02946  │ a      │ 2013-07-16 │ 2013-07-17 │ uLFMepv4pI │\n",
       "│ 16  │ 2     │ -0.16647  │ c      │ 2016-03-14 │ 2016-04-14 │ TKdJZ2SddY │\n",
       "│ 17  │ 5     │ 0.86743   │ d      │ 2012-09-10 │ 2012-09-26 │ 0ltwHfLBHf │\n",
       "│ 18  │ 6     │ -0.85316  │ d      │ 2018-04-12 │ 2018-05-12 │ hjkJkeasXG │"
      ]
     },
     "execution_count": 47,
     "metadata": {},
     "output_type": "execute_result"
    }
   ],
   "source": [
    "dfc"
   ]
  },
  {
   "cell_type": "code",
   "execution_count": 48,
   "metadata": {},
   "outputs": [
    {
     "data": {
      "text/plain": [
       "18-element Array{Bool,1}:\n",
       " 0\n",
       " 0\n",
       " 0\n",
       " 0\n",
       " 0\n",
       " 0\n",
       " 1\n",
       " 0\n",
       " 0\n",
       " 1\n",
       " 0\n",
       " 1\n",
       " 0\n",
       " 1\n",
       " 1\n",
       " 0\n",
       " 0\n",
       " 0"
      ]
     },
     "execution_count": 48,
     "metadata": {},
     "output_type": "execute_result"
    }
   ],
   "source": [
    "nonunique(dfc, [:v1, :v3])"
   ]
  },
  {
   "cell_type": "markdown",
   "metadata": {},
   "source": [
    "You can use the `findall` function to find the row indices that correspond to duplicates of some previous row. The first argument to `findall` is a function that returns __true__ or __false__ and the `findall` function will return the indices of second argument that result in the first argument returning a value of __true__."
   ]
  },
  {
   "cell_type": "code",
   "execution_count": 49,
   "metadata": {},
   "outputs": [
    {
     "data": {
      "text/plain": [
       "5-element Array{Int64,1}:\n",
       "  7\n",
       " 10\n",
       " 12\n",
       " 14\n",
       " 15"
      ]
     },
     "execution_count": 49,
     "metadata": {},
     "output_type": "execute_result"
    }
   ],
   "source": [
    "findall(row -> row == true, nonunique(dfc, [:v1, :v3]))"
   ]
  },
  {
   "cell_type": "markdown",
   "metadata": {},
   "source": [
    "Lastly if you need to randomly reorder the rows of data you can use the __shuffle__ function."
   ]
  },
  {
   "cell_type": "code",
   "execution_count": 50,
   "metadata": {},
   "outputs": [
    {
     "data": {
      "text/html": [
       "<table class=\"data-frame\"><thead><tr><th></th><th>v1</th><th>v2</th><th>v3</th><th>v4</th><th>v5</th><th>v6</th></tr><tr><th></th><th>Int64</th><th>Float64</th><th>String</th><th>Date</th><th>Date</th><th>String</th></tr></thead><tbody><p>18 rows × 6 columns</p><tr><th>1</th><td>6</td><td>-0.85316</td><td>d</td><td>2018-04-12</td><td>2018-05-12</td><td>hjkJkeasXG</td></tr><tr><th>2</th><td>6</td><td>-0.76691</td><td>b</td><td>2014-09-27</td><td>2014-11-27</td><td>GCMwV5msPt</td></tr><tr><th>3</th><td>6</td><td>0.04906</td><td>b</td><td>2015-07-28</td><td>2015-08-20</td><td>QE63406gEj</td></tr><tr><th>4</th><td>5</td><td>1.31946</td><td>a</td><td>2012-06-06</td><td>2012-06-12</td><td>gxeJaCvj92</td></tr><tr><th>5</th><td>3</td><td>-0.39826</td><td>a</td><td>2015-02-01</td><td>2015-07-12</td><td>UIVdF2TxWM</td></tr><tr><th>6</th><td>5</td><td>-0.02946</td><td>a</td><td>2013-07-16</td><td>2013-07-17</td><td>uLFMepv4pI</td></tr><tr><th>7</th><td>1</td><td>0.680515</td><td>a</td><td>2019-10-31</td><td>2019-11-03</td><td>IZFi329Kfs</td></tr><tr><th>8</th><td>2</td><td>0.90441</td><td>a</td><td>2018-11-12</td><td>2019-11-12</td><td>LE6qR2Q37p</td></tr><tr><th>9</th><td>2</td><td>-0.980425</td><td>a</td><td>2018-11-12</td><td>2018-12-01</td><td>ZC1tXGibbk</td></tr><tr><th>10</th><td>4</td><td>0.2167</td><td>c</td><td>2019-04-03</td><td>2019-05-01</td><td>Q23fycpFNT</td></tr><tr><th>11</th><td>3</td><td>0.35063</td><td>d</td><td>2014-08-12</td><td>2014-09-12</td><td>RUXG3N8RtF</td></tr><tr><th>12</th><td>3</td><td>0.00197</td><td>b</td><td>2011-08-12</td><td>2011-08-13</td><td>B8oAeJRvEf</td></tr><tr><th>13</th><td>4</td><td>-0.41483</td><td>c</td><td>2012-03-12</td><td>2012-08-01</td><td>0OoRG1ly8l</td></tr><tr><th>14</th><td>1</td><td>0.17141</td><td>d</td><td>2013-10-04</td><td>2013-11-14</td><td>92PkSbQonD</td></tr><tr><th>15</th><td>6</td><td>0.642345</td><td>a</td><td>2017-01-01</td><td>2017-08-01</td><td>g7PQAwGDrH</td></tr><tr><th>16</th><td>5</td><td>0.86743</td><td>d</td><td>2012-09-10</td><td>2012-09-26</td><td>0ltwHfLBHf</td></tr><tr><th>17</th><td>2</td><td>-0.16647</td><td>c</td><td>2016-03-14</td><td>2016-04-14</td><td>TKdJZ2SddY</td></tr><tr><th>18</th><td>1</td><td>0.81387</td><td>a</td><td>2014-06-24</td><td>2016-06-24</td><td>vFSFbWZBGM</td></tr></tbody></table>"
      ],
      "text/latex": [
       "\\begin{tabular}{r|cccccc}\n",
       "\t& v1 & v2 & v3 & v4 & v5 & v6\\\\\n",
       "\t\\hline\n",
       "\t& Int64 & Float64 & String & Date & Date & String\\\\\n",
       "\t\\hline\n",
       "\t1 & 6 & -0.85316 & d & 2018-04-12 & 2018-05-12 & hjkJkeasXG \\\\\n",
       "\t2 & 6 & -0.76691 & b & 2014-09-27 & 2014-11-27 & GCMwV5msPt \\\\\n",
       "\t3 & 6 & 0.04906 & b & 2015-07-28 & 2015-08-20 & QE63406gEj \\\\\n",
       "\t4 & 5 & 1.31946 & a & 2012-06-06 & 2012-06-12 & gxeJaCvj92 \\\\\n",
       "\t5 & 3 & -0.39826 & a & 2015-02-01 & 2015-07-12 & UIVdF2TxWM \\\\\n",
       "\t6 & 5 & -0.02946 & a & 2013-07-16 & 2013-07-17 & uLFMepv4pI \\\\\n",
       "\t7 & 1 & 0.680515 & a & 2019-10-31 & 2019-11-03 & IZFi329Kfs \\\\\n",
       "\t8 & 2 & 0.90441 & a & 2018-11-12 & 2019-11-12 & LE6qR2Q37p \\\\\n",
       "\t9 & 2 & -0.980425 & a & 2018-11-12 & 2018-12-01 & ZC1tXGibbk \\\\\n",
       "\t10 & 4 & 0.2167 & c & 2019-04-03 & 2019-05-01 & Q23fycpFNT \\\\\n",
       "\t11 & 3 & 0.35063 & d & 2014-08-12 & 2014-09-12 & RUXG3N8RtF \\\\\n",
       "\t12 & 3 & 0.00197 & b & 2011-08-12 & 2011-08-13 & B8oAeJRvEf \\\\\n",
       "\t13 & 4 & -0.41483 & c & 2012-03-12 & 2012-08-01 & 0OoRG1ly8l \\\\\n",
       "\t14 & 1 & 0.17141 & d & 2013-10-04 & 2013-11-14 & 92PkSbQonD \\\\\n",
       "\t15 & 6 & 0.642345 & a & 2017-01-01 & 2017-08-01 & g7PQAwGDrH \\\\\n",
       "\t16 & 5 & 0.86743 & d & 2012-09-10 & 2012-09-26 & 0ltwHfLBHf \\\\\n",
       "\t17 & 2 & -0.16647 & c & 2016-03-14 & 2016-04-14 & TKdJZ2SddY \\\\\n",
       "\t18 & 1 & 0.81387 & a & 2014-06-24 & 2016-06-24 & vFSFbWZBGM \\\\\n",
       "\\end{tabular}\n"
      ],
      "text/plain": [
       "18×6 DataFrame\n",
       "│ Row │ v1    │ v2        │ v3     │ v4         │ v5         │ v6         │\n",
       "│     │ \u001b[90mInt64\u001b[39m │ \u001b[90mFloat64\u001b[39m   │ \u001b[90mString\u001b[39m │ \u001b[90mDate\u001b[39m       │ \u001b[90mDate\u001b[39m       │ \u001b[90mString\u001b[39m     │\n",
       "├─────┼───────┼───────────┼────────┼────────────┼────────────┼────────────┤\n",
       "│ 1   │ 6     │ -0.85316  │ d      │ 2018-04-12 │ 2018-05-12 │ hjkJkeasXG │\n",
       "│ 2   │ 6     │ -0.76691  │ b      │ 2014-09-27 │ 2014-11-27 │ GCMwV5msPt │\n",
       "│ 3   │ 6     │ 0.04906   │ b      │ 2015-07-28 │ 2015-08-20 │ QE63406gEj │\n",
       "│ 4   │ 5     │ 1.31946   │ a      │ 2012-06-06 │ 2012-06-12 │ gxeJaCvj92 │\n",
       "│ 5   │ 3     │ -0.39826  │ a      │ 2015-02-01 │ 2015-07-12 │ UIVdF2TxWM │\n",
       "│ 6   │ 5     │ -0.02946  │ a      │ 2013-07-16 │ 2013-07-17 │ uLFMepv4pI │\n",
       "│ 7   │ 1     │ 0.680515  │ a      │ 2019-10-31 │ 2019-11-03 │ IZFi329Kfs │\n",
       "│ 8   │ 2     │ 0.90441   │ a      │ 2018-11-12 │ 2019-11-12 │ LE6qR2Q37p │\n",
       "│ 9   │ 2     │ -0.980425 │ a      │ 2018-11-12 │ 2018-12-01 │ ZC1tXGibbk │\n",
       "│ 10  │ 4     │ 0.2167    │ c      │ 2019-04-03 │ 2019-05-01 │ Q23fycpFNT │\n",
       "│ 11  │ 3     │ 0.35063   │ d      │ 2014-08-12 │ 2014-09-12 │ RUXG3N8RtF │\n",
       "│ 12  │ 3     │ 0.00197   │ b      │ 2011-08-12 │ 2011-08-13 │ B8oAeJRvEf │\n",
       "│ 13  │ 4     │ -0.41483  │ c      │ 2012-03-12 │ 2012-08-01 │ 0OoRG1ly8l │\n",
       "│ 14  │ 1     │ 0.17141   │ d      │ 2013-10-04 │ 2013-11-14 │ 92PkSbQonD │\n",
       "│ 15  │ 6     │ 0.642345  │ a      │ 2017-01-01 │ 2017-08-01 │ g7PQAwGDrH │\n",
       "│ 16  │ 5     │ 0.86743   │ d      │ 2012-09-10 │ 2012-09-26 │ 0ltwHfLBHf │\n",
       "│ 17  │ 2     │ -0.16647  │ c      │ 2016-03-14 │ 2016-04-14 │ TKdJZ2SddY │\n",
       "│ 18  │ 1     │ 0.81387   │ a      │ 2014-06-24 │ 2016-06-24 │ vFSFbWZBGM │"
      ]
     },
     "execution_count": 50,
     "metadata": {},
     "output_type": "execute_result"
    }
   ],
   "source": [
    "using Random\n",
    "\n",
    "dfc[shuffle(1:nrow(dfc)), :]"
   ]
  },
  {
   "cell_type": "markdown",
   "metadata": {},
   "source": [
    "### Sorting:"
   ]
  },
  {
   "cell_type": "markdown",
   "metadata": {},
   "source": [
    "Sorting allows you to order the data in different ways. Typically, you'll want to order the data with respect to a variable in the dataframe. The functions you can use for sorting are `sort` or `sort!`. The latter is the in-place version of the former."
   ]
  },
  {
   "cell_type": "code",
   "execution_count": 51,
   "metadata": {},
   "outputs": [
    {
     "data": {
      "text/html": [
       "<table class=\"data-frame\"><thead><tr><th></th><th>A</th><th>B</th><th>C</th><th>D</th></tr><tr><th></th><th>Int64</th><th>Int64</th><th>Int64</th><th>Int64</th></tr></thead><tbody><p>7 rows × 4 columns</p><tr><th>1</th><td>0</td><td>0</td><td>0</td><td>1</td></tr><tr><th>2</th><td>0</td><td>1</td><td>1</td><td>2</td></tr><tr><th>3</th><td>1</td><td>0</td><td>1</td><td>3</td></tr><tr><th>4</th><td>1</td><td>0</td><td>1</td><td>4</td></tr><tr><th>5</th><td>0</td><td>1</td><td>0</td><td>2</td></tr><tr><th>6</th><td>0</td><td>0</td><td>1</td><td>1</td></tr><tr><th>7</th><td>1</td><td>1</td><td>1</td><td>0</td></tr></tbody></table>"
      ],
      "text/latex": [
       "\\begin{tabular}{r|cccc}\n",
       "\t& A & B & C & D\\\\\n",
       "\t\\hline\n",
       "\t& Int64 & Int64 & Int64 & Int64\\\\\n",
       "\t\\hline\n",
       "\t1 & 0 & 0 & 0 & 1 \\\\\n",
       "\t2 & 0 & 1 & 1 & 2 \\\\\n",
       "\t3 & 1 & 0 & 1 & 3 \\\\\n",
       "\t4 & 1 & 0 & 1 & 4 \\\\\n",
       "\t5 & 0 & 1 & 0 & 2 \\\\\n",
       "\t6 & 0 & 0 & 1 & 1 \\\\\n",
       "\t7 & 1 & 1 & 1 & 0 \\\\\n",
       "\\end{tabular}\n"
      ],
      "text/plain": [
       "7×4 DataFrame\n",
       "│ Row │ A     │ B     │ C     │ D     │\n",
       "│     │ \u001b[90mInt64\u001b[39m │ \u001b[90mInt64\u001b[39m │ \u001b[90mInt64\u001b[39m │ \u001b[90mInt64\u001b[39m │\n",
       "├─────┼───────┼───────┼───────┼───────┤\n",
       "│ 1   │ 0     │ 0     │ 0     │ 1     │\n",
       "│ 2   │ 0     │ 1     │ 1     │ 2     │\n",
       "│ 3   │ 1     │ 0     │ 1     │ 3     │\n",
       "│ 4   │ 1     │ 0     │ 1     │ 4     │\n",
       "│ 5   │ 0     │ 1     │ 0     │ 2     │\n",
       "│ 6   │ 0     │ 0     │ 1     │ 1     │\n",
       "│ 7   │ 1     │ 1     │ 1     │ 0     │"
      ]
     },
     "execution_count": 51,
     "metadata": {},
     "output_type": "execute_result"
    }
   ],
   "source": [
    "df = DataFrame(A = [0, 0, 1, 1, 0, 0, 1], B = [0, 1, 0, 0, 1, 0, 1], \n",
    "               C = [0, 1, 1, 1, 0, 1, 1], D = [1, 2, 3, 4, 2, 1, 0])"
   ]
  },
  {
   "cell_type": "markdown",
   "metadata": {},
   "source": [
    "To check if a dataframe is sorted by columns you can use the __issorted__ function:"
   ]
  },
  {
   "cell_type": "code",
   "execution_count": 52,
   "metadata": {},
   "outputs": [
    {
     "data": {
      "text/plain": [
       "false"
      ]
     },
     "execution_count": 52,
     "metadata": {},
     "output_type": "execute_result"
    }
   ],
   "source": [
    "issorted(df)"
   ]
  },
  {
   "cell_type": "code",
   "execution_count": 53,
   "metadata": {},
   "outputs": [
    {
     "data": {
      "text/plain": [
       "false"
      ]
     },
     "execution_count": 53,
     "metadata": {},
     "output_type": "execute_result"
    }
   ],
   "source": [
    "issorted(df, :B) #checks if dataframe is sorted by column B"
   ]
  },
  {
   "cell_type": "markdown",
   "metadata": {},
   "source": [
    "Simply calling sort on your dataframe will sort the dataframe using __all__ columns of data. Specifically, it will sort by the first column, then by the second column, then by the third column, etc. In this case it sorts by <i>A</i>, <i>B</i>, <i>C</i>, and then <i>D</i>. By default the sorting is done in ascending order."
   ]
  },
  {
   "cell_type": "code",
   "execution_count": 54,
   "metadata": {},
   "outputs": [
    {
     "data": {
      "text/html": [
       "<table class=\"data-frame\"><thead><tr><th></th><th>A</th><th>B</th><th>C</th><th>D</th></tr><tr><th></th><th>Int64</th><th>Int64</th><th>Int64</th><th>Int64</th></tr></thead><tbody><p>7 rows × 4 columns</p><tr><th>1</th><td>0</td><td>0</td><td>0</td><td>1</td></tr><tr><th>2</th><td>0</td><td>0</td><td>1</td><td>1</td></tr><tr><th>3</th><td>0</td><td>1</td><td>0</td><td>2</td></tr><tr><th>4</th><td>0</td><td>1</td><td>1</td><td>2</td></tr><tr><th>5</th><td>1</td><td>0</td><td>1</td><td>3</td></tr><tr><th>6</th><td>1</td><td>0</td><td>1</td><td>4</td></tr><tr><th>7</th><td>1</td><td>1</td><td>1</td><td>0</td></tr></tbody></table>"
      ],
      "text/latex": [
       "\\begin{tabular}{r|cccc}\n",
       "\t& A & B & C & D\\\\\n",
       "\t\\hline\n",
       "\t& Int64 & Int64 & Int64 & Int64\\\\\n",
       "\t\\hline\n",
       "\t1 & 0 & 0 & 0 & 1 \\\\\n",
       "\t2 & 0 & 0 & 1 & 1 \\\\\n",
       "\t3 & 0 & 1 & 0 & 2 \\\\\n",
       "\t4 & 0 & 1 & 1 & 2 \\\\\n",
       "\t5 & 1 & 0 & 1 & 3 \\\\\n",
       "\t6 & 1 & 0 & 1 & 4 \\\\\n",
       "\t7 & 1 & 1 & 1 & 0 \\\\\n",
       "\\end{tabular}\n"
      ],
      "text/plain": [
       "7×4 DataFrame\n",
       "│ Row │ A     │ B     │ C     │ D     │\n",
       "│     │ \u001b[90mInt64\u001b[39m │ \u001b[90mInt64\u001b[39m │ \u001b[90mInt64\u001b[39m │ \u001b[90mInt64\u001b[39m │\n",
       "├─────┼───────┼───────┼───────┼───────┤\n",
       "│ 1   │ 0     │ 0     │ 0     │ 1     │\n",
       "│ 2   │ 0     │ 0     │ 1     │ 1     │\n",
       "│ 3   │ 0     │ 1     │ 0     │ 2     │\n",
       "│ 4   │ 0     │ 1     │ 1     │ 2     │\n",
       "│ 5   │ 1     │ 0     │ 1     │ 3     │\n",
       "│ 6   │ 1     │ 0     │ 1     │ 4     │\n",
       "│ 7   │ 1     │ 1     │ 1     │ 0     │"
      ]
     },
     "execution_count": 54,
     "metadata": {},
     "output_type": "execute_result"
    }
   ],
   "source": [
    "sort(df)"
   ]
  },
  {
   "cell_type": "markdown",
   "metadata": {},
   "source": [
    "To sort by specified columns you can pass the column names as parameters to the sort function. For example, here we just sort by column <i>C</i>."
   ]
  },
  {
   "cell_type": "code",
   "execution_count": 55,
   "metadata": {},
   "outputs": [
    {
     "data": {
      "text/html": [
       "<table class=\"data-frame\"><thead><tr><th></th><th>A</th><th>B</th><th>C</th><th>D</th></tr><tr><th></th><th>Int64</th><th>Int64</th><th>Int64</th><th>Int64</th></tr></thead><tbody><p>7 rows × 4 columns</p><tr><th>1</th><td>0</td><td>0</td><td>0</td><td>1</td></tr><tr><th>2</th><td>0</td><td>1</td><td>0</td><td>2</td></tr><tr><th>3</th><td>0</td><td>1</td><td>1</td><td>2</td></tr><tr><th>4</th><td>1</td><td>0</td><td>1</td><td>3</td></tr><tr><th>5</th><td>1</td><td>0</td><td>1</td><td>4</td></tr><tr><th>6</th><td>0</td><td>0</td><td>1</td><td>1</td></tr><tr><th>7</th><td>1</td><td>1</td><td>1</td><td>0</td></tr></tbody></table>"
      ],
      "text/latex": [
       "\\begin{tabular}{r|cccc}\n",
       "\t& A & B & C & D\\\\\n",
       "\t\\hline\n",
       "\t& Int64 & Int64 & Int64 & Int64\\\\\n",
       "\t\\hline\n",
       "\t1 & 0 & 0 & 0 & 1 \\\\\n",
       "\t2 & 0 & 1 & 0 & 2 \\\\\n",
       "\t3 & 0 & 1 & 1 & 2 \\\\\n",
       "\t4 & 1 & 0 & 1 & 3 \\\\\n",
       "\t5 & 1 & 0 & 1 & 4 \\\\\n",
       "\t6 & 0 & 0 & 1 & 1 \\\\\n",
       "\t7 & 1 & 1 & 1 & 0 \\\\\n",
       "\\end{tabular}\n"
      ],
      "text/plain": [
       "7×4 DataFrame\n",
       "│ Row │ A     │ B     │ C     │ D     │\n",
       "│     │ \u001b[90mInt64\u001b[39m │ \u001b[90mInt64\u001b[39m │ \u001b[90mInt64\u001b[39m │ \u001b[90mInt64\u001b[39m │\n",
       "├─────┼───────┼───────┼───────┼───────┤\n",
       "│ 1   │ 0     │ 0     │ 0     │ 1     │\n",
       "│ 2   │ 0     │ 1     │ 0     │ 2     │\n",
       "│ 3   │ 0     │ 1     │ 1     │ 2     │\n",
       "│ 4   │ 1     │ 0     │ 1     │ 3     │\n",
       "│ 5   │ 1     │ 0     │ 1     │ 4     │\n",
       "│ 6   │ 0     │ 0     │ 1     │ 1     │\n",
       "│ 7   │ 1     │ 1     │ 1     │ 0     │"
      ]
     },
     "execution_count": 55,
     "metadata": {},
     "output_type": "execute_result"
    }
   ],
   "source": [
    "sort(df, :C)"
   ]
  },
  {
   "cell_type": "markdown",
   "metadata": {},
   "source": [
    "If we wanted order first by column <i>C</i> and then by column <i>A</i> you would specify both variables in an array."
   ]
  },
  {
   "cell_type": "code",
   "execution_count": 56,
   "metadata": {},
   "outputs": [
    {
     "data": {
      "text/html": [
       "<table class=\"data-frame\"><thead><tr><th></th><th>A</th><th>B</th><th>C</th><th>D</th></tr><tr><th></th><th>Int64</th><th>Int64</th><th>Int64</th><th>Int64</th></tr></thead><tbody><p>7 rows × 4 columns</p><tr><th>1</th><td>0</td><td>0</td><td>0</td><td>1</td></tr><tr><th>2</th><td>0</td><td>1</td><td>0</td><td>2</td></tr><tr><th>3</th><td>0</td><td>1</td><td>1</td><td>2</td></tr><tr><th>4</th><td>0</td><td>0</td><td>1</td><td>1</td></tr><tr><th>5</th><td>1</td><td>0</td><td>1</td><td>3</td></tr><tr><th>6</th><td>1</td><td>0</td><td>1</td><td>4</td></tr><tr><th>7</th><td>1</td><td>1</td><td>1</td><td>0</td></tr></tbody></table>"
      ],
      "text/latex": [
       "\\begin{tabular}{r|cccc}\n",
       "\t& A & B & C & D\\\\\n",
       "\t\\hline\n",
       "\t& Int64 & Int64 & Int64 & Int64\\\\\n",
       "\t\\hline\n",
       "\t1 & 0 & 0 & 0 & 1 \\\\\n",
       "\t2 & 0 & 1 & 0 & 2 \\\\\n",
       "\t3 & 0 & 1 & 1 & 2 \\\\\n",
       "\t4 & 0 & 0 & 1 & 1 \\\\\n",
       "\t5 & 1 & 0 & 1 & 3 \\\\\n",
       "\t6 & 1 & 0 & 1 & 4 \\\\\n",
       "\t7 & 1 & 1 & 1 & 0 \\\\\n",
       "\\end{tabular}\n"
      ],
      "text/plain": [
       "7×4 DataFrame\n",
       "│ Row │ A     │ B     │ C     │ D     │\n",
       "│     │ \u001b[90mInt64\u001b[39m │ \u001b[90mInt64\u001b[39m │ \u001b[90mInt64\u001b[39m │ \u001b[90mInt64\u001b[39m │\n",
       "├─────┼───────┼───────┼───────┼───────┤\n",
       "│ 1   │ 0     │ 0     │ 0     │ 1     │\n",
       "│ 2   │ 0     │ 1     │ 0     │ 2     │\n",
       "│ 3   │ 0     │ 1     │ 1     │ 2     │\n",
       "│ 4   │ 0     │ 0     │ 1     │ 1     │\n",
       "│ 5   │ 1     │ 0     │ 1     │ 3     │\n",
       "│ 6   │ 1     │ 0     │ 1     │ 4     │\n",
       "│ 7   │ 1     │ 1     │ 1     │ 0     │"
      ]
     },
     "execution_count": 56,
     "metadata": {},
     "output_type": "execute_result"
    }
   ],
   "source": [
    "sort(df, [:C, :A])"
   ]
  },
  {
   "cell_type": "markdown",
   "metadata": {},
   "source": [
    "As mentioned above, sorting by default is done in ascending order. However, you can change this via the __rev__ keyword argument. For example, if we wanted to sort **df** by column <i>D</i> in descending order we would set `rev` to true."
   ]
  },
  {
   "cell_type": "code",
   "execution_count": 57,
   "metadata": {},
   "outputs": [
    {
     "data": {
      "text/html": [
       "<table class=\"data-frame\"><thead><tr><th></th><th>A</th><th>B</th><th>C</th><th>D</th></tr><tr><th></th><th>Int64</th><th>Int64</th><th>Int64</th><th>Int64</th></tr></thead><tbody><p>7 rows × 4 columns</p><tr><th>1</th><td>1</td><td>0</td><td>1</td><td>4</td></tr><tr><th>2</th><td>1</td><td>0</td><td>1</td><td>3</td></tr><tr><th>3</th><td>0</td><td>1</td><td>1</td><td>2</td></tr><tr><th>4</th><td>0</td><td>1</td><td>0</td><td>2</td></tr><tr><th>5</th><td>0</td><td>0</td><td>0</td><td>1</td></tr><tr><th>6</th><td>0</td><td>0</td><td>1</td><td>1</td></tr><tr><th>7</th><td>1</td><td>1</td><td>1</td><td>0</td></tr></tbody></table>"
      ],
      "text/latex": [
       "\\begin{tabular}{r|cccc}\n",
       "\t& A & B & C & D\\\\\n",
       "\t\\hline\n",
       "\t& Int64 & Int64 & Int64 & Int64\\\\\n",
       "\t\\hline\n",
       "\t1 & 1 & 0 & 1 & 4 \\\\\n",
       "\t2 & 1 & 0 & 1 & 3 \\\\\n",
       "\t3 & 0 & 1 & 1 & 2 \\\\\n",
       "\t4 & 0 & 1 & 0 & 2 \\\\\n",
       "\t5 & 0 & 0 & 0 & 1 \\\\\n",
       "\t6 & 0 & 0 & 1 & 1 \\\\\n",
       "\t7 & 1 & 1 & 1 & 0 \\\\\n",
       "\\end{tabular}\n"
      ],
      "text/plain": [
       "7×4 DataFrame\n",
       "│ Row │ A     │ B     │ C     │ D     │\n",
       "│     │ \u001b[90mInt64\u001b[39m │ \u001b[90mInt64\u001b[39m │ \u001b[90mInt64\u001b[39m │ \u001b[90mInt64\u001b[39m │\n",
       "├─────┼───────┼───────┼───────┼───────┤\n",
       "│ 1   │ 1     │ 0     │ 1     │ 4     │\n",
       "│ 2   │ 1     │ 0     │ 1     │ 3     │\n",
       "│ 3   │ 0     │ 1     │ 1     │ 2     │\n",
       "│ 4   │ 0     │ 1     │ 0     │ 2     │\n",
       "│ 5   │ 0     │ 0     │ 0     │ 1     │\n",
       "│ 6   │ 0     │ 0     │ 1     │ 1     │\n",
       "│ 7   │ 1     │ 1     │ 1     │ 0     │"
      ]
     },
     "execution_count": 57,
     "metadata": {},
     "output_type": "execute_result"
    }
   ],
   "source": [
    "sort(df, :D, rev=true)"
   ]
  },
  {
   "cell_type": "markdown",
   "metadata": {},
   "source": [
    "If sorting by two or more column variables you can specify how each column should be sorted, i.e. ascending or descending. Here we'll sort by the variables <i>D</i> and <i>C</i>, but <i>D</i> will be sorted in descending order and <i>C</i> in ascending order."
   ]
  },
  {
   "cell_type": "code",
   "execution_count": 58,
   "metadata": {},
   "outputs": [
    {
     "name": "stderr",
     "output_type": "stream",
     "text": [
      "┌ Warning: Passing a tuple (:D, :C) of column selectors when sorting data frame is deprecated. Pass a vector Symbol[:D, :C] instead.\n",
      "│   caller = #sort#500(::Nothing, ::Function, ::Function, ::Tuple{Bool,Bool}, ::Base.Order.ForwardOrdering, ::typeof(sort), ::DataFrame, ::Tuple{Symbol,Symbol}) at sort.jl:353\n",
      "└ @ DataFrames /nas/longleaf/apps/julia/1.3.0/share/julia/packages/DataFrames/lfoTw/src/abstractdataframe/sort.jl:353\n"
     ]
    },
    {
     "data": {
      "text/html": [
       "<table class=\"data-frame\"><thead><tr><th></th><th>A</th><th>B</th><th>C</th><th>D</th></tr><tr><th></th><th>Int64</th><th>Int64</th><th>Int64</th><th>Int64</th></tr></thead><tbody><p>7 rows × 4 columns</p><tr><th>1</th><td>1</td><td>0</td><td>1</td><td>4</td></tr><tr><th>2</th><td>1</td><td>0</td><td>1</td><td>3</td></tr><tr><th>3</th><td>0</td><td>1</td><td>0</td><td>2</td></tr><tr><th>4</th><td>0</td><td>1</td><td>1</td><td>2</td></tr><tr><th>5</th><td>0</td><td>0</td><td>0</td><td>1</td></tr><tr><th>6</th><td>0</td><td>0</td><td>1</td><td>1</td></tr><tr><th>7</th><td>1</td><td>1</td><td>1</td><td>0</td></tr></tbody></table>"
      ],
      "text/latex": [
       "\\begin{tabular}{r|cccc}\n",
       "\t& A & B & C & D\\\\\n",
       "\t\\hline\n",
       "\t& Int64 & Int64 & Int64 & Int64\\\\\n",
       "\t\\hline\n",
       "\t1 & 1 & 0 & 1 & 4 \\\\\n",
       "\t2 & 1 & 0 & 1 & 3 \\\\\n",
       "\t3 & 0 & 1 & 0 & 2 \\\\\n",
       "\t4 & 0 & 1 & 1 & 2 \\\\\n",
       "\t5 & 0 & 0 & 0 & 1 \\\\\n",
       "\t6 & 0 & 0 & 1 & 1 \\\\\n",
       "\t7 & 1 & 1 & 1 & 0 \\\\\n",
       "\\end{tabular}\n"
      ],
      "text/plain": [
       "7×4 DataFrame\n",
       "│ Row │ A     │ B     │ C     │ D     │\n",
       "│     │ \u001b[90mInt64\u001b[39m │ \u001b[90mInt64\u001b[39m │ \u001b[90mInt64\u001b[39m │ \u001b[90mInt64\u001b[39m │\n",
       "├─────┼───────┼───────┼───────┼───────┤\n",
       "│ 1   │ 1     │ 0     │ 1     │ 4     │\n",
       "│ 2   │ 1     │ 0     │ 1     │ 3     │\n",
       "│ 3   │ 0     │ 1     │ 0     │ 2     │\n",
       "│ 4   │ 0     │ 1     │ 1     │ 2     │\n",
       "│ 5   │ 0     │ 0     │ 0     │ 1     │\n",
       "│ 6   │ 0     │ 0     │ 1     │ 1     │\n",
       "│ 7   │ 1     │ 1     │ 1     │ 0     │"
      ]
     },
     "execution_count": 58,
     "metadata": {},
     "output_type": "execute_result"
    }
   ],
   "source": [
    "sort(df, (:D, :C), rev = (true, false))"
   ]
  },
  {
   "cell_type": "markdown",
   "metadata": {},
   "source": [
    "### Categorical variables:"
   ]
  },
  {
   "cell_type": "code",
   "execution_count": 59,
   "metadata": {},
   "outputs": [
    {
     "data": {
      "text/html": [
       "<table class=\"data-frame\"><thead><tr><th></th><th>A</th><th>B</th><th>C</th><th>D</th></tr><tr><th></th><th>Int64</th><th>Int64</th><th>Int64</th><th>Int64</th></tr></thead><tbody><p>7 rows × 4 columns</p><tr><th>1</th><td>0</td><td>0</td><td>0</td><td>1</td></tr><tr><th>2</th><td>0</td><td>1</td><td>1</td><td>2</td></tr><tr><th>3</th><td>1</td><td>0</td><td>1</td><td>3</td></tr><tr><th>4</th><td>1</td><td>0</td><td>1</td><td>4</td></tr><tr><th>5</th><td>0</td><td>1</td><td>0</td><td>2</td></tr><tr><th>6</th><td>0</td><td>0</td><td>1</td><td>1</td></tr><tr><th>7</th><td>1</td><td>1</td><td>1</td><td>0</td></tr></tbody></table>"
      ],
      "text/latex": [
       "\\begin{tabular}{r|cccc}\n",
       "\t& A & B & C & D\\\\\n",
       "\t\\hline\n",
       "\t& Int64 & Int64 & Int64 & Int64\\\\\n",
       "\t\\hline\n",
       "\t1 & 0 & 0 & 0 & 1 \\\\\n",
       "\t2 & 0 & 1 & 1 & 2 \\\\\n",
       "\t3 & 1 & 0 & 1 & 3 \\\\\n",
       "\t4 & 1 & 0 & 1 & 4 \\\\\n",
       "\t5 & 0 & 1 & 0 & 2 \\\\\n",
       "\t6 & 0 & 0 & 1 & 1 \\\\\n",
       "\t7 & 1 & 1 & 1 & 0 \\\\\n",
       "\\end{tabular}\n"
      ],
      "text/plain": [
       "7×4 DataFrame\n",
       "│ Row │ A     │ B     │ C     │ D     │\n",
       "│     │ \u001b[90mInt64\u001b[39m │ \u001b[90mInt64\u001b[39m │ \u001b[90mInt64\u001b[39m │ \u001b[90mInt64\u001b[39m │\n",
       "├─────┼───────┼───────┼───────┼───────┤\n",
       "│ 1   │ 0     │ 0     │ 0     │ 1     │\n",
       "│ 2   │ 0     │ 1     │ 1     │ 2     │\n",
       "│ 3   │ 1     │ 0     │ 1     │ 3     │\n",
       "│ 4   │ 1     │ 0     │ 1     │ 4     │\n",
       "│ 5   │ 0     │ 1     │ 0     │ 2     │\n",
       "│ 6   │ 0     │ 0     │ 1     │ 1     │\n",
       "│ 7   │ 1     │ 1     │ 1     │ 0     │"
      ]
     },
     "execution_count": 59,
     "metadata": {},
     "output_type": "execute_result"
    }
   ],
   "source": [
    "df = DataFrame(A = [0, 0, 1, 1, 0, 0, 1], B = [0, 1, 0, 0, 1, 0, 1], \n",
    "               C = [0, 1, 1, 1, 0, 1, 1], D = [1, 2, 3, 4, 2, 1, 0])"
   ]
  },
  {
   "cell_type": "markdown",
   "metadata": {},
   "source": [
    "Some of the variables in a dataframe may take on values that represent categories, i.e. categorical, ordinal, etc. variables."
   ]
  },
  {
   "cell_type": "markdown",
   "metadata": {},
   "source": [
    "Let's add a categorial variable called <i>t</i> to the **df** dataframe."
   ]
  },
  {
   "cell_type": "code",
   "execution_count": 60,
   "metadata": {},
   "outputs": [],
   "source": [
    "df.t = [\"High\", \"High\", \"High\", \"Low\", \"Low\", \"Medium\", \"Medium\"];"
   ]
  },
  {
   "cell_type": "markdown",
   "metadata": {},
   "source": [
    "As you can see the <i>t</i> variable is an array with element type **String**. So there is no notion of this variable having levels or being categorical."
   ]
  },
  {
   "cell_type": "code",
   "execution_count": 61,
   "metadata": {},
   "outputs": [
    {
     "data": {
      "text/plain": [
       "Array{String,1}"
      ]
     },
     "execution_count": 61,
     "metadata": {},
     "output_type": "execute_result"
    }
   ],
   "source": [
    "typeof(df.t)"
   ]
  },
  {
   "cell_type": "markdown",
   "metadata": {},
   "source": [
    "In Julia you can work with categorical types via the __CategoricalArrays__ package."
   ]
  },
  {
   "cell_type": "code",
   "execution_count": 62,
   "metadata": {},
   "outputs": [],
   "source": [
    "using CategoricalArrays"
   ]
  },
  {
   "cell_type": "markdown",
   "metadata": {},
   "source": [
    "If you have an existing dataframe and want to convert a variable to be categorical you can use the `categorical!` function passing the name of the dataframe and variable to be converted. The non in-place version of this operation is `categorical`."
   ]
  },
  {
   "cell_type": "code",
   "execution_count": 63,
   "metadata": {},
   "outputs": [
    {
     "data": {
      "text/html": [
       "<table class=\"data-frame\"><thead><tr><th></th><th>A</th><th>B</th><th>C</th><th>D</th><th>t</th></tr><tr><th></th><th>Int64</th><th>Int64</th><th>Int64</th><th>Int64</th><th>Cat…</th></tr></thead><tbody><p>7 rows × 5 columns</p><tr><th>1</th><td>0</td><td>0</td><td>0</td><td>1</td><td>High</td></tr><tr><th>2</th><td>0</td><td>1</td><td>1</td><td>2</td><td>High</td></tr><tr><th>3</th><td>1</td><td>0</td><td>1</td><td>3</td><td>High</td></tr><tr><th>4</th><td>1</td><td>0</td><td>1</td><td>4</td><td>Low</td></tr><tr><th>5</th><td>0</td><td>1</td><td>0</td><td>2</td><td>Low</td></tr><tr><th>6</th><td>0</td><td>0</td><td>1</td><td>1</td><td>Medium</td></tr><tr><th>7</th><td>1</td><td>1</td><td>1</td><td>0</td><td>Medium</td></tr></tbody></table>"
      ],
      "text/latex": [
       "\\begin{tabular}{r|ccccc}\n",
       "\t& A & B & C & D & t\\\\\n",
       "\t\\hline\n",
       "\t& Int64 & Int64 & Int64 & Int64 & Cat…\\\\\n",
       "\t\\hline\n",
       "\t1 & 0 & 0 & 0 & 1 & High \\\\\n",
       "\t2 & 0 & 1 & 1 & 2 & High \\\\\n",
       "\t3 & 1 & 0 & 1 & 3 & High \\\\\n",
       "\t4 & 1 & 0 & 1 & 4 & Low \\\\\n",
       "\t5 & 0 & 1 & 0 & 2 & Low \\\\\n",
       "\t6 & 0 & 0 & 1 & 1 & Medium \\\\\n",
       "\t7 & 1 & 1 & 1 & 0 & Medium \\\\\n",
       "\\end{tabular}\n"
      ],
      "text/plain": [
       "7×5 DataFrame\n",
       "│ Row │ A     │ B     │ C     │ D     │ t      │\n",
       "│     │ \u001b[90mInt64\u001b[39m │ \u001b[90mInt64\u001b[39m │ \u001b[90mInt64\u001b[39m │ \u001b[90mInt64\u001b[39m │ \u001b[90mCat…\u001b[39m   │\n",
       "├─────┼───────┼───────┼───────┼───────┼────────┤\n",
       "│ 1   │ 0     │ 0     │ 0     │ 1     │ High   │\n",
       "│ 2   │ 0     │ 1     │ 1     │ 2     │ High   │\n",
       "│ 3   │ 1     │ 0     │ 1     │ 3     │ High   │\n",
       "│ 4   │ 1     │ 0     │ 1     │ 4     │ Low    │\n",
       "│ 5   │ 0     │ 1     │ 0     │ 2     │ Low    │\n",
       "│ 6   │ 0     │ 0     │ 1     │ 1     │ Medium │\n",
       "│ 7   │ 1     │ 1     │ 1     │ 0     │ Medium │"
      ]
     },
     "execution_count": 63,
     "metadata": {},
     "output_type": "execute_result"
    }
   ],
   "source": [
    "categorical!(df, :t)"
   ]
  },
  {
   "cell_type": "code",
   "execution_count": 64,
   "metadata": {},
   "outputs": [
    {
     "data": {
      "text/plain": [
       "CategoricalArray{String,1,UInt32,String,CategoricalValue{String,UInt32},Union{}}"
      ]
     },
     "execution_count": 64,
     "metadata": {},
     "output_type": "execute_result"
    }
   ],
   "source": [
    "typeof(df.t)"
   ]
  },
  {
   "cell_type": "markdown",
   "metadata": {},
   "source": [
    "You can see what the levels of a categorical variables are:"
   ]
  },
  {
   "cell_type": "code",
   "execution_count": 65,
   "metadata": {},
   "outputs": [
    {
     "data": {
      "text/plain": [
       "3-element Array{String,1}:\n",
       " \"High\"  \n",
       " \"Low\"   \n",
       " \"Medium\""
      ]
     },
     "execution_count": 65,
     "metadata": {},
     "output_type": "execute_result"
    }
   ],
   "source": [
    "levels(df.t)"
   ]
  },
  {
   "cell_type": "markdown",
   "metadata": {},
   "source": [
    "We can also verify that this categorical variable has no ordering:"
   ]
  },
  {
   "cell_type": "code",
   "execution_count": 66,
   "metadata": {},
   "outputs": [
    {
     "data": {
      "text/plain": [
       "false"
      ]
     },
     "execution_count": 66,
     "metadata": {},
     "output_type": "execute_result"
    }
   ],
   "source": [
    "isordered(df.t)"
   ]
  },
  {
   "cell_type": "markdown",
   "metadata": {},
   "source": [
    "If we want we can impose an ordering on the variable <i>t</i>, e.g. Low < Medium < High. The default ordering is based on the current output of the `levels` command, i.e. the ordering will be High < Low < Medium. If we want the former we can change the order using the `levels!` function. The first argument is the categorical variable and the second is the desired ordering."
   ]
  },
  {
   "cell_type": "code",
   "execution_count": 67,
   "metadata": {},
   "outputs": [],
   "source": [
    "levels!(df.t, [\"Low\", \"Medium\", \"High\"]);"
   ]
  },
  {
   "cell_type": "code",
   "execution_count": 68,
   "metadata": {},
   "outputs": [
    {
     "data": {
      "text/plain": [
       "3-element Array{String,1}:\n",
       " \"Low\"   \n",
       " \"Medium\"\n",
       " \"High\"  "
      ]
     },
     "execution_count": 68,
     "metadata": {},
     "output_type": "execute_result"
    }
   ],
   "source": [
    "levels(df.t)"
   ]
  },
  {
   "cell_type": "markdown",
   "metadata": {},
   "source": [
    "Now we can use the `ordered!` function to impose an ordering on the <i>t</i> column variable. The result of the `ordered!` function is based on the output of the `levels` command."
   ]
  },
  {
   "cell_type": "code",
   "execution_count": 69,
   "metadata": {},
   "outputs": [],
   "source": [
    "ordered!(df.t, true);"
   ]
  },
  {
   "cell_type": "code",
   "execution_count": 70,
   "metadata": {},
   "outputs": [
    {
     "data": {
      "text/plain": [
       "true"
      ]
     },
     "execution_count": 70,
     "metadata": {},
     "output_type": "execute_result"
    }
   ],
   "source": [
    "isordered(df.t)"
   ]
  },
  {
   "cell_type": "markdown",
   "metadata": {},
   "source": [
    "Now with respect to the <i>t</i> column variable, Low < Medium < High."
   ]
  },
  {
   "cell_type": "code",
   "execution_count": 71,
   "metadata": {},
   "outputs": [
    {
     "data": {
      "text/plain": [
       "CategoricalValue{String,UInt32} \"High\" (3/3)"
      ]
     },
     "execution_count": 71,
     "metadata": {},
     "output_type": "execute_result"
    }
   ],
   "source": [
    "df.t[1]"
   ]
  },
  {
   "cell_type": "code",
   "execution_count": 72,
   "metadata": {},
   "outputs": [
    {
     "data": {
      "text/plain": [
       "CategoricalValue{String,UInt32} \"Low\" (1/3)"
      ]
     },
     "execution_count": 72,
     "metadata": {},
     "output_type": "execute_result"
    }
   ],
   "source": [
    "df.t[4]"
   ]
  },
  {
   "cell_type": "code",
   "execution_count": 73,
   "metadata": {},
   "outputs": [
    {
     "data": {
      "text/plain": [
       "false"
      ]
     },
     "execution_count": 73,
     "metadata": {},
     "output_type": "execute_result"
    }
   ],
   "source": [
    "df.t[1] < df.t[4]"
   ]
  },
  {
   "cell_type": "markdown",
   "metadata": {},
   "source": [
    "In this lesson we covered:\n",
    "* Column operations such as creating new columns, selecting columns, renaming columns, etc.\n",
    "* Row operations including subsetting rows, filtering, and identifying duplicate rows.\n",
    "* Sorting dataframes.\n",
    "* Categorical data."
   ]
  }
 ],
 "metadata": {
  "@webio": {
   "lastCommId": null,
   "lastKernelId": null
  },
  "kernelspec": {
   "display_name": "Julia 1.3.0",
   "language": "julia",
   "name": "julia-1.3"
  },
  "language_info": {
   "file_extension": ".jl",
   "mimetype": "application/julia",
   "name": "julia",
   "version": "1.3.0"
  }
 },
 "nbformat": 4,
 "nbformat_minor": 2
}
