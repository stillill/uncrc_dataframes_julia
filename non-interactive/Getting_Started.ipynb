{
 "cells": [
  {
   "cell_type": "markdown",
   "metadata": {},
   "source": [
    "# Outline"
   ]
  },
  {
   "cell_type": "markdown",
   "metadata": {},
   "source": [
    "The Julia DataFrames package is a handy package for working with and manipulating tabular data in Julia. It's well suited for working with data where the columns are of different types, i.e. heterogeneous data, and when the dataset can fit in memory. It can be used to perform a variety of data manipulation operations such as subsetting rows, selecting columns, performing aggregations by group, joining, etc. We will explore doing all of these things and more."
   ]
  },
  {
   "cell_type": "markdown",
   "metadata": {},
   "source": [
    "What we'll be covering today:\n",
    "\n",
    "#### I. Getting started\n",
    "#### II. Working with dataframes\n",
    "#### III. Joining and concatenating\n",
    "#### IV. Handling missing values\n",
    "#### V. Split-apply-combine\n",
    "#### VI. Using Query.jl"
   ]
  },
  {
   "cell_type": "markdown",
   "metadata": {},
   "source": [
    "# I. Getting started"
   ]
  },
  {
   "cell_type": "code",
   "execution_count": 1,
   "metadata": {},
   "outputs": [],
   "source": [
    "#To install\n",
    "#using Pkg\n",
    "#Pkg.add(\"DataFrames\")"
   ]
  },
  {
   "cell_type": "code",
   "execution_count": 2,
   "metadata": {},
   "outputs": [],
   "source": [
    "#To load the DataFrames package once installed\n",
    "using DataFrames"
   ]
  },
  {
   "cell_type": "markdown",
   "metadata": {},
   "source": [
    "### Dataframes fundamentals:"
   ]
  },
  {
   "cell_type": "markdown",
   "metadata": {},
   "source": [
    "The basic data structure you will be working with is the **DataFrame**. This type is defined in the DataFrames package. In this section we'll see a few different ways of manually creating dataframes using the DataFrame constructor. You'll rarely use this constructor directly to create your dataframes, except for maybe testing out ideas, but it's good to have an understanding of how to do this.\n",
    "\n",
    "\n",
    "Let's start by creating a DataFrame explicitly using keyword arguments. We'll create a small dataframe **df** with five columns named <i>A</i> , <i>B</i>, <i>C</i>, <i>D</i>, and <i>E</i>."
   ]
  },
  {
   "cell_type": "code",
   "execution_count": 3,
   "metadata": {},
   "outputs": [],
   "source": [
    "using Random"
   ]
  },
  {
   "cell_type": "code",
   "execution_count": 4,
   "metadata": {},
   "outputs": [
    {
     "data": {
      "text/html": [
       "<table class=\"data-frame\"><thead><tr><th></th><th>B</th><th>C</th><th>A</th><th>D</th><th>E</th></tr><tr><th></th><th>Int64</th><th>Int64</th><th>Int64</th><th>String</th><th>Int64</th></tr></thead><tbody><p>4 rows × 5 columns</p><tr><th>1</th><td>0</td><td>0</td><td>0</td><td>krLzKYfPX</td><td>1</td></tr><tr><th>2</th><td>1</td><td>0</td><td>1</td><td>q7H41ej3q</td><td>2</td></tr><tr><th>3</th><td>1</td><td>1</td><td>0</td><td>nAToTQrKJ</td><td>3</td></tr><tr><th>4</th><td>0</td><td>1</td><td>1</td><td>bzm87wkyC</td><td>4</td></tr></tbody></table>"
      ],
      "text/latex": [
       "\\begin{tabular}{r|ccccc}\n",
       "\t& B & C & A & D & E\\\\\n",
       "\t\\hline\n",
       "\t& Int64 & Int64 & Int64 & String & Int64\\\\\n",
       "\t\\hline\n",
       "\t1 & 0 & 0 & 0 & krLzKYfPX & 1 \\\\\n",
       "\t2 & 1 & 0 & 1 & q7H41ej3q & 2 \\\\\n",
       "\t3 & 1 & 1 & 0 & nAToTQrKJ & 3 \\\\\n",
       "\t4 & 0 & 1 & 1 & bzm87wkyC & 4 \\\\\n",
       "\\end{tabular}\n"
      ],
      "text/plain": [
       "4×5 DataFrame\n",
       "│ Row │ B     │ C     │ A     │ D         │ E     │\n",
       "│     │ \u001b[90mInt64\u001b[39m │ \u001b[90mInt64\u001b[39m │ \u001b[90mInt64\u001b[39m │ \u001b[90mString\u001b[39m    │ \u001b[90mInt64\u001b[39m │\n",
       "├─────┼───────┼───────┼───────┼───────────┼───────┤\n",
       "│ 1   │ 0     │ 0     │ 0     │ krLzKYfPX │ 1     │\n",
       "│ 2   │ 1     │ 0     │ 1     │ q7H41ej3q │ 2     │\n",
       "│ 3   │ 1     │ 1     │ 0     │ nAToTQrKJ │ 3     │\n",
       "│ 4   │ 0     │ 1     │ 1     │ bzm87wkyC │ 4     │"
      ]
     },
     "execution_count": 4,
     "metadata": {},
     "output_type": "execute_result"
    }
   ],
   "source": [
    "df = DataFrame(B = [0, 1, 1, 0], C = [0, 0, 1, 1], A = [0, 1, 0, 1], D = [randstring(9) for j in 1:4], E = 1:4)"
   ]
  },
  {
   "cell_type": "code",
   "execution_count": 5,
   "metadata": {},
   "outputs": [
    {
     "data": {
      "text/plain": [
       "DataFrame"
      ]
     },
     "execution_count": 5,
     "metadata": {},
     "output_type": "execute_result"
    }
   ],
   "source": [
    "typeof(df)"
   ]
  },
  {
   "cell_type": "markdown",
   "metadata": {},
   "source": [
    "Note that column names in Julia are actually **Symbols** and not **Strings**. In Julia, symbols are prefixed with \":\" which is how you can tell that an object is a symbol. Also notice that Julia has typed each colulmn."
   ]
  },
  {
   "cell_type": "markdown",
   "metadata": {},
   "source": [
    "For us it's not too important to know what a symbol is exactly in Julia. You just need to be aware that when referring to columns in your dataframes you will need to refer to the column names as symbols (using the symbol notation) and not strings."
   ]
  },
  {
   "cell_type": "markdown",
   "metadata": {},
   "source": [
    "You can initialize an empty dataframe using the `DataFrame()` constructor and then build it up using a dictionary or by arbitrarily adding columns. In this case you pass the dictionary as an argument to the `DataFrame()` constructor."
   ]
  },
  {
   "cell_type": "code",
   "execution_count": 6,
   "metadata": {},
   "outputs": [],
   "source": [
    "df = DataFrame(); #initialize an empty dataframe"
   ]
  },
  {
   "cell_type": "code",
   "execution_count": 7,
   "metadata": {},
   "outputs": [
    {
     "data": {
      "text/plain": [
       "Dict{String,AbstractArray{T,1} where T} with 5 entries:\n",
       "  \"B\" => [0, 1, 1, 0]\n",
       "  \"A\" => [0, 1, 0, 1]\n",
       "  \"C\" => [0, 0, 1, 1]\n",
       "  \"D\" => [\"ZMRDwcRv1\", \"QG6vAsCWY\", \"SlBocwMeI\", \"zYajYbiII\"]\n",
       "  \"E\" => 1:4"
      ]
     },
     "execution_count": 7,
     "metadata": {},
     "output_type": "execute_result"
    }
   ],
   "source": [
    "d = Dict(\"A\" => [0, 1, 0, 1], \"B\" => [0, 1, 1, 0], \"C\" => [0, 0, 1, 1], \"D\" => [randstring(9) for j in 1:4], \n",
    "    \"E\" => 1:4)"
   ]
  },
  {
   "cell_type": "code",
   "execution_count": 8,
   "metadata": {},
   "outputs": [
    {
     "data": {
      "text/html": [
       "<table class=\"data-frame\"><thead><tr><th></th><th>A</th><th>B</th><th>C</th><th>D</th><th>E</th></tr><tr><th></th><th>Int64</th><th>Int64</th><th>Int64</th><th>String</th><th>Int64</th></tr></thead><tbody><p>4 rows × 5 columns</p><tr><th>1</th><td>0</td><td>0</td><td>0</td><td>ZMRDwcRv1</td><td>1</td></tr><tr><th>2</th><td>1</td><td>1</td><td>0</td><td>QG6vAsCWY</td><td>2</td></tr><tr><th>3</th><td>0</td><td>1</td><td>1</td><td>SlBocwMeI</td><td>3</td></tr><tr><th>4</th><td>1</td><td>0</td><td>1</td><td>zYajYbiII</td><td>4</td></tr></tbody></table>"
      ],
      "text/latex": [
       "\\begin{tabular}{r|ccccc}\n",
       "\t& A & B & C & D & E\\\\\n",
       "\t\\hline\n",
       "\t& Int64 & Int64 & Int64 & String & Int64\\\\\n",
       "\t\\hline\n",
       "\t1 & 0 & 0 & 0 & ZMRDwcRv1 & 1 \\\\\n",
       "\t2 & 1 & 1 & 0 & QG6vAsCWY & 2 \\\\\n",
       "\t3 & 0 & 1 & 1 & SlBocwMeI & 3 \\\\\n",
       "\t4 & 1 & 0 & 1 & zYajYbiII & 4 \\\\\n",
       "\\end{tabular}\n"
      ],
      "text/plain": [
       "4×5 DataFrame\n",
       "│ Row │ A     │ B     │ C     │ D         │ E     │\n",
       "│     │ \u001b[90mInt64\u001b[39m │ \u001b[90mInt64\u001b[39m │ \u001b[90mInt64\u001b[39m │ \u001b[90mString\u001b[39m    │ \u001b[90mInt64\u001b[39m │\n",
       "├─────┼───────┼───────┼───────┼───────────┼───────┤\n",
       "│ 1   │ 0     │ 0     │ 0     │ ZMRDwcRv1 │ 1     │\n",
       "│ 2   │ 1     │ 1     │ 0     │ QG6vAsCWY │ 2     │\n",
       "│ 3   │ 0     │ 1     │ 1     │ SlBocwMeI │ 3     │\n",
       "│ 4   │ 1     │ 0     │ 1     │ zYajYbiII │ 4     │"
      ]
     },
     "execution_count": 8,
     "metadata": {},
     "output_type": "execute_result"
    }
   ],
   "source": [
    "df = DataFrame(d)"
   ]
  },
  {
   "cell_type": "markdown",
   "metadata": {},
   "source": [
    "The following syntax also works where you pass the dataframe constructor a comma-separated list of **Pairs** where the first element of each pair is a **Symbol** that refers to the column and the second element are the values. Note with this method the order in which the columns were passed was maintained in the resulting dataframe."
   ]
  },
  {
   "cell_type": "code",
   "execution_count": 9,
   "metadata": {},
   "outputs": [
    {
     "data": {
      "text/html": [
       "<table class=\"data-frame\"><thead><tr><th></th><th>B</th><th>A</th><th>C</th><th>D</th><th>E</th></tr><tr><th></th><th>Int64</th><th>Int64</th><th>Int64</th><th>String</th><th>Int64</th></tr></thead><tbody><p>4 rows × 5 columns</p><tr><th>1</th><td>0</td><td>0</td><td>0</td><td>NfgMMkH7s</td><td>1</td></tr><tr><th>2</th><td>1</td><td>1</td><td>0</td><td>09r6rwhbg</td><td>2</td></tr><tr><th>3</th><td>1</td><td>0</td><td>1</td><td>JBQmjqYN9</td><td>3</td></tr><tr><th>4</th><td>0</td><td>1</td><td>1</td><td>xd8UZ32MW</td><td>4</td></tr></tbody></table>"
      ],
      "text/latex": [
       "\\begin{tabular}{r|ccccc}\n",
       "\t& B & A & C & D & E\\\\\n",
       "\t\\hline\n",
       "\t& Int64 & Int64 & Int64 & String & Int64\\\\\n",
       "\t\\hline\n",
       "\t1 & 0 & 0 & 0 & NfgMMkH7s & 1 \\\\\n",
       "\t2 & 1 & 1 & 0 & 09r6rwhbg & 2 \\\\\n",
       "\t3 & 1 & 0 & 1 & JBQmjqYN9 & 3 \\\\\n",
       "\t4 & 0 & 1 & 1 & xd8UZ32MW & 4 \\\\\n",
       "\\end{tabular}\n"
      ],
      "text/plain": [
       "4×5 DataFrame\n",
       "│ Row │ B     │ A     │ C     │ D         │ E     │\n",
       "│     │ \u001b[90mInt64\u001b[39m │ \u001b[90mInt64\u001b[39m │ \u001b[90mInt64\u001b[39m │ \u001b[90mString\u001b[39m    │ \u001b[90mInt64\u001b[39m │\n",
       "├─────┼───────┼───────┼───────┼───────────┼───────┤\n",
       "│ 1   │ 0     │ 0     │ 0     │ NfgMMkH7s │ 1     │\n",
       "│ 2   │ 1     │ 1     │ 0     │ 09r6rwhbg │ 2     │\n",
       "│ 3   │ 1     │ 0     │ 1     │ JBQmjqYN9 │ 3     │\n",
       "│ 4   │ 0     │ 1     │ 1     │ xd8UZ32MW │ 4     │"
      ]
     },
     "execution_count": 9,
     "metadata": {},
     "output_type": "execute_result"
    }
   ],
   "source": [
    "df = DataFrame(:B => [0, 1, 1, 0], :A => [0, 1, 0, 1], :C => [0, 0, 1, 1], :D => [randstring(9) for j in 1:4], \n",
    "    :E => 1:4)"
   ]
  },
  {
   "cell_type": "markdown",
   "metadata": {},
   "source": [
    "You can build up an empty dataframe by explicitly adding columns using dot notation to refer to columns."
   ]
  },
  {
   "cell_type": "code",
   "execution_count": 10,
   "metadata": {},
   "outputs": [],
   "source": [
    "df = DataFrame();\n",
    "df.B = [0, 1, 1, 0];\n",
    "df.C = [0, 0, 1, 1];\n",
    "df.A = [0, 1, 0, 1];\n",
    "df.D = [randstring(9) for j in 1:4];\n",
    "df.E = 1:4;"
   ]
  },
  {
   "cell_type": "code",
   "execution_count": 11,
   "metadata": {},
   "outputs": [
    {
     "data": {
      "text/html": [
       "<table class=\"data-frame\"><thead><tr><th></th><th>B</th><th>C</th><th>A</th><th>D</th><th>E</th></tr><tr><th></th><th>Int64</th><th>Int64</th><th>Int64</th><th>String</th><th>Int64</th></tr></thead><tbody><p>4 rows × 5 columns</p><tr><th>1</th><td>0</td><td>0</td><td>0</td><td>2OFpjFUVh</td><td>1</td></tr><tr><th>2</th><td>1</td><td>0</td><td>1</td><td>mBme76yTQ</td><td>2</td></tr><tr><th>3</th><td>1</td><td>1</td><td>0</td><td>uHaerFmAX</td><td>3</td></tr><tr><th>4</th><td>0</td><td>1</td><td>1</td><td>dGf63DEzC</td><td>4</td></tr></tbody></table>"
      ],
      "text/latex": [
       "\\begin{tabular}{r|ccccc}\n",
       "\t& B & C & A & D & E\\\\\n",
       "\t\\hline\n",
       "\t& Int64 & Int64 & Int64 & String & Int64\\\\\n",
       "\t\\hline\n",
       "\t1 & 0 & 0 & 0 & 2OFpjFUVh & 1 \\\\\n",
       "\t2 & 1 & 0 & 1 & mBme76yTQ & 2 \\\\\n",
       "\t3 & 1 & 1 & 0 & uHaerFmAX & 3 \\\\\n",
       "\t4 & 0 & 1 & 1 & dGf63DEzC & 4 \\\\\n",
       "\\end{tabular}\n"
      ],
      "text/plain": [
       "4×5 DataFrame\n",
       "│ Row │ B     │ C     │ A     │ D         │ E     │\n",
       "│     │ \u001b[90mInt64\u001b[39m │ \u001b[90mInt64\u001b[39m │ \u001b[90mInt64\u001b[39m │ \u001b[90mString\u001b[39m    │ \u001b[90mInt64\u001b[39m │\n",
       "├─────┼───────┼───────┼───────┼───────────┼───────┤\n",
       "│ 1   │ 0     │ 0     │ 0     │ 2OFpjFUVh │ 1     │\n",
       "│ 2   │ 1     │ 0     │ 1     │ mBme76yTQ │ 2     │\n",
       "│ 3   │ 1     │ 1     │ 0     │ uHaerFmAX │ 3     │\n",
       "│ 4   │ 0     │ 1     │ 1     │ dGf63DEzC │ 4     │"
      ]
     },
     "execution_count": 11,
     "metadata": {},
     "output_type": "execute_result"
    }
   ],
   "source": [
    "df"
   ]
  },
  {
   "cell_type": "markdown",
   "metadata": {},
   "source": [
    "You can also create a dataframe by passing in the column values and symbols as separate arguments to the `DataFrame()` constructor. The first argument is an array of vectors where each vector is a column of data; the second argument is the array of symbols designating the column names."
   ]
  },
  {
   "cell_type": "code",
   "execution_count": 12,
   "metadata": {},
   "outputs": [
    {
     "data": {
      "text/html": [
       "<table class=\"data-frame\"><thead><tr><th></th><th>B</th><th>C</th><th>A</th><th>D</th><th>E</th></tr><tr><th></th><th>Int64</th><th>Int64</th><th>Int64</th><th>String</th><th>Int64</th></tr></thead><tbody><p>4 rows × 5 columns</p><tr><th>1</th><td>0</td><td>0</td><td>0</td><td>G5gjascaS</td><td>1</td></tr><tr><th>2</th><td>1</td><td>0</td><td>1</td><td>91m4oiXfs</td><td>2</td></tr><tr><th>3</th><td>1</td><td>1</td><td>0</td><td>cF5KPzl02</td><td>3</td></tr><tr><th>4</th><td>0</td><td>1</td><td>1</td><td>VOVNq9JTH</td><td>4</td></tr></tbody></table>"
      ],
      "text/latex": [
       "\\begin{tabular}{r|ccccc}\n",
       "\t& B & C & A & D & E\\\\\n",
       "\t\\hline\n",
       "\t& Int64 & Int64 & Int64 & String & Int64\\\\\n",
       "\t\\hline\n",
       "\t1 & 0 & 0 & 0 & G5gjascaS & 1 \\\\\n",
       "\t2 & 1 & 0 & 1 & 91m4oiXfs & 2 \\\\\n",
       "\t3 & 1 & 1 & 0 & cF5KPzl02 & 3 \\\\\n",
       "\t4 & 0 & 1 & 1 & VOVNq9JTH & 4 \\\\\n",
       "\\end{tabular}\n"
      ],
      "text/plain": [
       "4×5 DataFrame\n",
       "│ Row │ B     │ C     │ A     │ D         │ E     │\n",
       "│     │ \u001b[90mInt64\u001b[39m │ \u001b[90mInt64\u001b[39m │ \u001b[90mInt64\u001b[39m │ \u001b[90mString\u001b[39m    │ \u001b[90mInt64\u001b[39m │\n",
       "├─────┼───────┼───────┼───────┼───────────┼───────┤\n",
       "│ 1   │ 0     │ 0     │ 0     │ G5gjascaS │ 1     │\n",
       "│ 2   │ 1     │ 0     │ 1     │ 91m4oiXfs │ 2     │\n",
       "│ 3   │ 1     │ 1     │ 0     │ cF5KPzl02 │ 3     │\n",
       "│ 4   │ 0     │ 1     │ 1     │ VOVNq9JTH │ 4     │"
      ]
     },
     "execution_count": 12,
     "metadata": {},
     "output_type": "execute_result"
    }
   ],
   "source": [
    "df = DataFrame([[0,1,1,0], [0,0,1,1], [0,1,0,1], [randstring(9) for j in 1:4], 1:4], [:B, :C, :A, :D, :E])"
   ]
  },
  {
   "cell_type": "markdown",
   "metadata": {},
   "source": [
    "If you want to convert your dataframe to an array wrap the dataframe in a call to `Matrix`."
   ]
  },
  {
   "cell_type": "code",
   "execution_count": 13,
   "metadata": {},
   "outputs": [
    {
     "data": {
      "text/plain": [
       "4×5 Array{Any,2}:\n",
       " 0  0  0  \"G5gjascaS\"  1\n",
       " 1  0  1  \"91m4oiXfs\"  2\n",
       " 1  1  0  \"cF5KPzl02\"  3\n",
       " 0  1  1  \"VOVNq9JTH\"  4"
      ]
     },
     "execution_count": 13,
     "metadata": {},
     "output_type": "execute_result"
    }
   ],
   "source": [
    "m = Matrix(df)"
   ]
  },
  {
   "cell_type": "markdown",
   "metadata": {},
   "source": [
    "And then to convert it back to a dataframe you can wrap the array in a call to `DataFrame()`. Note the arbitrary column names <i>x1</i>, <i>x2</i>, etc."
   ]
  },
  {
   "cell_type": "code",
   "execution_count": 14,
   "metadata": {},
   "outputs": [
    {
     "data": {
      "text/html": [
       "<table class=\"data-frame\"><thead><tr><th></th><th>x1</th><th>x2</th><th>x3</th><th>x4</th><th>x5</th></tr><tr><th></th><th>Any</th><th>Any</th><th>Any</th><th>Any</th><th>Any</th></tr></thead><tbody><p>4 rows × 5 columns</p><tr><th>1</th><td>0</td><td>0</td><td>0</td><td>G5gjascaS</td><td>1</td></tr><tr><th>2</th><td>1</td><td>0</td><td>1</td><td>91m4oiXfs</td><td>2</td></tr><tr><th>3</th><td>1</td><td>1</td><td>0</td><td>cF5KPzl02</td><td>3</td></tr><tr><th>4</th><td>0</td><td>1</td><td>1</td><td>VOVNq9JTH</td><td>4</td></tr></tbody></table>"
      ],
      "text/latex": [
       "\\begin{tabular}{r|ccccc}\n",
       "\t& x1 & x2 & x3 & x4 & x5\\\\\n",
       "\t\\hline\n",
       "\t& Any & Any & Any & Any & Any\\\\\n",
       "\t\\hline\n",
       "\t1 & 0 & 0 & 0 & G5gjascaS & 1 \\\\\n",
       "\t2 & 1 & 0 & 1 & 91m4oiXfs & 2 \\\\\n",
       "\t3 & 1 & 1 & 0 & cF5KPzl02 & 3 \\\\\n",
       "\t4 & 0 & 1 & 1 & VOVNq9JTH & 4 \\\\\n",
       "\\end{tabular}\n"
      ],
      "text/plain": [
       "4×5 DataFrame\n",
       "│ Row │ x1  │ x2  │ x3  │ x4        │ x5  │\n",
       "│     │ \u001b[90mAny\u001b[39m │ \u001b[90mAny\u001b[39m │ \u001b[90mAny\u001b[39m │ \u001b[90mAny\u001b[39m       │ \u001b[90mAny\u001b[39m │\n",
       "├─────┼─────┼─────┼─────┼───────────┼─────┤\n",
       "│ 1   │ 0   │ 0   │ 0   │ G5gjascaS │ 1   │\n",
       "│ 2   │ 1   │ 0   │ 1   │ 91m4oiXfs │ 2   │\n",
       "│ 3   │ 1   │ 1   │ 0   │ cF5KPzl02 │ 3   │\n",
       "│ 4   │ 0   │ 1   │ 1   │ VOVNq9JTH │ 4   │"
      ]
     },
     "execution_count": 14,
     "metadata": {},
     "output_type": "execute_result"
    }
   ],
   "source": [
    "df = DataFrame(m)"
   ]
  },
  {
   "cell_type": "markdown",
   "metadata": {},
   "source": [
    "Finally, if you need to, you can initialize a non-empty datframe with garbage values. You will need to specify the desired columns types and optionally specify the column names and number of rows."
   ]
  },
  {
   "cell_type": "code",
   "execution_count": 15,
   "metadata": {},
   "outputs": [
    {
     "data": {
      "text/html": [
       "<table class=\"data-frame\"><thead><tr><th></th><th>B</th><th>C</th><th>A</th><th>D</th><th>E</th></tr><tr><th></th><th>Int64</th><th>Int64</th><th>Int64</th><th>String</th><th>Int64</th></tr></thead><tbody><p>4 rows × 5 columns</p><tr><th>1</th><td>139997191614944</td><td>139997253354704</td><td>139997093954256</td><td><em>#undef</em></td><td>139997255412576</td></tr><tr><th>2</th><td>139997184114560</td><td>139997093294272</td><td>139997094024368</td><td><em>#undef</em></td><td>139997255407376</td></tr><tr><th>3</th><td>139997184114560</td><td>139997093294336</td><td>139997094416088</td><td><em>#undef</em></td><td>139997093328880</td></tr><tr><th>4</th><td>1</td><td>139997184449008</td><td>2</td><td><em>#undef</em></td><td>0</td></tr></tbody></table>"
      ],
      "text/latex": [
       "\\begin{tabular}{r|ccccc}\n",
       "\t& B & C & A & D & E\\\\\n",
       "\t\\hline\n",
       "\t& Int64 & Int64 & Int64 & String & Int64\\\\\n",
       "\t\\hline\n",
       "\t1 & 139997191614944 & 139997253354704 & 139997093954256 & \\emph{\\#undef} & 139997255412576 \\\\\n",
       "\t2 & 139997184114560 & 139997093294272 & 139997094024368 & \\emph{\\#undef} & 139997255407376 \\\\\n",
       "\t3 & 139997184114560 & 139997093294336 & 139997094416088 & \\emph{\\#undef} & 139997093328880 \\\\\n",
       "\t4 & 1 & 139997184449008 & 2 & \\emph{\\#undef} & 0 \\\\\n",
       "\\end{tabular}\n"
      ],
      "text/plain": [
       "4×5 DataFrame. Omitted printing of 1 columns\n",
       "│ Row │ B               │ C               │ A               │ D      │\n",
       "│     │ \u001b[90mInt64\u001b[39m           │ \u001b[90mInt64\u001b[39m           │ \u001b[90mInt64\u001b[39m           │ \u001b[90mString\u001b[39m │\n",
       "├─────┼─────────────────┼─────────────────┼─────────────────┼────────┤\n",
       "│ 1   │ 139997191614944 │ 139997253354704 │ 139997093954256 │ \u001b[90m#undef\u001b[39m │\n",
       "│ 2   │ 139997184114560 │ 139997093294272 │ 139997094024368 │ \u001b[90m#undef\u001b[39m │\n",
       "│ 3   │ 139997184114560 │ 139997093294336 │ 139997094416088 │ \u001b[90m#undef\u001b[39m │\n",
       "│ 4   │ 1               │ 139997184449008 │ 2               │ \u001b[90m#undef\u001b[39m │"
      ]
     },
     "execution_count": 15,
     "metadata": {},
     "output_type": "execute_result"
    }
   ],
   "source": [
    "df_garbage = DataFrame([Int64, Int64, Int64, String, Int64], [:B, :C, :A, :D, :E], 4)"
   ]
  },
  {
   "cell_type": "markdown",
   "metadata": {},
   "source": [
    "Regardless of how you create it, the **DataFrame** type represents a data table as a series of vectors, each corresponding to a column or variable."
   ]
  },
  {
   "cell_type": "markdown",
   "metadata": {},
   "source": [
    "### Selecting columns:"
   ]
  },
  {
   "cell_type": "code",
   "execution_count": 16,
   "metadata": {},
   "outputs": [],
   "source": [
    "# create a dataframe\n",
    "\n",
    "df = DataFrame(A = [0, 1, 0, 1], B = [0, 1, 1, 0], C = [0, 0, 1, 1], D = [randstring(9) for j in 1:4], E = 1:4);"
   ]
  },
  {
   "cell_type": "markdown",
   "metadata": {},
   "source": [
    "You can select individual columns in a few different ways:\n",
    "- `df.col`\n",
    "- `df.\"col\"`\n",
    "- `df[!,:col]`\n",
    "- `df[!, col_idx]`\n"
   ]
  },
  {
   "cell_type": "code",
   "execution_count": 17,
   "metadata": {},
   "outputs": [
    {
     "data": {
      "text/html": [
       "<table class=\"data-frame\"><thead><tr><th></th><th>A</th><th>B</th><th>C</th><th>D</th><th>E</th></tr><tr><th></th><th>Int64</th><th>Int64</th><th>Int64</th><th>String</th><th>Int64</th></tr></thead><tbody><p>4 rows × 5 columns</p><tr><th>1</th><td>0</td><td>0</td><td>0</td><td>CnxKGI2pr</td><td>1</td></tr><tr><th>2</th><td>1</td><td>1</td><td>0</td><td>qjEDuIH9h</td><td>2</td></tr><tr><th>3</th><td>0</td><td>1</td><td>1</td><td>P2RzhHpln</td><td>3</td></tr><tr><th>4</th><td>1</td><td>0</td><td>1</td><td>SHd4BTv0z</td><td>4</td></tr></tbody></table>"
      ],
      "text/latex": [
       "\\begin{tabular}{r|ccccc}\n",
       "\t& A & B & C & D & E\\\\\n",
       "\t\\hline\n",
       "\t& Int64 & Int64 & Int64 & String & Int64\\\\\n",
       "\t\\hline\n",
       "\t1 & 0 & 0 & 0 & CnxKGI2pr & 1 \\\\\n",
       "\t2 & 1 & 1 & 0 & qjEDuIH9h & 2 \\\\\n",
       "\t3 & 0 & 1 & 1 & P2RzhHpln & 3 \\\\\n",
       "\t4 & 1 & 0 & 1 & SHd4BTv0z & 4 \\\\\n",
       "\\end{tabular}\n"
      ],
      "text/plain": [
       "4×5 DataFrame\n",
       "│ Row │ A     │ B     │ C     │ D         │ E     │\n",
       "│     │ \u001b[90mInt64\u001b[39m │ \u001b[90mInt64\u001b[39m │ \u001b[90mInt64\u001b[39m │ \u001b[90mString\u001b[39m    │ \u001b[90mInt64\u001b[39m │\n",
       "├─────┼───────┼───────┼───────┼───────────┼───────┤\n",
       "│ 1   │ 0     │ 0     │ 0     │ CnxKGI2pr │ 1     │\n",
       "│ 2   │ 1     │ 1     │ 0     │ qjEDuIH9h │ 2     │\n",
       "│ 3   │ 0     │ 1     │ 1     │ P2RzhHpln │ 3     │\n",
       "│ 4   │ 1     │ 0     │ 1     │ SHd4BTv0z │ 4     │"
      ]
     },
     "execution_count": 17,
     "metadata": {},
     "output_type": "execute_result"
    }
   ],
   "source": [
    "df"
   ]
  },
  {
   "cell_type": "markdown",
   "metadata": {},
   "source": [
    "Below we access columns <i>A</i>, <i>B</i>, and <i>C</i> using the dot notation. Note this does __not__ return a copy of the column data; so if you modify __df.A__ then you will modify the dataframe as well."
   ]
  },
  {
   "cell_type": "code",
   "execution_count": 18,
   "metadata": {},
   "outputs": [
    {
     "data": {
      "text/plain": [
       "4-element Array{Int64,1}:\n",
       " 0\n",
       " 1\n",
       " 0\n",
       " 1"
      ]
     },
     "execution_count": 18,
     "metadata": {},
     "output_type": "execute_result"
    }
   ],
   "source": [
    "df.A"
   ]
  },
  {
   "cell_type": "code",
   "execution_count": 19,
   "metadata": {},
   "outputs": [
    {
     "data": {
      "text/plain": [
       "Array{Int64,1}"
      ]
     },
     "execution_count": 19,
     "metadata": {},
     "output_type": "execute_result"
    }
   ],
   "source": [
    "typeof(df.A)"
   ]
  },
  {
   "cell_type": "code",
   "execution_count": 20,
   "metadata": {},
   "outputs": [
    {
     "data": {
      "text/plain": [
       "Array{String,1}"
      ]
     },
     "execution_count": 20,
     "metadata": {},
     "output_type": "execute_result"
    }
   ],
   "source": [
    "typeof(df.D)"
   ]
  },
  {
   "cell_type": "markdown",
   "metadata": {},
   "source": [
    "You can also use string notation again this does __not__ return a copy:"
   ]
  },
  {
   "cell_type": "code",
   "execution_count": 21,
   "metadata": {},
   "outputs": [
    {
     "data": {
      "text/plain": [
       "4-element Array{Int64,1}:\n",
       " 0\n",
       " 1\n",
       " 0\n",
       " 1"
      ]
     },
     "execution_count": 21,
     "metadata": {},
     "output_type": "execute_result"
    }
   ],
   "source": [
    "df.\"A\""
   ]
  },
  {
   "cell_type": "markdown",
   "metadata": {},
   "source": [
    "You can refer to columns using bracket notation but note that for the column you have to use the symbol notation, i.e., :B and not \"B\". The ! used above means to grab all rows.\n",
    "\n",
    "Please note that `df[!, :col]` does **not** make a copy of the column therefore modifying elements in it will change elements in the dataframe itself. If you want to work with a copy use `df[:, :col]`."
   ]
  },
  {
   "cell_type": "code",
   "execution_count": 22,
   "metadata": {},
   "outputs": [
    {
     "data": {
      "text/plain": [
       "2"
      ]
     },
     "execution_count": 22,
     "metadata": {},
     "output_type": "execute_result"
    }
   ],
   "source": [
    "df[!, :B][2] = 2# df[!, \"B\"] will not work"
   ]
  },
  {
   "cell_type": "code",
   "execution_count": 23,
   "metadata": {},
   "outputs": [
    {
     "data": {
      "text/plain": [
       "4-element Array{Int64,1}:\n",
       " 0\n",
       " 2\n",
       " 1\n",
       " 0"
      ]
     },
     "execution_count": 23,
     "metadata": {},
     "output_type": "execute_result"
    }
   ],
   "source": [
    "a = df[!, :B]"
   ]
  },
  {
   "cell_type": "code",
   "execution_count": 24,
   "metadata": {},
   "outputs": [
    {
     "data": {
      "text/html": [
       "<table class=\"data-frame\"><thead><tr><th></th><th>A</th><th>B</th><th>C</th><th>D</th><th>E</th></tr><tr><th></th><th>Int64</th><th>Int64</th><th>Int64</th><th>String</th><th>Int64</th></tr></thead><tbody><p>4 rows × 5 columns</p><tr><th>1</th><td>0</td><td>0</td><td>0</td><td>CnxKGI2pr</td><td>1</td></tr><tr><th>2</th><td>1</td><td>2</td><td>0</td><td>qjEDuIH9h</td><td>2</td></tr><tr><th>3</th><td>0</td><td>1</td><td>1</td><td>P2RzhHpln</td><td>3</td></tr><tr><th>4</th><td>1</td><td>0</td><td>1</td><td>SHd4BTv0z</td><td>4</td></tr></tbody></table>"
      ],
      "text/latex": [
       "\\begin{tabular}{r|ccccc}\n",
       "\t& A & B & C & D & E\\\\\n",
       "\t\\hline\n",
       "\t& Int64 & Int64 & Int64 & String & Int64\\\\\n",
       "\t\\hline\n",
       "\t1 & 0 & 0 & 0 & CnxKGI2pr & 1 \\\\\n",
       "\t2 & 1 & 2 & 0 & qjEDuIH9h & 2 \\\\\n",
       "\t3 & 0 & 1 & 1 & P2RzhHpln & 3 \\\\\n",
       "\t4 & 1 & 0 & 1 & SHd4BTv0z & 4 \\\\\n",
       "\\end{tabular}\n"
      ],
      "text/plain": [
       "4×5 DataFrame\n",
       "│ Row │ A     │ B     │ C     │ D         │ E     │\n",
       "│     │ \u001b[90mInt64\u001b[39m │ \u001b[90mInt64\u001b[39m │ \u001b[90mInt64\u001b[39m │ \u001b[90mString\u001b[39m    │ \u001b[90mInt64\u001b[39m │\n",
       "├─────┼───────┼───────┼───────┼───────────┼───────┤\n",
       "│ 1   │ 0     │ 0     │ 0     │ CnxKGI2pr │ 1     │\n",
       "│ 2   │ 1     │ 2     │ 0     │ qjEDuIH9h │ 2     │\n",
       "│ 3   │ 0     │ 1     │ 1     │ P2RzhHpln │ 3     │\n",
       "│ 4   │ 1     │ 0     │ 1     │ SHd4BTv0z │ 4     │"
      ]
     },
     "execution_count": 24,
     "metadata": {},
     "output_type": "execute_result"
    }
   ],
   "source": [
    "df"
   ]
  },
  {
   "cell_type": "markdown",
   "metadata": {},
   "source": [
    "You can also use the column index to refer to a specific column. Here we get the third column. Note that indexing in Julia starts at 1."
   ]
  },
  {
   "cell_type": "code",
   "execution_count": 25,
   "metadata": {},
   "outputs": [
    {
     "data": {
      "text/plain": [
       "4-element Array{Int64,1}:\n",
       " 0\n",
       " 0\n",
       " 1\n",
       " 1"
      ]
     },
     "execution_count": 25,
     "metadata": {},
     "output_type": "execute_result"
    }
   ],
   "source": [
    "df[!, 3] #third way using a column index"
   ]
  },
  {
   "cell_type": "markdown",
   "metadata": {},
   "source": [
    "You can retrieve multiple columns by listing them out by symbol or index. In this case the returned object will be a dataframe."
   ]
  },
  {
   "cell_type": "code",
   "execution_count": 26,
   "metadata": {},
   "outputs": [
    {
     "data": {
      "text/html": [
       "<table class=\"data-frame\"><thead><tr><th></th><th>A</th><th>D</th></tr><tr><th></th><th>Int64</th><th>String</th></tr></thead><tbody><p>4 rows × 2 columns</p><tr><th>1</th><td>0</td><td>CnxKGI2pr</td></tr><tr><th>2</th><td>1</td><td>qjEDuIH9h</td></tr><tr><th>3</th><td>0</td><td>P2RzhHpln</td></tr><tr><th>4</th><td>1</td><td>SHd4BTv0z</td></tr></tbody></table>"
      ],
      "text/latex": [
       "\\begin{tabular}{r|cc}\n",
       "\t& A & D\\\\\n",
       "\t\\hline\n",
       "\t& Int64 & String\\\\\n",
       "\t\\hline\n",
       "\t1 & 0 & CnxKGI2pr \\\\\n",
       "\t2 & 1 & qjEDuIH9h \\\\\n",
       "\t3 & 0 & P2RzhHpln \\\\\n",
       "\t4 & 1 & SHd4BTv0z \\\\\n",
       "\\end{tabular}\n"
      ],
      "text/plain": [
       "4×2 DataFrame\n",
       "│ Row │ A     │ D         │\n",
       "│     │ \u001b[90mInt64\u001b[39m │ \u001b[90mString\u001b[39m    │\n",
       "├─────┼───────┼───────────┤\n",
       "│ 1   │ 0     │ CnxKGI2pr │\n",
       "│ 2   │ 1     │ qjEDuIH9h │\n",
       "│ 3   │ 0     │ P2RzhHpln │\n",
       "│ 4   │ 1     │ SHd4BTv0z │"
      ]
     },
     "execution_count": 26,
     "metadata": {},
     "output_type": "execute_result"
    }
   ],
   "source": [
    "df[!, [:A, :D]] # get columns A and D"
   ]
  },
  {
   "cell_type": "code",
   "execution_count": 27,
   "metadata": {},
   "outputs": [
    {
     "data": {
      "text/html": [
       "<table class=\"data-frame\"><thead><tr><th></th><th>B</th><th>C</th><th>D</th><th>E</th></tr><tr><th></th><th>Int64</th><th>Int64</th><th>String</th><th>Int64</th></tr></thead><tbody><p>4 rows × 4 columns</p><tr><th>1</th><td>0</td><td>0</td><td>CnxKGI2pr</td><td>1</td></tr><tr><th>2</th><td>2</td><td>0</td><td>qjEDuIH9h</td><td>2</td></tr><tr><th>3</th><td>1</td><td>1</td><td>P2RzhHpln</td><td>3</td></tr><tr><th>4</th><td>0</td><td>1</td><td>SHd4BTv0z</td><td>4</td></tr></tbody></table>"
      ],
      "text/latex": [
       "\\begin{tabular}{r|cccc}\n",
       "\t& B & C & D & E\\\\\n",
       "\t\\hline\n",
       "\t& Int64 & Int64 & String & Int64\\\\\n",
       "\t\\hline\n",
       "\t1 & 0 & 0 & CnxKGI2pr & 1 \\\\\n",
       "\t2 & 2 & 0 & qjEDuIH9h & 2 \\\\\n",
       "\t3 & 1 & 1 & P2RzhHpln & 3 \\\\\n",
       "\t4 & 0 & 1 & SHd4BTv0z & 4 \\\\\n",
       "\\end{tabular}\n"
      ],
      "text/plain": [
       "4×4 DataFrame\n",
       "│ Row │ B     │ C     │ D         │ E     │\n",
       "│     │ \u001b[90mInt64\u001b[39m │ \u001b[90mInt64\u001b[39m │ \u001b[90mString\u001b[39m    │ \u001b[90mInt64\u001b[39m │\n",
       "├─────┼───────┼───────┼───────────┼───────┤\n",
       "│ 1   │ 0     │ 0     │ CnxKGI2pr │ 1     │\n",
       "│ 2   │ 2     │ 0     │ qjEDuIH9h │ 2     │\n",
       "│ 3   │ 1     │ 1     │ P2RzhHpln │ 3     │\n",
       "│ 4   │ 0     │ 1     │ SHd4BTv0z │ 4     │"
      ]
     },
     "execution_count": 27,
     "metadata": {},
     "output_type": "execute_result"
    }
   ],
   "source": [
    "df[!, 2:5]  #get columns two through five"
   ]
  },
  {
   "cell_type": "markdown",
   "metadata": {},
   "source": [
    "An alternative method to selecting columns in a dataframe is to use the `select` function."
   ]
  },
  {
   "cell_type": "code",
   "execution_count": 28,
   "metadata": {},
   "outputs": [
    {
     "data": {
      "text/html": [
       "<table class=\"data-frame\"><thead><tr><th></th><th>A</th></tr><tr><th></th><th>Int64</th></tr></thead><tbody><p>4 rows × 1 columns</p><tr><th>1</th><td>0</td></tr><tr><th>2</th><td>1</td></tr><tr><th>3</th><td>0</td></tr><tr><th>4</th><td>1</td></tr></tbody></table>"
      ],
      "text/latex": [
       "\\begin{tabular}{r|c}\n",
       "\t& A\\\\\n",
       "\t\\hline\n",
       "\t& Int64\\\\\n",
       "\t\\hline\n",
       "\t1 & 0 \\\\\n",
       "\t2 & 1 \\\\\n",
       "\t3 & 0 \\\\\n",
       "\t4 & 1 \\\\\n",
       "\\end{tabular}\n"
      ],
      "text/plain": [
       "4×1 DataFrame\n",
       "│ Row │ A     │\n",
       "│     │ \u001b[90mInt64\u001b[39m │\n",
       "├─────┼───────┤\n",
       "│ 1   │ 0     │\n",
       "│ 2   │ 1     │\n",
       "│ 3   │ 0     │\n",
       "│ 4   │ 1     │"
      ]
     },
     "execution_count": 28,
     "metadata": {},
     "output_type": "execute_result"
    }
   ],
   "source": [
    "select(df, :A) #select column A"
   ]
  },
  {
   "cell_type": "code",
   "execution_count": 29,
   "metadata": {},
   "outputs": [
    {
     "data": {
      "text/html": [
       "<table class=\"data-frame\"><thead><tr><th></th><th>A</th><th>D</th></tr><tr><th></th><th>Int64</th><th>String</th></tr></thead><tbody><p>4 rows × 2 columns</p><tr><th>1</th><td>0</td><td>CnxKGI2pr</td></tr><tr><th>2</th><td>1</td><td>qjEDuIH9h</td></tr><tr><th>3</th><td>0</td><td>P2RzhHpln</td></tr><tr><th>4</th><td>1</td><td>SHd4BTv0z</td></tr></tbody></table>"
      ],
      "text/latex": [
       "\\begin{tabular}{r|cc}\n",
       "\t& A & D\\\\\n",
       "\t\\hline\n",
       "\t& Int64 & String\\\\\n",
       "\t\\hline\n",
       "\t1 & 0 & CnxKGI2pr \\\\\n",
       "\t2 & 1 & qjEDuIH9h \\\\\n",
       "\t3 & 0 & P2RzhHpln \\\\\n",
       "\t4 & 1 & SHd4BTv0z \\\\\n",
       "\\end{tabular}\n"
      ],
      "text/plain": [
       "4×2 DataFrame\n",
       "│ Row │ A     │ D         │\n",
       "│     │ \u001b[90mInt64\u001b[39m │ \u001b[90mString\u001b[39m    │\n",
       "├─────┼───────┼───────────┤\n",
       "│ 1   │ 0     │ CnxKGI2pr │\n",
       "│ 2   │ 1     │ qjEDuIH9h │\n",
       "│ 3   │ 0     │ P2RzhHpln │\n",
       "│ 4   │ 1     │ SHd4BTv0z │"
      ]
     },
     "execution_count": 29,
     "metadata": {},
     "output_type": "execute_result"
    }
   ],
   "source": [
    "select(df, [:A, :D]) # select columns A and D"
   ]
  },
  {
   "cell_type": "code",
   "execution_count": 30,
   "metadata": {},
   "outputs": [
    {
     "data": {
      "text/html": [
       "<table class=\"data-frame\"><thead><tr><th></th><th>B</th><th>C</th><th>D</th><th>E</th></tr><tr><th></th><th>Int64</th><th>Int64</th><th>String</th><th>Int64</th></tr></thead><tbody><p>4 rows × 4 columns</p><tr><th>1</th><td>0</td><td>0</td><td>CnxKGI2pr</td><td>1</td></tr><tr><th>2</th><td>2</td><td>0</td><td>qjEDuIH9h</td><td>2</td></tr><tr><th>3</th><td>1</td><td>1</td><td>P2RzhHpln</td><td>3</td></tr><tr><th>4</th><td>0</td><td>1</td><td>SHd4BTv0z</td><td>4</td></tr></tbody></table>"
      ],
      "text/latex": [
       "\\begin{tabular}{r|cccc}\n",
       "\t& B & C & D & E\\\\\n",
       "\t\\hline\n",
       "\t& Int64 & Int64 & String & Int64\\\\\n",
       "\t\\hline\n",
       "\t1 & 0 & 0 & CnxKGI2pr & 1 \\\\\n",
       "\t2 & 2 & 0 & qjEDuIH9h & 2 \\\\\n",
       "\t3 & 1 & 1 & P2RzhHpln & 3 \\\\\n",
       "\t4 & 0 & 1 & SHd4BTv0z & 4 \\\\\n",
       "\\end{tabular}\n"
      ],
      "text/plain": [
       "4×4 DataFrame\n",
       "│ Row │ B     │ C     │ D         │ E     │\n",
       "│     │ \u001b[90mInt64\u001b[39m │ \u001b[90mInt64\u001b[39m │ \u001b[90mString\u001b[39m    │ \u001b[90mInt64\u001b[39m │\n",
       "├─────┼───────┼───────┼───────────┼───────┤\n",
       "│ 1   │ 0     │ 0     │ CnxKGI2pr │ 1     │\n",
       "│ 2   │ 2     │ 0     │ qjEDuIH9h │ 2     │\n",
       "│ 3   │ 1     │ 1     │ P2RzhHpln │ 3     │\n",
       "│ 4   │ 0     │ 1     │ SHd4BTv0z │ 4     │"
      ]
     },
     "execution_count": 30,
     "metadata": {},
     "output_type": "execute_result"
    }
   ],
   "source": [
    "select(df, 2:5) #select columns 2 through 5"
   ]
  },
  {
   "cell_type": "code",
   "execution_count": 31,
   "metadata": {},
   "outputs": [
    {
     "data": {
      "text/html": [
       "<table class=\"data-frame\"><thead><tr><th></th><th>B</th><th>C</th><th>D</th><th>E</th></tr><tr><th></th><th>Int64</th><th>Int64</th><th>String</th><th>Int64</th></tr></thead><tbody><p>4 rows × 4 columns</p><tr><th>1</th><td>0</td><td>0</td><td>CnxKGI2pr</td><td>1</td></tr><tr><th>2</th><td>2</td><td>0</td><td>qjEDuIH9h</td><td>2</td></tr><tr><th>3</th><td>1</td><td>1</td><td>P2RzhHpln</td><td>3</td></tr><tr><th>4</th><td>0</td><td>1</td><td>SHd4BTv0z</td><td>4</td></tr></tbody></table>"
      ],
      "text/latex": [
       "\\begin{tabular}{r|cccc}\n",
       "\t& B & C & D & E\\\\\n",
       "\t\\hline\n",
       "\t& Int64 & Int64 & String & Int64\\\\\n",
       "\t\\hline\n",
       "\t1 & 0 & 0 & CnxKGI2pr & 1 \\\\\n",
       "\t2 & 2 & 0 & qjEDuIH9h & 2 \\\\\n",
       "\t3 & 1 & 1 & P2RzhHpln & 3 \\\\\n",
       "\t4 & 0 & 1 & SHd4BTv0z & 4 \\\\\n",
       "\\end{tabular}\n"
      ],
      "text/plain": [
       "4×4 DataFrame\n",
       "│ Row │ B     │ C     │ D         │ E     │\n",
       "│     │ \u001b[90mInt64\u001b[39m │ \u001b[90mInt64\u001b[39m │ \u001b[90mString\u001b[39m    │ \u001b[90mInt64\u001b[39m │\n",
       "├─────┼───────┼───────┼───────────┼───────┤\n",
       "│ 1   │ 0     │ 0     │ CnxKGI2pr │ 1     │\n",
       "│ 2   │ 2     │ 0     │ qjEDuIH9h │ 2     │\n",
       "│ 3   │ 1     │ 1     │ P2RzhHpln │ 3     │\n",
       "│ 4   │ 0     │ 1     │ SHd4BTv0z │ 4     │"
      ]
     },
     "execution_count": 31,
     "metadata": {},
     "output_type": "execute_result"
    }
   ],
   "source": [
    "select(df, Not(:A)) #select all columns except column A"
   ]
  },
  {
   "cell_type": "markdown",
   "metadata": {},
   "source": [
    "The `select` function returns a new dataframe where the columns are copies of the columns from the original dataframe."
   ]
  },
  {
   "cell_type": "markdown",
   "metadata": {},
   "source": [
    "To get the names and types of the columns you can use the `names` and `eltype` functions."
   ]
  },
  {
   "cell_type": "code",
   "execution_count": 32,
   "metadata": {},
   "outputs": [
    {
     "data": {
      "text/plain": [
       "5-element Array{String,1}:\n",
       " \"A\"\n",
       " \"B\"\n",
       " \"C\"\n",
       " \"D\"\n",
       " \"E\""
      ]
     },
     "execution_count": 32,
     "metadata": {},
     "output_type": "execute_result"
    }
   ],
   "source": [
    "names(df)"
   ]
  },
  {
   "cell_type": "code",
   "execution_count": 33,
   "metadata": {},
   "outputs": [
    {
     "data": {
      "text/plain": [
       "5-element Array{DataType,1}:\n",
       " Int64 \n",
       " Int64 \n",
       " Int64 \n",
       " String\n",
       " Int64 "
      ]
     },
     "execution_count": 33,
     "metadata": {},
     "output_type": "execute_result"
    }
   ],
   "source": [
    "eltype.(eachcol(df))"
   ]
  },
  {
   "cell_type": "code",
   "execution_count": 34,
   "metadata": {},
   "outputs": [
    {
     "name": "stdout",
     "output_type": "stream",
     "text": [
      "search: \u001b[0m\u001b[1me\u001b[22m\u001b[0m\u001b[1ma\u001b[22m\u001b[0m\u001b[1mc\u001b[22m\u001b[0m\u001b[1mh\u001b[22m\u001b[0m\u001b[1mc\u001b[22m\u001b[0m\u001b[1mo\u001b[22m\u001b[0m\u001b[1ml\u001b[22m \u001b[0m\u001b[1me\u001b[22m\u001b[0m\u001b[1ma\u001b[22m\u001b[0m\u001b[1mc\u001b[22m\u001b[0m\u001b[1mh\u001b[22msli\u001b[0m\u001b[1mc\u001b[22me \u001b[0m\u001b[1me\u001b[22m\u001b[0m\u001b[1ma\u001b[22m\u001b[0m\u001b[1mc\u001b[22m\u001b[0m\u001b[1mh\u001b[22mmat\u001b[0m\u001b[1mc\u001b[22mh\n",
      "\n"
     ]
    },
    {
     "data": {
      "text/latex": [
       "\\begin{verbatim}\n",
       "eachcol(A::AbstractVecOrMat)\n",
       "\\end{verbatim}\n",
       "Create a generator that iterates over the second dimension of matrix \\texttt{A}, returning the columns as views.\n",
       "\n",
       "See also \\href{@ref}{\\texttt{eachrow}} and \\href{@ref}{\\texttt{eachslice}}.\n",
       "\n",
       "\\begin{quote}\n",
       "\\textbf{compat}\n",
       "\n",
       "Julia 1.1\n",
       "\n",
       "This function requires at least Julia 1.1.\n",
       "\n",
       "\\end{quote}\n",
       "\\rule{\\textwidth}{1pt}\n",
       "\\begin{verbatim}\n",
       "eachcol(df::AbstractDataFrame)\n",
       "\\end{verbatim}\n",
       "Return a \\texttt{DataFrameColumns} that is an \\texttt{AbstractVector} that allows iterating an \\texttt{AbstractDataFrame} column by column. Additionally it is allowed to index \\texttt{DataFrameColumns} using column names.\n",
       "\n",
       "\\section{Examples}\n",
       "\\begin{verbatim}\n",
       "julia> df = DataFrame(x=1:4, y=11:14)\n",
       "4×2 DataFrame\n",
       "│ Row │ x     │ y     │\n",
       "│     │ Int64 │ Int64 │\n",
       "├─────┼───────┼───────┤\n",
       "│ 1   │ 1     │ 11    │\n",
       "│ 2   │ 2     │ 12    │\n",
       "│ 3   │ 3     │ 13    │\n",
       "│ 4   │ 4     │ 14    │\n",
       "\n",
       "julia> collect(eachcol(df))\n",
       "2-element Array{AbstractArray{T,1} where T,1}:\n",
       " [1, 2, 3, 4]\n",
       " [11, 12, 13, 14]\n",
       "\n",
       "julia> map(eachcol(df)) do col\n",
       "           maximum(col) - minimum(col)\n",
       "       end\n",
       "2-element Array{Int64,1}:\n",
       " 3\n",
       " 3\n",
       "\n",
       "julia> sum.(eachcol(df))\n",
       "2-element Array{Int64,1}:\n",
       " 10\n",
       " 50\n",
       "\\end{verbatim}\n"
      ],
      "text/markdown": [
       "```\n",
       "eachcol(A::AbstractVecOrMat)\n",
       "```\n",
       "\n",
       "Create a generator that iterates over the second dimension of matrix `A`, returning the columns as views.\n",
       "\n",
       "See also [`eachrow`](@ref) and [`eachslice`](@ref).\n",
       "\n",
       "!!! compat \"Julia 1.1\"\n",
       "    This function requires at least Julia 1.1.\n",
       "\n",
       "\n",
       "---\n",
       "\n",
       "```\n",
       "eachcol(df::AbstractDataFrame)\n",
       "```\n",
       "\n",
       "Return a `DataFrameColumns` that is an `AbstractVector` that allows iterating an `AbstractDataFrame` column by column. Additionally it is allowed to index `DataFrameColumns` using column names.\n",
       "\n",
       "# Examples\n",
       "\n",
       "```jldoctest\n",
       "julia> df = DataFrame(x=1:4, y=11:14)\n",
       "4×2 DataFrame\n",
       "│ Row │ x     │ y     │\n",
       "│     │ Int64 │ Int64 │\n",
       "├─────┼───────┼───────┤\n",
       "│ 1   │ 1     │ 11    │\n",
       "│ 2   │ 2     │ 12    │\n",
       "│ 3   │ 3     │ 13    │\n",
       "│ 4   │ 4     │ 14    │\n",
       "\n",
       "julia> collect(eachcol(df))\n",
       "2-element Array{AbstractArray{T,1} where T,1}:\n",
       " [1, 2, 3, 4]\n",
       " [11, 12, 13, 14]\n",
       "\n",
       "julia> map(eachcol(df)) do col\n",
       "           maximum(col) - minimum(col)\n",
       "       end\n",
       "2-element Array{Int64,1}:\n",
       " 3\n",
       " 3\n",
       "\n",
       "julia> sum.(eachcol(df))\n",
       "2-element Array{Int64,1}:\n",
       " 10\n",
       " 50\n",
       "```\n"
      ],
      "text/plain": [
       "\u001b[36m  eachcol(A::AbstractVecOrMat)\u001b[39m\n",
       "\n",
       "  Create a generator that iterates over the second dimension of matrix \u001b[36mA\u001b[39m,\n",
       "  returning the columns as views.\n",
       "\n",
       "  See also \u001b[36meachrow\u001b[39m and \u001b[36meachslice\u001b[39m.\n",
       "\n",
       "\u001b[39m\u001b[1m  │ \u001b[22m\u001b[39m\u001b[1mJulia 1.1\u001b[22m\n",
       "\u001b[39m\u001b[1m  │\u001b[22m\n",
       "\u001b[39m\u001b[1m  │\u001b[22m  This function requires at least Julia 1.1.\n",
       "\n",
       "  ────────────────────────────────────────────────────────────────────────────\n",
       "\n",
       "\u001b[36m  eachcol(df::AbstractDataFrame)\u001b[39m\n",
       "\n",
       "  Return a \u001b[36mDataFrameColumns\u001b[39m that is an \u001b[36mAbstractVector\u001b[39m that allows iterating an\n",
       "  \u001b[36mAbstractDataFrame\u001b[39m column by column. Additionally it is allowed to index\n",
       "  \u001b[36mDataFrameColumns\u001b[39m using column names.\n",
       "\n",
       "\u001b[1m  Examples\u001b[22m\n",
       "\u001b[1m  ≡≡≡≡≡≡≡≡≡≡\u001b[22m\n",
       "\n",
       "\u001b[36m  julia> df = DataFrame(x=1:4, y=11:14)\u001b[39m\n",
       "\u001b[36m  4×2 DataFrame\u001b[39m\n",
       "\u001b[36m  │ Row │ x     │ y     │\u001b[39m\n",
       "\u001b[36m  │     │ Int64 │ Int64 │\u001b[39m\n",
       "\u001b[36m  ├─────┼───────┼───────┤\u001b[39m\n",
       "\u001b[36m  │ 1   │ 1     │ 11    │\u001b[39m\n",
       "\u001b[36m  │ 2   │ 2     │ 12    │\u001b[39m\n",
       "\u001b[36m  │ 3   │ 3     │ 13    │\u001b[39m\n",
       "\u001b[36m  │ 4   │ 4     │ 14    │\u001b[39m\n",
       "\u001b[36m  \u001b[39m\n",
       "\u001b[36m  julia> collect(eachcol(df))\u001b[39m\n",
       "\u001b[36m  2-element Array{AbstractArray{T,1} where T,1}:\u001b[39m\n",
       "\u001b[36m   [1, 2, 3, 4]\u001b[39m\n",
       "\u001b[36m   [11, 12, 13, 14]\u001b[39m\n",
       "\u001b[36m  \u001b[39m\n",
       "\u001b[36m  julia> map(eachcol(df)) do col\u001b[39m\n",
       "\u001b[36m             maximum(col) - minimum(col)\u001b[39m\n",
       "\u001b[36m         end\u001b[39m\n",
       "\u001b[36m  2-element Array{Int64,1}:\u001b[39m\n",
       "\u001b[36m   3\u001b[39m\n",
       "\u001b[36m   3\u001b[39m\n",
       "\u001b[36m  \u001b[39m\n",
       "\u001b[36m  julia> sum.(eachcol(df))\u001b[39m\n",
       "\u001b[36m  2-element Array{Int64,1}:\u001b[39m\n",
       "\u001b[36m   10\u001b[39m\n",
       "\u001b[36m   50\u001b[39m"
      ]
     },
     "execution_count": 34,
     "metadata": {},
     "output_type": "execute_result"
    }
   ],
   "source": [
    "?eachcol"
   ]
  },
  {
   "cell_type": "markdown",
   "metadata": {},
   "source": [
    "You can append a row using `push!` and providing the row values in a tuple."
   ]
  },
  {
   "cell_type": "code",
   "execution_count": 35,
   "metadata": {},
   "outputs": [
    {
     "data": {
      "text/html": [
       "<table class=\"data-frame\"><thead><tr><th></th><th>A</th><th>B</th><th>C</th><th>D</th><th>E</th></tr><tr><th></th><th>Int64</th><th>Int64</th><th>Int64</th><th>String</th><th>Int64</th></tr></thead><tbody><p>5 rows × 5 columns</p><tr><th>1</th><td>0</td><td>0</td><td>0</td><td>CnxKGI2pr</td><td>1</td></tr><tr><th>2</th><td>1</td><td>2</td><td>0</td><td>qjEDuIH9h</td><td>2</td></tr><tr><th>3</th><td>0</td><td>1</td><td>1</td><td>P2RzhHpln</td><td>3</td></tr><tr><th>4</th><td>1</td><td>0</td><td>1</td><td>SHd4BTv0z</td><td>4</td></tr><tr><th>5</th><td>1</td><td>1</td><td>1</td><td>41G6s08</td><td>5</td></tr></tbody></table>"
      ],
      "text/latex": [
       "\\begin{tabular}{r|ccccc}\n",
       "\t& A & B & C & D & E\\\\\n",
       "\t\\hline\n",
       "\t& Int64 & Int64 & Int64 & String & Int64\\\\\n",
       "\t\\hline\n",
       "\t1 & 0 & 0 & 0 & CnxKGI2pr & 1 \\\\\n",
       "\t2 & 1 & 2 & 0 & qjEDuIH9h & 2 \\\\\n",
       "\t3 & 0 & 1 & 1 & P2RzhHpln & 3 \\\\\n",
       "\t4 & 1 & 0 & 1 & SHd4BTv0z & 4 \\\\\n",
       "\t5 & 1 & 1 & 1 & 41G6s08 & 5 \\\\\n",
       "\\end{tabular}\n"
      ],
      "text/plain": [
       "5×5 DataFrame\n",
       "│ Row │ A     │ B     │ C     │ D         │ E     │\n",
       "│     │ \u001b[90mInt64\u001b[39m │ \u001b[90mInt64\u001b[39m │ \u001b[90mInt64\u001b[39m │ \u001b[90mString\u001b[39m    │ \u001b[90mInt64\u001b[39m │\n",
       "├─────┼───────┼───────┼───────┼───────────┼───────┤\n",
       "│ 1   │ 0     │ 0     │ 0     │ CnxKGI2pr │ 1     │\n",
       "│ 2   │ 1     │ 2     │ 0     │ qjEDuIH9h │ 2     │\n",
       "│ 3   │ 0     │ 1     │ 1     │ P2RzhHpln │ 3     │\n",
       "│ 4   │ 1     │ 0     │ 1     │ SHd4BTv0z │ 4     │\n",
       "│ 5   │ 1     │ 1     │ 1     │ 41G6s08   │ 5     │"
      ]
     },
     "execution_count": 35,
     "metadata": {},
     "output_type": "execute_result"
    }
   ],
   "source": [
    "push!(df, (1, 1, 1, randstring(7), 5))"
   ]
  },
  {
   "cell_type": "markdown",
   "metadata": {},
   "source": [
    "### Reading and writing data:"
   ]
  },
  {
   "cell_type": "markdown",
   "metadata": {},
   "source": [
    "Most likely you will not be manually creating dataframes as above but rather loading data from external files.\n",
    "\n",
    "You can read and write data to a variety of file formats."
   ]
  },
  {
   "cell_type": "markdown",
   "metadata": {},
   "source": [
    "If you want to save your dataframe to a CSV file you can use the `CSV.write` function in the **CSV.jl** package:"
   ]
  },
  {
   "cell_type": "code",
   "execution_count": 36,
   "metadata": {},
   "outputs": [],
   "source": [
    "using CSV"
   ]
  },
  {
   "cell_type": "markdown",
   "metadata": {},
   "source": [
    "The first argument is the desired name of the CSV file and the second is the name of the dataframe:"
   ]
  },
  {
   "cell_type": "code",
   "execution_count": 37,
   "metadata": {},
   "outputs": [],
   "source": [
    "CSV.write(\"mydf.csv\", df);"
   ]
  },
  {
   "cell_type": "markdown",
   "metadata": {},
   "source": [
    "If you want to load the CSV file use `CSV.read`:"
   ]
  },
  {
   "cell_type": "code",
   "execution_count": 38,
   "metadata": {},
   "outputs": [
    {
     "name": "stderr",
     "output_type": "stream",
     "text": [
      "┌ Warning: `CSV.read(input; kw...)` is deprecated in favor of `using DataFrames; CSV.read(input, DataFrame; kw...)\n",
      "│   caller = read(::String) at CSV.jl:40\n",
      "└ @ CSV /nas/longleaf/apps/julia/1.3.0/share/julia/packages/CSV/MKemC/src/CSV.jl:40\n"
     ]
    },
    {
     "data": {
      "text/html": [
       "<table class=\"data-frame\"><thead><tr><th></th><th>A</th><th>B</th><th>C</th><th>D</th><th>E</th></tr><tr><th></th><th>Int64</th><th>Int64</th><th>Int64</th><th>String</th><th>Int64</th></tr></thead><tbody><p>5 rows × 5 columns</p><tr><th>1</th><td>0</td><td>0</td><td>0</td><td>CnxKGI2pr</td><td>1</td></tr><tr><th>2</th><td>1</td><td>2</td><td>0</td><td>qjEDuIH9h</td><td>2</td></tr><tr><th>3</th><td>0</td><td>1</td><td>1</td><td>P2RzhHpln</td><td>3</td></tr><tr><th>4</th><td>1</td><td>0</td><td>1</td><td>SHd4BTv0z</td><td>4</td></tr><tr><th>5</th><td>1</td><td>1</td><td>1</td><td>41G6s08</td><td>5</td></tr></tbody></table>"
      ],
      "text/latex": [
       "\\begin{tabular}{r|ccccc}\n",
       "\t& A & B & C & D & E\\\\\n",
       "\t\\hline\n",
       "\t& Int64 & Int64 & Int64 & String & Int64\\\\\n",
       "\t\\hline\n",
       "\t1 & 0 & 0 & 0 & CnxKGI2pr & 1 \\\\\n",
       "\t2 & 1 & 2 & 0 & qjEDuIH9h & 2 \\\\\n",
       "\t3 & 0 & 1 & 1 & P2RzhHpln & 3 \\\\\n",
       "\t4 & 1 & 0 & 1 & SHd4BTv0z & 4 \\\\\n",
       "\t5 & 1 & 1 & 1 & 41G6s08 & 5 \\\\\n",
       "\\end{tabular}\n"
      ],
      "text/plain": [
       "5×5 DataFrame\n",
       "│ Row │ A     │ B     │ C     │ D         │ E     │\n",
       "│     │ \u001b[90mInt64\u001b[39m │ \u001b[90mInt64\u001b[39m │ \u001b[90mInt64\u001b[39m │ \u001b[90mString\u001b[39m    │ \u001b[90mInt64\u001b[39m │\n",
       "├─────┼───────┼───────┼───────┼───────────┼───────┤\n",
       "│ 1   │ 0     │ 0     │ 0     │ CnxKGI2pr │ 1     │\n",
       "│ 2   │ 1     │ 2     │ 0     │ qjEDuIH9h │ 2     │\n",
       "│ 3   │ 0     │ 1     │ 1     │ P2RzhHpln │ 3     │\n",
       "│ 4   │ 1     │ 0     │ 1     │ SHd4BTv0z │ 4     │\n",
       "│ 5   │ 1     │ 1     │ 1     │ 41G6s08   │ 5     │"
      ]
     },
     "execution_count": 38,
     "metadata": {},
     "output_type": "execute_result"
    }
   ],
   "source": [
    "df = CSV.read(\"mydf.csv\")"
   ]
  },
  {
   "cell_type": "code",
   "execution_count": 39,
   "metadata": {},
   "outputs": [
    {
     "data": {
      "text/plain": [
       "DataFrame"
      ]
     },
     "execution_count": 39,
     "metadata": {},
     "output_type": "execute_result"
    }
   ],
   "source": [
    "typeof(df)"
   ]
  },
  {
   "cell_type": "markdown",
   "metadata": {},
   "source": [
    "Note that the column type is different for a dataframe created from reading in a csv file versus a dataframe created manually."
   ]
  },
  {
   "cell_type": "code",
   "execution_count": 40,
   "metadata": {},
   "outputs": [
    {
     "data": {
      "text/plain": [
       "Array{Int64,1}"
      ]
     },
     "execution_count": 40,
     "metadata": {},
     "output_type": "execute_result"
    }
   ],
   "source": [
    "typeof(df.A)"
   ]
  },
  {
   "cell_type": "markdown",
   "metadata": {},
   "source": [
    "You can specify saving the dataframe using a different delimiter:"
   ]
  },
  {
   "cell_type": "code",
   "execution_count": 41,
   "metadata": {},
   "outputs": [],
   "source": [
    "CSV.write(\"mydf.tsv\", df, delim='\\t');"
   ]
  },
  {
   "cell_type": "code",
   "execution_count": 42,
   "metadata": {},
   "outputs": [
    {
     "name": "stderr",
     "output_type": "stream",
     "text": [
      "┌ Warning: `CSV.read(input; kw...)` is deprecated in favor of `using DataFrames; CSV.read(input, DataFrame; kw...)\n",
      "│   caller = ip:0x0\n",
      "└ @ Core :-1\n"
     ]
    }
   ],
   "source": [
    "df = CSV.read(\"mydf.tsv\", delim='\\t');"
   ]
  },
  {
   "cell_type": "code",
   "execution_count": 43,
   "metadata": {},
   "outputs": [
    {
     "data": {
      "text/html": [
       "<table class=\"data-frame\"><thead><tr><th></th><th>A</th><th>B</th><th>C</th><th>D</th><th>E</th></tr><tr><th></th><th>Int64</th><th>Int64</th><th>Int64</th><th>String</th><th>Int64</th></tr></thead><tbody><p>5 rows × 5 columns</p><tr><th>1</th><td>0</td><td>0</td><td>0</td><td>CnxKGI2pr</td><td>1</td></tr><tr><th>2</th><td>1</td><td>2</td><td>0</td><td>qjEDuIH9h</td><td>2</td></tr><tr><th>3</th><td>0</td><td>1</td><td>1</td><td>P2RzhHpln</td><td>3</td></tr><tr><th>4</th><td>1</td><td>0</td><td>1</td><td>SHd4BTv0z</td><td>4</td></tr><tr><th>5</th><td>1</td><td>1</td><td>1</td><td>41G6s08</td><td>5</td></tr></tbody></table>"
      ],
      "text/latex": [
       "\\begin{tabular}{r|ccccc}\n",
       "\t& A & B & C & D & E\\\\\n",
       "\t\\hline\n",
       "\t& Int64 & Int64 & Int64 & String & Int64\\\\\n",
       "\t\\hline\n",
       "\t1 & 0 & 0 & 0 & CnxKGI2pr & 1 \\\\\n",
       "\t2 & 1 & 2 & 0 & qjEDuIH9h & 2 \\\\\n",
       "\t3 & 0 & 1 & 1 & P2RzhHpln & 3 \\\\\n",
       "\t4 & 1 & 0 & 1 & SHd4BTv0z & 4 \\\\\n",
       "\t5 & 1 & 1 & 1 & 41G6s08 & 5 \\\\\n",
       "\\end{tabular}\n"
      ],
      "text/plain": [
       "5×5 DataFrame\n",
       "│ Row │ A     │ B     │ C     │ D         │ E     │\n",
       "│     │ \u001b[90mInt64\u001b[39m │ \u001b[90mInt64\u001b[39m │ \u001b[90mInt64\u001b[39m │ \u001b[90mString\u001b[39m    │ \u001b[90mInt64\u001b[39m │\n",
       "├─────┼───────┼───────┼───────┼───────────┼───────┤\n",
       "│ 1   │ 0     │ 0     │ 0     │ CnxKGI2pr │ 1     │\n",
       "│ 2   │ 1     │ 2     │ 0     │ qjEDuIH9h │ 2     │\n",
       "│ 3   │ 0     │ 1     │ 1     │ P2RzhHpln │ 3     │\n",
       "│ 4   │ 1     │ 0     │ 1     │ SHd4BTv0z │ 4     │\n",
       "│ 5   │ 1     │ 1     │ 1     │ 41G6s08   │ 5     │"
      ]
     },
     "execution_count": 43,
     "metadata": {},
     "output_type": "execute_result"
    }
   ],
   "source": [
    "df"
   ]
  },
  {
   "cell_type": "markdown",
   "metadata": {},
   "source": [
    "The CSV.jl package has a couple of useful features. Let us look at a few features related to reading in csv data (there are many more than we'll cover here)."
   ]
  },
  {
   "cell_type": "markdown",
   "metadata": {},
   "source": [
    "You can indicate where the header row starts in the file. By default, data will be read in starting on the next row. Let's look at our example file:"
   ]
  },
  {
   "cell_type": "code",
   "execution_count": 44,
   "metadata": {},
   "outputs": [
    {
     "name": "stdout",
     "output_type": "stream",
     "text": [
      "# This is a test file\n",
      "# Header starts on line 3\n",
      "A,B,C,D,E\n",
      "0,1,1,Ux0pu5ELc,3\n",
      "1,0,1,F7ZVLlfJJ,4\n",
      "1,1,1,FKLTflu,5\n",
      "99,1,0,HUfdsDOOas,6\n",
      "0,NA,NA,PUhgjmjef,7\n",
      "1,99,NA,Ytf4OFtr,8\n",
      "0,0,1,hU4df56sf,9\n"
     ]
    }
   ],
   "source": [
    ";cat readinexample.csv"
   ]
  },
  {
   "cell_type": "markdown",
   "metadata": {},
   "source": [
    "Here the header row is on the third line so we can specify that in our CSV.read() command using its `header` keyword argument."
   ]
  },
  {
   "cell_type": "code",
   "execution_count": 45,
   "metadata": {},
   "outputs": [
    {
     "data": {
      "text/html": [
       "<table class=\"data-frame\"><thead><tr><th></th><th>A</th><th>B</th><th>C</th><th>D</th><th>E</th></tr><tr><th></th><th>Int64</th><th>String</th><th>String</th><th>String</th><th>Int64</th></tr></thead><tbody><p>7 rows × 5 columns</p><tr><th>1</th><td>0</td><td>1</td><td>1</td><td>Ux0pu5ELc</td><td>3</td></tr><tr><th>2</th><td>1</td><td>0</td><td>1</td><td>F7ZVLlfJJ</td><td>4</td></tr><tr><th>3</th><td>1</td><td>1</td><td>1</td><td>FKLTflu</td><td>5</td></tr><tr><th>4</th><td>99</td><td>1</td><td>0</td><td>HUfdsDOOas</td><td>6</td></tr><tr><th>5</th><td>0</td><td>NA</td><td>NA</td><td>PUhgjmjef</td><td>7</td></tr><tr><th>6</th><td>1</td><td>99</td><td>NA</td><td>Ytf4OFtr</td><td>8</td></tr><tr><th>7</th><td>0</td><td>0</td><td>1</td><td>hU4df56sf</td><td>9</td></tr></tbody></table>"
      ],
      "text/latex": [
       "\\begin{tabular}{r|ccccc}\n",
       "\t& A & B & C & D & E\\\\\n",
       "\t\\hline\n",
       "\t& Int64 & String & String & String & Int64\\\\\n",
       "\t\\hline\n",
       "\t1 & 0 & 1 & 1 & Ux0pu5ELc & 3 \\\\\n",
       "\t2 & 1 & 0 & 1 & F7ZVLlfJJ & 4 \\\\\n",
       "\t3 & 1 & 1 & 1 & FKLTflu & 5 \\\\\n",
       "\t4 & 99 & 1 & 0 & HUfdsDOOas & 6 \\\\\n",
       "\t5 & 0 & NA & NA & PUhgjmjef & 7 \\\\\n",
       "\t6 & 1 & 99 & NA & Ytf4OFtr & 8 \\\\\n",
       "\t7 & 0 & 0 & 1 & hU4df56sf & 9 \\\\\n",
       "\\end{tabular}\n"
      ],
      "text/plain": [
       "7×5 DataFrame\n",
       "│ Row │ A     │ B      │ C      │ D          │ E     │\n",
       "│     │ \u001b[90mInt64\u001b[39m │ \u001b[90mString\u001b[39m │ \u001b[90mString\u001b[39m │ \u001b[90mString\u001b[39m     │ \u001b[90mInt64\u001b[39m │\n",
       "├─────┼───────┼────────┼────────┼────────────┼───────┤\n",
       "│ 1   │ 0     │ 1      │ 1      │ Ux0pu5ELc  │ 3     │\n",
       "│ 2   │ 1     │ 0      │ 1      │ F7ZVLlfJJ  │ 4     │\n",
       "│ 3   │ 1     │ 1      │ 1      │ FKLTflu    │ 5     │\n",
       "│ 4   │ 99    │ 1      │ 0      │ HUfdsDOOas │ 6     │\n",
       "│ 5   │ 0     │ NA     │ NA     │ PUhgjmjef  │ 7     │\n",
       "│ 6   │ 1     │ 99     │ NA     │ Ytf4OFtr   │ 8     │\n",
       "│ 7   │ 0     │ 0      │ 1      │ hU4df56sf  │ 9     │"
      ]
     },
     "execution_count": 45,
     "metadata": {},
     "output_type": "execute_result"
    }
   ],
   "source": [
    "CSV.read(\"readinexample.csv\", header=3)"
   ]
  },
  {
   "cell_type": "markdown",
   "metadata": {},
   "source": [
    " Note if your file has no header you can simply set `header=false`."
   ]
  },
  {
   "cell_type": "markdown",
   "metadata": {},
   "source": [
    "You can also read in data starting at a specified row in the file. There are two ways to do this: one way is using the `datarow` keyword argument and anoterway is via the `skipto` keyword argument. The former indicates the row number at which to start reading in data; the latter indicates the number of rows to skip before reading in data."
   ]
  },
  {
   "cell_type": "markdown",
   "metadata": {},
   "source": [
    "Here we indicate the header is on row 3 and the data we want to read starts on row 6."
   ]
  },
  {
   "cell_type": "code",
   "execution_count": 46,
   "metadata": {},
   "outputs": [
    {
     "data": {
      "text/html": [
       "<table class=\"data-frame\"><thead><tr><th></th><th>A</th><th>B</th><th>C</th><th>D</th><th>E</th></tr><tr><th></th><th>Int64</th><th>String</th><th>String</th><th>String</th><th>Int64</th></tr></thead><tbody><p>5 rows × 5 columns</p><tr><th>1</th><td>1</td><td>1</td><td>1</td><td>FKLTflu</td><td>5</td></tr><tr><th>2</th><td>99</td><td>1</td><td>0</td><td>HUfdsDOOas</td><td>6</td></tr><tr><th>3</th><td>0</td><td>NA</td><td>NA</td><td>PUhgjmjef</td><td>7</td></tr><tr><th>4</th><td>1</td><td>99</td><td>NA</td><td>Ytf4OFtr</td><td>8</td></tr><tr><th>5</th><td>0</td><td>0</td><td>1</td><td>hU4df56sf</td><td>9</td></tr></tbody></table>"
      ],
      "text/latex": [
       "\\begin{tabular}{r|ccccc}\n",
       "\t& A & B & C & D & E\\\\\n",
       "\t\\hline\n",
       "\t& Int64 & String & String & String & Int64\\\\\n",
       "\t\\hline\n",
       "\t1 & 1 & 1 & 1 & FKLTflu & 5 \\\\\n",
       "\t2 & 99 & 1 & 0 & HUfdsDOOas & 6 \\\\\n",
       "\t3 & 0 & NA & NA & PUhgjmjef & 7 \\\\\n",
       "\t4 & 1 & 99 & NA & Ytf4OFtr & 8 \\\\\n",
       "\t5 & 0 & 0 & 1 & hU4df56sf & 9 \\\\\n",
       "\\end{tabular}\n"
      ],
      "text/plain": [
       "5×5 DataFrame\n",
       "│ Row │ A     │ B      │ C      │ D          │ E     │\n",
       "│     │ \u001b[90mInt64\u001b[39m │ \u001b[90mString\u001b[39m │ \u001b[90mString\u001b[39m │ \u001b[90mString\u001b[39m     │ \u001b[90mInt64\u001b[39m │\n",
       "├─────┼───────┼────────┼────────┼────────────┼───────┤\n",
       "│ 1   │ 1     │ 1      │ 1      │ FKLTflu    │ 5     │\n",
       "│ 2   │ 99    │ 1      │ 0      │ HUfdsDOOas │ 6     │\n",
       "│ 3   │ 0     │ NA     │ NA     │ PUhgjmjef  │ 7     │\n",
       "│ 4   │ 1     │ 99     │ NA     │ Ytf4OFtr   │ 8     │\n",
       "│ 5   │ 0     │ 0      │ 1      │ hU4df56sf  │ 9     │"
      ]
     },
     "execution_count": 46,
     "metadata": {},
     "output_type": "execute_result"
    }
   ],
   "source": [
    "CSV.read(\"readinexample.csv\", header=3, datarow=6)"
   ]
  },
  {
   "cell_type": "code",
   "execution_count": 47,
   "metadata": {},
   "outputs": [
    {
     "data": {
      "text/html": [
       "<table class=\"data-frame\"><thead><tr><th></th><th>A</th><th>B</th><th>C</th><th>D</th><th>E</th></tr><tr><th></th><th>Int64</th><th>String</th><th>String</th><th>String</th><th>Int64</th></tr></thead><tbody><p>5 rows × 5 columns</p><tr><th>1</th><td>1</td><td>1</td><td>1</td><td>FKLTflu</td><td>5</td></tr><tr><th>2</th><td>99</td><td>1</td><td>0</td><td>HUfdsDOOas</td><td>6</td></tr><tr><th>3</th><td>0</td><td>NA</td><td>NA</td><td>PUhgjmjef</td><td>7</td></tr><tr><th>4</th><td>1</td><td>99</td><td>NA</td><td>Ytf4OFtr</td><td>8</td></tr><tr><th>5</th><td>0</td><td>0</td><td>1</td><td>hU4df56sf</td><td>9</td></tr></tbody></table>"
      ],
      "text/latex": [
       "\\begin{tabular}{r|ccccc}\n",
       "\t& A & B & C & D & E\\\\\n",
       "\t\\hline\n",
       "\t& Int64 & String & String & String & Int64\\\\\n",
       "\t\\hline\n",
       "\t1 & 1 & 1 & 1 & FKLTflu & 5 \\\\\n",
       "\t2 & 99 & 1 & 0 & HUfdsDOOas & 6 \\\\\n",
       "\t3 & 0 & NA & NA & PUhgjmjef & 7 \\\\\n",
       "\t4 & 1 & 99 & NA & Ytf4OFtr & 8 \\\\\n",
       "\t5 & 0 & 0 & 1 & hU4df56sf & 9 \\\\\n",
       "\\end{tabular}\n"
      ],
      "text/plain": [
       "5×5 DataFrame\n",
       "│ Row │ A     │ B      │ C      │ D          │ E     │\n",
       "│     │ \u001b[90mInt64\u001b[39m │ \u001b[90mString\u001b[39m │ \u001b[90mString\u001b[39m │ \u001b[90mString\u001b[39m     │ \u001b[90mInt64\u001b[39m │\n",
       "├─────┼───────┼────────┼────────┼────────────┼───────┤\n",
       "│ 1   │ 1     │ 1      │ 1      │ FKLTflu    │ 5     │\n",
       "│ 2   │ 99    │ 1      │ 0      │ HUfdsDOOas │ 6     │\n",
       "│ 3   │ 0     │ NA     │ NA     │ PUhgjmjef  │ 7     │\n",
       "│ 4   │ 1     │ 99     │ NA     │ Ytf4OFtr   │ 8     │\n",
       "│ 5   │ 0     │ 0      │ 1      │ hU4df56sf  │ 9     │"
      ]
     },
     "execution_count": 47,
     "metadata": {},
     "output_type": "execute_result"
    }
   ],
   "source": [
    "CSV.read(\"readinexample.csv\", header=3, skipto=6)"
   ]
  },
  {
   "cell_type": "markdown",
   "metadata": {},
   "source": [
    "If certain values should be treated as `missing` you can indicate that with the `missingstrings` keyword argument. In our file, let's assume that the values 99 and NA should be treated as missing when the data is read in:"
   ]
  },
  {
   "cell_type": "code",
   "execution_count": 48,
   "metadata": {},
   "outputs": [
    {
     "data": {
      "text/html": [
       "<table class=\"data-frame\"><thead><tr><th></th><th>A</th><th>B</th><th>C</th><th>D</th><th>E</th></tr><tr><th></th><th>Int64?</th><th>Int64?</th><th>Int64?</th><th>String</th><th>Int64</th></tr></thead><tbody><p>7 rows × 5 columns</p><tr><th>1</th><td>0</td><td>1</td><td>1</td><td>Ux0pu5ELc</td><td>3</td></tr><tr><th>2</th><td>1</td><td>0</td><td>1</td><td>F7ZVLlfJJ</td><td>4</td></tr><tr><th>3</th><td>1</td><td>1</td><td>1</td><td>FKLTflu</td><td>5</td></tr><tr><th>4</th><td><em>missing</em></td><td>1</td><td>0</td><td>HUfdsDOOas</td><td>6</td></tr><tr><th>5</th><td>0</td><td><em>missing</em></td><td><em>missing</em></td><td>PUhgjmjef</td><td>7</td></tr><tr><th>6</th><td>1</td><td><em>missing</em></td><td><em>missing</em></td><td>Ytf4OFtr</td><td>8</td></tr><tr><th>7</th><td>0</td><td>0</td><td>1</td><td>hU4df56sf</td><td>9</td></tr></tbody></table>"
      ],
      "text/latex": [
       "\\begin{tabular}{r|ccccc}\n",
       "\t& A & B & C & D & E\\\\\n",
       "\t\\hline\n",
       "\t& Int64? & Int64? & Int64? & String & Int64\\\\\n",
       "\t\\hline\n",
       "\t1 & 0 & 1 & 1 & Ux0pu5ELc & 3 \\\\\n",
       "\t2 & 1 & 0 & 1 & F7ZVLlfJJ & 4 \\\\\n",
       "\t3 & 1 & 1 & 1 & FKLTflu & 5 \\\\\n",
       "\t4 & \\emph{missing} & 1 & 0 & HUfdsDOOas & 6 \\\\\n",
       "\t5 & 0 & \\emph{missing} & \\emph{missing} & PUhgjmjef & 7 \\\\\n",
       "\t6 & 1 & \\emph{missing} & \\emph{missing} & Ytf4OFtr & 8 \\\\\n",
       "\t7 & 0 & 0 & 1 & hU4df56sf & 9 \\\\\n",
       "\\end{tabular}\n"
      ],
      "text/plain": [
       "7×5 DataFrame\n",
       "│ Row │ A       │ B       │ C       │ D          │ E     │\n",
       "│     │ \u001b[90mInt64?\u001b[39m  │ \u001b[90mInt64?\u001b[39m  │ \u001b[90mInt64?\u001b[39m  │ \u001b[90mString\u001b[39m     │ \u001b[90mInt64\u001b[39m │\n",
       "├─────┼─────────┼─────────┼─────────┼────────────┼───────┤\n",
       "│ 1   │ 0       │ 1       │ 1       │ Ux0pu5ELc  │ 3     │\n",
       "│ 2   │ 1       │ 0       │ 1       │ F7ZVLlfJJ  │ 4     │\n",
       "│ 3   │ 1       │ 1       │ 1       │ FKLTflu    │ 5     │\n",
       "│ 4   │ \u001b[90mmissing\u001b[39m │ 1       │ 0       │ HUfdsDOOas │ 6     │\n",
       "│ 5   │ 0       │ \u001b[90mmissing\u001b[39m │ \u001b[90mmissing\u001b[39m │ PUhgjmjef  │ 7     │\n",
       "│ 6   │ 1       │ \u001b[90mmissing\u001b[39m │ \u001b[90mmissing\u001b[39m │ Ytf4OFtr   │ 8     │\n",
       "│ 7   │ 0       │ 0       │ 1       │ hU4df56sf  │ 9     │"
      ]
     },
     "execution_count": 48,
     "metadata": {},
     "output_type": "execute_result"
    }
   ],
   "source": [
    "CSV.read(\"readinexample.csv\", header=3, missingstrings=[\"99\", \"NA\"])"
   ]
  },
  {
   "cell_type": "markdown",
   "metadata": {},
   "source": [
    "The last thing we'll cover is selecting specific columns, or dropping columns, when reading in data. Suppose we only wanted to read in the columns _A_, _B_, and _D_? You can specify this using the column name or column index in the `select` keyword argument."
   ]
  },
  {
   "cell_type": "code",
   "execution_count": 49,
   "metadata": {},
   "outputs": [
    {
     "data": {
      "text/html": [
       "<table class=\"data-frame\"><thead><tr><th></th><th>A</th><th>B</th><th>D</th></tr><tr><th></th><th>Int64</th><th>String</th><th>String</th></tr></thead><tbody><p>7 rows × 3 columns</p><tr><th>1</th><td>0</td><td>1</td><td>Ux0pu5ELc</td></tr><tr><th>2</th><td>1</td><td>0</td><td>F7ZVLlfJJ</td></tr><tr><th>3</th><td>1</td><td>1</td><td>FKLTflu</td></tr><tr><th>4</th><td>99</td><td>1</td><td>HUfdsDOOas</td></tr><tr><th>5</th><td>0</td><td>NA</td><td>PUhgjmjef</td></tr><tr><th>6</th><td>1</td><td>99</td><td>Ytf4OFtr</td></tr><tr><th>7</th><td>0</td><td>0</td><td>hU4df56sf</td></tr></tbody></table>"
      ],
      "text/latex": [
       "\\begin{tabular}{r|ccc}\n",
       "\t& A & B & D\\\\\n",
       "\t\\hline\n",
       "\t& Int64 & String & String\\\\\n",
       "\t\\hline\n",
       "\t1 & 0 & 1 & Ux0pu5ELc \\\\\n",
       "\t2 & 1 & 0 & F7ZVLlfJJ \\\\\n",
       "\t3 & 1 & 1 & FKLTflu \\\\\n",
       "\t4 & 99 & 1 & HUfdsDOOas \\\\\n",
       "\t5 & 0 & NA & PUhgjmjef \\\\\n",
       "\t6 & 1 & 99 & Ytf4OFtr \\\\\n",
       "\t7 & 0 & 0 & hU4df56sf \\\\\n",
       "\\end{tabular}\n"
      ],
      "text/plain": [
       "7×3 DataFrame\n",
       "│ Row │ A     │ B      │ D          │\n",
       "│     │ \u001b[90mInt64\u001b[39m │ \u001b[90mString\u001b[39m │ \u001b[90mString\u001b[39m     │\n",
       "├─────┼───────┼────────┼────────────┤\n",
       "│ 1   │ 0     │ 1      │ Ux0pu5ELc  │\n",
       "│ 2   │ 1     │ 0      │ F7ZVLlfJJ  │\n",
       "│ 3   │ 1     │ 1      │ FKLTflu    │\n",
       "│ 4   │ 99    │ 1      │ HUfdsDOOas │\n",
       "│ 5   │ 0     │ NA     │ PUhgjmjef  │\n",
       "│ 6   │ 1     │ 99     │ Ytf4OFtr   │\n",
       "│ 7   │ 0     │ 0      │ hU4df56sf  │"
      ]
     },
     "execution_count": 49,
     "metadata": {},
     "output_type": "execute_result"
    }
   ],
   "source": [
    "CSV.read(\"readinexample.csv\", header=3, select=[\"A\", \"B\", \"D\"])"
   ]
  },
  {
   "cell_type": "markdown",
   "metadata": {},
   "source": [
    "And if you wanted to drop columns _C_ and _D_ use `drop`:"
   ]
  },
  {
   "cell_type": "code",
   "execution_count": 50,
   "metadata": {},
   "outputs": [
    {
     "ename": "LoadError",
     "evalue": "syntax: cannot juxtapose string literal",
     "output_type": "error",
     "traceback": [
      "syntax: cannot juxtapose string literal",
      ""
     ]
    }
   ],
   "source": [
    "CSV.read(\"readinexample.csv\", header=3, drop=[C\", \"D\"])"
   ]
  },
  {
   "cell_type": "markdown",
   "metadata": {},
   "source": [
    "You can also use the column index number. Here columns _C_ and _D_ are the third and fifth columns respectively in our csv file:"
   ]
  },
  {
   "cell_type": "code",
   "execution_count": 51,
   "metadata": {},
   "outputs": [
    {
     "data": {
      "text/html": [
       "<table class=\"data-frame\"><thead><tr><th></th><th>A</th><th>B</th><th>D</th></tr><tr><th></th><th>Int64</th><th>String</th><th>String</th></tr></thead><tbody><p>7 rows × 3 columns</p><tr><th>1</th><td>0</td><td>1</td><td>Ux0pu5ELc</td></tr><tr><th>2</th><td>1</td><td>0</td><td>F7ZVLlfJJ</td></tr><tr><th>3</th><td>1</td><td>1</td><td>FKLTflu</td></tr><tr><th>4</th><td>99</td><td>1</td><td>HUfdsDOOas</td></tr><tr><th>5</th><td>0</td><td>NA</td><td>PUhgjmjef</td></tr><tr><th>6</th><td>1</td><td>99</td><td>Ytf4OFtr</td></tr><tr><th>7</th><td>0</td><td>0</td><td>hU4df56sf</td></tr></tbody></table>"
      ],
      "text/latex": [
       "\\begin{tabular}{r|ccc}\n",
       "\t& A & B & D\\\\\n",
       "\t\\hline\n",
       "\t& Int64 & String & String\\\\\n",
       "\t\\hline\n",
       "\t1 & 0 & 1 & Ux0pu5ELc \\\\\n",
       "\t2 & 1 & 0 & F7ZVLlfJJ \\\\\n",
       "\t3 & 1 & 1 & FKLTflu \\\\\n",
       "\t4 & 99 & 1 & HUfdsDOOas \\\\\n",
       "\t5 & 0 & NA & PUhgjmjef \\\\\n",
       "\t6 & 1 & 99 & Ytf4OFtr \\\\\n",
       "\t7 & 0 & 0 & hU4df56sf \\\\\n",
       "\\end{tabular}\n"
      ],
      "text/plain": [
       "7×3 DataFrame\n",
       "│ Row │ A     │ B      │ D          │\n",
       "│     │ \u001b[90mInt64\u001b[39m │ \u001b[90mString\u001b[39m │ \u001b[90mString\u001b[39m     │\n",
       "├─────┼───────┼────────┼────────────┤\n",
       "│ 1   │ 0     │ 1      │ Ux0pu5ELc  │\n",
       "│ 2   │ 1     │ 0      │ F7ZVLlfJJ  │\n",
       "│ 3   │ 1     │ 1      │ FKLTflu    │\n",
       "│ 4   │ 99    │ 1      │ HUfdsDOOas │\n",
       "│ 5   │ 0     │ NA     │ PUhgjmjef  │\n",
       "│ 6   │ 1     │ 99     │ Ytf4OFtr   │\n",
       "│ 7   │ 0     │ 0      │ hU4df56sf  │"
      ]
     },
     "execution_count": 51,
     "metadata": {},
     "output_type": "execute_result"
    }
   ],
   "source": [
    "CSV.read(\"readinexample.csv\", header=3, drop=[3,5])"
   ]
  },
  {
   "cell_type": "markdown",
   "metadata": {},
   "source": [
    "There are other Julia packages for reading other file formats (these are just a select few):\n",
    "* ReadStat.jl: Stata, SAS, and SPSS data files.\n",
    "* Parquet.jl: Parquet files.\n",
    "* JSON.jl, JSON2.jl, JSON3.jl: JSON files.\n"
   ]
  },
  {
   "cell_type": "markdown",
   "metadata": {},
   "source": [
    "In this lesson we covered:\n",
    "* What the Julia DataFrames package can be used for.\n",
    "* What the DataFrame type is.\n",
    "* The basics of Julia datframes.\n",
    "* Simple I/O using dataframes and the CSV.jl package."
   ]
  },
  {
   "cell_type": "code",
   "execution_count": null,
   "metadata": {},
   "outputs": [],
   "source": []
  }
 ],
 "metadata": {
  "@webio": {
   "lastCommId": null,
   "lastKernelId": null
  },
  "kernelspec": {
   "display_name": "Julia 1.3.0",
   "language": "julia",
   "name": "julia-1.3"
  },
  "language_info": {
   "file_extension": ".jl",
   "mimetype": "application/julia",
   "name": "julia",
   "version": "1.3.0"
  }
 },
 "nbformat": 4,
 "nbformat_minor": 4
}
