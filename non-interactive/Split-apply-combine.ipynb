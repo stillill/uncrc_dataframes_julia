{
 "cells": [
  {
   "cell_type": "markdown",
   "metadata": {},
   "source": [
    "# V. Split-apply-combine"
   ]
  },
  {
   "cell_type": "markdown",
   "metadata": {},
   "source": [
    "The split-apply-combine strategy refers to the notion of partitioning data into groups, doing computations on these groups, and then combining results. The original dataframe will typically have categorical variables that allow the data to be separated into different groups based on the values of these categorical variables.\n",
    "\n",
    "We'll cover the primary functions for this type of workflow for use with dataframes:\n",
    "\n",
    "`by(df, cols, f)`\n",
    "\n",
    "`aggregate(df, cols, f)`\n",
    "\n",
    "`groupby(df, cols, skipmissing=false)`"
   ]
  },
  {
   "cell_type": "code",
   "execution_count": 1,
   "metadata": {},
   "outputs": [],
   "source": [
    "using DataFrames, Distributions, Random, Statistics, CategoricalArrays"
   ]
  },
  {
   "cell_type": "code",
   "execution_count": 2,
   "metadata": {},
   "outputs": [],
   "source": [
    "#create a dataframe\n",
    "\n",
    "Random.seed!(1234)\n",
    "\n",
    "N = 20\n",
    "df = DataFrame(ID = 1:N,\n",
    "                Category = wsample([\"Low\", \"Medium\", \"High\"], [1/3, 1/3, 1/3], N),\n",
    "                Weight = rand(120:170, N),\n",
    "                Age = rand(20:80, N),\n",
    "                IndVar = wsample([0, 1], [0.5, 0.5], N),\n",
    "                RandNum = randn(N))\n",
    "\n",
    "categorical!(df, [:Category, :IndVar]);\n",
    "levels!(df.Category, [\"Low\", \"Medium\", \"High\"]);"
   ]
  },
  {
   "cell_type": "code",
   "execution_count": 3,
   "metadata": {},
   "outputs": [
    {
     "data": {
      "text/html": [
       "<table class=\"data-frame\"><thead><tr><th></th><th>ID</th><th>Category</th><th>Weight</th><th>Age</th><th>IndVar</th><th>RandNum</th></tr><tr><th></th><th>Int64</th><th>Cat…</th><th>Int64</th><th>Int64</th><th>Cat…</th><th>Float64</th></tr></thead><tbody><p>20 rows × 6 columns</p><tr><th>1</th><td>1</td><td>Medium</td><td>152</td><td>33</td><td>0</td><td>-0.981132</td></tr><tr><th>2</th><td>2</td><td>High</td><td>159</td><td>47</td><td>1</td><td>-0.316387</td></tr><tr><th>3</th><td>3</td><td>Medium</td><td>140</td><td>73</td><td>1</td><td>0.265743</td></tr><tr><th>4</th><td>4</td><td>Medium</td><td>145</td><td>47</td><td>0</td><td>1.06561</td></tr><tr><th>5</th><td>5</td><td>High</td><td>121</td><td>49</td><td>1</td><td>1.38501</td></tr><tr><th>6</th><td>6</td><td>High</td><td>149</td><td>27</td><td>0</td><td>0.0799514</td></tr><tr><th>7</th><td>7</td><td>Low</td><td>138</td><td>26</td><td>1</td><td>-0.833369</td></tr><tr><th>8</th><td>8</td><td>Low</td><td>126</td><td>20</td><td>1</td><td>-0.443247</td></tr><tr><th>9</th><td>9</td><td>Low</td><td>125</td><td>35</td><td>0</td><td>-1.66323</td></tr><tr><th>10</th><td>10</td><td>Medium</td><td>143</td><td>54</td><td>1</td><td>-0.521229</td></tr><tr><th>11</th><td>11</td><td>Medium</td><td>137</td><td>31</td><td>0</td><td>0.183976</td></tr><tr><th>12</th><td>12</td><td>Low</td><td>166</td><td>51</td><td>0</td><td>-1.27635</td></tr><tr><th>13</th><td>13</td><td>Low</td><td>156</td><td>29</td><td>1</td><td>1.03132</td></tr><tr><th>14</th><td>14</td><td>High</td><td>156</td><td>60</td><td>0</td><td>-0.910805</td></tr><tr><th>15</th><td>15</td><td>Medium</td><td>169</td><td>27</td><td>0</td><td>0.754603</td></tr><tr><th>16</th><td>16</td><td>Low</td><td>121</td><td>40</td><td>0</td><td>-1.29475</td></tr><tr><th>17</th><td>17</td><td>Low</td><td>129</td><td>62</td><td>1</td><td>-0.308944</td></tr><tr><th>18</th><td>18</td><td>Medium</td><td>137</td><td>61</td><td>0</td><td>1.30668</td></tr><tr><th>19</th><td>19</td><td>Low</td><td>128</td><td>62</td><td>0</td><td>1.44886</td></tr><tr><th>20</th><td>20</td><td>High</td><td>157</td><td>72</td><td>1</td><td>0.778151</td></tr></tbody></table>"
      ],
      "text/latex": [
       "\\begin{tabular}{r|cccccc}\n",
       "\t& ID & Category & Weight & Age & IndVar & RandNum\\\\\n",
       "\t\\hline\n",
       "\t& Int64 & Cat… & Int64 & Int64 & Cat… & Float64\\\\\n",
       "\t\\hline\n",
       "\t1 & 1 & Medium & 152 & 33 & 0 & -0.981132 \\\\\n",
       "\t2 & 2 & High & 159 & 47 & 1 & -0.316387 \\\\\n",
       "\t3 & 3 & Medium & 140 & 73 & 1 & 0.265743 \\\\\n",
       "\t4 & 4 & Medium & 145 & 47 & 0 & 1.06561 \\\\\n",
       "\t5 & 5 & High & 121 & 49 & 1 & 1.38501 \\\\\n",
       "\t6 & 6 & High & 149 & 27 & 0 & 0.0799514 \\\\\n",
       "\t7 & 7 & Low & 138 & 26 & 1 & -0.833369 \\\\\n",
       "\t8 & 8 & Low & 126 & 20 & 1 & -0.443247 \\\\\n",
       "\t9 & 9 & Low & 125 & 35 & 0 & -1.66323 \\\\\n",
       "\t10 & 10 & Medium & 143 & 54 & 1 & -0.521229 \\\\\n",
       "\t11 & 11 & Medium & 137 & 31 & 0 & 0.183976 \\\\\n",
       "\t12 & 12 & Low & 166 & 51 & 0 & -1.27635 \\\\\n",
       "\t13 & 13 & Low & 156 & 29 & 1 & 1.03132 \\\\\n",
       "\t14 & 14 & High & 156 & 60 & 0 & -0.910805 \\\\\n",
       "\t15 & 15 & Medium & 169 & 27 & 0 & 0.754603 \\\\\n",
       "\t16 & 16 & Low & 121 & 40 & 0 & -1.29475 \\\\\n",
       "\t17 & 17 & Low & 129 & 62 & 1 & -0.308944 \\\\\n",
       "\t18 & 18 & Medium & 137 & 61 & 0 & 1.30668 \\\\\n",
       "\t19 & 19 & Low & 128 & 62 & 0 & 1.44886 \\\\\n",
       "\t20 & 20 & High & 157 & 72 & 1 & 0.778151 \\\\\n",
       "\\end{tabular}\n"
      ],
      "text/plain": [
       "20×6 DataFrame\n",
       "│ Row │ ID    │ Category │ Weight │ Age   │ IndVar │ RandNum   │\n",
       "│     │ \u001b[90mInt64\u001b[39m │ \u001b[90mCat…\u001b[39m     │ \u001b[90mInt64\u001b[39m  │ \u001b[90mInt64\u001b[39m │ \u001b[90mCat…\u001b[39m   │ \u001b[90mFloat64\u001b[39m   │\n",
       "├─────┼───────┼──────────┼────────┼───────┼────────┼───────────┤\n",
       "│ 1   │ 1     │ Medium   │ 152    │ 33    │ 0      │ -0.981132 │\n",
       "│ 2   │ 2     │ High     │ 159    │ 47    │ 1      │ -0.316387 │\n",
       "│ 3   │ 3     │ Medium   │ 140    │ 73    │ 1      │ 0.265743  │\n",
       "│ 4   │ 4     │ Medium   │ 145    │ 47    │ 0      │ 1.06561   │\n",
       "│ 5   │ 5     │ High     │ 121    │ 49    │ 1      │ 1.38501   │\n",
       "│ 6   │ 6     │ High     │ 149    │ 27    │ 0      │ 0.0799514 │\n",
       "│ 7   │ 7     │ Low      │ 138    │ 26    │ 1      │ -0.833369 │\n",
       "│ 8   │ 8     │ Low      │ 126    │ 20    │ 1      │ -0.443247 │\n",
       "│ 9   │ 9     │ Low      │ 125    │ 35    │ 0      │ -1.66323  │\n",
       "│ 10  │ 10    │ Medium   │ 143    │ 54    │ 1      │ -0.521229 │\n",
       "│ 11  │ 11    │ Medium   │ 137    │ 31    │ 0      │ 0.183976  │\n",
       "│ 12  │ 12    │ Low      │ 166    │ 51    │ 0      │ -1.27635  │\n",
       "│ 13  │ 13    │ Low      │ 156    │ 29    │ 1      │ 1.03132   │\n",
       "│ 14  │ 14    │ High     │ 156    │ 60    │ 0      │ -0.910805 │\n",
       "│ 15  │ 15    │ Medium   │ 169    │ 27    │ 0      │ 0.754603  │\n",
       "│ 16  │ 16    │ Low      │ 121    │ 40    │ 0      │ -1.29475  │\n",
       "│ 17  │ 17    │ Low      │ 129    │ 62    │ 1      │ -0.308944 │\n",
       "│ 18  │ 18    │ Medium   │ 137    │ 61    │ 0      │ 1.30668   │\n",
       "│ 19  │ 19    │ Low      │ 128    │ 62    │ 0      │ 1.44886   │\n",
       "│ 20  │ 20    │ High     │ 157    │ 72    │ 1      │ 0.778151  │"
      ]
     },
     "execution_count": 3,
     "metadata": {},
     "output_type": "execute_result"
    }
   ],
   "source": [
    "df"
   ]
  },
  {
   "cell_type": "markdown",
   "metadata": {},
   "source": [
    "The `by` function is used to apply the function <i>f</i> to the input dataframe by the indicated columns. The function _f_ is a pair where the first element of the pair is the column variable(s) and the second element of the pair is the function to be applied to the column variable(s)."
   ]
  },
  {
   "cell_type": "markdown",
   "metadata": {},
   "source": [
    "Let's calculate the number of samples for each value of the <i>Category</i> variable. The third argument to `by` specifies to apply the `length` function to the <i>ID</i> variable and the second argument indicates to do this calculation by the different <i>Category</i> values."
   ]
  },
  {
   "cell_type": "code",
   "execution_count": 4,
   "metadata": {},
   "outputs": [
    {
     "name": "stderr",
     "output_type": "stream",
     "text": [
      "┌ Warning: `by(d::AbstractDataFrame, cols::Any, f::Pair{<:ColumnIndex}; sort::Bool=false, skipmissing::Bool=false)` is deprecated, use `combine(f, groupby(d, cols, sort=sort, skipmissing=skipmissing))` instead.\n",
      "│   caller = top-level scope at In[4]:1\n",
      "└ @ Core In[4]:1\n"
     ]
    },
    {
     "data": {
      "text/html": [
       "<table class=\"data-frame\"><thead><tr><th></th><th>Category</th><th>ID_length</th></tr><tr><th></th><th>Cat…</th><th>Int64</th></tr></thead><tbody><p>3 rows × 2 columns</p><tr><th>1</th><td>Low</td><td>8</td></tr><tr><th>2</th><td>Medium</td><td>7</td></tr><tr><th>3</th><td>High</td><td>5</td></tr></tbody></table>"
      ],
      "text/latex": [
       "\\begin{tabular}{r|cc}\n",
       "\t& Category & ID\\_length\\\\\n",
       "\t\\hline\n",
       "\t& Cat… & Int64\\\\\n",
       "\t\\hline\n",
       "\t1 & Low & 8 \\\\\n",
       "\t2 & Medium & 7 \\\\\n",
       "\t3 & High & 5 \\\\\n",
       "\\end{tabular}\n"
      ],
      "text/plain": [
       "3×2 DataFrame\n",
       "│ Row │ Category │ ID_length │\n",
       "│     │ \u001b[90mCat…\u001b[39m     │ \u001b[90mInt64\u001b[39m     │\n",
       "├─────┼──────────┼───────────┤\n",
       "│ 1   │ Low      │ 8         │\n",
       "│ 2   │ Medium   │ 7         │\n",
       "│ 3   │ High     │ 5         │"
      ]
     },
     "execution_count": 4,
     "metadata": {},
     "output_type": "execute_result"
    }
   ],
   "source": [
    "by(df, :Category, :ID => length)"
   ]
  },
  {
   "cell_type": "markdown",
   "metadata": {},
   "source": [
    "The default column name is a combination of the name of the column the function was applied to, an underscore, and the name of the function itself. You can specifiy a name for the column if you don't want the default name."
   ]
  },
  {
   "cell_type": "code",
   "execution_count": 5,
   "metadata": {},
   "outputs": [
    {
     "name": "stderr",
     "output_type": "stream",
     "text": [
      "┌ Warning: `by(d::AbstractDataFrame, cols::Any; sort::Bool=false, skipmissing::Bool=false, f...)` is deprecated, use `combine(groupby(d, cols, sort=sort, skipmissing=skipmissing), [if in_col isa ColumnIndex\n",
      "│             in_col\n",
      "│         else\n",
      "│             AsTable(in_col)\n",
      "│         end => (fun => out_col) for (out_col, (in_col, fun)) = f]...)` instead.\n",
      "│   caller = ip:0x0\n",
      "└ @ Core :-1\n"
     ]
    },
    {
     "data": {
      "text/html": [
       "<table class=\"data-frame\"><thead><tr><th></th><th>Category</th><th>IDCountByCat</th></tr><tr><th></th><th>Cat…</th><th>Int64</th></tr></thead><tbody><p>3 rows × 2 columns</p><tr><th>1</th><td>Low</td><td>8</td></tr><tr><th>2</th><td>Medium</td><td>7</td></tr><tr><th>3</th><td>High</td><td>5</td></tr></tbody></table>"
      ],
      "text/latex": [
       "\\begin{tabular}{r|cc}\n",
       "\t& Category & IDCountByCat\\\\\n",
       "\t\\hline\n",
       "\t& Cat… & Int64\\\\\n",
       "\t\\hline\n",
       "\t1 & Low & 8 \\\\\n",
       "\t2 & Medium & 7 \\\\\n",
       "\t3 & High & 5 \\\\\n",
       "\\end{tabular}\n"
      ],
      "text/plain": [
       "3×2 DataFrame\n",
       "│ Row │ Category │ IDCountByCat │\n",
       "│     │ \u001b[90mCat…\u001b[39m     │ \u001b[90mInt64\u001b[39m        │\n",
       "├─────┼──────────┼──────────────┤\n",
       "│ 1   │ Low      │ 8            │\n",
       "│ 2   │ Medium   │ 7            │\n",
       "│ 3   │ High     │ 5            │"
      ]
     },
     "execution_count": 5,
     "metadata": {},
     "output_type": "execute_result"
    }
   ],
   "source": [
    "by(df, :Category, IDCountByCat = :ID => length)"
   ]
  },
  {
   "cell_type": "markdown",
   "metadata": {},
   "source": [
    "To calculate additional functions, pass the additional functions as arguments to `by`. To calculate the sum total weight by category we use an anonymous function."
   ]
  },
  {
   "cell_type": "code",
   "execution_count": 6,
   "metadata": {},
   "outputs": [
    {
     "data": {
      "text/html": [
       "<table class=\"data-frame\"><thead><tr><th></th><th>Category</th><th>a</th><th>b</th></tr><tr><th></th><th>Cat…</th><th>Int64</th><th>Int64</th></tr></thead><tbody><p>3 rows × 3 columns</p><tr><th>1</th><td>Low</td><td>8</td><td>1089</td></tr><tr><th>2</th><td>Medium</td><td>7</td><td>1023</td></tr><tr><th>3</th><td>High</td><td>5</td><td>742</td></tr></tbody></table>"
      ],
      "text/latex": [
       "\\begin{tabular}{r|ccc}\n",
       "\t& Category & a & b\\\\\n",
       "\t\\hline\n",
       "\t& Cat… & Int64 & Int64\\\\\n",
       "\t\\hline\n",
       "\t1 & Low & 8 & 1089 \\\\\n",
       "\t2 & Medium & 7 & 1023 \\\\\n",
       "\t3 & High & 5 & 742 \\\\\n",
       "\\end{tabular}\n"
      ],
      "text/plain": [
       "3×3 DataFrame\n",
       "│ Row │ Category │ a     │ b     │\n",
       "│     │ \u001b[90mCat…\u001b[39m     │ \u001b[90mInt64\u001b[39m │ \u001b[90mInt64\u001b[39m │\n",
       "├─────┼──────────┼───────┼───────┤\n",
       "│ 1   │ Low      │ 8     │ 1089  │\n",
       "│ 2   │ Medium   │ 7     │ 1023  │\n",
       "│ 3   │ High     │ 5     │ 742   │"
      ]
     },
     "execution_count": 6,
     "metadata": {},
     "output_type": "execute_result"
    }
   ],
   "source": [
    "by(df, :Category, a = :ID => length, b = :Weight => x -> sum(x))"
   ]
  },
  {
   "cell_type": "markdown",
   "metadata": {},
   "source": [
    "If you want each column to have a custom name, you'll need to pass the multiple functions as a single argument.\n",
    "\n",
    "\n",
    "Here is a slightly more complicated example. We calculate the total weight and the average weight by _Category_. Here we have four function pairs. The average weight by category is calculated two different ways: one way is using the `mean` function and the other manually calculates the average using the `sum` and `length` functions."
   ]
  },
  {
   "cell_type": "code",
   "execution_count": 7,
   "metadata": {},
   "outputs": [
    {
     "data": {
      "text/html": [
       "<table class=\"data-frame\"><thead><tr><th></th><th>Category</th><th>IDCountByCat</th><th>TotWeightByCat</th><th>AvgWeightByCat1</th><th>AvgWeightByCat2</th></tr><tr><th></th><th>Cat…</th><th>Int64</th><th>Int64</th><th>Float64</th><th>Float64</th></tr></thead><tbody><p>3 rows × 5 columns</p><tr><th>1</th><td>Low</td><td>8</td><td>1089</td><td>136.125</td><td>136.125</td></tr><tr><th>2</th><td>Medium</td><td>7</td><td>1023</td><td>146.143</td><td>146.143</td></tr><tr><th>3</th><td>High</td><td>5</td><td>742</td><td>148.4</td><td>148.4</td></tr></tbody></table>"
      ],
      "text/latex": [
       "\\begin{tabular}{r|ccccc}\n",
       "\t& Category & IDCountByCat & TotWeightByCat & AvgWeightByCat1 & AvgWeightByCat2\\\\\n",
       "\t\\hline\n",
       "\t& Cat… & Int64 & Int64 & Float64 & Float64\\\\\n",
       "\t\\hline\n",
       "\t1 & Low & 8 & 1089 & 136.125 & 136.125 \\\\\n",
       "\t2 & Medium & 7 & 1023 & 146.143 & 146.143 \\\\\n",
       "\t3 & High & 5 & 742 & 148.4 & 148.4 \\\\\n",
       "\\end{tabular}\n"
      ],
      "text/plain": [
       "3×5 DataFrame. Omitted printing of 1 columns\n",
       "│ Row │ Category │ IDCountByCat │ TotWeightByCat │ AvgWeightByCat1 │\n",
       "│     │ \u001b[90mCat…\u001b[39m     │ \u001b[90mInt64\u001b[39m        │ \u001b[90mInt64\u001b[39m          │ \u001b[90mFloat64\u001b[39m         │\n",
       "├─────┼──────────┼──────────────┼────────────────┼─────────────────┤\n",
       "│ 1   │ Low      │ 8            │ 1089           │ 136.125         │\n",
       "│ 2   │ Medium   │ 7            │ 1023           │ 146.143         │\n",
       "│ 3   │ High     │ 5            │ 742            │ 148.4           │"
      ]
     },
     "execution_count": 7,
     "metadata": {},
     "output_type": "execute_result"
    }
   ],
   "source": [
    "by(df, :Category, IDCountByCat = :ID => length,\n",
    "                  TotWeightByCat = :Weight => sum,\n",
    "                  AvgWeightByCat1 = :Weight => mean,\n",
    "                  AvgWeightByCat2 = [:ID, :Weight] => x -> sum(x.Weight)/length(x.ID))"
   ]
  },
  {
   "cell_type": "markdown",
   "metadata": {},
   "source": [
    "The following is a different way to do the same thing in the above cell. Here the first element to the function pair is a __named tuple__ and the second element is an anonymous function. The <i>x</i> refers to the named tuple.\n",
    "A named tuple is a tuple but where the tuple values can be referred to by a name instead of an numeric index.\n",
    "\n",
    "The named tuple _x_ has two elements with names ID and Weight. In this case __x.ID__ maps to the values in the _ID_ column and __x.Weight__ maps to the values in the _Weight_ column."
   ]
  },
  {
   "cell_type": "code",
   "execution_count": 8,
   "metadata": {},
   "outputs": [
    {
     "name": "stderr",
     "output_type": "stream",
     "text": [
      "┌ Warning: `by(d::AbstractDataFrame, cols::Any, f::Pair; sort::Bool=false, skipmissing::Bool=false)` is deprecated, use `combine(AsTable(first(f)) => last(f), groupby(d, cols, sort=sort, skipmissing=skipmissing))` instead.\n",
      "│   caller = top-level scope at In[8]:1\n",
      "└ @ Core In[8]:1\n"
     ]
    },
    {
     "data": {
      "text/html": [
       "<table class=\"data-frame\"><thead><tr><th></th><th>Category</th><th>IDCountByCat</th><th>TotWeightByCat</th><th>AvgWeightByCat1</th><th>AvgWeightByCat2</th></tr><tr><th></th><th>Cat…</th><th>Int64</th><th>Int64</th><th>Float64</th><th>Float64</th></tr></thead><tbody><p>3 rows × 5 columns</p><tr><th>1</th><td>Low</td><td>8</td><td>1089</td><td>136.125</td><td>136.125</td></tr><tr><th>2</th><td>Medium</td><td>7</td><td>1023</td><td>146.143</td><td>146.143</td></tr><tr><th>3</th><td>High</td><td>5</td><td>742</td><td>148.4</td><td>148.4</td></tr></tbody></table>"
      ],
      "text/latex": [
       "\\begin{tabular}{r|ccccc}\n",
       "\t& Category & IDCountByCat & TotWeightByCat & AvgWeightByCat1 & AvgWeightByCat2\\\\\n",
       "\t\\hline\n",
       "\t& Cat… & Int64 & Int64 & Float64 & Float64\\\\\n",
       "\t\\hline\n",
       "\t1 & Low & 8 & 1089 & 136.125 & 136.125 \\\\\n",
       "\t2 & Medium & 7 & 1023 & 146.143 & 146.143 \\\\\n",
       "\t3 & High & 5 & 742 & 148.4 & 148.4 \\\\\n",
       "\\end{tabular}\n"
      ],
      "text/plain": [
       "3×5 DataFrame. Omitted printing of 1 columns\n",
       "│ Row │ Category │ IDCountByCat │ TotWeightByCat │ AvgWeightByCat1 │\n",
       "│     │ \u001b[90mCat…\u001b[39m     │ \u001b[90mInt64\u001b[39m        │ \u001b[90mInt64\u001b[39m          │ \u001b[90mFloat64\u001b[39m         │\n",
       "├─────┼──────────┼──────────────┼────────────────┼─────────────────┤\n",
       "│ 1   │ Low      │ 8            │ 1089           │ 136.125         │\n",
       "│ 2   │ Medium   │ 7            │ 1023           │ 146.143         │\n",
       "│ 3   │ High     │ 5            │ 742            │ 148.4           │"
      ]
     },
     "execution_count": 8,
     "metadata": {},
     "output_type": "execute_result"
    }
   ],
   "source": [
    "by(df, :Category, [:ID, :Weight] => x -> (IDCountByCat = length(x.ID),\n",
    "                                          TotWeightByCat = sum(x.Weight),\n",
    "                                          AvgWeightByCat1 = mean(x.Weight),\n",
    "                                          AvgWeightByCat2 = sum(x.Weight)/length(x.ID)))"
   ]
  },
  {
   "cell_type": "markdown",
   "metadata": {},
   "source": [
    "You can specify multiple columns by which to do the calculations. Above we did them by just the <i>Category</i> variable but below we do them by <i>Category</i> and <i>IndVar</i> so we get six groupings."
   ]
  },
  {
   "cell_type": "code",
   "execution_count": 9,
   "metadata": {},
   "outputs": [
    {
     "name": "stderr",
     "output_type": "stream",
     "text": [
      "┌ Warning: `by(d::AbstractDataFrame, cols::Any, f::Pair; sort::Bool=false, skipmissing::Bool=false)` is deprecated, use `combine(AsTable(first(f)) => last(f), groupby(d, cols, sort=sort, skipmissing=skipmissing))` instead.\n",
      "│   caller = top-level scope at In[9]:1\n",
      "└ @ Core In[9]:1\n"
     ]
    },
    {
     "data": {
      "text/html": [
       "<table class=\"data-frame\"><thead><tr><th></th><th>Category</th><th>IndVar</th><th>IDCountByCat</th><th>TotWeightByCat</th><th>AvgWeightByCat</th></tr><tr><th></th><th>Cat…</th><th>Cat…</th><th>Int64</th><th>Int64</th><th>Float64</th></tr></thead><tbody><p>6 rows × 5 columns</p><tr><th>1</th><td>Medium</td><td>0</td><td>5</td><td>740</td><td>148.0</td></tr><tr><th>2</th><td>High</td><td>1</td><td>3</td><td>437</td><td>145.667</td></tr><tr><th>3</th><td>Medium</td><td>1</td><td>2</td><td>283</td><td>141.5</td></tr><tr><th>4</th><td>High</td><td>0</td><td>2</td><td>305</td><td>152.5</td></tr><tr><th>5</th><td>Low</td><td>1</td><td>4</td><td>549</td><td>137.25</td></tr><tr><th>6</th><td>Low</td><td>0</td><td>4</td><td>540</td><td>135.0</td></tr></tbody></table>"
      ],
      "text/latex": [
       "\\begin{tabular}{r|ccccc}\n",
       "\t& Category & IndVar & IDCountByCat & TotWeightByCat & AvgWeightByCat\\\\\n",
       "\t\\hline\n",
       "\t& Cat… & Cat… & Int64 & Int64 & Float64\\\\\n",
       "\t\\hline\n",
       "\t1 & Medium & 0 & 5 & 740 & 148.0 \\\\\n",
       "\t2 & High & 1 & 3 & 437 & 145.667 \\\\\n",
       "\t3 & Medium & 1 & 2 & 283 & 141.5 \\\\\n",
       "\t4 & High & 0 & 2 & 305 & 152.5 \\\\\n",
       "\t5 & Low & 1 & 4 & 549 & 137.25 \\\\\n",
       "\t6 & Low & 0 & 4 & 540 & 135.0 \\\\\n",
       "\\end{tabular}\n"
      ],
      "text/plain": [
       "6×5 DataFrame\n",
       "│ Row │ Category │ IndVar │ IDCountByCat │ TotWeightByCat │ AvgWeightByCat │\n",
       "│     │ \u001b[90mCat…\u001b[39m     │ \u001b[90mCat…\u001b[39m   │ \u001b[90mInt64\u001b[39m        │ \u001b[90mInt64\u001b[39m          │ \u001b[90mFloat64\u001b[39m        │\n",
       "├─────┼──────────┼────────┼──────────────┼────────────────┼────────────────┤\n",
       "│ 1   │ Medium   │ 0      │ 5            │ 740            │ 148.0          │\n",
       "│ 2   │ High     │ 1      │ 3            │ 437            │ 145.667        │\n",
       "│ 3   │ Medium   │ 1      │ 2            │ 283            │ 141.5          │\n",
       "│ 4   │ High     │ 0      │ 2            │ 305            │ 152.5          │\n",
       "│ 5   │ Low      │ 1      │ 4            │ 549            │ 137.25         │\n",
       "│ 6   │ Low      │ 0      │ 4            │ 540            │ 135.0          │"
      ]
     },
     "execution_count": 9,
     "metadata": {},
     "output_type": "execute_result"
    }
   ],
   "source": [
    "by(df, \n",
    "   [:Category, :IndVar], \n",
    "   [:ID, :Weight] => x -> (IDCountByCat = length(x.ID),\n",
    "                           TotWeightByCat = sum(x.Weight),\n",
    "                           AvgWeightByCat = mean(x.Weight)\n",
    "                           ))"
   ]
  },
  {
   "cell_type": "markdown",
   "metadata": {},
   "source": [
    "You can get the output of __by__ sorted by the partition columns by passing **true** to the `sort` keyword argument. The above output will now be sorted by _Category_ and _IndVar_."
   ]
  },
  {
   "cell_type": "code",
   "execution_count": 10,
   "metadata": {},
   "outputs": [
    {
     "data": {
      "text/html": [
       "<table class=\"data-frame\"><thead><tr><th></th><th>Category</th><th>IndVar</th><th>IDCountByCat</th><th>TotWeightByCat</th><th>AvgWeightByCat</th></tr><tr><th></th><th>Cat…</th><th>Cat…</th><th>Int64</th><th>Int64</th><th>Float64</th></tr></thead><tbody><p>6 rows × 5 columns</p><tr><th>1</th><td>Low</td><td>0</td><td>4</td><td>540</td><td>135.0</td></tr><tr><th>2</th><td>Low</td><td>1</td><td>4</td><td>549</td><td>137.25</td></tr><tr><th>3</th><td>Medium</td><td>0</td><td>5</td><td>740</td><td>148.0</td></tr><tr><th>4</th><td>Medium</td><td>1</td><td>2</td><td>283</td><td>141.5</td></tr><tr><th>5</th><td>High</td><td>0</td><td>2</td><td>305</td><td>152.5</td></tr><tr><th>6</th><td>High</td><td>1</td><td>3</td><td>437</td><td>145.667</td></tr></tbody></table>"
      ],
      "text/latex": [
       "\\begin{tabular}{r|ccccc}\n",
       "\t& Category & IndVar & IDCountByCat & TotWeightByCat & AvgWeightByCat\\\\\n",
       "\t\\hline\n",
       "\t& Cat… & Cat… & Int64 & Int64 & Float64\\\\\n",
       "\t\\hline\n",
       "\t1 & Low & 0 & 4 & 540 & 135.0 \\\\\n",
       "\t2 & Low & 1 & 4 & 549 & 137.25 \\\\\n",
       "\t3 & Medium & 0 & 5 & 740 & 148.0 \\\\\n",
       "\t4 & Medium & 1 & 2 & 283 & 141.5 \\\\\n",
       "\t5 & High & 0 & 2 & 305 & 152.5 \\\\\n",
       "\t6 & High & 1 & 3 & 437 & 145.667 \\\\\n",
       "\\end{tabular}\n"
      ],
      "text/plain": [
       "6×5 DataFrame\n",
       "│ Row │ Category │ IndVar │ IDCountByCat │ TotWeightByCat │ AvgWeightByCat │\n",
       "│     │ \u001b[90mCat…\u001b[39m     │ \u001b[90mCat…\u001b[39m   │ \u001b[90mInt64\u001b[39m        │ \u001b[90mInt64\u001b[39m          │ \u001b[90mFloat64\u001b[39m        │\n",
       "├─────┼──────────┼────────┼──────────────┼────────────────┼────────────────┤\n",
       "│ 1   │ Low      │ 0      │ 4            │ 540            │ 135.0          │\n",
       "│ 2   │ Low      │ 1      │ 4            │ 549            │ 137.25         │\n",
       "│ 3   │ Medium   │ 0      │ 5            │ 740            │ 148.0          │\n",
       "│ 4   │ Medium   │ 1      │ 2            │ 283            │ 141.5          │\n",
       "│ 5   │ High     │ 0      │ 2            │ 305            │ 152.5          │\n",
       "│ 6   │ High     │ 1      │ 3            │ 437            │ 145.667        │"
      ]
     },
     "execution_count": 10,
     "metadata": {},
     "output_type": "execute_result"
    }
   ],
   "source": [
    "by(df, \n",
    "   [:Category, :IndVar], \n",
    "   [:ID, :Weight] => x -> (IDCountByCat = length(x.ID),\n",
    "                           TotWeightByCat = sum(x.Weight),\n",
    "                           AvgWeightByCat = mean(x.Weight)),\n",
    "   sort = true)"
   ]
  },
  {
   "cell_type": "code",
   "execution_count": 11,
   "metadata": {},
   "outputs": [],
   "source": [
    "smalldf = copy(df[:, [2, 3, 4, 5]]);"
   ]
  },
  {
   "cell_type": "markdown",
   "metadata": {},
   "source": [
    "The __aggregate__ function takes similar arguments as the __by__ function. However, it applies the list of functions to all variables other than the column variables used for the partitioning."
   ]
  },
  {
   "cell_type": "code",
   "execution_count": 12,
   "metadata": {},
   "outputs": [
    {
     "name": "stderr",
     "output_type": "stream",
     "text": [
      "┌ Warning: `aggregate(d, cols, fs, sort=true, skipmissing=false)`  is deprecated. Instead use combine(groupby(d, cols, sort=true, skipmissing=false), [names(d, Not(cols)) .=> f for f in fs]...)` if functions in `fs` have unique names.\n",
      "│   caller = ip:0x0\n",
      "└ @ Core :-1\n"
     ]
    }
   ],
   "source": [
    "agg = aggregate(smalldf, [:Category, :IndVar], [length, mean, median, minimum, maximum], sort=true);"
   ]
  },
  {
   "cell_type": "code",
   "execution_count": 13,
   "metadata": {},
   "outputs": [
    {
     "name": "stdout",
     "output_type": "stream",
     "text": [
      "6×12 DataFrame\n",
      "│ Row │ Category │ IndVar │ Weight_length │ Age_length │ Weight_mean │\n",
      "│     │ \u001b[90mCat…\u001b[39m     │ \u001b[90mCat…\u001b[39m   │ \u001b[90mInt64\u001b[39m         │ \u001b[90mInt64\u001b[39m      │ \u001b[90mFloat64\u001b[39m     │\n",
      "├─────┼──────────┼────────┼───────────────┼────────────┼─────────────┤\n",
      "│ 1   │ Low      │ 0      │ 4             │ 4          │ 135.0       │\n",
      "│ 2   │ Low      │ 1      │ 4             │ 4          │ 137.25      │\n",
      "│ 3   │ Medium   │ 0      │ 5             │ 5          │ 148.0       │\n",
      "│ 4   │ Medium   │ 1      │ 2             │ 2          │ 141.5       │\n",
      "│ 5   │ High     │ 0      │ 2             │ 2          │ 152.5       │\n",
      "│ 6   │ High     │ 1      │ 3             │ 3          │ 145.667     │\n",
      "\n",
      "│ Row │ Age_mean │ Weight_median │ Age_median │ Weight_minimum │ Age_minimum │\n",
      "│     │ \u001b[90mFloat64\u001b[39m  │ \u001b[90mFloat64\u001b[39m       │ \u001b[90mFloat64\u001b[39m    │ \u001b[90mInt64\u001b[39m          │ \u001b[90mInt64\u001b[39m       │\n",
      "├─────┼──────────┼───────────────┼────────────┼────────────────┼─────────────┤\n",
      "│ 1   │ 47.0     │ 126.5         │ 45.5       │ 121            │ 35          │\n",
      "│ 2   │ 34.25    │ 133.5         │ 27.5       │ 126            │ 20          │\n",
      "│ 3   │ 39.8     │ 145.0         │ 33.0       │ 137            │ 27          │\n",
      "│ 4   │ 63.5     │ 141.5         │ 63.5       │ 140            │ 54          │\n",
      "│ 5   │ 43.5     │ 152.5         │ 43.5       │ 149            │ 27          │\n",
      "│ 6   │ 56.0     │ 157.0         │ 49.0       │ 121            │ 47          │\n",
      "\n",
      "│ Row │ Weight_maximum │ Age_maximum │\n",
      "│     │ \u001b[90mInt64\u001b[39m          │ \u001b[90mInt64\u001b[39m       │\n",
      "├─────┼────────────────┼─────────────┤\n",
      "│ 1   │ 166            │ 62          │\n",
      "│ 2   │ 156            │ 62          │\n",
      "│ 3   │ 169            │ 61          │\n",
      "│ 4   │ 143            │ 73          │\n",
      "│ 5   │ 156            │ 60          │\n",
      "│ 6   │ 159            │ 72          │"
     ]
    }
   ],
   "source": [
    "show(agg, allcols=true)"
   ]
  },
  {
   "cell_type": "markdown",
   "metadata": {},
   "source": [
    "The last split-apply-combine function we'll discuss is `groupby`. This function can be useful if you want to break the dataframe out into separate sub-dataframes based on a column variable. This might be useful if you want work with the sub-dataframes individually.  "
   ]
  },
  {
   "cell_type": "markdown",
   "metadata": {},
   "source": [
    "Here we'll break the dataframe into three sub-dataframes based on the <i>Category</i> column variable. So we'll get three sub-dataframes: one for where <i>Category</i> equals \"Low\", another for where <i>Category</i> equals \"Medium\", and then a third for where <i>Category</i> equals \"High.\""
   ]
  },
  {
   "cell_type": "code",
   "execution_count": 14,
   "metadata": {},
   "outputs": [
    {
     "data": {
      "text/html": [
       "<p><b>GroupedDataFrame with 3 groups based on key: Category</b></p><p><i>First Group (8 rows): Category = \"Low\"</i></p><table class=\"data-frame\"><thead><tr><th></th><th>ID</th><th>Category</th><th>Weight</th><th>Age</th><th>IndVar</th><th>RandNum</th></tr><tr><th></th><th>Int64</th><th>Cat…</th><th>Int64</th><th>Int64</th><th>Cat…</th><th>Float64</th></tr></thead><tbody><tr><th>1</th><td>7</td><td>Low</td><td>138</td><td>26</td><td>1</td><td>-0.833369</td></tr><tr><th>2</th><td>8</td><td>Low</td><td>126</td><td>20</td><td>1</td><td>-0.443247</td></tr><tr><th>3</th><td>9</td><td>Low</td><td>125</td><td>35</td><td>0</td><td>-1.66323</td></tr><tr><th>4</th><td>12</td><td>Low</td><td>166</td><td>51</td><td>0</td><td>-1.27635</td></tr><tr><th>5</th><td>13</td><td>Low</td><td>156</td><td>29</td><td>1</td><td>1.03132</td></tr><tr><th>6</th><td>16</td><td>Low</td><td>121</td><td>40</td><td>0</td><td>-1.29475</td></tr><tr><th>7</th><td>17</td><td>Low</td><td>129</td><td>62</td><td>1</td><td>-0.308944</td></tr><tr><th>8</th><td>19</td><td>Low</td><td>128</td><td>62</td><td>0</td><td>1.44886</td></tr></tbody></table><p>&vellip;</p><p><i>Last Group (5 rows): Category = \"High\"</i></p><table class=\"data-frame\"><thead><tr><th></th><th>ID</th><th>Category</th><th>Weight</th><th>Age</th><th>IndVar</th><th>RandNum</th></tr><tr><th></th><th>Int64</th><th>Cat…</th><th>Int64</th><th>Int64</th><th>Cat…</th><th>Float64</th></tr></thead><tbody><tr><th>1</th><td>2</td><td>High</td><td>159</td><td>47</td><td>1</td><td>-0.316387</td></tr><tr><th>2</th><td>5</td><td>High</td><td>121</td><td>49</td><td>1</td><td>1.38501</td></tr><tr><th>3</th><td>6</td><td>High</td><td>149</td><td>27</td><td>0</td><td>0.0799514</td></tr><tr><th>4</th><td>14</td><td>High</td><td>156</td><td>60</td><td>0</td><td>-0.910805</td></tr><tr><th>5</th><td>20</td><td>High</td><td>157</td><td>72</td><td>1</td><td>0.778151</td></tr></tbody></table>"
      ],
      "text/latex": [
       "GroupedDataFrame with 3 groups based on key: Category\n",
       "\n",
       "First Group (8 rows): Category = \"Low\"\n",
       "\n",
       "\\begin{tabular}{r|cccccc}\n",
       "\t& ID & Category & Weight & Age & IndVar & RandNum\\\\\n",
       "\t\\hline\n",
       "\t& Int64 & Cat… & Int64 & Int64 & Cat… & Float64\\\\\n",
       "\t\\hline\n",
       "\t1 & 7 & Low & 138 & 26 & 1 & -0.833369 \\\\\n",
       "\t2 & 8 & Low & 126 & 20 & 1 & -0.443247 \\\\\n",
       "\t3 & 9 & Low & 125 & 35 & 0 & -1.66323 \\\\\n",
       "\t4 & 12 & Low & 166 & 51 & 0 & -1.27635 \\\\\n",
       "\t5 & 13 & Low & 156 & 29 & 1 & 1.03132 \\\\\n",
       "\t6 & 16 & Low & 121 & 40 & 0 & -1.29475 \\\\\n",
       "\t7 & 17 & Low & 129 & 62 & 1 & -0.308944 \\\\\n",
       "\t8 & 19 & Low & 128 & 62 & 0 & 1.44886 \\\\\n",
       "\\end{tabular}\n",
       "\n",
       "$\\dots$\n",
       "\n",
       "Last Group (5 rows): Category = \"High\"\n",
       "\n",
       "\\begin{tabular}{r|cccccc}\n",
       "\t& ID & Category & Weight & Age & IndVar & RandNum\\\\\n",
       "\t\\hline\n",
       "\t& Int64 & Cat… & Int64 & Int64 & Cat… & Float64\\\\\n",
       "\t\\hline\n",
       "\t1 & 2 & High & 159 & 47 & 1 & -0.316387 \\\\\n",
       "\t2 & 5 & High & 121 & 49 & 1 & 1.38501 \\\\\n",
       "\t3 & 6 & High & 149 & 27 & 0 & 0.0799514 \\\\\n",
       "\t4 & 14 & High & 156 & 60 & 0 & -0.910805 \\\\\n",
       "\t5 & 20 & High & 157 & 72 & 1 & 0.778151 \\\\\n",
       "\\end{tabular}\n"
      ],
      "text/plain": [
       "GroupedDataFrame with 3 groups based on key: Category\n",
       "First Group (8 rows): Category = \"Low\"\n",
       "│ Row │ ID    │ Category │ Weight │ Age   │ IndVar │ RandNum   │\n",
       "│     │ \u001b[90mInt64\u001b[39m │ \u001b[90mCat…\u001b[39m     │ \u001b[90mInt64\u001b[39m  │ \u001b[90mInt64\u001b[39m │ \u001b[90mCat…\u001b[39m   │ \u001b[90mFloat64\u001b[39m   │\n",
       "├─────┼───────┼──────────┼────────┼───────┼────────┼───────────┤\n",
       "│ 1   │ 7     │ Low      │ 138    │ 26    │ 1      │ -0.833369 │\n",
       "│ 2   │ 8     │ Low      │ 126    │ 20    │ 1      │ -0.443247 │\n",
       "│ 3   │ 9     │ Low      │ 125    │ 35    │ 0      │ -1.66323  │\n",
       "│ 4   │ 12    │ Low      │ 166    │ 51    │ 0      │ -1.27635  │\n",
       "│ 5   │ 13    │ Low      │ 156    │ 29    │ 1      │ 1.03132   │\n",
       "│ 6   │ 16    │ Low      │ 121    │ 40    │ 0      │ -1.29475  │\n",
       "│ 7   │ 17    │ Low      │ 129    │ 62    │ 1      │ -0.308944 │\n",
       "│ 8   │ 19    │ Low      │ 128    │ 62    │ 0      │ 1.44886   │\n",
       "⋮\n",
       "Last Group (5 rows): Category = \"High\"\n",
       "│ Row │ ID    │ Category │ Weight │ Age   │ IndVar │ RandNum   │\n",
       "│     │ \u001b[90mInt64\u001b[39m │ \u001b[90mCat…\u001b[39m     │ \u001b[90mInt64\u001b[39m  │ \u001b[90mInt64\u001b[39m │ \u001b[90mCat…\u001b[39m   │ \u001b[90mFloat64\u001b[39m   │\n",
       "├─────┼───────┼──────────┼────────┼───────┼────────┼───────────┤\n",
       "│ 1   │ 2     │ High     │ 159    │ 47    │ 1      │ -0.316387 │\n",
       "│ 2   │ 5     │ High     │ 121    │ 49    │ 1      │ 1.38501   │\n",
       "│ 3   │ 6     │ High     │ 149    │ 27    │ 0      │ 0.0799514 │\n",
       "│ 4   │ 14    │ High     │ 156    │ 60    │ 0      │ -0.910805 │\n",
       "│ 5   │ 20    │ High     │ 157    │ 72    │ 1      │ 0.778151  │"
      ]
     },
     "execution_count": 14,
     "metadata": {},
     "output_type": "execute_result"
    }
   ],
   "source": [
    "grouped = groupby(df, :Category)"
   ]
  },
  {
   "cell_type": "markdown",
   "metadata": {},
   "source": [
    "You can see the result of `groupby` is a grouped dataframe."
   ]
  },
  {
   "cell_type": "code",
   "execution_count": 15,
   "metadata": {},
   "outputs": [
    {
     "data": {
      "text/plain": [
       "GroupedDataFrame{DataFrame}"
      ]
     },
     "execution_count": 15,
     "metadata": {},
     "output_type": "execute_result"
    }
   ],
   "source": [
    "typeof(grouped)"
   ]
  },
  {
   "cell_type": "markdown",
   "metadata": {},
   "source": [
    "Under the hood `groupby` uses indexing that makes it fast to retrieve the individual subframes. For example to get rows of data with for _Category_ \"Low\" we can look at the subframe for \"Low\":"
   ]
  },
  {
   "cell_type": "code",
   "execution_count": 16,
   "metadata": {},
   "outputs": [
    {
     "data": {
      "text/html": [
       "<table class=\"data-frame\"><thead><tr><th></th><th>ID</th><th>Category</th><th>Weight</th><th>Age</th><th>IndVar</th><th>RandNum</th></tr><tr><th></th><th>Int64</th><th>Cat…</th><th>Int64</th><th>Int64</th><th>Cat…</th><th>Float64</th></tr></thead><tbody><p>8 rows × 6 columns</p><tr><th>1</th><td>7</td><td>Low</td><td>138</td><td>26</td><td>1</td><td>-0.833369</td></tr><tr><th>2</th><td>8</td><td>Low</td><td>126</td><td>20</td><td>1</td><td>-0.443247</td></tr><tr><th>3</th><td>9</td><td>Low</td><td>125</td><td>35</td><td>0</td><td>-1.66323</td></tr><tr><th>4</th><td>12</td><td>Low</td><td>166</td><td>51</td><td>0</td><td>-1.27635</td></tr><tr><th>5</th><td>13</td><td>Low</td><td>156</td><td>29</td><td>1</td><td>1.03132</td></tr><tr><th>6</th><td>16</td><td>Low</td><td>121</td><td>40</td><td>0</td><td>-1.29475</td></tr><tr><th>7</th><td>17</td><td>Low</td><td>129</td><td>62</td><td>1</td><td>-0.308944</td></tr><tr><th>8</th><td>19</td><td>Low</td><td>128</td><td>62</td><td>0</td><td>1.44886</td></tr></tbody></table>"
      ],
      "text/latex": [
       "\\begin{tabular}{r|cccccc}\n",
       "\t& ID & Category & Weight & Age & IndVar & RandNum\\\\\n",
       "\t\\hline\n",
       "\t& Int64 & Cat… & Int64 & Int64 & Cat… & Float64\\\\\n",
       "\t\\hline\n",
       "\t1 & 7 & Low & 138 & 26 & 1 & -0.833369 \\\\\n",
       "\t2 & 8 & Low & 126 & 20 & 1 & -0.443247 \\\\\n",
       "\t3 & 9 & Low & 125 & 35 & 0 & -1.66323 \\\\\n",
       "\t4 & 12 & Low & 166 & 51 & 0 & -1.27635 \\\\\n",
       "\t5 & 13 & Low & 156 & 29 & 1 & 1.03132 \\\\\n",
       "\t6 & 16 & Low & 121 & 40 & 0 & -1.29475 \\\\\n",
       "\t7 & 17 & Low & 129 & 62 & 1 & -0.308944 \\\\\n",
       "\t8 & 19 & Low & 128 & 62 & 0 & 1.44886 \\\\\n",
       "\\end{tabular}\n"
      ],
      "text/plain": [
       "8×6 SubDataFrame\n",
       "│ Row │ ID    │ Category │ Weight │ Age   │ IndVar │ RandNum   │\n",
       "│     │ \u001b[90mInt64\u001b[39m │ \u001b[90mCat…\u001b[39m     │ \u001b[90mInt64\u001b[39m  │ \u001b[90mInt64\u001b[39m │ \u001b[90mCat…\u001b[39m   │ \u001b[90mFloat64\u001b[39m   │\n",
       "├─────┼───────┼──────────┼────────┼───────┼────────┼───────────┤\n",
       "│ 1   │ 7     │ Low      │ 138    │ 26    │ 1      │ -0.833369 │\n",
       "│ 2   │ 8     │ Low      │ 126    │ 20    │ 1      │ -0.443247 │\n",
       "│ 3   │ 9     │ Low      │ 125    │ 35    │ 0      │ -1.66323  │\n",
       "│ 4   │ 12    │ Low      │ 166    │ 51    │ 0      │ -1.27635  │\n",
       "│ 5   │ 13    │ Low      │ 156    │ 29    │ 1      │ 1.03132   │\n",
       "│ 6   │ 16    │ Low      │ 121    │ 40    │ 0      │ -1.29475  │\n",
       "│ 7   │ 17    │ Low      │ 129    │ 62    │ 1      │ -0.308944 │\n",
       "│ 8   │ 19    │ Low      │ 128    │ 62    │ 0      │ 1.44886   │"
      ]
     },
     "execution_count": 16,
     "metadata": {},
     "output_type": "execute_result"
    }
   ],
   "source": [
    "grouped[(\"Low\",)]"
   ]
  },
  {
   "cell_type": "markdown",
   "metadata": {},
   "source": [
    "You can use the `combine` function with a grouped dataframe to calculate summary statistics for each subgroup:"
   ]
  },
  {
   "cell_type": "code",
   "execution_count": 17,
   "metadata": {},
   "outputs": [
    {
     "data": {
      "text/html": [
       "<table class=\"data-frame\"><thead><tr><th></th><th>Category</th><th>Weight_mean</th><th>Age_mean</th></tr><tr><th></th><th>Cat…</th><th>Float64</th><th>Float64</th></tr></thead><tbody><p>3 rows × 3 columns</p><tr><th>1</th><td>Low</td><td>136.125</td><td>40.625</td></tr><tr><th>2</th><td>Medium</td><td>146.143</td><td>46.5714</td></tr><tr><th>3</th><td>High</td><td>148.4</td><td>51.0</td></tr></tbody></table>"
      ],
      "text/latex": [
       "\\begin{tabular}{r|ccc}\n",
       "\t& Category & Weight\\_mean & Age\\_mean\\\\\n",
       "\t\\hline\n",
       "\t& Cat… & Float64 & Float64\\\\\n",
       "\t\\hline\n",
       "\t1 & Low & 136.125 & 40.625 \\\\\n",
       "\t2 & Medium & 146.143 & 46.5714 \\\\\n",
       "\t3 & High & 148.4 & 51.0 \\\\\n",
       "\\end{tabular}\n"
      ],
      "text/plain": [
       "3×3 DataFrame\n",
       "│ Row │ Category │ Weight_mean │ Age_mean │\n",
       "│     │ \u001b[90mCat…\u001b[39m     │ \u001b[90mFloat64\u001b[39m     │ \u001b[90mFloat64\u001b[39m  │\n",
       "├─────┼──────────┼─────────────┼──────────┤\n",
       "│ 1   │ Low      │ 136.125     │ 40.625   │\n",
       "│ 2   │ Medium   │ 146.143     │ 46.5714  │\n",
       "│ 3   │ High     │ 148.4       │ 51.0     │"
      ]
     },
     "execution_count": 17,
     "metadata": {},
     "output_type": "execute_result"
    }
   ],
   "source": [
    "combine(grouped, :Weight => mean, :Age => mean)"
   ]
  },
  {
   "cell_type": "markdown",
   "metadata": {},
   "source": [
    "In this lesson we covered:\n",
    "* by, groupby, and aggregate functions."
   ]
  }
 ],
 "metadata": {
  "@webio": {
   "lastCommId": null,
   "lastKernelId": null
  },
  "kernelspec": {
   "display_name": "Julia 1.3.0",
   "language": "julia",
   "name": "julia-1.3"
  },
  "language_info": {
   "file_extension": ".jl",
   "mimetype": "application/julia",
   "name": "julia",
   "version": "1.3.0"
  }
 },
 "nbformat": 4,
 "nbformat_minor": 2
}
