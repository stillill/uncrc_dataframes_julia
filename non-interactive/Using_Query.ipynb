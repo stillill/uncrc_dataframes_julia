{
 "cells": [
  {
   "cell_type": "markdown",
   "metadata": {},
   "source": [
    "# VI. Using Pipe.jl and Query.jl"
   ]
  },
  {
   "cell_type": "markdown",
   "metadata": {},
   "source": [
    "The Pipe.jl package allows you to chain operations together using a convenient syntax. This package allows you to do more advanced piping than what you can do via the default piping sytnax in Julia. The typical syntax is:\n",
    "\n",
    "`@pipe in |> f(x, _)`"
   ]
  },
  {
   "cell_type": "markdown",
   "metadata": {},
   "source": [
    "The `@pipe` is a Julia macro. Here you are taking result of `in` and passing it as input to `f`. The underscore on the right hand side means to substitute the result of `in` at this place in the call to `f`."
   ]
  },
  {
   "cell_type": "code",
   "execution_count": 1,
   "metadata": {},
   "outputs": [],
   "source": [
    "using DataFrames, Distributions, Random, Statistics, CategoricalArrays, Query, Pipe"
   ]
  },
  {
   "cell_type": "code",
   "execution_count": 2,
   "metadata": {},
   "outputs": [],
   "source": [
    "#create a dataframe\n",
    "\n",
    "Random.seed!(1234)\n",
    "\n",
    "N = 20\n",
    "dfa = DataFrame(ID = 1:N,\n",
    "                Category = wsample([\"Low\", \"Medium\", \"High\"], [1/3, 1/3, 1/3], N),\n",
    "                Weight = rand(120:170, N),\n",
    "                Age = rand(20:80, N),\n",
    "                IndVar = wsample([0, 1], [0.5, 0.5], N),\n",
    "                RandNum = randn(N))\n",
    "\n",
    "categorical!(dfa, [:Category, :IndVar]);\n",
    "levels!(dfa.Category, [\"Low\", \"Medium\", \"High\"]);"
   ]
  },
  {
   "cell_type": "code",
   "execution_count": 3,
   "metadata": {},
   "outputs": [
    {
     "data": {
      "text/html": [
       "<table class=\"data-frame\"><thead><tr><th></th><th>ID</th><th>Category</th><th>Weight</th><th>Age</th><th>IndVar</th><th>RandNum</th></tr><tr><th></th><th>Int64</th><th>Cat…</th><th>Int64</th><th>Int64</th><th>Cat…</th><th>Float64</th></tr></thead><tbody><p>20 rows × 6 columns</p><tr><th>1</th><td>1</td><td>Medium</td><td>152</td><td>33</td><td>0</td><td>-0.981132</td></tr><tr><th>2</th><td>2</td><td>High</td><td>159</td><td>47</td><td>1</td><td>-0.316387</td></tr><tr><th>3</th><td>3</td><td>Medium</td><td>140</td><td>73</td><td>1</td><td>0.265743</td></tr><tr><th>4</th><td>4</td><td>Medium</td><td>145</td><td>47</td><td>0</td><td>1.06561</td></tr><tr><th>5</th><td>5</td><td>High</td><td>121</td><td>49</td><td>1</td><td>1.38501</td></tr><tr><th>6</th><td>6</td><td>High</td><td>149</td><td>27</td><td>0</td><td>0.0799514</td></tr><tr><th>7</th><td>7</td><td>Low</td><td>138</td><td>26</td><td>1</td><td>-0.833369</td></tr><tr><th>8</th><td>8</td><td>Low</td><td>126</td><td>20</td><td>1</td><td>-0.443247</td></tr><tr><th>9</th><td>9</td><td>Low</td><td>125</td><td>35</td><td>0</td><td>-1.66323</td></tr><tr><th>10</th><td>10</td><td>Medium</td><td>143</td><td>54</td><td>1</td><td>-0.521229</td></tr><tr><th>11</th><td>11</td><td>Medium</td><td>137</td><td>31</td><td>0</td><td>0.183976</td></tr><tr><th>12</th><td>12</td><td>Low</td><td>166</td><td>51</td><td>0</td><td>-1.27635</td></tr><tr><th>13</th><td>13</td><td>Low</td><td>156</td><td>29</td><td>1</td><td>1.03132</td></tr><tr><th>14</th><td>14</td><td>High</td><td>156</td><td>60</td><td>0</td><td>-0.910805</td></tr><tr><th>15</th><td>15</td><td>Medium</td><td>169</td><td>27</td><td>0</td><td>0.754603</td></tr><tr><th>16</th><td>16</td><td>Low</td><td>121</td><td>40</td><td>0</td><td>-1.29475</td></tr><tr><th>17</th><td>17</td><td>Low</td><td>129</td><td>62</td><td>1</td><td>-0.308944</td></tr><tr><th>18</th><td>18</td><td>Medium</td><td>137</td><td>61</td><td>0</td><td>1.30668</td></tr><tr><th>19</th><td>19</td><td>Low</td><td>128</td><td>62</td><td>0</td><td>1.44886</td></tr><tr><th>20</th><td>20</td><td>High</td><td>157</td><td>72</td><td>1</td><td>0.778151</td></tr></tbody></table>"
      ],
      "text/latex": [
       "\\begin{tabular}{r|cccccc}\n",
       "\t& ID & Category & Weight & Age & IndVar & RandNum\\\\\n",
       "\t\\hline\n",
       "\t& Int64 & Cat… & Int64 & Int64 & Cat… & Float64\\\\\n",
       "\t\\hline\n",
       "\t1 & 1 & Medium & 152 & 33 & 0 & -0.981132 \\\\\n",
       "\t2 & 2 & High & 159 & 47 & 1 & -0.316387 \\\\\n",
       "\t3 & 3 & Medium & 140 & 73 & 1 & 0.265743 \\\\\n",
       "\t4 & 4 & Medium & 145 & 47 & 0 & 1.06561 \\\\\n",
       "\t5 & 5 & High & 121 & 49 & 1 & 1.38501 \\\\\n",
       "\t6 & 6 & High & 149 & 27 & 0 & 0.0799514 \\\\\n",
       "\t7 & 7 & Low & 138 & 26 & 1 & -0.833369 \\\\\n",
       "\t8 & 8 & Low & 126 & 20 & 1 & -0.443247 \\\\\n",
       "\t9 & 9 & Low & 125 & 35 & 0 & -1.66323 \\\\\n",
       "\t10 & 10 & Medium & 143 & 54 & 1 & -0.521229 \\\\\n",
       "\t11 & 11 & Medium & 137 & 31 & 0 & 0.183976 \\\\\n",
       "\t12 & 12 & Low & 166 & 51 & 0 & -1.27635 \\\\\n",
       "\t13 & 13 & Low & 156 & 29 & 1 & 1.03132 \\\\\n",
       "\t14 & 14 & High & 156 & 60 & 0 & -0.910805 \\\\\n",
       "\t15 & 15 & Medium & 169 & 27 & 0 & 0.754603 \\\\\n",
       "\t16 & 16 & Low & 121 & 40 & 0 & -1.29475 \\\\\n",
       "\t17 & 17 & Low & 129 & 62 & 1 & -0.308944 \\\\\n",
       "\t18 & 18 & Medium & 137 & 61 & 0 & 1.30668 \\\\\n",
       "\t19 & 19 & Low & 128 & 62 & 0 & 1.44886 \\\\\n",
       "\t20 & 20 & High & 157 & 72 & 1 & 0.778151 \\\\\n",
       "\\end{tabular}\n"
      ],
      "text/plain": [
       "20×6 DataFrame\n",
       "│ Row │ ID    │ Category │ Weight │ Age   │ IndVar │ RandNum   │\n",
       "│     │ \u001b[90mInt64\u001b[39m │ \u001b[90mCat…\u001b[39m     │ \u001b[90mInt64\u001b[39m  │ \u001b[90mInt64\u001b[39m │ \u001b[90mCat…\u001b[39m   │ \u001b[90mFloat64\u001b[39m   │\n",
       "├─────┼───────┼──────────┼────────┼───────┼────────┼───────────┤\n",
       "│ 1   │ 1     │ Medium   │ 152    │ 33    │ 0      │ -0.981132 │\n",
       "│ 2   │ 2     │ High     │ 159    │ 47    │ 1      │ -0.316387 │\n",
       "│ 3   │ 3     │ Medium   │ 140    │ 73    │ 1      │ 0.265743  │\n",
       "│ 4   │ 4     │ Medium   │ 145    │ 47    │ 0      │ 1.06561   │\n",
       "│ 5   │ 5     │ High     │ 121    │ 49    │ 1      │ 1.38501   │\n",
       "│ 6   │ 6     │ High     │ 149    │ 27    │ 0      │ 0.0799514 │\n",
       "│ 7   │ 7     │ Low      │ 138    │ 26    │ 1      │ -0.833369 │\n",
       "│ 8   │ 8     │ Low      │ 126    │ 20    │ 1      │ -0.443247 │\n",
       "│ 9   │ 9     │ Low      │ 125    │ 35    │ 0      │ -1.66323  │\n",
       "│ 10  │ 10    │ Medium   │ 143    │ 54    │ 1      │ -0.521229 │\n",
       "│ 11  │ 11    │ Medium   │ 137    │ 31    │ 0      │ 0.183976  │\n",
       "│ 12  │ 12    │ Low      │ 166    │ 51    │ 0      │ -1.27635  │\n",
       "│ 13  │ 13    │ Low      │ 156    │ 29    │ 1      │ 1.03132   │\n",
       "│ 14  │ 14    │ High     │ 156    │ 60    │ 0      │ -0.910805 │\n",
       "│ 15  │ 15    │ Medium   │ 169    │ 27    │ 0      │ 0.754603  │\n",
       "│ 16  │ 16    │ Low      │ 121    │ 40    │ 0      │ -1.29475  │\n",
       "│ 17  │ 17    │ Low      │ 129    │ 62    │ 1      │ -0.308944 │\n",
       "│ 18  │ 18    │ Medium   │ 137    │ 61    │ 0      │ 1.30668   │\n",
       "│ 19  │ 19    │ Low      │ 128    │ 62    │ 0      │ 1.44886   │\n",
       "│ 20  │ 20    │ High     │ 157    │ 72    │ 1      │ 0.778151  │"
      ]
     },
     "execution_count": 3,
     "metadata": {},
     "output_type": "execute_result"
    }
   ],
   "source": [
    "dfa"
   ]
  },
  {
   "cell_type": "markdown",
   "metadata": {},
   "source": [
    "Let's first look at a simple example using `filter`. We know the first argument to `filter` will be a pair and the second argument is the dataframe. Here the underscore in `filter` is replaced by the result of the left-hand side. The left-hand side is just the dataframe __dfa__ so this is what gets passed into the `filter` command on the right for the underscoare. In the end what we get are rows where the sum of _Weight_ and _Age_ is greather than 180."
   ]
  },
  {
   "cell_type": "code",
   "execution_count": 4,
   "metadata": {},
   "outputs": [
    {
     "data": {
      "text/html": [
       "<table class=\"data-frame\"><thead><tr><th></th><th>ID</th><th>Category</th><th>Weight</th><th>Age</th><th>IndVar</th><th>RandNum</th></tr><tr><th></th><th>Int64</th><th>Cat…</th><th>Int64</th><th>Int64</th><th>Cat…</th><th>Float64</th></tr></thead><tbody><p>13 rows × 6 columns</p><tr><th>1</th><td>1</td><td>Medium</td><td>152</td><td>33</td><td>0</td><td>-0.981132</td></tr><tr><th>2</th><td>2</td><td>High</td><td>159</td><td>47</td><td>1</td><td>-0.316387</td></tr><tr><th>3</th><td>3</td><td>Medium</td><td>140</td><td>73</td><td>1</td><td>0.265743</td></tr><tr><th>4</th><td>4</td><td>Medium</td><td>145</td><td>47</td><td>0</td><td>1.06561</td></tr><tr><th>5</th><td>10</td><td>Medium</td><td>143</td><td>54</td><td>1</td><td>-0.521229</td></tr><tr><th>6</th><td>12</td><td>Low</td><td>166</td><td>51</td><td>0</td><td>-1.27635</td></tr><tr><th>7</th><td>13</td><td>Low</td><td>156</td><td>29</td><td>1</td><td>1.03132</td></tr><tr><th>8</th><td>14</td><td>High</td><td>156</td><td>60</td><td>0</td><td>-0.910805</td></tr><tr><th>9</th><td>15</td><td>Medium</td><td>169</td><td>27</td><td>0</td><td>0.754603</td></tr><tr><th>10</th><td>17</td><td>Low</td><td>129</td><td>62</td><td>1</td><td>-0.308944</td></tr><tr><th>11</th><td>18</td><td>Medium</td><td>137</td><td>61</td><td>0</td><td>1.30668</td></tr><tr><th>12</th><td>19</td><td>Low</td><td>128</td><td>62</td><td>0</td><td>1.44886</td></tr><tr><th>13</th><td>20</td><td>High</td><td>157</td><td>72</td><td>1</td><td>0.778151</td></tr></tbody></table>"
      ],
      "text/latex": [
       "\\begin{tabular}{r|cccccc}\n",
       "\t& ID & Category & Weight & Age & IndVar & RandNum\\\\\n",
       "\t\\hline\n",
       "\t& Int64 & Cat… & Int64 & Int64 & Cat… & Float64\\\\\n",
       "\t\\hline\n",
       "\t1 & 1 & Medium & 152 & 33 & 0 & -0.981132 \\\\\n",
       "\t2 & 2 & High & 159 & 47 & 1 & -0.316387 \\\\\n",
       "\t3 & 3 & Medium & 140 & 73 & 1 & 0.265743 \\\\\n",
       "\t4 & 4 & Medium & 145 & 47 & 0 & 1.06561 \\\\\n",
       "\t5 & 10 & Medium & 143 & 54 & 1 & -0.521229 \\\\\n",
       "\t6 & 12 & Low & 166 & 51 & 0 & -1.27635 \\\\\n",
       "\t7 & 13 & Low & 156 & 29 & 1 & 1.03132 \\\\\n",
       "\t8 & 14 & High & 156 & 60 & 0 & -0.910805 \\\\\n",
       "\t9 & 15 & Medium & 169 & 27 & 0 & 0.754603 \\\\\n",
       "\t10 & 17 & Low & 129 & 62 & 1 & -0.308944 \\\\\n",
       "\t11 & 18 & Medium & 137 & 61 & 0 & 1.30668 \\\\\n",
       "\t12 & 19 & Low & 128 & 62 & 0 & 1.44886 \\\\\n",
       "\t13 & 20 & High & 157 & 72 & 1 & 0.778151 \\\\\n",
       "\\end{tabular}\n"
      ],
      "text/plain": [
       "13×6 DataFrame\n",
       "│ Row │ ID    │ Category │ Weight │ Age   │ IndVar │ RandNum   │\n",
       "│     │ \u001b[90mInt64\u001b[39m │ \u001b[90mCat…\u001b[39m     │ \u001b[90mInt64\u001b[39m  │ \u001b[90mInt64\u001b[39m │ \u001b[90mCat…\u001b[39m   │ \u001b[90mFloat64\u001b[39m   │\n",
       "├─────┼───────┼──────────┼────────┼───────┼────────┼───────────┤\n",
       "│ 1   │ 1     │ Medium   │ 152    │ 33    │ 0      │ -0.981132 │\n",
       "│ 2   │ 2     │ High     │ 159    │ 47    │ 1      │ -0.316387 │\n",
       "│ 3   │ 3     │ Medium   │ 140    │ 73    │ 1      │ 0.265743  │\n",
       "│ 4   │ 4     │ Medium   │ 145    │ 47    │ 0      │ 1.06561   │\n",
       "│ 5   │ 10    │ Medium   │ 143    │ 54    │ 1      │ -0.521229 │\n",
       "│ 6   │ 12    │ Low      │ 166    │ 51    │ 0      │ -1.27635  │\n",
       "│ 7   │ 13    │ Low      │ 156    │ 29    │ 1      │ 1.03132   │\n",
       "│ 8   │ 14    │ High     │ 156    │ 60    │ 0      │ -0.910805 │\n",
       "│ 9   │ 15    │ Medium   │ 169    │ 27    │ 0      │ 0.754603  │\n",
       "│ 10  │ 17    │ Low      │ 129    │ 62    │ 1      │ -0.308944 │\n",
       "│ 11  │ 18    │ Medium   │ 137    │ 61    │ 0      │ 1.30668   │\n",
       "│ 12  │ 19    │ Low      │ 128    │ 62    │ 0      │ 1.44886   │\n",
       "│ 13  │ 20    │ High     │ 157    │ 72    │ 1      │ 0.778151  │"
      ]
     },
     "execution_count": 4,
     "metadata": {},
     "output_type": "execute_result"
    }
   ],
   "source": [
    "filtered_gt130 = @pipe dfa |> filter( [:Weight, :Age]  => (x,y) -> x+y > 180 , _)"
   ]
  },
  {
   "cell_type": "markdown",
   "metadata": {},
   "source": [
    "We can use the Pipe.jl to do grouping:"
   ]
  },
  {
   "cell_type": "code",
   "execution_count": 5,
   "metadata": {},
   "outputs": [
    {
     "data": {
      "text/html": [
       "<p><b>GroupedDataFrame with 3 groups based on key: Category</b></p><p><i>First Group (8 rows): Category = \"Low\"</i></p><table class=\"data-frame\"><thead><tr><th></th><th>ID</th><th>Category</th><th>Weight</th><th>Age</th><th>IndVar</th><th>RandNum</th></tr><tr><th></th><th>Int64</th><th>Cat…</th><th>Int64</th><th>Int64</th><th>Cat…</th><th>Float64</th></tr></thead><tbody><tr><th>1</th><td>7</td><td>Low</td><td>138</td><td>26</td><td>1</td><td>-0.833369</td></tr><tr><th>2</th><td>8</td><td>Low</td><td>126</td><td>20</td><td>1</td><td>-0.443247</td></tr><tr><th>3</th><td>9</td><td>Low</td><td>125</td><td>35</td><td>0</td><td>-1.66323</td></tr><tr><th>4</th><td>12</td><td>Low</td><td>166</td><td>51</td><td>0</td><td>-1.27635</td></tr><tr><th>5</th><td>13</td><td>Low</td><td>156</td><td>29</td><td>1</td><td>1.03132</td></tr><tr><th>6</th><td>16</td><td>Low</td><td>121</td><td>40</td><td>0</td><td>-1.29475</td></tr><tr><th>7</th><td>17</td><td>Low</td><td>129</td><td>62</td><td>1</td><td>-0.308944</td></tr><tr><th>8</th><td>19</td><td>Low</td><td>128</td><td>62</td><td>0</td><td>1.44886</td></tr></tbody></table><p>&vellip;</p><p><i>Last Group (5 rows): Category = \"High\"</i></p><table class=\"data-frame\"><thead><tr><th></th><th>ID</th><th>Category</th><th>Weight</th><th>Age</th><th>IndVar</th><th>RandNum</th></tr><tr><th></th><th>Int64</th><th>Cat…</th><th>Int64</th><th>Int64</th><th>Cat…</th><th>Float64</th></tr></thead><tbody><tr><th>1</th><td>2</td><td>High</td><td>159</td><td>47</td><td>1</td><td>-0.316387</td></tr><tr><th>2</th><td>5</td><td>High</td><td>121</td><td>49</td><td>1</td><td>1.38501</td></tr><tr><th>3</th><td>6</td><td>High</td><td>149</td><td>27</td><td>0</td><td>0.0799514</td></tr><tr><th>4</th><td>14</td><td>High</td><td>156</td><td>60</td><td>0</td><td>-0.910805</td></tr><tr><th>5</th><td>20</td><td>High</td><td>157</td><td>72</td><td>1</td><td>0.778151</td></tr></tbody></table>"
      ],
      "text/latex": [
       "GroupedDataFrame with 3 groups based on key: Category\n",
       "\n",
       "First Group (8 rows): Category = \"Low\"\n",
       "\n",
       "\\begin{tabular}{r|cccccc}\n",
       "\t& ID & Category & Weight & Age & IndVar & RandNum\\\\\n",
       "\t\\hline\n",
       "\t& Int64 & Cat… & Int64 & Int64 & Cat… & Float64\\\\\n",
       "\t\\hline\n",
       "\t1 & 7 & Low & 138 & 26 & 1 & -0.833369 \\\\\n",
       "\t2 & 8 & Low & 126 & 20 & 1 & -0.443247 \\\\\n",
       "\t3 & 9 & Low & 125 & 35 & 0 & -1.66323 \\\\\n",
       "\t4 & 12 & Low & 166 & 51 & 0 & -1.27635 \\\\\n",
       "\t5 & 13 & Low & 156 & 29 & 1 & 1.03132 \\\\\n",
       "\t6 & 16 & Low & 121 & 40 & 0 & -1.29475 \\\\\n",
       "\t7 & 17 & Low & 129 & 62 & 1 & -0.308944 \\\\\n",
       "\t8 & 19 & Low & 128 & 62 & 0 & 1.44886 \\\\\n",
       "\\end{tabular}\n",
       "\n",
       "$\\dots$\n",
       "\n",
       "Last Group (5 rows): Category = \"High\"\n",
       "\n",
       "\\begin{tabular}{r|cccccc}\n",
       "\t& ID & Category & Weight & Age & IndVar & RandNum\\\\\n",
       "\t\\hline\n",
       "\t& Int64 & Cat… & Int64 & Int64 & Cat… & Float64\\\\\n",
       "\t\\hline\n",
       "\t1 & 2 & High & 159 & 47 & 1 & -0.316387 \\\\\n",
       "\t2 & 5 & High & 121 & 49 & 1 & 1.38501 \\\\\n",
       "\t3 & 6 & High & 149 & 27 & 0 & 0.0799514 \\\\\n",
       "\t4 & 14 & High & 156 & 60 & 0 & -0.910805 \\\\\n",
       "\t5 & 20 & High & 157 & 72 & 1 & 0.778151 \\\\\n",
       "\\end{tabular}\n"
      ],
      "text/plain": [
       "GroupedDataFrame with 3 groups based on key: Category\n",
       "First Group (8 rows): Category = \"Low\"\n",
       "│ Row │ ID    │ Category │ Weight │ Age   │ IndVar │ RandNum   │\n",
       "│     │ \u001b[90mInt64\u001b[39m │ \u001b[90mCat…\u001b[39m     │ \u001b[90mInt64\u001b[39m  │ \u001b[90mInt64\u001b[39m │ \u001b[90mCat…\u001b[39m   │ \u001b[90mFloat64\u001b[39m   │\n",
       "├─────┼───────┼──────────┼────────┼───────┼────────┼───────────┤\n",
       "│ 1   │ 7     │ Low      │ 138    │ 26    │ 1      │ -0.833369 │\n",
       "│ 2   │ 8     │ Low      │ 126    │ 20    │ 1      │ -0.443247 │\n",
       "│ 3   │ 9     │ Low      │ 125    │ 35    │ 0      │ -1.66323  │\n",
       "│ 4   │ 12    │ Low      │ 166    │ 51    │ 0      │ -1.27635  │\n",
       "│ 5   │ 13    │ Low      │ 156    │ 29    │ 1      │ 1.03132   │\n",
       "│ 6   │ 16    │ Low      │ 121    │ 40    │ 0      │ -1.29475  │\n",
       "│ 7   │ 17    │ Low      │ 129    │ 62    │ 1      │ -0.308944 │\n",
       "│ 8   │ 19    │ Low      │ 128    │ 62    │ 0      │ 1.44886   │\n",
       "⋮\n",
       "Last Group (5 rows): Category = \"High\"\n",
       "│ Row │ ID    │ Category │ Weight │ Age   │ IndVar │ RandNum   │\n",
       "│     │ \u001b[90mInt64\u001b[39m │ \u001b[90mCat…\u001b[39m     │ \u001b[90mInt64\u001b[39m  │ \u001b[90mInt64\u001b[39m │ \u001b[90mCat…\u001b[39m   │ \u001b[90mFloat64\u001b[39m   │\n",
       "├─────┼───────┼──────────┼────────┼───────┼────────┼───────────┤\n",
       "│ 1   │ 2     │ High     │ 159    │ 47    │ 1      │ -0.316387 │\n",
       "│ 2   │ 5     │ High     │ 121    │ 49    │ 1      │ 1.38501   │\n",
       "│ 3   │ 6     │ High     │ 149    │ 27    │ 0      │ 0.0799514 │\n",
       "│ 4   │ 14    │ High     │ 156    │ 60    │ 0      │ -0.910805 │\n",
       "│ 5   │ 20    │ High     │ 157    │ 72    │ 1      │ 0.778151  │"
      ]
     },
     "execution_count": 5,
     "metadata": {},
     "output_type": "execute_result"
    }
   ],
   "source": [
    "grouped = @pipe dfa |> groupby(_, :Category)"
   ]
  },
  {
   "cell_type": "markdown",
   "metadata": {},
   "source": [
    "As we did before you can calculate the mean _Weight_ and _Age_ within each subgroup. Here the output of the `groupby` is passed as input to `combine`. Specifically the output of `groupby`, which is a grouped dataframe, is substituted into the underscore in the call to `combine`."
   ]
  },
  {
   "cell_type": "code",
   "execution_count": 6,
   "metadata": {},
   "outputs": [
    {
     "data": {
      "text/html": [
       "<table class=\"data-frame\"><thead><tr><th></th><th>Category</th><th>Weight_mean</th><th>Age_mean</th></tr><tr><th></th><th>Cat…</th><th>Float64</th><th>Float64</th></tr></thead><tbody><p>3 rows × 3 columns</p><tr><th>1</th><td>Low</td><td>136.125</td><td>40.625</td></tr><tr><th>2</th><td>Medium</td><td>146.143</td><td>46.5714</td></tr><tr><th>3</th><td>High</td><td>148.4</td><td>51.0</td></tr></tbody></table>"
      ],
      "text/latex": [
       "\\begin{tabular}{r|ccc}\n",
       "\t& Category & Weight\\_mean & Age\\_mean\\\\\n",
       "\t\\hline\n",
       "\t& Cat… & Float64 & Float64\\\\\n",
       "\t\\hline\n",
       "\t1 & Low & 136.125 & 40.625 \\\\\n",
       "\t2 & Medium & 146.143 & 46.5714 \\\\\n",
       "\t3 & High & 148.4 & 51.0 \\\\\n",
       "\\end{tabular}\n"
      ],
      "text/plain": [
       "3×3 DataFrame\n",
       "│ Row │ Category │ Weight_mean │ Age_mean │\n",
       "│     │ \u001b[90mCat…\u001b[39m     │ \u001b[90mFloat64\u001b[39m     │ \u001b[90mFloat64\u001b[39m  │\n",
       "├─────┼──────────┼─────────────┼──────────┤\n",
       "│ 1   │ Low      │ 136.125     │ 40.625   │\n",
       "│ 2   │ Medium   │ 146.143     │ 46.5714  │\n",
       "│ 3   │ High     │ 148.4       │ 51.0     │"
      ]
     },
     "execution_count": 6,
     "metadata": {},
     "output_type": "execute_result"
    }
   ],
   "source": [
    "grouped_mean = @pipe dfa |> groupby(_, :Category) |> combine(_, :Weight => mean, :Age => mean)"
   ]
  },
  {
   "cell_type": "markdown",
   "metadata": {},
   "source": [
    "The Query.jl package in Julia can be used to query data sources using query expressions. Typical operations include things like filtering, projecting, joining, sorting, and grouping. Legitimate data sources include data streams such as CSV files, arrays, dictionaries, databases (SQLite), dataframes, etc. (basically any iterable datasource). The basic syntax has this structure:\n",
    "\n",
    "`myq = @from <range_var> in <source> begin\n",
    "    <query_statements>\n",
    "end`"
   ]
  },
  {
   "cell_type": "markdown",
   "metadata": {},
   "source": [
    "The range variable is what iterates over the data source; and the query statements are the query commands that get executed. The `@from` is a Julia macro provided by the Query.jl package."
   ]
  },
  {
   "cell_type": "code",
   "execution_count": 7,
   "metadata": {},
   "outputs": [
    {
     "data": {
      "text/html": [
       "<table class=\"data-frame\"><thead><tr><th></th><th>ID</th><th>Category</th><th>Weight</th><th>Age</th><th>IndVar</th><th>RandNum</th></tr><tr><th></th><th>Int64</th><th>Cat…</th><th>Int64</th><th>Int64</th><th>Cat…</th><th>Float64</th></tr></thead><tbody><p>20 rows × 6 columns</p><tr><th>1</th><td>1</td><td>Medium</td><td>152</td><td>33</td><td>0</td><td>-0.981132</td></tr><tr><th>2</th><td>2</td><td>High</td><td>159</td><td>47</td><td>1</td><td>-0.316387</td></tr><tr><th>3</th><td>3</td><td>Medium</td><td>140</td><td>73</td><td>1</td><td>0.265743</td></tr><tr><th>4</th><td>4</td><td>Medium</td><td>145</td><td>47</td><td>0</td><td>1.06561</td></tr><tr><th>5</th><td>5</td><td>High</td><td>121</td><td>49</td><td>1</td><td>1.38501</td></tr><tr><th>6</th><td>6</td><td>High</td><td>149</td><td>27</td><td>0</td><td>0.0799514</td></tr><tr><th>7</th><td>7</td><td>Low</td><td>138</td><td>26</td><td>1</td><td>-0.833369</td></tr><tr><th>8</th><td>8</td><td>Low</td><td>126</td><td>20</td><td>1</td><td>-0.443247</td></tr><tr><th>9</th><td>9</td><td>Low</td><td>125</td><td>35</td><td>0</td><td>-1.66323</td></tr><tr><th>10</th><td>10</td><td>Medium</td><td>143</td><td>54</td><td>1</td><td>-0.521229</td></tr><tr><th>11</th><td>11</td><td>Medium</td><td>137</td><td>31</td><td>0</td><td>0.183976</td></tr><tr><th>12</th><td>12</td><td>Low</td><td>166</td><td>51</td><td>0</td><td>-1.27635</td></tr><tr><th>13</th><td>13</td><td>Low</td><td>156</td><td>29</td><td>1</td><td>1.03132</td></tr><tr><th>14</th><td>14</td><td>High</td><td>156</td><td>60</td><td>0</td><td>-0.910805</td></tr><tr><th>15</th><td>15</td><td>Medium</td><td>169</td><td>27</td><td>0</td><td>0.754603</td></tr><tr><th>16</th><td>16</td><td>Low</td><td>121</td><td>40</td><td>0</td><td>-1.29475</td></tr><tr><th>17</th><td>17</td><td>Low</td><td>129</td><td>62</td><td>1</td><td>-0.308944</td></tr><tr><th>18</th><td>18</td><td>Medium</td><td>137</td><td>61</td><td>0</td><td>1.30668</td></tr><tr><th>19</th><td>19</td><td>Low</td><td>128</td><td>62</td><td>0</td><td>1.44886</td></tr><tr><th>20</th><td>20</td><td>High</td><td>157</td><td>72</td><td>1</td><td>0.778151</td></tr></tbody></table>"
      ],
      "text/latex": [
       "\\begin{tabular}{r|cccccc}\n",
       "\t& ID & Category & Weight & Age & IndVar & RandNum\\\\\n",
       "\t\\hline\n",
       "\t& Int64 & Cat… & Int64 & Int64 & Cat… & Float64\\\\\n",
       "\t\\hline\n",
       "\t1 & 1 & Medium & 152 & 33 & 0 & -0.981132 \\\\\n",
       "\t2 & 2 & High & 159 & 47 & 1 & -0.316387 \\\\\n",
       "\t3 & 3 & Medium & 140 & 73 & 1 & 0.265743 \\\\\n",
       "\t4 & 4 & Medium & 145 & 47 & 0 & 1.06561 \\\\\n",
       "\t5 & 5 & High & 121 & 49 & 1 & 1.38501 \\\\\n",
       "\t6 & 6 & High & 149 & 27 & 0 & 0.0799514 \\\\\n",
       "\t7 & 7 & Low & 138 & 26 & 1 & -0.833369 \\\\\n",
       "\t8 & 8 & Low & 126 & 20 & 1 & -0.443247 \\\\\n",
       "\t9 & 9 & Low & 125 & 35 & 0 & -1.66323 \\\\\n",
       "\t10 & 10 & Medium & 143 & 54 & 1 & -0.521229 \\\\\n",
       "\t11 & 11 & Medium & 137 & 31 & 0 & 0.183976 \\\\\n",
       "\t12 & 12 & Low & 166 & 51 & 0 & -1.27635 \\\\\n",
       "\t13 & 13 & Low & 156 & 29 & 1 & 1.03132 \\\\\n",
       "\t14 & 14 & High & 156 & 60 & 0 & -0.910805 \\\\\n",
       "\t15 & 15 & Medium & 169 & 27 & 0 & 0.754603 \\\\\n",
       "\t16 & 16 & Low & 121 & 40 & 0 & -1.29475 \\\\\n",
       "\t17 & 17 & Low & 129 & 62 & 1 & -0.308944 \\\\\n",
       "\t18 & 18 & Medium & 137 & 61 & 0 & 1.30668 \\\\\n",
       "\t19 & 19 & Low & 128 & 62 & 0 & 1.44886 \\\\\n",
       "\t20 & 20 & High & 157 & 72 & 1 & 0.778151 \\\\\n",
       "\\end{tabular}\n"
      ],
      "text/plain": [
       "20×6 DataFrame\n",
       "│ Row │ ID    │ Category │ Weight │ Age   │ IndVar │ RandNum   │\n",
       "│     │ \u001b[90mInt64\u001b[39m │ \u001b[90mCat…\u001b[39m     │ \u001b[90mInt64\u001b[39m  │ \u001b[90mInt64\u001b[39m │ \u001b[90mCat…\u001b[39m   │ \u001b[90mFloat64\u001b[39m   │\n",
       "├─────┼───────┼──────────┼────────┼───────┼────────┼───────────┤\n",
       "│ 1   │ 1     │ Medium   │ 152    │ 33    │ 0      │ -0.981132 │\n",
       "│ 2   │ 2     │ High     │ 159    │ 47    │ 1      │ -0.316387 │\n",
       "│ 3   │ 3     │ Medium   │ 140    │ 73    │ 1      │ 0.265743  │\n",
       "│ 4   │ 4     │ Medium   │ 145    │ 47    │ 0      │ 1.06561   │\n",
       "│ 5   │ 5     │ High     │ 121    │ 49    │ 1      │ 1.38501   │\n",
       "│ 6   │ 6     │ High     │ 149    │ 27    │ 0      │ 0.0799514 │\n",
       "│ 7   │ 7     │ Low      │ 138    │ 26    │ 1      │ -0.833369 │\n",
       "│ 8   │ 8     │ Low      │ 126    │ 20    │ 1      │ -0.443247 │\n",
       "│ 9   │ 9     │ Low      │ 125    │ 35    │ 0      │ -1.66323  │\n",
       "│ 10  │ 10    │ Medium   │ 143    │ 54    │ 1      │ -0.521229 │\n",
       "│ 11  │ 11    │ Medium   │ 137    │ 31    │ 0      │ 0.183976  │\n",
       "│ 12  │ 12    │ Low      │ 166    │ 51    │ 0      │ -1.27635  │\n",
       "│ 13  │ 13    │ Low      │ 156    │ 29    │ 1      │ 1.03132   │\n",
       "│ 14  │ 14    │ High     │ 156    │ 60    │ 0      │ -0.910805 │\n",
       "│ 15  │ 15    │ Medium   │ 169    │ 27    │ 0      │ 0.754603  │\n",
       "│ 16  │ 16    │ Low      │ 121    │ 40    │ 0      │ -1.29475  │\n",
       "│ 17  │ 17    │ Low      │ 129    │ 62    │ 1      │ -0.308944 │\n",
       "│ 18  │ 18    │ Medium   │ 137    │ 61    │ 0      │ 1.30668   │\n",
       "│ 19  │ 19    │ Low      │ 128    │ 62    │ 0      │ 1.44886   │\n",
       "│ 20  │ 20    │ High     │ 157    │ 72    │ 1      │ 0.778151  │"
      ]
     },
     "execution_count": 7,
     "metadata": {},
     "output_type": "execute_result"
    }
   ],
   "source": [
    "dfa"
   ]
  },
  {
   "cell_type": "markdown",
   "metadata": {},
   "source": [
    "For a first simple example, let's create a new dataframe based on **dfa** where we filter on `Weight > 130` and only keep the columns <i>ID</i>, <i>Weight</i>, <i>Age</i>, and sort the resulting dataframe in descending order by <i>Age</i>."
   ]
  },
  {
   "cell_type": "code",
   "execution_count": 8,
   "metadata": {},
   "outputs": [
    {
     "data": {
      "text/html": [
       "<table class=\"data-frame\"><thead><tr><th></th><th>PatientID</th><th>PatientWeight</th><th>PatientAge</th></tr><tr><th></th><th>Int64</th><th>Int64</th><th>Int64</th></tr></thead><tbody><p>14 rows × 3 columns</p><tr><th>1</th><td>3</td><td>140</td><td>73</td></tr><tr><th>2</th><td>20</td><td>157</td><td>72</td></tr><tr><th>3</th><td>18</td><td>137</td><td>61</td></tr><tr><th>4</th><td>14</td><td>156</td><td>60</td></tr><tr><th>5</th><td>10</td><td>143</td><td>54</td></tr><tr><th>6</th><td>12</td><td>166</td><td>51</td></tr><tr><th>7</th><td>2</td><td>159</td><td>47</td></tr><tr><th>8</th><td>4</td><td>145</td><td>47</td></tr><tr><th>9</th><td>1</td><td>152</td><td>33</td></tr><tr><th>10</th><td>11</td><td>137</td><td>31</td></tr><tr><th>11</th><td>13</td><td>156</td><td>29</td></tr><tr><th>12</th><td>6</td><td>149</td><td>27</td></tr><tr><th>13</th><td>15</td><td>169</td><td>27</td></tr><tr><th>14</th><td>7</td><td>138</td><td>26</td></tr></tbody></table>"
      ],
      "text/latex": [
       "\\begin{tabular}{r|ccc}\n",
       "\t& PatientID & PatientWeight & PatientAge\\\\\n",
       "\t\\hline\n",
       "\t& Int64 & Int64 & Int64\\\\\n",
       "\t\\hline\n",
       "\t1 & 3 & 140 & 73 \\\\\n",
       "\t2 & 20 & 157 & 72 \\\\\n",
       "\t3 & 18 & 137 & 61 \\\\\n",
       "\t4 & 14 & 156 & 60 \\\\\n",
       "\t5 & 10 & 143 & 54 \\\\\n",
       "\t6 & 12 & 166 & 51 \\\\\n",
       "\t7 & 2 & 159 & 47 \\\\\n",
       "\t8 & 4 & 145 & 47 \\\\\n",
       "\t9 & 1 & 152 & 33 \\\\\n",
       "\t10 & 11 & 137 & 31 \\\\\n",
       "\t11 & 13 & 156 & 29 \\\\\n",
       "\t12 & 6 & 149 & 27 \\\\\n",
       "\t13 & 15 & 169 & 27 \\\\\n",
       "\t14 & 7 & 138 & 26 \\\\\n",
       "\\end{tabular}\n"
      ],
      "text/plain": [
       "14×3 DataFrame\n",
       "│ Row │ PatientID │ PatientWeight │ PatientAge │\n",
       "│     │ \u001b[90mInt64\u001b[39m     │ \u001b[90mInt64\u001b[39m         │ \u001b[90mInt64\u001b[39m      │\n",
       "├─────┼───────────┼───────────────┼────────────┤\n",
       "│ 1   │ 3         │ 140           │ 73         │\n",
       "│ 2   │ 20        │ 157           │ 72         │\n",
       "│ 3   │ 18        │ 137           │ 61         │\n",
       "│ 4   │ 14        │ 156           │ 60         │\n",
       "│ 5   │ 10        │ 143           │ 54         │\n",
       "│ 6   │ 12        │ 166           │ 51         │\n",
       "│ 7   │ 2         │ 159           │ 47         │\n",
       "│ 8   │ 4         │ 145           │ 47         │\n",
       "│ 9   │ 1         │ 152           │ 33         │\n",
       "│ 10  │ 11        │ 137           │ 31         │\n",
       "│ 11  │ 13        │ 156           │ 29         │\n",
       "│ 12  │ 6         │ 149           │ 27         │\n",
       "│ 13  │ 15        │ 169           │ 27         │\n",
       "│ 14  │ 7         │ 138           │ 26         │"
      ]
     },
     "execution_count": 8,
     "metadata": {},
     "output_type": "execute_result"
    }
   ],
   "source": [
    "ex = @from i in dfa begin\n",
    "     @where i.Weight > 130\n",
    "     @orderby descending(i.Age)\n",
    "     @select {PatientID = i.ID, PatientWeight = i.Weight, PatientAge = i.Age}\n",
    "     @collect DataFrame\n",
    "end"
   ]
  },
  {
   "cell_type": "markdown",
   "metadata": {},
   "source": [
    "In the above code:\n",
    "\n",
    "* `@where` is doing the filtering operation based on the <i>Weight</i> variable.\n",
    "* `@orderby` does the sorting in descending order using the <i>Age</i> varibale.\n",
    "* `@select` is selecting the columns to keep and to optionally name the columns in the resulting object.\n",
    "* `@collect` indicates to return the resulting object **ex** as a dataframe. If nothing is specified then the resulting object is an array.\n",
    "\n",
    "Note the use of the range variable __i__ to reference the columns in the dataframe."
   ]
  },
  {
   "cell_type": "markdown",
   "metadata": {},
   "source": [
    "Next let's do an example where we group the data into subgroups based on the values of <i>Category</i> (\"Low\", \"Medium\", \"High\") and <i>IndVar</i> (0, 1). "
   ]
  },
  {
   "cell_type": "code",
   "execution_count": 9,
   "metadata": {},
   "outputs": [
    {
     "data": {
      "text/html": [
       "<table class=\"data-frame\"><thead><tr><th></th><th>Grouping</th><th>AvgAge</th><th>MaxWeight</th><th>Count</th></tr><tr><th></th><th>Tuple…</th><th>Float64</th><th>Int64</th><th>Int64</th></tr></thead><tbody><p>6 rows × 4 columns</p><tr><th>1</th><td>(\"Low\", 0)</td><td>62.0</td><td>128</td><td>1</td></tr><tr><th>2</th><td>(\"Low\", 1)</td><td>29.0</td><td>156</td><td>1</td></tr><tr><th>3</th><td>(\"Medium\", 0)</td><td>41.5</td><td>169</td><td>4</td></tr><tr><th>4</th><td>(\"Medium\", 1)</td><td>73.0</td><td>140</td><td>1</td></tr><tr><th>5</th><td>(\"High\", 0)</td><td>27.0</td><td>149</td><td>1</td></tr><tr><th>6</th><td>(\"High\", 1)</td><td>60.5</td><td>157</td><td>2</td></tr></tbody></table>"
      ],
      "text/latex": [
       "\\begin{tabular}{r|cccc}\n",
       "\t& Grouping & AvgAge & MaxWeight & Count\\\\\n",
       "\t\\hline\n",
       "\t& Tuple… & Float64 & Int64 & Int64\\\\\n",
       "\t\\hline\n",
       "\t1 & (\"Low\", 0) & 62.0 & 128 & 1 \\\\\n",
       "\t2 & (\"Low\", 1) & 29.0 & 156 & 1 \\\\\n",
       "\t3 & (\"Medium\", 0) & 41.5 & 169 & 4 \\\\\n",
       "\t4 & (\"Medium\", 1) & 73.0 & 140 & 1 \\\\\n",
       "\t5 & (\"High\", 0) & 27.0 & 149 & 1 \\\\\n",
       "\t6 & (\"High\", 1) & 60.5 & 157 & 2 \\\\\n",
       "\\end{tabular}\n"
      ],
      "text/plain": [
       "6×4 DataFrame\n",
       "│ Row │ Grouping      │ AvgAge  │ MaxWeight │ Count │\n",
       "│     │ \u001b[90mTuple…\u001b[39m        │ \u001b[90mFloat64\u001b[39m │ \u001b[90mInt64\u001b[39m     │ \u001b[90mInt64\u001b[39m │\n",
       "├─────┼───────────────┼─────────┼───────────┼───────┤\n",
       "│ 1   │ (\"Low\", 0)    │ 62.0    │ 128       │ 1     │\n",
       "│ 2   │ (\"Low\", 1)    │ 29.0    │ 156       │ 1     │\n",
       "│ 3   │ (\"Medium\", 0) │ 41.5    │ 169       │ 4     │\n",
       "│ 4   │ (\"Medium\", 1) │ 73.0    │ 140       │ 1     │\n",
       "│ 5   │ (\"High\", 0)   │ 27.0    │ 149       │ 1     │\n",
       "│ 6   │ (\"High\", 1)   │ 60.5    │ 157       │ 2     │"
      ]
     },
     "execution_count": 9,
     "metadata": {},
     "output_type": "execute_result"
    }
   ],
   "source": [
    "ex = @from i in dfa begin\n",
    "     @where i.RandNum > 0 && i.Age > 25\n",
    "     @group i by i.Category, i.IndVar into c\n",
    "     @orderby key(c)\n",
    "     @select {Grouping = key(c), AvgAge=mean(c.Age), MaxWeight = maximum(c.Weight), Count = length(c.Age)}\n",
    "     @collect DataFrame\n",
    "end"
   ]
  },
  {
   "cell_type": "markdown",
   "metadata": {},
   "source": [
    "The `@group` statement groups the data into a new range variable (the new range variable is called <i>c</i> in our case) based on the levels of the column variables; this new range variable is then used to aggregate the data. \n",
    "\n",
    "The `key` function gives the values used to group the data. The other functions used in `@select` are calculated based on the grouped data via the new range variable <i>c</i>."
   ]
  },
  {
   "cell_type": "markdown",
   "metadata": {},
   "source": [
    "If you wanted to restrict the output to cases where some aggregate based value condition was met you could add another `@where` statement after the `@group` statement."
   ]
  },
  {
   "cell_type": "code",
   "execution_count": 10,
   "metadata": {},
   "outputs": [
    {
     "data": {
      "text/html": [
       "<table class=\"data-frame\"><thead><tr><th></th><th>Group</th><th>AvgAge</th><th>MaxWeight</th><th>Count</th></tr><tr><th></th><th>Tuple…</th><th>Float64</th><th>Int64</th><th>Int64</th></tr></thead><tbody><p>3 rows × 4 columns</p><tr><th>1</th><td>(\"Low\", 1)</td><td>29.0</td><td>156</td><td>1</td></tr><tr><th>2</th><td>(\"Medium\", 0)</td><td>41.5</td><td>169</td><td>4</td></tr><tr><th>3</th><td>(\"High\", 1)</td><td>60.5</td><td>157</td><td>2</td></tr></tbody></table>"
      ],
      "text/latex": [
       "\\begin{tabular}{r|cccc}\n",
       "\t& Group & AvgAge & MaxWeight & Count\\\\\n",
       "\t\\hline\n",
       "\t& Tuple… & Float64 & Int64 & Int64\\\\\n",
       "\t\\hline\n",
       "\t1 & (\"Low\", 1) & 29.0 & 156 & 1 \\\\\n",
       "\t2 & (\"Medium\", 0) & 41.5 & 169 & 4 \\\\\n",
       "\t3 & (\"High\", 1) & 60.5 & 157 & 2 \\\\\n",
       "\\end{tabular}\n"
      ],
      "text/plain": [
       "3×4 DataFrame\n",
       "│ Row │ Group         │ AvgAge  │ MaxWeight │ Count │\n",
       "│     │ \u001b[90mTuple…\u001b[39m        │ \u001b[90mFloat64\u001b[39m │ \u001b[90mInt64\u001b[39m     │ \u001b[90mInt64\u001b[39m │\n",
       "├─────┼───────────────┼─────────┼───────────┼───────┤\n",
       "│ 1   │ (\"Low\", 1)    │ 29.0    │ 156       │ 1     │\n",
       "│ 2   │ (\"Medium\", 0) │ 41.5    │ 169       │ 4     │\n",
       "│ 3   │ (\"High\", 1)   │ 60.5    │ 157       │ 2     │"
      ]
     },
     "execution_count": 10,
     "metadata": {},
     "output_type": "execute_result"
    }
   ],
   "source": [
    "ex = @from i in dfa begin\n",
    "     @where i.RandNum > 0 && i.Age > 25\n",
    "     @group i by i.Category, i.IndVar into c\n",
    "     @where maximum(c.Weight) > 150\n",
    "     @orderby key(c)\n",
    "     @select {Group = key(c), AvgAge=mean(c.Age), MaxWeight = maximum(c.Weight), Count = length(c.Age)}\n",
    "     @collect DataFrame\n",
    "end"
   ]
  },
  {
   "cell_type": "markdown",
   "metadata": {},
   "source": [
    "You can use the Query.jl `@let` macro to introduce new range variables into a query. Here we introduce a new range variable <i>ExpRandNum</i> as a function of another column variable (__RandNum__)."
   ]
  },
  {
   "cell_type": "code",
   "execution_count": 11,
   "metadata": {},
   "outputs": [
    {
     "data": {
      "text/html": [
       "<table class=\"data-frame\"><thead><tr><th></th><th>ID</th><th>Category</th><th>IndVar</th><th>RandNum</th><th>ExpRandNum</th></tr><tr><th></th><th>Int64</th><th>Cat…</th><th>Cat…</th><th>Float64</th><th>Float64</th></tr></thead><tbody><p>10 rows × 5 columns</p><tr><th>1</th><td>13</td><td>Low</td><td>1</td><td>1.03132</td><td>2.80477</td></tr><tr><th>2</th><td>19</td><td>Low</td><td>0</td><td>1.44886</td><td>4.25826</td></tr><tr><th>3</th><td>3</td><td>Medium</td><td>1</td><td>0.265743</td><td>1.3044</td></tr><tr><th>4</th><td>4</td><td>Medium</td><td>0</td><td>1.06561</td><td>2.90261</td></tr><tr><th>5</th><td>11</td><td>Medium</td><td>0</td><td>0.183976</td><td>1.20199</td></tr><tr><th>6</th><td>15</td><td>Medium</td><td>0</td><td>0.754603</td><td>2.12677</td></tr><tr><th>7</th><td>18</td><td>Medium</td><td>0</td><td>1.30668</td><td>3.6939</td></tr><tr><th>8</th><td>5</td><td>High</td><td>1</td><td>1.38501</td><td>3.99487</td></tr><tr><th>9</th><td>6</td><td>High</td><td>0</td><td>0.0799514</td><td>1.08323</td></tr><tr><th>10</th><td>20</td><td>High</td><td>1</td><td>0.778151</td><td>2.17744</td></tr></tbody></table>"
      ],
      "text/latex": [
       "\\begin{tabular}{r|ccccc}\n",
       "\t& ID & Category & IndVar & RandNum & ExpRandNum\\\\\n",
       "\t\\hline\n",
       "\t& Int64 & Cat… & Cat… & Float64 & Float64\\\\\n",
       "\t\\hline\n",
       "\t1 & 13 & Low & 1 & 1.03132 & 2.80477 \\\\\n",
       "\t2 & 19 & Low & 0 & 1.44886 & 4.25826 \\\\\n",
       "\t3 & 3 & Medium & 1 & 0.265743 & 1.3044 \\\\\n",
       "\t4 & 4 & Medium & 0 & 1.06561 & 2.90261 \\\\\n",
       "\t5 & 11 & Medium & 0 & 0.183976 & 1.20199 \\\\\n",
       "\t6 & 15 & Medium & 0 & 0.754603 & 2.12677 \\\\\n",
       "\t7 & 18 & Medium & 0 & 1.30668 & 3.6939 \\\\\n",
       "\t8 & 5 & High & 1 & 1.38501 & 3.99487 \\\\\n",
       "\t9 & 6 & High & 0 & 0.0799514 & 1.08323 \\\\\n",
       "\t10 & 20 & High & 1 & 0.778151 & 2.17744 \\\\\n",
       "\\end{tabular}\n"
      ],
      "text/plain": [
       "10×5 DataFrame\n",
       "│ Row │ ID    │ Category │ IndVar │ RandNum   │ ExpRandNum │\n",
       "│     │ \u001b[90mInt64\u001b[39m │ \u001b[90mCat…\u001b[39m     │ \u001b[90mCat…\u001b[39m   │ \u001b[90mFloat64\u001b[39m   │ \u001b[90mFloat64\u001b[39m    │\n",
       "├─────┼───────┼──────────┼────────┼───────────┼────────────┤\n",
       "│ 1   │ 13    │ Low      │ 1      │ 1.03132   │ 2.80477    │\n",
       "│ 2   │ 19    │ Low      │ 0      │ 1.44886   │ 4.25826    │\n",
       "│ 3   │ 3     │ Medium   │ 1      │ 0.265743  │ 1.3044     │\n",
       "│ 4   │ 4     │ Medium   │ 0      │ 1.06561   │ 2.90261    │\n",
       "│ 5   │ 11    │ Medium   │ 0      │ 0.183976  │ 1.20199    │\n",
       "│ 6   │ 15    │ Medium   │ 0      │ 0.754603  │ 2.12677    │\n",
       "│ 7   │ 18    │ Medium   │ 0      │ 1.30668   │ 3.6939     │\n",
       "│ 8   │ 5     │ High     │ 1      │ 1.38501   │ 3.99487    │\n",
       "│ 9   │ 6     │ High     │ 0      │ 0.0799514 │ 1.08323    │\n",
       "│ 10  │ 20    │ High     │ 1      │ 0.778151  │ 2.17744    │"
      ]
     },
     "execution_count": 11,
     "metadata": {},
     "output_type": "execute_result"
    }
   ],
   "source": [
    "ex = @from i in dfa begin\n",
    "     @let ExpRandNum = exp(i.RandNum)\n",
    "     @orderby i.Category\n",
    "     @where ExpRandNum > 0.9\n",
    "     @select {i.ID, i.Category, i.IndVar, i.RandNum, ExpRandNum}\n",
    "     @collect DataFrame\n",
    "end"
   ]
  },
  {
   "cell_type": "markdown",
   "metadata": {},
   "source": [
    "The last thing we'll cover is doing join operations in Query.jl. We'll create another dataframe to join with __dfa__."
   ]
  },
  {
   "cell_type": "code",
   "execution_count": 12,
   "metadata": {},
   "outputs": [],
   "source": [
    "N = 15\n",
    "dfb = DataFrame(IDNum = 1:N, \n",
    "                Color = [\"blue\", \"orange\", \"orange\", \"black\", \"black\", \"red\", \"white\", \"purple\", \"yellow\",\n",
    "                         \"green\", \"brown\", \"grey\", \"blue\", \"red\", \"white\"]);"
   ]
  },
  {
   "cell_type": "markdown",
   "metadata": {},
   "source": [
    "We'll do a simple inner join on <i>ID</i> from __dfa__ with <i>IDNum</i> from  __dfb__."
   ]
  },
  {
   "cell_type": "code",
   "execution_count": 13,
   "metadata": {},
   "outputs": [
    {
     "data": {
      "text/html": [
       "<table class=\"data-frame\"><thead><tr><th></th><th>SubjID</th><th>Category</th><th>IndVar</th><th>Color</th></tr><tr><th></th><th>Int64</th><th>Cat…</th><th>Cat…</th><th>String</th></tr></thead><tbody><p>15 rows × 4 columns</p><tr><th>1</th><td>1</td><td>Medium</td><td>0</td><td>blue</td></tr><tr><th>2</th><td>2</td><td>High</td><td>1</td><td>orange</td></tr><tr><th>3</th><td>3</td><td>Medium</td><td>1</td><td>orange</td></tr><tr><th>4</th><td>4</td><td>Medium</td><td>0</td><td>black</td></tr><tr><th>5</th><td>5</td><td>High</td><td>1</td><td>black</td></tr><tr><th>6</th><td>6</td><td>High</td><td>0</td><td>red</td></tr><tr><th>7</th><td>7</td><td>Low</td><td>1</td><td>white</td></tr><tr><th>8</th><td>8</td><td>Low</td><td>1</td><td>purple</td></tr><tr><th>9</th><td>9</td><td>Low</td><td>0</td><td>yellow</td></tr><tr><th>10</th><td>10</td><td>Medium</td><td>1</td><td>green</td></tr><tr><th>11</th><td>11</td><td>Medium</td><td>0</td><td>brown</td></tr><tr><th>12</th><td>12</td><td>Low</td><td>0</td><td>grey</td></tr><tr><th>13</th><td>13</td><td>Low</td><td>1</td><td>blue</td></tr><tr><th>14</th><td>14</td><td>High</td><td>0</td><td>red</td></tr><tr><th>15</th><td>15</td><td>Medium</td><td>0</td><td>white</td></tr></tbody></table>"
      ],
      "text/latex": [
       "\\begin{tabular}{r|cccc}\n",
       "\t& SubjID & Category & IndVar & Color\\\\\n",
       "\t\\hline\n",
       "\t& Int64 & Cat… & Cat… & String\\\\\n",
       "\t\\hline\n",
       "\t1 & 1 & Medium & 0 & blue \\\\\n",
       "\t2 & 2 & High & 1 & orange \\\\\n",
       "\t3 & 3 & Medium & 1 & orange \\\\\n",
       "\t4 & 4 & Medium & 0 & black \\\\\n",
       "\t5 & 5 & High & 1 & black \\\\\n",
       "\t6 & 6 & High & 0 & red \\\\\n",
       "\t7 & 7 & Low & 1 & white \\\\\n",
       "\t8 & 8 & Low & 1 & purple \\\\\n",
       "\t9 & 9 & Low & 0 & yellow \\\\\n",
       "\t10 & 10 & Medium & 1 & green \\\\\n",
       "\t11 & 11 & Medium & 0 & brown \\\\\n",
       "\t12 & 12 & Low & 0 & grey \\\\\n",
       "\t13 & 13 & Low & 1 & blue \\\\\n",
       "\t14 & 14 & High & 0 & red \\\\\n",
       "\t15 & 15 & Medium & 0 & white \\\\\n",
       "\\end{tabular}\n"
      ],
      "text/plain": [
       "15×4 DataFrame\n",
       "│ Row │ SubjID │ Category │ IndVar │ Color  │\n",
       "│     │ \u001b[90mInt64\u001b[39m  │ \u001b[90mCat…\u001b[39m     │ \u001b[90mCat…\u001b[39m   │ \u001b[90mString\u001b[39m │\n",
       "├─────┼────────┼──────────┼────────┼────────┤\n",
       "│ 1   │ 1      │ Medium   │ 0      │ blue   │\n",
       "│ 2   │ 2      │ High     │ 1      │ orange │\n",
       "│ 3   │ 3      │ Medium   │ 1      │ orange │\n",
       "│ 4   │ 4      │ Medium   │ 0      │ black  │\n",
       "│ 5   │ 5      │ High     │ 1      │ black  │\n",
       "│ 6   │ 6      │ High     │ 0      │ red    │\n",
       "│ 7   │ 7      │ Low      │ 1      │ white  │\n",
       "│ 8   │ 8      │ Low      │ 1      │ purple │\n",
       "│ 9   │ 9      │ Low      │ 0      │ yellow │\n",
       "│ 10  │ 10     │ Medium   │ 1      │ green  │\n",
       "│ 11  │ 11     │ Medium   │ 0      │ brown  │\n",
       "│ 12  │ 12     │ Low      │ 0      │ grey   │\n",
       "│ 13  │ 13     │ Low      │ 1      │ blue   │\n",
       "│ 14  │ 14     │ High     │ 0      │ red    │\n",
       "│ 15  │ 15     │ Medium   │ 0      │ white  │"
      ]
     },
     "execution_count": 13,
     "metadata": {},
     "output_type": "execute_result"
    }
   ],
   "source": [
    "ex = @from i in dfa begin\n",
    "     @join j in dfb on i.ID equals j.IDNum\n",
    "     @select {SubjID = i.ID, i.Category, i.IndVar, j.Color}\n",
    "     @collect DataFrame\n",
    "end"
   ]
  },
  {
   "cell_type": "markdown",
   "metadata": {},
   "source": [
    "In this lesson we covered:\n",
    "* Using Query.jl to execute query expressions on dataframes."
   ]
  },
  {
   "cell_type": "code",
   "execution_count": null,
   "metadata": {},
   "outputs": [],
   "source": []
  }
 ],
 "metadata": {
  "@webio": {
   "lastCommId": null,
   "lastKernelId": null
  },
  "kernelspec": {
   "display_name": "Julia 1.3.0",
   "language": "julia",
   "name": "julia-1.3"
  },
  "language_info": {
   "file_extension": ".jl",
   "mimetype": "application/julia",
   "name": "julia",
   "version": "1.3.0"
  }
 },
 "nbformat": 4,
 "nbformat_minor": 2
}
